{
 "cells": [
  {
   "cell_type": "markdown",
   "metadata": {
    "id": "ptyZSVjrC5Fs"
   },
   "source": [
    "# Sentiment Analysis on Amazon Reviews"
   ]
  },
  {
   "cell_type": "code",
   "execution_count": null,
   "metadata": {
    "colab": {
     "base_uri": "https://localhost:8080/"
    },
    "executionInfo": {
     "elapsed": 455,
     "status": "ok",
     "timestamp": 1640592824012,
     "user": {
      "displayName": "Nishant wadhwani",
      "photoUrl": "https://lh3.googleusercontent.com/a-/AOh14Gjnn_M-nxVO-GHfPkftHjSsX-Ulopf1dqkz5rCwgg=s64",
      "userId": "18292067457856021938"
     },
     "user_tz": -330
    },
    "id": "g-fWjcWLMs-t",
    "outputId": "a23ae863-37fc-4ad8-ed0c-3775ebe40098"
   },
   "outputs": [
    {
     "name": "stdout",
     "output_type": "stream",
     "text": [
      "Mon Dec 27 08:13:43 2021       \n",
      "+-----------------------------------------------------------------------------+\n",
      "| NVIDIA-SMI 495.44       Driver Version: 460.32.03    CUDA Version: 11.2     |\n",
      "|-------------------------------+----------------------+----------------------+\n",
      "| GPU  Name        Persistence-M| Bus-Id        Disp.A | Volatile Uncorr. ECC |\n",
      "| Fan  Temp  Perf  Pwr:Usage/Cap|         Memory-Usage | GPU-Util  Compute M. |\n",
      "|                               |                      |               MIG M. |\n",
      "|===============================+======================+======================|\n",
      "|   0  Tesla K80           Off  | 00000000:00:04.0 Off |                    0 |\n",
      "| N/A   71C    P8    33W / 149W |      0MiB / 11441MiB |      0%      Default |\n",
      "|                               |                      |                  N/A |\n",
      "+-------------------------------+----------------------+----------------------+\n",
      "                                                                               \n",
      "+-----------------------------------------------------------------------------+\n",
      "| Processes:                                                                  |\n",
      "|  GPU   GI   CI        PID   Type   Process name                  GPU Memory |\n",
      "|        ID   ID                                                   Usage      |\n",
      "|=============================================================================|\n",
      "|  No running processes found                                                 |\n",
      "+-----------------------------------------------------------------------------+\n"
     ]
    }
   ],
   "source": [
    "!nvidia-smi"
   ]
  },
  {
   "cell_type": "code",
   "execution_count": null,
   "metadata": {
    "id": "6upjaxaIos8v"
   },
   "outputs": [],
   "source": [
    "#loading the required libraries"
   ]
  },
  {
   "cell_type": "code",
   "execution_count": 3,
   "metadata": {
    "executionInfo": {
     "elapsed": 521,
     "status": "ok",
     "timestamp": 1640594798054,
     "user": {
      "displayName": "Nishant wadhwani",
      "photoUrl": "https://lh3.googleusercontent.com/a-/AOh14Gjnn_M-nxVO-GHfPkftHjSsX-Ulopf1dqkz5rCwgg=s64",
      "userId": "18292067457856021938"
     },
     "user_tz": -330
    },
    "id": "yBBciGNvos85"
   },
   "outputs": [],
   "source": [
    "import numpy as np\n",
    "import matplotlib.pyplot as plt\n",
    "import pandas as pd"
   ]
  },
  {
   "cell_type": "code",
   "execution_count": 4,
   "metadata": {
    "colab": {
     "base_uri": "https://localhost:8080/",
     "height": 206
    },
    "executionInfo": {
     "elapsed": 12,
     "status": "ok",
     "timestamp": 1640594799494,
     "user": {
      "displayName": "Nishant wadhwani",
      "photoUrl": "https://lh3.googleusercontent.com/a-/AOh14Gjnn_M-nxVO-GHfPkftHjSsX-Ulopf1dqkz5rCwgg=s64",
      "userId": "18292067457856021938"
     },
     "user_tz": -330
    },
    "id": "pGzZ10lmos88",
    "outputId": "7ac07cbd-4732-4c71-c754-b1a7d19d249b"
   },
   "outputs": [
    {
     "data": {
      "text/html": [
       "\n",
       "  <div id=\"df-fbf390f0-0f86-4d9d-b5dc-ed1a8af06757\">\n",
       "    <div class=\"colab-df-container\">\n",
       "      <div>\n",
       "<style scoped>\n",
       "    .dataframe tbody tr th:only-of-type {\n",
       "        vertical-align: middle;\n",
       "    }\n",
       "\n",
       "    .dataframe tbody tr th {\n",
       "        vertical-align: top;\n",
       "    }\n",
       "\n",
       "    .dataframe thead th {\n",
       "        text-align: right;\n",
       "    }\n",
       "</style>\n",
       "<table border=\"1\" class=\"dataframe\">\n",
       "  <thead>\n",
       "    <tr style=\"text-align: right;\">\n",
       "      <th></th>\n",
       "      <th>label</th>\n",
       "      <th>review</th>\n",
       "    </tr>\n",
       "  </thead>\n",
       "  <tbody>\n",
       "    <tr>\n",
       "      <th>0</th>\n",
       "      <td>pos</td>\n",
       "      <td>Stuning even for the non-gamer: This sound tra...</td>\n",
       "    </tr>\n",
       "    <tr>\n",
       "      <th>1</th>\n",
       "      <td>pos</td>\n",
       "      <td>The best soundtrack ever to anything.: I'm rea...</td>\n",
       "    </tr>\n",
       "    <tr>\n",
       "      <th>2</th>\n",
       "      <td>pos</td>\n",
       "      <td>Amazing!: This soundtrack is my favorite music...</td>\n",
       "    </tr>\n",
       "    <tr>\n",
       "      <th>3</th>\n",
       "      <td>pos</td>\n",
       "      <td>Excellent Soundtrack: I truly like this soundt...</td>\n",
       "    </tr>\n",
       "    <tr>\n",
       "      <th>4</th>\n",
       "      <td>pos</td>\n",
       "      <td>Remember, Pull Your Jaw Off The Floor After He...</td>\n",
       "    </tr>\n",
       "  </tbody>\n",
       "</table>\n",
       "</div>\n",
       "      <button class=\"colab-df-convert\" onclick=\"convertToInteractive('df-fbf390f0-0f86-4d9d-b5dc-ed1a8af06757')\"\n",
       "              title=\"Convert this dataframe to an interactive table.\"\n",
       "              style=\"display:none;\">\n",
       "        \n",
       "  <svg xmlns=\"http://www.w3.org/2000/svg\" height=\"24px\"viewBox=\"0 0 24 24\"\n",
       "       width=\"24px\">\n",
       "    <path d=\"M0 0h24v24H0V0z\" fill=\"none\"/>\n",
       "    <path d=\"M18.56 5.44l.94 2.06.94-2.06 2.06-.94-2.06-.94-.94-2.06-.94 2.06-2.06.94zm-11 1L8.5 8.5l.94-2.06 2.06-.94-2.06-.94L8.5 2.5l-.94 2.06-2.06.94zm10 10l.94 2.06.94-2.06 2.06-.94-2.06-.94-.94-2.06-.94 2.06-2.06.94z\"/><path d=\"M17.41 7.96l-1.37-1.37c-.4-.4-.92-.59-1.43-.59-.52 0-1.04.2-1.43.59L10.3 9.45l-7.72 7.72c-.78.78-.78 2.05 0 2.83L4 21.41c.39.39.9.59 1.41.59.51 0 1.02-.2 1.41-.59l7.78-7.78 2.81-2.81c.8-.78.8-2.07 0-2.86zM5.41 20L4 18.59l7.72-7.72 1.47 1.35L5.41 20z\"/>\n",
       "  </svg>\n",
       "      </button>\n",
       "      \n",
       "  <style>\n",
       "    .colab-df-container {\n",
       "      display:flex;\n",
       "      flex-wrap:wrap;\n",
       "      gap: 12px;\n",
       "    }\n",
       "\n",
       "    .colab-df-convert {\n",
       "      background-color: #E8F0FE;\n",
       "      border: none;\n",
       "      border-radius: 50%;\n",
       "      cursor: pointer;\n",
       "      display: none;\n",
       "      fill: #1967D2;\n",
       "      height: 32px;\n",
       "      padding: 0 0 0 0;\n",
       "      width: 32px;\n",
       "    }\n",
       "\n",
       "    .colab-df-convert:hover {\n",
       "      background-color: #E2EBFA;\n",
       "      box-shadow: 0px 1px 2px rgba(60, 64, 67, 0.3), 0px 1px 3px 1px rgba(60, 64, 67, 0.15);\n",
       "      fill: #174EA6;\n",
       "    }\n",
       "\n",
       "    [theme=dark] .colab-df-convert {\n",
       "      background-color: #3B4455;\n",
       "      fill: #D2E3FC;\n",
       "    }\n",
       "\n",
       "    [theme=dark] .colab-df-convert:hover {\n",
       "      background-color: #434B5C;\n",
       "      box-shadow: 0px 1px 3px 1px rgba(0, 0, 0, 0.15);\n",
       "      filter: drop-shadow(0px 1px 2px rgba(0, 0, 0, 0.3));\n",
       "      fill: #FFFFFF;\n",
       "    }\n",
       "  </style>\n",
       "\n",
       "      <script>\n",
       "        const buttonEl =\n",
       "          document.querySelector('#df-fbf390f0-0f86-4d9d-b5dc-ed1a8af06757 button.colab-df-convert');\n",
       "        buttonEl.style.display =\n",
       "          google.colab.kernel.accessAllowed ? 'block' : 'none';\n",
       "\n",
       "        async function convertToInteractive(key) {\n",
       "          const element = document.querySelector('#df-fbf390f0-0f86-4d9d-b5dc-ed1a8af06757');\n",
       "          const dataTable =\n",
       "            await google.colab.kernel.invokeFunction('convertToInteractive',\n",
       "                                                     [key], {});\n",
       "          if (!dataTable) return;\n",
       "\n",
       "          const docLinkHtml = 'Like what you see? Visit the ' +\n",
       "            '<a target=\"_blank\" href=https://colab.research.google.com/notebooks/data_table.ipynb>data table notebook</a>'\n",
       "            + ' to learn more about interactive tables.';\n",
       "          element.innerHTML = '';\n",
       "          dataTable['output_type'] = 'display_data';\n",
       "          await google.colab.output.renderOutput(dataTable, element);\n",
       "          const docLink = document.createElement('div');\n",
       "          docLink.innerHTML = docLinkHtml;\n",
       "          element.appendChild(docLink);\n",
       "        }\n",
       "      </script>\n",
       "    </div>\n",
       "  </div>\n",
       "  "
      ],
      "text/plain": [
       "  label                                             review\n",
       "0   pos  Stuning even for the non-gamer: This sound tra...\n",
       "1   pos  The best soundtrack ever to anything.: I'm rea...\n",
       "2   pos  Amazing!: This soundtrack is my favorite music...\n",
       "3   pos  Excellent Soundtrack: I truly like this soundt...\n",
       "4   pos  Remember, Pull Your Jaw Off The Floor After He..."
      ]
     },
     "execution_count": 4,
     "metadata": {},
     "output_type": "execute_result"
    }
   ],
   "source": [
    "df = pd.read_csv('amazonreviews.tsv', sep='\\t')\n",
    "df.head()"
   ]
  },
  {
   "cell_type": "code",
   "execution_count": 5,
   "metadata": {
    "colab": {
     "base_uri": "https://localhost:8080/"
    },
    "executionInfo": {
     "elapsed": 6,
     "status": "ok",
     "timestamp": 1640594800586,
     "user": {
      "displayName": "Nishant wadhwani",
      "photoUrl": "https://lh3.googleusercontent.com/a-/AOh14Gjnn_M-nxVO-GHfPkftHjSsX-Ulopf1dqkz5rCwgg=s64",
      "userId": "18292067457856021938"
     },
     "user_tz": -330
    },
    "id": "sUGDxSPXos8-",
    "outputId": "914e6e45-cdd6-41db-de25-175bd0f00c5b"
   },
   "outputs": [
    {
     "data": {
      "text/plain": [
       "neg    5097\n",
       "pos    4903\n",
       "Name: label, dtype: int64"
      ]
     },
     "execution_count": 5,
     "metadata": {},
     "output_type": "execute_result"
    }
   ],
   "source": [
    "df['label'].value_counts()"
   ]
  },
  {
   "cell_type": "code",
   "execution_count": 6,
   "metadata": {
    "executionInfo": {
     "elapsed": 5,
     "status": "ok",
     "timestamp": 1640594802548,
     "user": {
      "displayName": "Nishant wadhwani",
      "photoUrl": "https://lh3.googleusercontent.com/a-/AOh14Gjnn_M-nxVO-GHfPkftHjSsX-Ulopf1dqkz5rCwgg=s64",
      "userId": "18292067457856021938"
     },
     "user_tz": -330
    },
    "id": "HstHPt5ios9A"
   },
   "outputs": [],
   "source": [
    "# REMOVE NaN VALUES AND EMPTY STRINGS:\n",
    "df.dropna(inplace=True)\n",
    "\n",
    "blanks = []  # start with an empty list\n",
    "\n",
    "for i,lb,rv in df.itertuples():  # iterate over the DataFrame\n",
    "    if type(rv)==str:            # avoid NaN values\n",
    "        if rv.isspace():         # test 'review' for whitespace\n",
    "            blanks.append(i)     # add matching index numbers to the list\n",
    "\n",
    "df.drop(blanks, inplace=True)"
   ]
  },
  {
   "cell_type": "code",
   "execution_count": 7,
   "metadata": {
    "colab": {
     "base_uri": "https://localhost:8080/"
    },
    "executionInfo": {
     "elapsed": 6,
     "status": "ok",
     "timestamp": 1640594805272,
     "user": {
      "displayName": "Nishant wadhwani",
      "photoUrl": "https://lh3.googleusercontent.com/a-/AOh14Gjnn_M-nxVO-GHfPkftHjSsX-Ulopf1dqkz5rCwgg=s64",
      "userId": "18292067457856021938"
     },
     "user_tz": -330
    },
    "id": "QVj37nSZos9D",
    "outputId": "c623072e-87ba-4c13-a0ee-d547f39d9a68"
   },
   "outputs": [
    {
     "data": {
      "text/plain": [
       "neg    5097\n",
       "pos    4903\n",
       "Name: label, dtype: int64"
      ]
     },
     "execution_count": 7,
     "metadata": {},
     "output_type": "execute_result"
    }
   ],
   "source": [
    "df['label'].value_counts()"
   ]
  },
  {
   "cell_type": "code",
   "execution_count": 8,
   "metadata": {
    "executionInfo": {
     "elapsed": 10,
     "status": "ok",
     "timestamp": 1640594805837,
     "user": {
      "displayName": "Nishant wadhwani",
      "photoUrl": "https://lh3.googleusercontent.com/a-/AOh14Gjnn_M-nxVO-GHfPkftHjSsX-Ulopf1dqkz5rCwgg=s64",
      "userId": "18292067457856021938"
     },
     "user_tz": -330
    },
    "id": "bpEq7hNXFMDY"
   },
   "outputs": [],
   "source": [
    "X_data = df['review']"
   ]
  },
  {
   "cell_type": "code",
   "execution_count": 9,
   "metadata": {
    "colab": {
     "base_uri": "https://localhost:8080/"
    },
    "executionInfo": {
     "elapsed": 641,
     "status": "ok",
     "timestamp": 1640594809455,
     "user": {
      "displayName": "Nishant wadhwani",
      "photoUrl": "https://lh3.googleusercontent.com/a-/AOh14Gjnn_M-nxVO-GHfPkftHjSsX-Ulopf1dqkz5rCwgg=s64",
      "userId": "18292067457856021938"
     },
     "user_tz": -330
    },
    "id": "2TkQFJrbFYR7",
    "outputId": "11d48cd6-64a3-4781-d775-730e6519923d"
   },
   "outputs": [
    {
     "data": {
      "text/plain": [
       "0       Stuning even for the non-gamer: This sound tra...\n",
       "1       The best soundtrack ever to anything.: I'm rea...\n",
       "2       Amazing!: This soundtrack is my favorite music...\n",
       "3       Excellent Soundtrack: I truly like this soundt...\n",
       "4       Remember, Pull Your Jaw Off The Floor After He...\n",
       "                              ...                        \n",
       "9995    A revelation of life in small town America in ...\n",
       "9996    Great biography of a very interesting journali...\n",
       "9997    Interesting Subject; Poor Presentation: You'd ...\n",
       "9998    Don't buy: The box looked used and it is obvio...\n",
       "9999    Beautiful Pen and Fast Delivery.: The pen was ...\n",
       "Name: review, Length: 10000, dtype: object"
      ]
     },
     "execution_count": 9,
     "metadata": {},
     "output_type": "execute_result"
    }
   ],
   "source": [
    "X_data"
   ]
  },
  {
   "cell_type": "code",
   "execution_count": 10,
   "metadata": {
    "executionInfo": {
     "elapsed": 461,
     "status": "ok",
     "timestamp": 1640594810910,
     "user": {
      "displayName": "Nishant wadhwani",
      "photoUrl": "https://lh3.googleusercontent.com/a-/AOh14Gjnn_M-nxVO-GHfPkftHjSsX-Ulopf1dqkz5rCwgg=s64",
      "userId": "18292067457856021938"
     },
     "user_tz": -330
    },
    "id": "Y_5nHC5UFXzG"
   },
   "outputs": [],
   "source": [
    "y_data = df['label']"
   ]
  },
  {
   "cell_type": "code",
   "execution_count": 11,
   "metadata": {
    "colab": {
     "base_uri": "https://localhost:8080/"
    },
    "executionInfo": {
     "elapsed": 474,
     "status": "ok",
     "timestamp": 1640594813064,
     "user": {
      "displayName": "Nishant wadhwani",
      "photoUrl": "https://lh3.googleusercontent.com/a-/AOh14Gjnn_M-nxVO-GHfPkftHjSsX-Ulopf1dqkz5rCwgg=s64",
      "userId": "18292067457856021938"
     },
     "user_tz": -330
    },
    "id": "ywsiv9NdFoND",
    "outputId": "e138f8ae-f5d3-482c-d087-abb8d172b81c"
   },
   "outputs": [
    {
     "data": {
      "text/plain": [
       "0       pos\n",
       "1       pos\n",
       "2       pos\n",
       "3       pos\n",
       "4       pos\n",
       "       ... \n",
       "9995    pos\n",
       "9996    pos\n",
       "9997    neg\n",
       "9998    neg\n",
       "9999    pos\n",
       "Name: label, Length: 10000, dtype: object"
      ]
     },
     "execution_count": 11,
     "metadata": {},
     "output_type": "execute_result"
    }
   ],
   "source": [
    "y_data"
   ]
  },
  {
   "cell_type": "code",
   "execution_count": 12,
   "metadata": {
    "executionInfo": {
     "elapsed": 415,
     "status": "ok",
     "timestamp": 1640594814146,
     "user": {
      "displayName": "Nishant wadhwani",
      "photoUrl": "https://lh3.googleusercontent.com/a-/AOh14Gjnn_M-nxVO-GHfPkftHjSsX-Ulopf1dqkz5rCwgg=s64",
      "userId": "18292067457856021938"
     },
     "user_tz": -330
    },
    "id": "rUyhMp7JFnYr"
   },
   "outputs": [],
   "source": [
    "from sklearn.preprocessing import LabelEncoder\n",
    "le = LabelEncoder()\n",
    "y = le.fit_transform(y_data)"
   ]
  },
  {
   "cell_type": "code",
   "execution_count": 13,
   "metadata": {
    "colab": {
     "base_uri": "https://localhost:8080/"
    },
    "executionInfo": {
     "elapsed": 713,
     "status": "ok",
     "timestamp": 1640594815562,
     "user": {
      "displayName": "Nishant wadhwani",
      "photoUrl": "https://lh3.googleusercontent.com/a-/AOh14Gjnn_M-nxVO-GHfPkftHjSsX-Ulopf1dqkz5rCwgg=s64",
      "userId": "18292067457856021938"
     },
     "user_tz": -330
    },
    "id": "LEQQR9RcF1mC",
    "outputId": "7552e443-6f0c-45c5-bb0e-fe255518e837"
   },
   "outputs": [
    {
     "data": {
      "text/plain": [
       "array([1, 1, 1, ..., 0, 0, 1])"
      ]
     },
     "execution_count": 13,
     "metadata": {},
     "output_type": "execute_result"
    }
   ],
   "source": [
    "y"
   ]
  },
  {
   "cell_type": "markdown",
   "metadata": {
    "id": "m0z-4iuFos9E"
   },
   "source": [
    "## CountVectorizer Bag of Words"
   ]
  },
  {
   "cell_type": "code",
   "execution_count": null,
   "metadata": {
    "colab": {
     "base_uri": "https://localhost:8080/"
    },
    "executionInfo": {
     "elapsed": 542,
     "status": "ok",
     "timestamp": 1640500811372,
     "user": {
      "displayName": "Nishant wadhwani",
      "photoUrl": "https://lh3.googleusercontent.com/a-/AOh14Gjnn_M-nxVO-GHfPkftHjSsX-Ulopf1dqkz5rCwgg=s64",
      "userId": "18292067457856021938"
     },
     "user_tz": -330
    },
    "id": "InWYtccuC5F_",
    "outputId": "e177b2a3-44c3-408d-cc1d-2b59f464bb05"
   },
   "outputs": [
    {
     "name": "stdout",
     "output_type": "stream",
     "text": [
      "1015\n"
     ]
    }
   ],
   "source": [
    "#Calculate max length of review\n",
    "L = []\n",
    "for i in range(0,10000):\n",
    "    a = len(df['review'][i])\n",
    "    L.append(a)\n",
    "    a = 0\n",
    "print(max(L))"
   ]
  },
  {
   "cell_type": "code",
   "execution_count": null,
   "metadata": {
    "id": "NHTmqermzkjf"
   },
   "outputs": [],
   "source": [
    "#Tokenization\n",
    "from sklearn.feature_extraction.text import CountVectorizer\n"
   ]
  },
  {
   "cell_type": "code",
   "execution_count": null,
   "metadata": {
    "id": "vMxsXra6os9G"
   },
   "outputs": [],
   "source": [
    "cv = CountVectorizer(max_df=0.95, min_df=2, stop_words='english')\n",
    "X = cv.fit_transform(df['review']).toarray()\n"
   ]
  },
  {
   "cell_type": "code",
   "execution_count": null,
   "metadata": {
    "colab": {
     "base_uri": "https://localhost:8080/"
    },
    "executionInfo": {
     "elapsed": 389,
     "status": "ok",
     "timestamp": 1640500819274,
     "user": {
      "displayName": "Nishant wadhwani",
      "photoUrl": "https://lh3.googleusercontent.com/a-/AOh14Gjnn_M-nxVO-GHfPkftHjSsX-Ulopf1dqkz5rCwgg=s64",
      "userId": "18292067457856021938"
     },
     "user_tz": -330
    },
    "id": "-9KR-vpmos9I",
    "outputId": "577bbbab-6040-4ed8-a84b-f2f049fb7eae"
   },
   "outputs": [
    {
     "data": {
      "text/plain": [
       "array([[0, 0, 0, ..., 0, 0, 0],\n",
       "       [0, 0, 0, ..., 0, 0, 0],\n",
       "       [0, 0, 0, ..., 0, 0, 0],\n",
       "       ...,\n",
       "       [0, 0, 0, ..., 0, 0, 0],\n",
       "       [0, 0, 0, ..., 0, 0, 0],\n",
       "       [0, 0, 0, ..., 0, 0, 0]])"
      ]
     },
     "execution_count": 17,
     "metadata": {},
     "output_type": "execute_result"
    }
   ],
   "source": [
    "X"
   ]
  },
  {
   "cell_type": "code",
   "execution_count": null,
   "metadata": {
    "colab": {
     "base_uri": "https://localhost:8080/"
    },
    "executionInfo": {
     "elapsed": 10,
     "status": "ok",
     "timestamp": 1640500820840,
     "user": {
      "displayName": "Nishant wadhwani",
      "photoUrl": "https://lh3.googleusercontent.com/a-/AOh14Gjnn_M-nxVO-GHfPkftHjSsX-Ulopf1dqkz5rCwgg=s64",
      "userId": "18292067457856021938"
     },
     "user_tz": -330
    },
    "id": "W5D_owT2C5GD",
    "outputId": "1343a38e-c175-4351-8a05-39f54d724a8d"
   },
   "outputs": [
    {
     "data": {
      "text/plain": [
       "array([1, 1, 1, ..., 0, 0, 1])"
      ]
     },
     "execution_count": 18,
     "metadata": {},
     "output_type": "execute_result"
    }
   ],
   "source": [
    "y"
   ]
  },
  {
   "cell_type": "code",
   "execution_count": null,
   "metadata": {
    "id": "DMaOdDeGFH45"
   },
   "outputs": [],
   "source": []
  },
  {
   "cell_type": "markdown",
   "metadata": {
    "id": "y3JM48bGos9L"
   },
   "source": [
    "### Naive Bayes"
   ]
  },
  {
   "cell_type": "code",
   "execution_count": null,
   "metadata": {
    "id": "dLQPc3D0os9N"
   },
   "outputs": [],
   "source": [
    "from sklearn.model_selection import train_test_split\n",
    "X_train, X_test, y_train, y_test = train_test_split(X, y, test_size = 0.20, random_state = 0)"
   ]
  },
  {
   "cell_type": "code",
   "execution_count": null,
   "metadata": {
    "colab": {
     "base_uri": "https://localhost:8080/"
    },
    "executionInfo": {
     "elapsed": 2187,
     "status": "ok",
     "timestamp": 1640500829732,
     "user": {
      "displayName": "Nishant wadhwani",
      "photoUrl": "https://lh3.googleusercontent.com/a-/AOh14Gjnn_M-nxVO-GHfPkftHjSsX-Ulopf1dqkz5rCwgg=s64",
      "userId": "18292067457856021938"
     },
     "user_tz": -330
    },
    "id": "fcNdUPzyos9O",
    "outputId": "df46147f-4e4e-4d2d-8780-ead272b19369"
   },
   "outputs": [
    {
     "data": {
      "text/plain": [
       "GaussianNB()"
      ]
     },
     "execution_count": 20,
     "metadata": {},
     "output_type": "execute_result"
    }
   ],
   "source": [
    "from sklearn.naive_bayes import GaussianNB\n",
    "classifier = GaussianNB()\n",
    "classifier.fit(X_train, y_train)"
   ]
  },
  {
   "cell_type": "code",
   "execution_count": null,
   "metadata": {
    "colab": {
     "base_uri": "https://localhost:8080/"
    },
    "executionInfo": {
     "elapsed": 642,
     "status": "ok",
     "timestamp": 1640500830367,
     "user": {
      "displayName": "Nishant wadhwani",
      "photoUrl": "https://lh3.googleusercontent.com/a-/AOh14Gjnn_M-nxVO-GHfPkftHjSsX-Ulopf1dqkz5rCwgg=s64",
      "userId": "18292067457856021938"
     },
     "user_tz": -330
    },
    "id": "HQH4nNbhos9P",
    "outputId": "dabccc39-156f-476a-91b9-114093be787f"
   },
   "outputs": [
    {
     "name": "stdout",
     "output_type": "stream",
     "text": [
      "[[0 0]\n",
      " [1 1]\n",
      " [0 0]\n",
      " ...\n",
      " [0 1]\n",
      " [0 0]\n",
      " [1 1]]\n"
     ]
    }
   ],
   "source": [
    "y_pred = classifier.predict(X_test)\n",
    "print(np.concatenate((y_pred.reshape(len(y_pred),1), y_test.reshape(len(y_test),1)),1))"
   ]
  },
  {
   "cell_type": "code",
   "execution_count": null,
   "metadata": {
    "colab": {
     "base_uri": "https://localhost:8080/"
    },
    "executionInfo": {
     "elapsed": 13,
     "status": "ok",
     "timestamp": 1640500830368,
     "user": {
      "displayName": "Nishant wadhwani",
      "photoUrl": "https://lh3.googleusercontent.com/a-/AOh14Gjnn_M-nxVO-GHfPkftHjSsX-Ulopf1dqkz5rCwgg=s64",
      "userId": "18292067457856021938"
     },
     "user_tz": -330
    },
    "id": "d6rxCKw7os9Q",
    "outputId": "1092bd23-c9ae-467d-bb0c-247ac6e63bf4"
   },
   "outputs": [
    {
     "name": "stdout",
     "output_type": "stream",
     "text": [
      "[[656 341]\n",
      " [303 700]]\n"
     ]
    },
    {
     "data": {
      "text/plain": [
       "0.678"
      ]
     },
     "execution_count": 22,
     "metadata": {},
     "output_type": "execute_result"
    }
   ],
   "source": [
    "from sklearn.metrics import confusion_matrix, accuracy_score,classification_report\n",
    "cm = confusion_matrix(y_test, y_pred)\n",
    "print(cm)\n",
    "accuracy_score(y_test, y_pred)"
   ]
  },
  {
   "cell_type": "code",
   "execution_count": null,
   "metadata": {
    "colab": {
     "base_uri": "https://localhost:8080/"
    },
    "executionInfo": {
     "elapsed": 11,
     "status": "ok",
     "timestamp": 1640500830369,
     "user": {
      "displayName": "Nishant wadhwani",
      "photoUrl": "https://lh3.googleusercontent.com/a-/AOh14Gjnn_M-nxVO-GHfPkftHjSsX-Ulopf1dqkz5rCwgg=s64",
      "userId": "18292067457856021938"
     },
     "user_tz": -330
    },
    "id": "ZjvOWUvTos9R",
    "outputId": "b4474ff6-4786-42af-d4fb-a3f3187d36f7"
   },
   "outputs": [
    {
     "name": "stdout",
     "output_type": "stream",
     "text": [
      "              precision    recall  f1-score   support\n",
      "\n",
      "           0       0.68      0.66      0.67       997\n",
      "           1       0.67      0.70      0.68      1003\n",
      "\n",
      "    accuracy                           0.68      2000\n",
      "   macro avg       0.68      0.68      0.68      2000\n",
      "weighted avg       0.68      0.68      0.68      2000\n",
      "\n"
     ]
    }
   ],
   "source": [
    "print(classification_report(y_test, y_pred))"
   ]
  },
  {
   "cell_type": "code",
   "execution_count": null,
   "metadata": {
    "colab": {
     "base_uri": "https://localhost:8080/"
    },
    "executionInfo": {
     "elapsed": 28622,
     "status": "ok",
     "timestamp": 1640500858983,
     "user": {
      "displayName": "Nishant wadhwani",
      "photoUrl": "https://lh3.googleusercontent.com/a-/AOh14Gjnn_M-nxVO-GHfPkftHjSsX-Ulopf1dqkz5rCwgg=s64",
      "userId": "18292067457856021938"
     },
     "user_tz": -330
    },
    "id": "3fwGgfjyos9S",
    "outputId": "e9ff3877-2bde-44ef-d71f-e8291a6bc7ee"
   },
   "outputs": [
    {
     "name": "stdout",
     "output_type": "stream",
     "text": [
      "Accuracy: 68.75 %\n",
      "Standard Deviation: 1.73 %\n"
     ]
    }
   ],
   "source": [
    "\n",
    "from sklearn.model_selection import cross_val_score\n",
    "accuracies1 = cross_val_score(estimator = classifier, X = X_train, y = y_train, cv = 10)\n",
    "print(\"Accuracy: {:.2f} %\".format(accuracies1.mean()*100))\n",
    "print(\"Standard Deviation: {:.2f} %\".format(accuracies1.std()*100))"
   ]
  },
  {
   "cell_type": "markdown",
   "metadata": {
    "id": "cApX6MBsos9U",
    "outputId": "250fcd62-125a-4a1b-b9dd-a5a8c77d64e9"
   },
   "source": [
    "### Logistic Regression"
   ]
  },
  {
   "cell_type": "code",
   "execution_count": null,
   "metadata": {
    "colab": {
     "base_uri": "https://localhost:8080/"
    },
    "executionInfo": {
     "elapsed": 26338,
     "status": "ok",
     "timestamp": 1640500885311,
     "user": {
      "displayName": "Nishant wadhwani",
      "photoUrl": "https://lh3.googleusercontent.com/a-/AOh14Gjnn_M-nxVO-GHfPkftHjSsX-Ulopf1dqkz5rCwgg=s64",
      "userId": "18292067457856021938"
     },
     "user_tz": -330
    },
    "id": "38k84pFnGXE2",
    "outputId": "4262ea68-9e71-4a77-98d1-24675a2cbf81"
   },
   "outputs": [
    {
     "name": "stderr",
     "output_type": "stream",
     "text": [
      "/usr/local/lib/python3.7/dist-packages/sklearn/linear_model/_logistic.py:818: ConvergenceWarning: lbfgs failed to converge (status=1):\n",
      "STOP: TOTAL NO. of ITERATIONS REACHED LIMIT.\n",
      "\n",
      "Increase the number of iterations (max_iter) or scale the data as shown in:\n",
      "    https://scikit-learn.org/stable/modules/preprocessing.html\n",
      "Please also refer to the documentation for alternative solver options:\n",
      "    https://scikit-learn.org/stable/modules/linear_model.html#logistic-regression\n",
      "  extra_warning_msg=_LOGISTIC_SOLVER_CONVERGENCE_MSG,\n"
     ]
    },
    {
     "data": {
      "text/plain": [
       "LogisticRegression(random_state=0)"
      ]
     },
     "execution_count": 25,
     "metadata": {},
     "output_type": "execute_result"
    }
   ],
   "source": [
    "from sklearn.linear_model import LogisticRegression\n",
    "classifier = LogisticRegression(random_state = 0)\n",
    "classifier.fit(X_train, y_train)"
   ]
  },
  {
   "cell_type": "code",
   "execution_count": null,
   "metadata": {
    "colab": {
     "base_uri": "https://localhost:8080/"
    },
    "executionInfo": {
     "elapsed": 45,
     "status": "ok",
     "timestamp": 1640500885312,
     "user": {
      "displayName": "Nishant wadhwani",
      "photoUrl": "https://lh3.googleusercontent.com/a-/AOh14Gjnn_M-nxVO-GHfPkftHjSsX-Ulopf1dqkz5rCwgg=s64",
      "userId": "18292067457856021938"
     },
     "user_tz": -330
    },
    "id": "rnueRJSlGft1",
    "outputId": "4720ce29-c73e-4d70-9b5f-bd68ab1b5cce"
   },
   "outputs": [
    {
     "name": "stdout",
     "output_type": "stream",
     "text": [
      "[[0 0]\n",
      " [1 1]\n",
      " [0 0]\n",
      " ...\n",
      " [1 1]\n",
      " [0 0]\n",
      " [1 1]]\n"
     ]
    }
   ],
   "source": [
    "y_pred = classifier.predict(X_test)\n",
    "print(np.concatenate((y_pred.reshape(len(y_pred),1), y_test.reshape(len(y_test),1)),1))"
   ]
  },
  {
   "cell_type": "code",
   "execution_count": null,
   "metadata": {
    "colab": {
     "base_uri": "https://localhost:8080/"
    },
    "executionInfo": {
     "elapsed": 33,
     "status": "ok",
     "timestamp": 1640500885314,
     "user": {
      "displayName": "Nishant wadhwani",
      "photoUrl": "https://lh3.googleusercontent.com/a-/AOh14Gjnn_M-nxVO-GHfPkftHjSsX-Ulopf1dqkz5rCwgg=s64",
      "userId": "18292067457856021938"
     },
     "user_tz": -330
    },
    "id": "CAlrtBbYGmQu",
    "outputId": "a5ad32a0-dcce-4e87-e41b-9a54c1d9a57f"
   },
   "outputs": [
    {
     "name": "stdout",
     "output_type": "stream",
     "text": [
      "[[847 150]\n",
      " [159 844]]\n"
     ]
    },
    {
     "data": {
      "text/plain": [
       "0.8455"
      ]
     },
     "execution_count": 27,
     "metadata": {},
     "output_type": "execute_result"
    }
   ],
   "source": [
    "from sklearn.metrics import confusion_matrix, accuracy_score,classification_report\n",
    "cm = confusion_matrix(y_test, y_pred)\n",
    "print(cm)\n",
    "accuracy_score(y_test, y_pred)"
   ]
  },
  {
   "cell_type": "code",
   "execution_count": null,
   "metadata": {
    "colab": {
     "base_uri": "https://localhost:8080/"
    },
    "executionInfo": {
     "elapsed": 29,
     "status": "ok",
     "timestamp": 1640500885315,
     "user": {
      "displayName": "Nishant wadhwani",
      "photoUrl": "https://lh3.googleusercontent.com/a-/AOh14Gjnn_M-nxVO-GHfPkftHjSsX-Ulopf1dqkz5rCwgg=s64",
      "userId": "18292067457856021938"
     },
     "user_tz": -330
    },
    "id": "DJTDAfzwGrT-",
    "outputId": "cfd3bb55-f9ee-4999-ac78-f80fd0580276"
   },
   "outputs": [
    {
     "name": "stdout",
     "output_type": "stream",
     "text": [
      "              precision    recall  f1-score   support\n",
      "\n",
      "           0       0.84      0.85      0.85       997\n",
      "           1       0.85      0.84      0.85      1003\n",
      "\n",
      "    accuracy                           0.85      2000\n",
      "   macro avg       0.85      0.85      0.85      2000\n",
      "weighted avg       0.85      0.85      0.85      2000\n",
      "\n"
     ]
    }
   ],
   "source": [
    "print(classification_report(y_test, y_pred))"
   ]
  },
  {
   "cell_type": "code",
   "execution_count": null,
   "metadata": {
    "id": "yxgLpSfOG6X0"
   },
   "outputs": [],
   "source": []
  },
  {
   "cell_type": "code",
   "execution_count": null,
   "metadata": {
    "id": "JHTByNLCG-dJ"
   },
   "outputs": [],
   "source": []
  },
  {
   "cell_type": "code",
   "execution_count": null,
   "metadata": {
    "id": "5PxCsNWhHBXs"
   },
   "outputs": [],
   "source": []
  },
  {
   "cell_type": "code",
   "execution_count": null,
   "metadata": {
    "id": "Gnt9iOISHGRp"
   },
   "outputs": [],
   "source": []
  },
  {
   "cell_type": "code",
   "execution_count": null,
   "metadata": {
    "id": "nQInyIzfHIq_"
   },
   "outputs": [],
   "source": []
  },
  {
   "cell_type": "markdown",
   "metadata": {
    "id": "QM5lRixAC5GL"
   },
   "source": [
    "### K-Nearest Neighbors (K-NN)"
   ]
  },
  {
   "cell_type": "code",
   "execution_count": null,
   "metadata": {
    "colab": {
     "base_uri": "https://localhost:8080/"
    },
    "executionInfo": {
     "elapsed": 25,
     "status": "ok",
     "timestamp": 1640500885320,
     "user": {
      "displayName": "Nishant wadhwani",
      "photoUrl": "https://lh3.googleusercontent.com/a-/AOh14Gjnn_M-nxVO-GHfPkftHjSsX-Ulopf1dqkz5rCwgg=s64",
      "userId": "18292067457856021938"
     },
     "user_tz": -330
    },
    "id": "0O9doUvhHU8T",
    "outputId": "c74c5bc1-9056-4650-c75c-e4ba5b727f1b"
   },
   "outputs": [
    {
     "data": {
      "text/plain": [
       "KNeighborsClassifier()"
      ]
     },
     "execution_count": 29,
     "metadata": {},
     "output_type": "execute_result"
    }
   ],
   "source": [
    "from sklearn.neighbors import KNeighborsClassifier\n",
    "classifier = KNeighborsClassifier(n_neighbors = 5, metric = 'minkowski', p = 2)\n",
    "classifier.fit(X_train, y_train)"
   ]
  },
  {
   "cell_type": "code",
   "execution_count": null,
   "metadata": {
    "colab": {
     "base_uri": "https://localhost:8080/"
    },
    "executionInfo": {
     "elapsed": 22557,
     "status": "ok",
     "timestamp": 1640500907858,
     "user": {
      "displayName": "Nishant wadhwani",
      "photoUrl": "https://lh3.googleusercontent.com/a-/AOh14Gjnn_M-nxVO-GHfPkftHjSsX-Ulopf1dqkz5rCwgg=s64",
      "userId": "18292067457856021938"
     },
     "user_tz": -330
    },
    "id": "Fe_0NrIuHYgU",
    "outputId": "7fb009d7-137d-44f2-a079-981f74aeffc5"
   },
   "outputs": [
    {
     "name": "stdout",
     "output_type": "stream",
     "text": [
      "[[1 0]\n",
      " [0 1]\n",
      " [0 0]\n",
      " ...\n",
      " [1 1]\n",
      " [1 0]\n",
      " [1 1]]\n"
     ]
    }
   ],
   "source": [
    "y_pred = classifier.predict(X_test)\n",
    "print(np.concatenate((y_pred.reshape(len(y_pred),1), y_test.reshape(len(y_test),1)),1))"
   ]
  },
  {
   "cell_type": "code",
   "execution_count": null,
   "metadata": {
    "colab": {
     "base_uri": "https://localhost:8080/"
    },
    "executionInfo": {
     "elapsed": 21,
     "status": "ok",
     "timestamp": 1640500907859,
     "user": {
      "displayName": "Nishant wadhwani",
      "photoUrl": "https://lh3.googleusercontent.com/a-/AOh14Gjnn_M-nxVO-GHfPkftHjSsX-Ulopf1dqkz5rCwgg=s64",
      "userId": "18292067457856021938"
     },
     "user_tz": -330
    },
    "id": "eqOnEUtZHeRF",
    "outputId": "bb95db2d-3701-4751-e456-e8ec68195aa9"
   },
   "outputs": [
    {
     "name": "stdout",
     "output_type": "stream",
     "text": [
      "[[609 388]\n",
      " [231 772]]\n"
     ]
    },
    {
     "data": {
      "text/plain": [
       "0.6905"
      ]
     },
     "execution_count": 31,
     "metadata": {},
     "output_type": "execute_result"
    }
   ],
   "source": [
    "from sklearn.metrics import confusion_matrix, accuracy_score,classification_report\n",
    "cm = confusion_matrix(y_test, y_pred)\n",
    "print(cm)\n",
    "accuracy_score(y_test, y_pred)"
   ]
  },
  {
   "cell_type": "code",
   "execution_count": null,
   "metadata": {
    "colab": {
     "base_uri": "https://localhost:8080/"
    },
    "executionInfo": {
     "elapsed": 14,
     "status": "ok",
     "timestamp": 1640500907860,
     "user": {
      "displayName": "Nishant wadhwani",
      "photoUrl": "https://lh3.googleusercontent.com/a-/AOh14Gjnn_M-nxVO-GHfPkftHjSsX-Ulopf1dqkz5rCwgg=s64",
      "userId": "18292067457856021938"
     },
     "user_tz": -330
    },
    "id": "VjqZ_ZGnKJxe",
    "outputId": "63bc45ef-b2d4-4126-b566-0a099b97fc96"
   },
   "outputs": [
    {
     "name": "stdout",
     "output_type": "stream",
     "text": [
      "              precision    recall  f1-score   support\n",
      "\n",
      "           0       0.72      0.61      0.66       997\n",
      "           1       0.67      0.77      0.71      1003\n",
      "\n",
      "    accuracy                           0.69      2000\n",
      "   macro avg       0.70      0.69      0.69      2000\n",
      "weighted avg       0.70      0.69      0.69      2000\n",
      "\n"
     ]
    }
   ],
   "source": [
    "print(classification_report(y_test, y_pred))"
   ]
  },
  {
   "cell_type": "code",
   "execution_count": null,
   "metadata": {
    "id": "Uvo_tiqyKXh4"
   },
   "outputs": [],
   "source": [
    "\n"
   ]
  },
  {
   "cell_type": "code",
   "execution_count": null,
   "metadata": {
    "id": "NV4164X_K2q8"
   },
   "outputs": [],
   "source": []
  },
  {
   "cell_type": "markdown",
   "metadata": {
    "id": "nxBNwOyk-Fzk"
   },
   "source": [
    "#Linear SVM"
   ]
  },
  {
   "cell_type": "code",
   "execution_count": null,
   "metadata": {
    "colab": {
     "base_uri": "https://localhost:8080/"
    },
    "executionInfo": {
     "elapsed": 531466,
     "status": "ok",
     "timestamp": 1640501855585,
     "user": {
      "displayName": "Nishant wadhwani",
      "photoUrl": "https://lh3.googleusercontent.com/a-/AOh14Gjnn_M-nxVO-GHfPkftHjSsX-Ulopf1dqkz5rCwgg=s64",
      "userId": "18292067457856021938"
     },
     "user_tz": -330
    },
    "id": "MHQVu2dhK-o4",
    "outputId": "a802252b-535a-4b7c-e44f-d8c2ce5cb9dd"
   },
   "outputs": [
    {
     "data": {
      "text/plain": [
       "SVC(kernel='linear', random_state=0)"
      ]
     },
     "execution_count": 34,
     "metadata": {},
     "output_type": "execute_result"
    }
   ],
   "source": [
    "from sklearn.svm import SVC\n",
    "classifier = SVC(kernel = 'linear', random_state = 0)\n",
    "classifier.fit(X_train, y_train)"
   ]
  },
  {
   "cell_type": "code",
   "execution_count": null,
   "metadata": {
    "colab": {
     "base_uri": "https://localhost:8080/"
    },
    "executionInfo": {
     "elapsed": 165352,
     "status": "ok",
     "timestamp": 1640502020928,
     "user": {
      "displayName": "Nishant wadhwani",
      "photoUrl": "https://lh3.googleusercontent.com/a-/AOh14Gjnn_M-nxVO-GHfPkftHjSsX-Ulopf1dqkz5rCwgg=s64",
      "userId": "18292067457856021938"
     },
     "user_tz": -330
    },
    "id": "2d9cG5W-3kTX",
    "outputId": "107e0f30-7fd4-4b33-bcad-66cd69e8ee94"
   },
   "outputs": [
    {
     "name": "stdout",
     "output_type": "stream",
     "text": [
      "[[0 0]\n",
      " [1 1]\n",
      " [0 0]\n",
      " ...\n",
      " [1 1]\n",
      " [0 0]\n",
      " [1 1]]\n"
     ]
    }
   ],
   "source": [
    "y_pred = classifier.predict(X_test)\n",
    "print(np.concatenate((y_pred.reshape(len(y_pred),1), y_test.reshape(len(y_test),1)),1))"
   ]
  },
  {
   "cell_type": "code",
   "execution_count": null,
   "metadata": {
    "colab": {
     "base_uri": "https://localhost:8080/"
    },
    "executionInfo": {
     "elapsed": 26,
     "status": "ok",
     "timestamp": 1640502020929,
     "user": {
      "displayName": "Nishant wadhwani",
      "photoUrl": "https://lh3.googleusercontent.com/a-/AOh14Gjnn_M-nxVO-GHfPkftHjSsX-Ulopf1dqkz5rCwgg=s64",
      "userId": "18292067457856021938"
     },
     "user_tz": -330
    },
    "id": "OSg8mjFe3kCi",
    "outputId": "990a5836-2e96-4c45-a958-aa77f14d9240"
   },
   "outputs": [
    {
     "name": "stdout",
     "output_type": "stream",
     "text": [
      "[[830 167]\n",
      " [181 822]]\n"
     ]
    },
    {
     "data": {
      "text/plain": [
       "0.826"
      ]
     },
     "execution_count": 36,
     "metadata": {},
     "output_type": "execute_result"
    }
   ],
   "source": [
    "from sklearn.metrics import confusion_matrix, accuracy_score,classification_report\n",
    "cm = confusion_matrix(y_test, y_pred)\n",
    "print(cm)\n",
    "accuracy_score(y_test, y_pred)"
   ]
  },
  {
   "cell_type": "code",
   "execution_count": null,
   "metadata": {
    "colab": {
     "base_uri": "https://localhost:8080/"
    },
    "executionInfo": {
     "elapsed": 16,
     "status": "ok",
     "timestamp": 1640502020929,
     "user": {
      "displayName": "Nishant wadhwani",
      "photoUrl": "https://lh3.googleusercontent.com/a-/AOh14Gjnn_M-nxVO-GHfPkftHjSsX-Ulopf1dqkz5rCwgg=s64",
      "userId": "18292067457856021938"
     },
     "user_tz": -330
    },
    "id": "ep2JNfmU3j2Q",
    "outputId": "a1ee3ff1-381a-4f23-ed34-2e212f47b055"
   },
   "outputs": [
    {
     "name": "stdout",
     "output_type": "stream",
     "text": [
      "              precision    recall  f1-score   support\n",
      "\n",
      "           0       0.82      0.83      0.83       997\n",
      "           1       0.83      0.82      0.83      1003\n",
      "\n",
      "    accuracy                           0.83      2000\n",
      "   macro avg       0.83      0.83      0.83      2000\n",
      "weighted avg       0.83      0.83      0.83      2000\n",
      "\n"
     ]
    }
   ],
   "source": [
    "print(classification_report(y_test, y_pred))"
   ]
  },
  {
   "cell_type": "code",
   "execution_count": null,
   "metadata": {
    "id": "8zeLp_qg3jot"
   },
   "outputs": [],
   "source": []
  },
  {
   "cell_type": "code",
   "execution_count": null,
   "metadata": {
    "id": "GFQIcXds3jZp"
   },
   "outputs": [],
   "source": []
  },
  {
   "cell_type": "markdown",
   "metadata": {
    "id": "kW7UugvqC5GL"
   },
   "source": [
    "### Kernel SVM\n"
   ]
  },
  {
   "cell_type": "code",
   "execution_count": null,
   "metadata": {
    "colab": {
     "base_uri": "https://localhost:8080/"
    },
    "executionInfo": {
     "elapsed": 667868,
     "status": "ok",
     "timestamp": 1640502688789,
     "user": {
      "displayName": "Nishant wadhwani",
      "photoUrl": "https://lh3.googleusercontent.com/a-/AOh14Gjnn_M-nxVO-GHfPkftHjSsX-Ulopf1dqkz5rCwgg=s64",
      "userId": "18292067457856021938"
     },
     "user_tz": -330
    },
    "id": "Zjp4bxeX897d",
    "outputId": "b3803542-ba87-4d68-b5b9-7acc3823132d"
   },
   "outputs": [
    {
     "data": {
      "text/plain": [
       "SVC(random_state=0)"
      ]
     },
     "execution_count": 38,
     "metadata": {},
     "output_type": "execute_result"
    }
   ],
   "source": [
    "from sklearn.svm import SVC\n",
    "classifier = SVC(kernel = 'rbf', random_state = 0)\n",
    "classifier.fit(X_train, y_train)"
   ]
  },
  {
   "cell_type": "code",
   "execution_count": null,
   "metadata": {
    "colab": {
     "base_uri": "https://localhost:8080/"
    },
    "executionInfo": {
     "elapsed": 335008,
     "status": "ok",
     "timestamp": 1640503023787,
     "user": {
      "displayName": "Nishant wadhwani",
      "photoUrl": "https://lh3.googleusercontent.com/a-/AOh14Gjnn_M-nxVO-GHfPkftHjSsX-Ulopf1dqkz5rCwgg=s64",
      "userId": "18292067457856021938"
     },
     "user_tz": -330
    },
    "id": "0PjiH27P89lq",
    "outputId": "b32dff6d-005c-4952-8604-4d6cc4c88bf1"
   },
   "outputs": [
    {
     "name": "stdout",
     "output_type": "stream",
     "text": [
      "[[0 0]\n",
      " [1 1]\n",
      " [0 0]\n",
      " ...\n",
      " [1 1]\n",
      " [0 0]\n",
      " [1 1]]\n"
     ]
    }
   ],
   "source": [
    "y_pred = classifier.predict(X_test)\n",
    "print(np.concatenate((y_pred.reshape(len(y_pred),1), y_test.reshape(len(y_test),1)),1))"
   ]
  },
  {
   "cell_type": "code",
   "execution_count": null,
   "metadata": {
    "colab": {
     "base_uri": "https://localhost:8080/"
    },
    "executionInfo": {
     "elapsed": 42,
     "status": "ok",
     "timestamp": 1640503023789,
     "user": {
      "displayName": "Nishant wadhwani",
      "photoUrl": "https://lh3.googleusercontent.com/a-/AOh14Gjnn_M-nxVO-GHfPkftHjSsX-Ulopf1dqkz5rCwgg=s64",
      "userId": "18292067457856021938"
     },
     "user_tz": -330
    },
    "id": "S3D90aNs89QR",
    "outputId": "b1e631b2-4b1d-4660-cd6f-cd29d4bee686"
   },
   "outputs": [
    {
     "name": "stdout",
     "output_type": "stream",
     "text": [
      "[[859 138]\n",
      " [153 850]]\n"
     ]
    },
    {
     "data": {
      "text/plain": [
       "0.8545"
      ]
     },
     "execution_count": 40,
     "metadata": {},
     "output_type": "execute_result"
    }
   ],
   "source": [
    "from sklearn.metrics import confusion_matrix, accuracy_score,classification_report\n",
    "cm = confusion_matrix(y_test, y_pred)\n",
    "print(cm)\n",
    "accuracy_score(y_test, y_pred)"
   ]
  },
  {
   "cell_type": "code",
   "execution_count": null,
   "metadata": {
    "colab": {
     "base_uri": "https://localhost:8080/"
    },
    "executionInfo": {
     "elapsed": 33,
     "status": "ok",
     "timestamp": 1640503023790,
     "user": {
      "displayName": "Nishant wadhwani",
      "photoUrl": "https://lh3.googleusercontent.com/a-/AOh14Gjnn_M-nxVO-GHfPkftHjSsX-Ulopf1dqkz5rCwgg=s64",
      "userId": "18292067457856021938"
     },
     "user_tz": -330
    },
    "id": "DAby0hPr9FdE",
    "outputId": "7c7f0005-5248-40e5-ee62-418e33f74470"
   },
   "outputs": [
    {
     "name": "stdout",
     "output_type": "stream",
     "text": [
      "              precision    recall  f1-score   support\n",
      "\n",
      "           0       0.85      0.86      0.86       997\n",
      "           1       0.86      0.85      0.85      1003\n",
      "\n",
      "    accuracy                           0.85      2000\n",
      "   macro avg       0.85      0.85      0.85      2000\n",
      "weighted avg       0.85      0.85      0.85      2000\n",
      "\n"
     ]
    }
   ],
   "source": [
    "print(classification_report(y_test, y_pred))"
   ]
  },
  {
   "cell_type": "code",
   "execution_count": null,
   "metadata": {
    "id": "fNMp9Q2j9HS5"
   },
   "outputs": [],
   "source": []
  },
  {
   "cell_type": "markdown",
   "metadata": {
    "id": "_8twcURzC5GM"
   },
   "source": [
    "### Decision Tree Classification\n"
   ]
  },
  {
   "cell_type": "code",
   "execution_count": null,
   "metadata": {
    "colab": {
     "base_uri": "https://localhost:8080/"
    },
    "executionInfo": {
     "elapsed": 25937,
     "status": "ok",
     "timestamp": 1640503049699,
     "user": {
      "displayName": "Nishant wadhwani",
      "photoUrl": "https://lh3.googleusercontent.com/a-/AOh14Gjnn_M-nxVO-GHfPkftHjSsX-Ulopf1dqkz5rCwgg=s64",
      "userId": "18292067457856021938"
     },
     "user_tz": -330
    },
    "id": "U12EhiWl_Yr-",
    "outputId": "4e2c6e6e-c8b3-478d-901a-56679f1d213b"
   },
   "outputs": [
    {
     "data": {
      "text/plain": [
       "DecisionTreeClassifier(criterion='entropy', random_state=0)"
      ]
     },
     "execution_count": 42,
     "metadata": {},
     "output_type": "execute_result"
    }
   ],
   "source": [
    "from sklearn.tree import DecisionTreeClassifier\n",
    "classifier = DecisionTreeClassifier(criterion = 'entropy', random_state = 0)\n",
    "classifier.fit(X_train, y_train)"
   ]
  },
  {
   "cell_type": "code",
   "execution_count": null,
   "metadata": {
    "colab": {
     "base_uri": "https://localhost:8080/"
    },
    "executionInfo": {
     "elapsed": 45,
     "status": "ok",
     "timestamp": 1640503049700,
     "user": {
      "displayName": "Nishant wadhwani",
      "photoUrl": "https://lh3.googleusercontent.com/a-/AOh14Gjnn_M-nxVO-GHfPkftHjSsX-Ulopf1dqkz5rCwgg=s64",
      "userId": "18292067457856021938"
     },
     "user_tz": -330
    },
    "id": "aYtBt_hy_YZE",
    "outputId": "2b65974f-857c-46e4-8732-9badbc92af5c"
   },
   "outputs": [
    {
     "name": "stdout",
     "output_type": "stream",
     "text": [
      "[[0 0]\n",
      " [1 1]\n",
      " [0 0]\n",
      " ...\n",
      " [1 1]\n",
      " [0 0]\n",
      " [1 1]]\n"
     ]
    }
   ],
   "source": [
    "y_pred = classifier.predict(X_test)\n",
    "print(np.concatenate((y_pred.reshape(len(y_pred),1), y_test.reshape(len(y_test),1)),1))"
   ]
  },
  {
   "cell_type": "code",
   "execution_count": null,
   "metadata": {
    "colab": {
     "base_uri": "https://localhost:8080/"
    },
    "executionInfo": {
     "elapsed": 36,
     "status": "ok",
     "timestamp": 1640503049700,
     "user": {
      "displayName": "Nishant wadhwani",
      "photoUrl": "https://lh3.googleusercontent.com/a-/AOh14Gjnn_M-nxVO-GHfPkftHjSsX-Ulopf1dqkz5rCwgg=s64",
      "userId": "18292067457856021938"
     },
     "user_tz": -330
    },
    "id": "_l4sftjZ_YMn",
    "outputId": "d344452c-9925-464a-808a-014ade32d66f"
   },
   "outputs": [
    {
     "name": "stdout",
     "output_type": "stream",
     "text": [
      "[[735 262]\n",
      " [296 707]]\n"
     ]
    },
    {
     "data": {
      "text/plain": [
       "0.721"
      ]
     },
     "execution_count": 44,
     "metadata": {},
     "output_type": "execute_result"
    }
   ],
   "source": [
    "from sklearn.metrics import confusion_matrix, accuracy_score,classification_report\n",
    "cm = confusion_matrix(y_test, y_pred)\n",
    "print(cm)\n",
    "accuracy_score(y_test, y_pred)"
   ]
  },
  {
   "cell_type": "code",
   "execution_count": null,
   "metadata": {
    "colab": {
     "base_uri": "https://localhost:8080/"
    },
    "executionInfo": {
     "elapsed": 29,
     "status": "ok",
     "timestamp": 1640503049701,
     "user": {
      "displayName": "Nishant wadhwani",
      "photoUrl": "https://lh3.googleusercontent.com/a-/AOh14Gjnn_M-nxVO-GHfPkftHjSsX-Ulopf1dqkz5rCwgg=s64",
      "userId": "18292067457856021938"
     },
     "user_tz": -330
    },
    "id": "xJHk3zOU_fKg",
    "outputId": "c2fc5880-d53d-488a-b4d0-324d1541b3a4"
   },
   "outputs": [
    {
     "name": "stdout",
     "output_type": "stream",
     "text": [
      "              precision    recall  f1-score   support\n",
      "\n",
      "           0       0.71      0.74      0.72       997\n",
      "           1       0.73      0.70      0.72      1003\n",
      "\n",
      "    accuracy                           0.72      2000\n",
      "   macro avg       0.72      0.72      0.72      2000\n",
      "weighted avg       0.72      0.72      0.72      2000\n",
      "\n"
     ]
    }
   ],
   "source": [
    "print(classification_report(y_test, y_pred))"
   ]
  },
  {
   "cell_type": "code",
   "execution_count": null,
   "metadata": {
    "id": "i1AK5VK8_e9Q"
   },
   "outputs": [],
   "source": []
  },
  {
   "cell_type": "code",
   "execution_count": null,
   "metadata": {
    "id": "jkI5dGPJ_X-I"
   },
   "outputs": [],
   "source": []
  },
  {
   "cell_type": "markdown",
   "metadata": {
    "id": "NOGRTJSDC5GM"
   },
   "source": [
    "### Random Forest Classification"
   ]
  },
  {
   "cell_type": "code",
   "execution_count": null,
   "metadata": {
    "colab": {
     "base_uri": "https://localhost:8080/"
    },
    "executionInfo": {
     "elapsed": 44255,
     "status": "ok",
     "timestamp": 1640503093933,
     "user": {
      "displayName": "Nishant wadhwani",
      "photoUrl": "https://lh3.googleusercontent.com/a-/AOh14Gjnn_M-nxVO-GHfPkftHjSsX-Ulopf1dqkz5rCwgg=s64",
      "userId": "18292067457856021938"
     },
     "user_tz": -330
    },
    "id": "Pi9Pyl1p_uF4",
    "outputId": "a6f7c646-deee-40fc-bd7f-ab44c506ba5f"
   },
   "outputs": [
    {
     "data": {
      "text/plain": [
       "RandomForestClassifier(criterion='entropy', random_state=0)"
      ]
     },
     "execution_count": 46,
     "metadata": {},
     "output_type": "execute_result"
    }
   ],
   "source": [
    "from sklearn.ensemble import RandomForestClassifier\n",
    "classifier = RandomForestClassifier(n_estimators = 100, criterion = 'entropy', random_state = 0)\n",
    "classifier.fit(X_train, y_train)"
   ]
  },
  {
   "cell_type": "code",
   "execution_count": null,
   "metadata": {
    "colab": {
     "base_uri": "https://localhost:8080/"
    },
    "executionInfo": {
     "elapsed": 43,
     "status": "ok",
     "timestamp": 1640503093934,
     "user": {
      "displayName": "Nishant wadhwani",
      "photoUrl": "https://lh3.googleusercontent.com/a-/AOh14Gjnn_M-nxVO-GHfPkftHjSsX-Ulopf1dqkz5rCwgg=s64",
      "userId": "18292067457856021938"
     },
     "user_tz": -330
    },
    "id": "Dsms8Ult_uDp",
    "outputId": "bf1f3f2e-cb69-43ef-fe01-020f63794485"
   },
   "outputs": [
    {
     "name": "stdout",
     "output_type": "stream",
     "text": [
      "[[0 0]\n",
      " [1 1]\n",
      " [0 0]\n",
      " ...\n",
      " [1 1]\n",
      " [0 0]\n",
      " [1 1]]\n"
     ]
    }
   ],
   "source": [
    "y_pred = classifier.predict(X_test)\n",
    "print(np.concatenate((y_pred.reshape(len(y_pred),1), y_test.reshape(len(y_test),1)),1))"
   ]
  },
  {
   "cell_type": "code",
   "execution_count": null,
   "metadata": {
    "colab": {
     "base_uri": "https://localhost:8080/"
    },
    "executionInfo": {
     "elapsed": 34,
     "status": "ok",
     "timestamp": 1640503093935,
     "user": {
      "displayName": "Nishant wadhwani",
      "photoUrl": "https://lh3.googleusercontent.com/a-/AOh14Gjnn_M-nxVO-GHfPkftHjSsX-Ulopf1dqkz5rCwgg=s64",
      "userId": "18292067457856021938"
     },
     "user_tz": -330
    },
    "id": "-ODORrLu_t-b",
    "outputId": "bc6ef8df-bd28-420d-8f3b-f90be832ec2e"
   },
   "outputs": [
    {
     "name": "stdout",
     "output_type": "stream",
     "text": [
      "[[854 143]\n",
      " [158 845]]\n"
     ]
    },
    {
     "data": {
      "text/plain": [
       "0.8495"
      ]
     },
     "execution_count": 48,
     "metadata": {},
     "output_type": "execute_result"
    }
   ],
   "source": [
    "from sklearn.metrics import confusion_matrix, accuracy_score,classification_report\n",
    "cm = confusion_matrix(y_test, y_pred)\n",
    "print(cm)\n",
    "accuracy_score(y_test, y_pred)"
   ]
  },
  {
   "cell_type": "code",
   "execution_count": null,
   "metadata": {
    "colab": {
     "base_uri": "https://localhost:8080/"
    },
    "executionInfo": {
     "elapsed": 30,
     "status": "ok",
     "timestamp": 1640503093938,
     "user": {
      "displayName": "Nishant wadhwani",
      "photoUrl": "https://lh3.googleusercontent.com/a-/AOh14Gjnn_M-nxVO-GHfPkftHjSsX-Ulopf1dqkz5rCwgg=s64",
      "userId": "18292067457856021938"
     },
     "user_tz": -330
    },
    "id": "sQCFEoa8_t8P",
    "outputId": "8f32ab58-b03b-4c0b-c91c-a82bc9f744ba"
   },
   "outputs": [
    {
     "name": "stdout",
     "output_type": "stream",
     "text": [
      "              precision    recall  f1-score   support\n",
      "\n",
      "           0       0.84      0.86      0.85       997\n",
      "           1       0.86      0.84      0.85      1003\n",
      "\n",
      "    accuracy                           0.85      2000\n",
      "   macro avg       0.85      0.85      0.85      2000\n",
      "weighted avg       0.85      0.85      0.85      2000\n",
      "\n"
     ]
    }
   ],
   "source": [
    "print(classification_report(y_test, y_pred))"
   ]
  },
  {
   "cell_type": "code",
   "execution_count": null,
   "metadata": {
    "id": "EkFjtfSS_tzp"
   },
   "outputs": [],
   "source": []
  },
  {
   "cell_type": "code",
   "execution_count": null,
   "metadata": {
    "id": "a9EVLa6j_tl7"
   },
   "outputs": [],
   "source": []
  },
  {
   "cell_type": "markdown",
   "metadata": {
    "id": "JTmq_tZnC5GN"
   },
   "source": [
    "### ADABOOST CLASSIFIER"
   ]
  },
  {
   "cell_type": "code",
   "execution_count": null,
   "metadata": {
    "colab": {
     "base_uri": "https://localhost:8080/"
    },
    "executionInfo": {
     "elapsed": 108845,
     "status": "ok",
     "timestamp": 1640503202759,
     "user": {
      "displayName": "Nishant wadhwani",
      "photoUrl": "https://lh3.googleusercontent.com/a-/AOh14Gjnn_M-nxVO-GHfPkftHjSsX-Ulopf1dqkz5rCwgg=s64",
      "userId": "18292067457856021938"
     },
     "user_tz": -330
    },
    "id": "Fc0m9MsY_5ze",
    "outputId": "19c26aa9-4dba-4d8c-bcf9-e2f0aa04cfea"
   },
   "outputs": [
    {
     "data": {
      "text/plain": [
       "AdaBoostClassifier(learning_rate=1)"
      ]
     },
     "execution_count": 50,
     "metadata": {},
     "output_type": "execute_result"
    }
   ],
   "source": [
    "from sklearn.ensemble import AdaBoostClassifier\n",
    "classifier = AdaBoostClassifier(n_estimators=50,\n",
    "                         learning_rate=1)\n",
    "# Train Adaboost Classifer\n",
    "classifier.fit(X_train, y_train)"
   ]
  },
  {
   "cell_type": "code",
   "execution_count": null,
   "metadata": {
    "colab": {
     "base_uri": "https://localhost:8080/"
    },
    "executionInfo": {
     "elapsed": 3414,
     "status": "ok",
     "timestamp": 1640503206151,
     "user": {
      "displayName": "Nishant wadhwani",
      "photoUrl": "https://lh3.googleusercontent.com/a-/AOh14Gjnn_M-nxVO-GHfPkftHjSsX-Ulopf1dqkz5rCwgg=s64",
      "userId": "18292067457856021938"
     },
     "user_tz": -330
    },
    "id": "yrQ-S9iv_5xM",
    "outputId": "93b73e9e-1e4f-4fcd-a211-42b8ef3d031a"
   },
   "outputs": [
    {
     "name": "stdout",
     "output_type": "stream",
     "text": [
      "[[1 0]\n",
      " [1 1]\n",
      " [0 0]\n",
      " ...\n",
      " [1 1]\n",
      " [0 0]\n",
      " [1 1]]\n"
     ]
    }
   ],
   "source": [
    "y_pred = classifier.predict(X_test)\n",
    "print(np.concatenate((y_pred.reshape(len(y_pred),1), y_test.reshape(len(y_test),1)),1))"
   ]
  },
  {
   "cell_type": "code",
   "execution_count": null,
   "metadata": {
    "colab": {
     "base_uri": "https://localhost:8080/"
    },
    "executionInfo": {
     "elapsed": 41,
     "status": "ok",
     "timestamp": 1640503206153,
     "user": {
      "displayName": "Nishant wadhwani",
      "photoUrl": "https://lh3.googleusercontent.com/a-/AOh14Gjnn_M-nxVO-GHfPkftHjSsX-Ulopf1dqkz5rCwgg=s64",
      "userId": "18292067457856021938"
     },
     "user_tz": -330
    },
    "id": "gekENw9E_5s7",
    "outputId": "3dd9b280-d100-4cb8-ea95-f3e225bc9ace"
   },
   "outputs": [
    {
     "name": "stdout",
     "output_type": "stream",
     "text": [
      "[[687 310]\n",
      " [162 841]]\n"
     ]
    },
    {
     "data": {
      "text/plain": [
       "0.764"
      ]
     },
     "execution_count": 52,
     "metadata": {},
     "output_type": "execute_result"
    }
   ],
   "source": [
    "from sklearn.metrics import confusion_matrix, accuracy_score,classification_report\n",
    "cm = confusion_matrix(y_test, y_pred)\n",
    "print(cm)\n",
    "accuracy_score(y_test, y_pred)"
   ]
  },
  {
   "cell_type": "code",
   "execution_count": null,
   "metadata": {
    "colab": {
     "base_uri": "https://localhost:8080/"
    },
    "executionInfo": {
     "elapsed": 21,
     "status": "ok",
     "timestamp": 1640503206154,
     "user": {
      "displayName": "Nishant wadhwani",
      "photoUrl": "https://lh3.googleusercontent.com/a-/AOh14Gjnn_M-nxVO-GHfPkftHjSsX-Ulopf1dqkz5rCwgg=s64",
      "userId": "18292067457856021938"
     },
     "user_tz": -330
    },
    "id": "xj5dV5dr_5q4",
    "outputId": "57897069-9eea-4cb9-e9c6-b6e3056a4ee2"
   },
   "outputs": [
    {
     "name": "stdout",
     "output_type": "stream",
     "text": [
      "              precision    recall  f1-score   support\n",
      "\n",
      "           0       0.81      0.69      0.74       997\n",
      "           1       0.73      0.84      0.78      1003\n",
      "\n",
      "    accuracy                           0.76      2000\n",
      "   macro avg       0.77      0.76      0.76      2000\n",
      "weighted avg       0.77      0.76      0.76      2000\n",
      "\n"
     ]
    }
   ],
   "source": [
    "print(classification_report(y_test, y_pred))"
   ]
  },
  {
   "cell_type": "code",
   "execution_count": null,
   "metadata": {
    "id": "ZZtkqGMf_5fb"
   },
   "outputs": [],
   "source": []
  },
  {
   "cell_type": "code",
   "execution_count": null,
   "metadata": {
    "id": "QYH60976ABPX"
   },
   "outputs": [],
   "source": []
  },
  {
   "cell_type": "code",
   "execution_count": null,
   "metadata": {
    "id": "ibDw0b4jABK1"
   },
   "outputs": [],
   "source": []
  },
  {
   "cell_type": "markdown",
   "metadata": {
    "id": "X8UTQzlFC5GN"
   },
   "source": [
    "### XGBOOST CLASSIFIER"
   ]
  },
  {
   "cell_type": "code",
   "execution_count": null,
   "metadata": {
    "colab": {
     "base_uri": "https://localhost:8080/"
    },
    "executionInfo": {
     "elapsed": 213992,
     "status": "ok",
     "timestamp": 1640503420134,
     "user": {
      "displayName": "Nishant wadhwani",
      "photoUrl": "https://lh3.googleusercontent.com/a-/AOh14Gjnn_M-nxVO-GHfPkftHjSsX-Ulopf1dqkz5rCwgg=s64",
      "userId": "18292067457856021938"
     },
     "user_tz": -330
    },
    "id": "YAvsE5KiCCb3",
    "outputId": "d6e1bd8a-5f4e-48f3-c530-25ae0cc25d1e"
   },
   "outputs": [
    {
     "data": {
      "text/plain": [
       "XGBClassifier()"
      ]
     },
     "execution_count": 54,
     "metadata": {},
     "output_type": "execute_result"
    }
   ],
   "source": [
    "from xgboost import XGBClassifier\n",
    "classifier = XGBClassifier()\n",
    "classifier.fit(X_train, y_train)"
   ]
  },
  {
   "cell_type": "code",
   "execution_count": null,
   "metadata": {
    "colab": {
     "base_uri": "https://localhost:8080/"
    },
    "executionInfo": {
     "elapsed": 202,
     "status": "ok",
     "timestamp": 1640503420137,
     "user": {
      "displayName": "Nishant wadhwani",
      "photoUrl": "https://lh3.googleusercontent.com/a-/AOh14Gjnn_M-nxVO-GHfPkftHjSsX-Ulopf1dqkz5rCwgg=s64",
      "userId": "18292067457856021938"
     },
     "user_tz": -330
    },
    "id": "wjGG_tF6CCOn",
    "outputId": "4889e4fe-a565-4923-cf6a-adb9e587bb17"
   },
   "outputs": [
    {
     "name": "stdout",
     "output_type": "stream",
     "text": [
      "[[0 0]\n",
      " [1 1]\n",
      " [0 0]\n",
      " ...\n",
      " [1 1]\n",
      " [0 0]\n",
      " [1 1]]\n"
     ]
    }
   ],
   "source": [
    "y_pred = classifier.predict(X_test)\n",
    "print(np.concatenate((y_pred.reshape(len(y_pred),1), y_test.reshape(len(y_test),1)),1))"
   ]
  },
  {
   "cell_type": "code",
   "execution_count": null,
   "metadata": {
    "colab": {
     "base_uri": "https://localhost:8080/"
    },
    "executionInfo": {
     "elapsed": 192,
     "status": "ok",
     "timestamp": 1640503420138,
     "user": {
      "displayName": "Nishant wadhwani",
      "photoUrl": "https://lh3.googleusercontent.com/a-/AOh14Gjnn_M-nxVO-GHfPkftHjSsX-Ulopf1dqkz5rCwgg=s64",
      "userId": "18292067457856021938"
     },
     "user_tz": -330
    },
    "id": "vxuR3rDxCCFj",
    "outputId": "bb37bf7a-1f88-4d31-b3fb-9076507fbe17"
   },
   "outputs": [
    {
     "name": "stdout",
     "output_type": "stream",
     "text": [
      "[[832 165]\n",
      " [271 732]]\n"
     ]
    },
    {
     "data": {
      "text/plain": [
       "0.782"
      ]
     },
     "execution_count": 56,
     "metadata": {},
     "output_type": "execute_result"
    }
   ],
   "source": [
    "from sklearn.metrics import confusion_matrix, accuracy_score,classification_report\n",
    "cm = confusion_matrix(y_test, y_pred)\n",
    "print(cm)\n",
    "accuracy_score(y_test, y_pred)"
   ]
  },
  {
   "cell_type": "code",
   "execution_count": null,
   "metadata": {
    "colab": {
     "base_uri": "https://localhost:8080/"
    },
    "executionInfo": {
     "elapsed": 185,
     "status": "ok",
     "timestamp": 1640503420139,
     "user": {
      "displayName": "Nishant wadhwani",
      "photoUrl": "https://lh3.googleusercontent.com/a-/AOh14Gjnn_M-nxVO-GHfPkftHjSsX-Ulopf1dqkz5rCwgg=s64",
      "userId": "18292067457856021938"
     },
     "user_tz": -330
    },
    "id": "so4P3oOKCGdc",
    "outputId": "a6f28b09-bd43-4539-abc8-f9f18639193b"
   },
   "outputs": [
    {
     "name": "stdout",
     "output_type": "stream",
     "text": [
      "              precision    recall  f1-score   support\n",
      "\n",
      "           0       0.75      0.83      0.79       997\n",
      "           1       0.82      0.73      0.77      1003\n",
      "\n",
      "    accuracy                           0.78      2000\n",
      "   macro avg       0.79      0.78      0.78      2000\n",
      "weighted avg       0.79      0.78      0.78      2000\n",
      "\n"
     ]
    }
   ],
   "source": [
    "print(classification_report(y_test, y_pred))"
   ]
  },
  {
   "cell_type": "code",
   "execution_count": null,
   "metadata": {
    "id": "GkF-cXp9CB99"
   },
   "outputs": [],
   "source": []
  },
  {
   "cell_type": "code",
   "execution_count": null,
   "metadata": {
    "id": "Sakx81WpCB0S"
   },
   "outputs": [],
   "source": []
  },
  {
   "cell_type": "markdown",
   "metadata": {
    "id": "8_7FLrRiC5GN"
   },
   "source": [
    "### CATBOOST Classifier"
   ]
  },
  {
   "cell_type": "code",
   "execution_count": null,
   "metadata": {
    "colab": {
     "base_uri": "https://localhost:8080/"
    },
    "executionInfo": {
     "elapsed": 16165,
     "status": "ok",
     "timestamp": 1640503494509,
     "user": {
      "displayName": "Nishant wadhwani",
      "photoUrl": "https://lh3.googleusercontent.com/a-/AOh14Gjnn_M-nxVO-GHfPkftHjSsX-Ulopf1dqkz5rCwgg=s64",
      "userId": "18292067457856021938"
     },
     "user_tz": -330
    },
    "id": "xFZ1gVjwoC7N",
    "outputId": "c3051872-9f09-49ef-e143-5ce105db22fa"
   },
   "outputs": [
    {
     "name": "stdout",
     "output_type": "stream",
     "text": [
      "Collecting catboost\n",
      "  Downloading catboost-1.0.3-cp37-none-manylinux1_x86_64.whl (76.3 MB)\n",
      "\u001b[K     |████████████████████████████████| 76.3 MB 70 kB/s \n",
      "\u001b[?25hRequirement already satisfied: plotly in /usr/local/lib/python3.7/dist-packages (from catboost) (4.4.1)\n",
      "Requirement already satisfied: six in /usr/local/lib/python3.7/dist-packages (from catboost) (1.15.0)\n",
      "Requirement already satisfied: matplotlib in /usr/local/lib/python3.7/dist-packages (from catboost) (3.2.2)\n",
      "Requirement already satisfied: scipy in /usr/local/lib/python3.7/dist-packages (from catboost) (1.4.1)\n",
      "Requirement already satisfied: pandas>=0.24.0 in /usr/local/lib/python3.7/dist-packages (from catboost) (1.1.5)\n",
      "Requirement already satisfied: numpy>=1.16.0 in /usr/local/lib/python3.7/dist-packages (from catboost) (1.19.5)\n",
      "Requirement already satisfied: graphviz in /usr/local/lib/python3.7/dist-packages (from catboost) (0.10.1)\n",
      "Requirement already satisfied: pytz>=2017.2 in /usr/local/lib/python3.7/dist-packages (from pandas>=0.24.0->catboost) (2018.9)\n",
      "Requirement already satisfied: python-dateutil>=2.7.3 in /usr/local/lib/python3.7/dist-packages (from pandas>=0.24.0->catboost) (2.8.2)\n",
      "Requirement already satisfied: cycler>=0.10 in /usr/local/lib/python3.7/dist-packages (from matplotlib->catboost) (0.11.0)\n",
      "Requirement already satisfied: kiwisolver>=1.0.1 in /usr/local/lib/python3.7/dist-packages (from matplotlib->catboost) (1.3.2)\n",
      "Requirement already satisfied: pyparsing!=2.0.4,!=2.1.2,!=2.1.6,>=2.0.1 in /usr/local/lib/python3.7/dist-packages (from matplotlib->catboost) (3.0.6)\n",
      "Requirement already satisfied: retrying>=1.3.3 in /usr/local/lib/python3.7/dist-packages (from plotly->catboost) (1.3.3)\n",
      "Installing collected packages: catboost\n",
      "Successfully installed catboost-1.0.3\n"
     ]
    }
   ],
   "source": [
    "!pip3 install catboost"
   ]
  },
  {
   "cell_type": "code",
   "execution_count": null,
   "metadata": {
    "id": "X6GyPpNhCSZo"
   },
   "outputs": [],
   "source": [
    "import catboost as cb"
   ]
  },
  {
   "cell_type": "code",
   "execution_count": null,
   "metadata": {
    "colab": {
     "base_uri": "https://localhost:8080/"
    },
    "executionInfo": {
     "elapsed": 148396,
     "status": "ok",
     "timestamp": 1640503651680,
     "user": {
      "displayName": "Nishant wadhwani",
      "photoUrl": "https://lh3.googleusercontent.com/a-/AOh14Gjnn_M-nxVO-GHfPkftHjSsX-Ulopf1dqkz5rCwgg=s64",
      "userId": "18292067457856021938"
     },
     "user_tz": -330
    },
    "id": "NymaqYqcCSXW",
    "outputId": "9eb43478-8115-496c-db59-d23b5f8d7233"
   },
   "outputs": [
    {
     "name": "stdout",
     "output_type": "stream",
     "text": [
      "Learning rate set to 0.025035\n",
      "0:\tlearn: 0.6875651\ttotal: 116ms\tremaining: 1m 56s\n",
      "1:\tlearn: 0.6819077\ttotal: 189ms\tremaining: 1m 34s\n",
      "2:\tlearn: 0.6769804\ttotal: 253ms\tremaining: 1m 24s\n",
      "3:\tlearn: 0.6720695\ttotal: 316ms\tremaining: 1m 18s\n",
      "4:\tlearn: 0.6665330\ttotal: 382ms\tremaining: 1m 16s\n",
      "5:\tlearn: 0.6630491\ttotal: 446ms\tremaining: 1m 13s\n",
      "6:\tlearn: 0.6591821\ttotal: 512ms\tremaining: 1m 12s\n",
      "7:\tlearn: 0.6552161\ttotal: 575ms\tremaining: 1m 11s\n",
      "8:\tlearn: 0.6524364\ttotal: 642ms\tremaining: 1m 10s\n",
      "9:\tlearn: 0.6491591\ttotal: 710ms\tremaining: 1m 10s\n",
      "10:\tlearn: 0.6457535\ttotal: 781ms\tremaining: 1m 10s\n",
      "11:\tlearn: 0.6425807\ttotal: 852ms\tremaining: 1m 10s\n",
      "12:\tlearn: 0.6395184\ttotal: 917ms\tremaining: 1m 9s\n",
      "13:\tlearn: 0.6359053\ttotal: 982ms\tremaining: 1m 9s\n",
      "14:\tlearn: 0.6320981\ttotal: 1.05s\tremaining: 1m 8s\n",
      "15:\tlearn: 0.6297896\ttotal: 1.1s\tremaining: 1m 7s\n",
      "16:\tlearn: 0.6266119\ttotal: 1.17s\tremaining: 1m 7s\n",
      "17:\tlearn: 0.6242228\ttotal: 1.24s\tremaining: 1m 7s\n",
      "18:\tlearn: 0.6217953\ttotal: 1.31s\tremaining: 1m 7s\n",
      "19:\tlearn: 0.6190050\ttotal: 1.38s\tremaining: 1m 7s\n",
      "20:\tlearn: 0.6164248\ttotal: 1.44s\tremaining: 1m 7s\n",
      "21:\tlearn: 0.6141541\ttotal: 1.51s\tremaining: 1m 7s\n",
      "22:\tlearn: 0.6122806\ttotal: 1.58s\tremaining: 1m 7s\n",
      "23:\tlearn: 0.6101043\ttotal: 1.64s\tremaining: 1m 6s\n",
      "24:\tlearn: 0.6082505\ttotal: 1.71s\tremaining: 1m 6s\n",
      "25:\tlearn: 0.6065187\ttotal: 1.77s\tremaining: 1m 6s\n",
      "26:\tlearn: 0.6046378\ttotal: 1.84s\tremaining: 1m 6s\n",
      "27:\tlearn: 0.6025942\ttotal: 1.91s\tremaining: 1m 6s\n",
      "28:\tlearn: 0.6009799\ttotal: 1.97s\tremaining: 1m 6s\n",
      "29:\tlearn: 0.5992045\ttotal: 2.04s\tremaining: 1m 5s\n",
      "30:\tlearn: 0.5971478\ttotal: 2.1s\tremaining: 1m 5s\n",
      "31:\tlearn: 0.5952477\ttotal: 2.17s\tremaining: 1m 5s\n",
      "32:\tlearn: 0.5936241\ttotal: 2.24s\tremaining: 1m 5s\n",
      "33:\tlearn: 0.5918631\ttotal: 2.3s\tremaining: 1m 5s\n",
      "34:\tlearn: 0.5903027\ttotal: 2.37s\tremaining: 1m 5s\n",
      "35:\tlearn: 0.5879777\ttotal: 2.43s\tremaining: 1m 5s\n",
      "36:\tlearn: 0.5863301\ttotal: 2.5s\tremaining: 1m 4s\n",
      "37:\tlearn: 0.5843969\ttotal: 2.56s\tremaining: 1m 4s\n",
      "38:\tlearn: 0.5826968\ttotal: 2.62s\tremaining: 1m 4s\n",
      "39:\tlearn: 0.5810721\ttotal: 2.69s\tremaining: 1m 4s\n",
      "40:\tlearn: 0.5793531\ttotal: 2.76s\tremaining: 1m 4s\n",
      "41:\tlearn: 0.5780652\ttotal: 2.82s\tremaining: 1m 4s\n",
      "42:\tlearn: 0.5764990\ttotal: 2.89s\tremaining: 1m 4s\n",
      "43:\tlearn: 0.5751227\ttotal: 2.96s\tremaining: 1m 4s\n",
      "44:\tlearn: 0.5740897\ttotal: 3.02s\tremaining: 1m 4s\n",
      "45:\tlearn: 0.5725988\ttotal: 3.09s\tremaining: 1m 4s\n",
      "46:\tlearn: 0.5711744\ttotal: 3.16s\tremaining: 1m 4s\n",
      "47:\tlearn: 0.5700698\ttotal: 3.23s\tremaining: 1m 3s\n",
      "48:\tlearn: 0.5686886\ttotal: 3.29s\tremaining: 1m 3s\n",
      "49:\tlearn: 0.5671460\ttotal: 3.36s\tremaining: 1m 3s\n",
      "50:\tlearn: 0.5657173\ttotal: 3.43s\tremaining: 1m 3s\n",
      "51:\tlearn: 0.5647532\ttotal: 3.49s\tremaining: 1m 3s\n",
      "52:\tlearn: 0.5635079\ttotal: 3.57s\tremaining: 1m 3s\n",
      "53:\tlearn: 0.5624612\ttotal: 3.63s\tremaining: 1m 3s\n",
      "54:\tlearn: 0.5615481\ttotal: 3.69s\tremaining: 1m 3s\n",
      "55:\tlearn: 0.5602177\ttotal: 3.76s\tremaining: 1m 3s\n",
      "56:\tlearn: 0.5593224\ttotal: 3.83s\tremaining: 1m 3s\n",
      "57:\tlearn: 0.5582593\ttotal: 3.89s\tremaining: 1m 3s\n",
      "58:\tlearn: 0.5569277\ttotal: 3.95s\tremaining: 1m 3s\n",
      "59:\tlearn: 0.5559669\ttotal: 4.02s\tremaining: 1m 2s\n",
      "60:\tlearn: 0.5552081\ttotal: 4.08s\tremaining: 1m 2s\n",
      "61:\tlearn: 0.5542491\ttotal: 4.15s\tremaining: 1m 2s\n",
      "62:\tlearn: 0.5531840\ttotal: 4.22s\tremaining: 1m 2s\n",
      "63:\tlearn: 0.5522768\ttotal: 4.29s\tremaining: 1m 2s\n",
      "64:\tlearn: 0.5513893\ttotal: 4.36s\tremaining: 1m 2s\n",
      "65:\tlearn: 0.5504751\ttotal: 4.42s\tremaining: 1m 2s\n",
      "66:\tlearn: 0.5494648\ttotal: 4.49s\tremaining: 1m 2s\n",
      "67:\tlearn: 0.5486255\ttotal: 4.55s\tremaining: 1m 2s\n",
      "68:\tlearn: 0.5476992\ttotal: 4.61s\tremaining: 1m 2s\n",
      "69:\tlearn: 0.5468401\ttotal: 4.68s\tremaining: 1m 2s\n",
      "70:\tlearn: 0.5459137\ttotal: 4.74s\tremaining: 1m 2s\n",
      "71:\tlearn: 0.5450243\ttotal: 4.81s\tremaining: 1m 2s\n",
      "72:\tlearn: 0.5442031\ttotal: 4.88s\tremaining: 1m 1s\n",
      "73:\tlearn: 0.5433748\ttotal: 4.95s\tremaining: 1m 1s\n",
      "74:\tlearn: 0.5426998\ttotal: 5.01s\tremaining: 1m 1s\n",
      "75:\tlearn: 0.5418636\ttotal: 5.08s\tremaining: 1m 1s\n",
      "76:\tlearn: 0.5411310\ttotal: 5.14s\tremaining: 1m 1s\n",
      "77:\tlearn: 0.5403723\ttotal: 5.21s\tremaining: 1m 1s\n",
      "78:\tlearn: 0.5395034\ttotal: 5.29s\tremaining: 1m 1s\n",
      "79:\tlearn: 0.5383993\ttotal: 5.36s\tremaining: 1m 1s\n",
      "80:\tlearn: 0.5377177\ttotal: 5.42s\tremaining: 1m 1s\n",
      "81:\tlearn: 0.5368868\ttotal: 5.49s\tremaining: 1m 1s\n",
      "82:\tlearn: 0.5361694\ttotal: 5.56s\tremaining: 1m 1s\n",
      "83:\tlearn: 0.5354769\ttotal: 5.62s\tremaining: 1m 1s\n",
      "84:\tlearn: 0.5347805\ttotal: 5.68s\tremaining: 1m 1s\n",
      "85:\tlearn: 0.5339716\ttotal: 5.75s\tremaining: 1m 1s\n",
      "86:\tlearn: 0.5333700\ttotal: 5.82s\tremaining: 1m 1s\n",
      "87:\tlearn: 0.5324229\ttotal: 5.88s\tremaining: 1m\n",
      "88:\tlearn: 0.5316851\ttotal: 5.95s\tremaining: 1m\n",
      "89:\tlearn: 0.5310983\ttotal: 6.01s\tremaining: 1m\n",
      "90:\tlearn: 0.5305946\ttotal: 6.09s\tremaining: 1m\n",
      "91:\tlearn: 0.5300021\ttotal: 6.15s\tremaining: 1m\n",
      "92:\tlearn: 0.5290765\ttotal: 6.21s\tremaining: 1m\n",
      "93:\tlearn: 0.5284738\ttotal: 6.29s\tremaining: 1m\n",
      "94:\tlearn: 0.5277666\ttotal: 6.35s\tremaining: 1m\n",
      "95:\tlearn: 0.5271858\ttotal: 6.41s\tremaining: 1m\n",
      "96:\tlearn: 0.5267039\ttotal: 6.48s\tremaining: 1m\n",
      "97:\tlearn: 0.5259978\ttotal: 6.54s\tremaining: 1m\n",
      "98:\tlearn: 0.5255552\ttotal: 6.61s\tremaining: 1m\n",
      "99:\tlearn: 0.5249386\ttotal: 6.67s\tremaining: 1m\n",
      "100:\tlearn: 0.5242782\ttotal: 6.74s\tremaining: 60s\n",
      "101:\tlearn: 0.5238137\ttotal: 6.8s\tremaining: 59.9s\n",
      "102:\tlearn: 0.5233182\ttotal: 6.87s\tremaining: 59.8s\n",
      "103:\tlearn: 0.5227075\ttotal: 6.93s\tremaining: 59.7s\n",
      "104:\tlearn: 0.5219625\ttotal: 6.99s\tremaining: 59.6s\n",
      "105:\tlearn: 0.5214359\ttotal: 7.05s\tremaining: 59.5s\n",
      "106:\tlearn: 0.5208171\ttotal: 7.13s\tremaining: 59.5s\n",
      "107:\tlearn: 0.5201935\ttotal: 7.19s\tremaining: 59.4s\n",
      "108:\tlearn: 0.5196093\ttotal: 7.25s\tremaining: 59.3s\n",
      "109:\tlearn: 0.5188955\ttotal: 7.32s\tremaining: 59.2s\n",
      "110:\tlearn: 0.5182595\ttotal: 7.38s\tremaining: 59.1s\n",
      "111:\tlearn: 0.5176973\ttotal: 7.45s\tremaining: 59.1s\n",
      "112:\tlearn: 0.5170585\ttotal: 7.51s\tremaining: 58.9s\n",
      "113:\tlearn: 0.5165990\ttotal: 7.57s\tremaining: 58.9s\n",
      "114:\tlearn: 0.5160264\ttotal: 7.64s\tremaining: 58.8s\n",
      "115:\tlearn: 0.5155701\ttotal: 7.7s\tremaining: 58.7s\n",
      "116:\tlearn: 0.5151102\ttotal: 7.76s\tremaining: 58.6s\n",
      "117:\tlearn: 0.5145824\ttotal: 7.83s\tremaining: 58.5s\n",
      "118:\tlearn: 0.5141168\ttotal: 7.89s\tremaining: 58.4s\n",
      "119:\tlearn: 0.5138013\ttotal: 7.95s\tremaining: 58.3s\n",
      "120:\tlearn: 0.5132724\ttotal: 8.01s\tremaining: 58.2s\n",
      "121:\tlearn: 0.5127734\ttotal: 8.07s\tremaining: 58.1s\n",
      "122:\tlearn: 0.5121638\ttotal: 8.14s\tremaining: 58.1s\n",
      "123:\tlearn: 0.5116419\ttotal: 8.21s\tremaining: 58s\n",
      "124:\tlearn: 0.5111833\ttotal: 8.28s\tremaining: 57.9s\n",
      "125:\tlearn: 0.5105803\ttotal: 8.35s\tremaining: 57.9s\n",
      "126:\tlearn: 0.5101180\ttotal: 8.42s\tremaining: 57.9s\n",
      "127:\tlearn: 0.5095886\ttotal: 8.48s\tremaining: 57.8s\n",
      "128:\tlearn: 0.5092013\ttotal: 8.55s\tremaining: 57.7s\n",
      "129:\tlearn: 0.5086761\ttotal: 8.62s\tremaining: 57.7s\n",
      "130:\tlearn: 0.5081679\ttotal: 8.68s\tremaining: 57.6s\n",
      "131:\tlearn: 0.5077578\ttotal: 8.75s\tremaining: 57.5s\n",
      "132:\tlearn: 0.5072053\ttotal: 8.81s\tremaining: 57.5s\n",
      "133:\tlearn: 0.5065969\ttotal: 8.88s\tremaining: 57.4s\n",
      "134:\tlearn: 0.5062435\ttotal: 8.95s\tremaining: 57.3s\n",
      "135:\tlearn: 0.5055754\ttotal: 9.01s\tremaining: 57.2s\n",
      "136:\tlearn: 0.5051407\ttotal: 9.07s\tremaining: 57.2s\n",
      "137:\tlearn: 0.5045337\ttotal: 9.15s\tremaining: 57.1s\n",
      "138:\tlearn: 0.5040490\ttotal: 9.21s\tremaining: 57.1s\n",
      "139:\tlearn: 0.5036000\ttotal: 9.28s\tremaining: 57s\n",
      "140:\tlearn: 0.5030990\ttotal: 9.35s\tremaining: 57s\n",
      "141:\tlearn: 0.5025612\ttotal: 9.42s\tremaining: 56.9s\n",
      "142:\tlearn: 0.5020771\ttotal: 9.48s\tremaining: 56.8s\n",
      "143:\tlearn: 0.5015554\ttotal: 9.55s\tremaining: 56.8s\n",
      "144:\tlearn: 0.5010428\ttotal: 9.63s\tremaining: 56.8s\n",
      "145:\tlearn: 0.5005340\ttotal: 9.69s\tremaining: 56.7s\n",
      "146:\tlearn: 0.5000896\ttotal: 9.75s\tremaining: 56.6s\n",
      "147:\tlearn: 0.4996220\ttotal: 9.81s\tremaining: 56.5s\n",
      "148:\tlearn: 0.4992578\ttotal: 9.87s\tremaining: 56.4s\n",
      "149:\tlearn: 0.4987966\ttotal: 9.93s\tremaining: 56.3s\n",
      "150:\tlearn: 0.4984057\ttotal: 10s\tremaining: 56.2s\n",
      "151:\tlearn: 0.4982252\ttotal: 10.1s\tremaining: 56.1s\n",
      "152:\tlearn: 0.4978709\ttotal: 10.1s\tremaining: 56.1s\n",
      "153:\tlearn: 0.4973545\ttotal: 10.2s\tremaining: 56s\n",
      "154:\tlearn: 0.4969591\ttotal: 10.2s\tremaining: 55.9s\n",
      "155:\tlearn: 0.4965337\ttotal: 10.3s\tremaining: 55.8s\n",
      "156:\tlearn: 0.4960789\ttotal: 10.4s\tremaining: 55.7s\n",
      "157:\tlearn: 0.4956427\ttotal: 10.4s\tremaining: 55.7s\n",
      "158:\tlearn: 0.4953571\ttotal: 10.5s\tremaining: 55.6s\n",
      "159:\tlearn: 0.4950277\ttotal: 10.6s\tremaining: 55.5s\n",
      "160:\tlearn: 0.4945790\ttotal: 10.6s\tremaining: 55.4s\n",
      "161:\tlearn: 0.4943010\ttotal: 10.7s\tremaining: 55.4s\n",
      "162:\tlearn: 0.4937519\ttotal: 10.8s\tremaining: 55.3s\n",
      "163:\tlearn: 0.4933956\ttotal: 10.8s\tremaining: 55.2s\n",
      "164:\tlearn: 0.4930160\ttotal: 10.9s\tremaining: 55.2s\n",
      "165:\tlearn: 0.4926461\ttotal: 11s\tremaining: 55.1s\n",
      "166:\tlearn: 0.4922389\ttotal: 11s\tremaining: 55s\n",
      "167:\tlearn: 0.4916332\ttotal: 11.1s\tremaining: 54.9s\n",
      "168:\tlearn: 0.4913536\ttotal: 11.2s\tremaining: 54.9s\n",
      "169:\tlearn: 0.4910870\ttotal: 11.2s\tremaining: 54.8s\n",
      "170:\tlearn: 0.4907915\ttotal: 11.3s\tremaining: 54.7s\n",
      "171:\tlearn: 0.4905297\ttotal: 11.3s\tremaining: 54.6s\n",
      "172:\tlearn: 0.4901120\ttotal: 11.4s\tremaining: 54.6s\n",
      "173:\tlearn: 0.4896656\ttotal: 11.5s\tremaining: 54.6s\n",
      "174:\tlearn: 0.4891850\ttotal: 11.6s\tremaining: 54.5s\n",
      "175:\tlearn: 0.4888566\ttotal: 11.6s\tremaining: 54.4s\n",
      "176:\tlearn: 0.4884754\ttotal: 11.7s\tremaining: 54.3s\n",
      "177:\tlearn: 0.4879445\ttotal: 11.7s\tremaining: 54.2s\n",
      "178:\tlearn: 0.4875628\ttotal: 11.8s\tremaining: 54.1s\n",
      "179:\tlearn: 0.4872099\ttotal: 11.9s\tremaining: 54.1s\n",
      "180:\tlearn: 0.4868971\ttotal: 11.9s\tremaining: 54s\n",
      "181:\tlearn: 0.4864459\ttotal: 12s\tremaining: 53.9s\n",
      "182:\tlearn: 0.4860665\ttotal: 12.1s\tremaining: 53.8s\n",
      "183:\tlearn: 0.4857357\ttotal: 12.1s\tremaining: 53.8s\n",
      "184:\tlearn: 0.4854548\ttotal: 12.2s\tremaining: 53.7s\n",
      "185:\tlearn: 0.4849571\ttotal: 12.3s\tremaining: 53.6s\n",
      "186:\tlearn: 0.4845118\ttotal: 12.3s\tremaining: 53.5s\n",
      "187:\tlearn: 0.4842403\ttotal: 12.4s\tremaining: 53.4s\n",
      "188:\tlearn: 0.4838918\ttotal: 12.4s\tremaining: 53.4s\n",
      "189:\tlearn: 0.4835251\ttotal: 12.5s\tremaining: 53.3s\n",
      "190:\tlearn: 0.4832413\ttotal: 12.6s\tremaining: 53.3s\n",
      "191:\tlearn: 0.4828426\ttotal: 12.6s\tremaining: 53.2s\n",
      "192:\tlearn: 0.4825860\ttotal: 12.7s\tremaining: 53.1s\n",
      "193:\tlearn: 0.4821476\ttotal: 12.8s\tremaining: 53.1s\n",
      "194:\tlearn: 0.4818914\ttotal: 12.8s\tremaining: 53s\n",
      "195:\tlearn: 0.4815239\ttotal: 12.9s\tremaining: 52.9s\n",
      "196:\tlearn: 0.4811871\ttotal: 13s\tremaining: 52.9s\n",
      "197:\tlearn: 0.4808885\ttotal: 13s\tremaining: 52.8s\n",
      "198:\tlearn: 0.4806960\ttotal: 13.1s\tremaining: 52.7s\n",
      "199:\tlearn: 0.4804264\ttotal: 13.2s\tremaining: 52.6s\n",
      "200:\tlearn: 0.4801165\ttotal: 13.2s\tremaining: 52.6s\n",
      "201:\tlearn: 0.4796337\ttotal: 13.3s\tremaining: 52.5s\n",
      "202:\tlearn: 0.4793872\ttotal: 13.4s\tremaining: 52.5s\n",
      "203:\tlearn: 0.4789358\ttotal: 13.4s\tremaining: 52.5s\n",
      "204:\tlearn: 0.4786171\ttotal: 13.5s\tremaining: 52.4s\n",
      "205:\tlearn: 0.4780356\ttotal: 13.6s\tremaining: 52.3s\n",
      "206:\tlearn: 0.4778202\ttotal: 13.6s\tremaining: 52.2s\n",
      "207:\tlearn: 0.4774870\ttotal: 13.7s\tremaining: 52.2s\n",
      "208:\tlearn: 0.4771247\ttotal: 13.8s\tremaining: 52.1s\n",
      "209:\tlearn: 0.4767801\ttotal: 13.8s\tremaining: 52s\n",
      "210:\tlearn: 0.4765045\ttotal: 13.9s\tremaining: 52s\n",
      "211:\tlearn: 0.4760983\ttotal: 14s\tremaining: 51.9s\n",
      "212:\tlearn: 0.4758654\ttotal: 14s\tremaining: 51.8s\n",
      "213:\tlearn: 0.4756856\ttotal: 14.1s\tremaining: 51.8s\n",
      "214:\tlearn: 0.4753600\ttotal: 14.2s\tremaining: 51.8s\n",
      "215:\tlearn: 0.4751566\ttotal: 14.2s\tremaining: 51.7s\n",
      "216:\tlearn: 0.4748972\ttotal: 14.3s\tremaining: 51.6s\n",
      "217:\tlearn: 0.4746337\ttotal: 14.4s\tremaining: 51.6s\n",
      "218:\tlearn: 0.4743571\ttotal: 14.4s\tremaining: 51.5s\n",
      "219:\tlearn: 0.4740264\ttotal: 14.5s\tremaining: 51.4s\n",
      "220:\tlearn: 0.4737236\ttotal: 14.6s\tremaining: 51.3s\n",
      "221:\tlearn: 0.4733463\ttotal: 14.6s\tremaining: 51.3s\n",
      "222:\tlearn: 0.4729573\ttotal: 14.7s\tremaining: 51.2s\n",
      "223:\tlearn: 0.4725583\ttotal: 14.8s\tremaining: 51.1s\n",
      "224:\tlearn: 0.4723343\ttotal: 14.8s\tremaining: 51s\n",
      "225:\tlearn: 0.4720044\ttotal: 14.9s\tremaining: 51s\n",
      "226:\tlearn: 0.4717105\ttotal: 14.9s\tremaining: 50.9s\n",
      "227:\tlearn: 0.4715216\ttotal: 15s\tremaining: 50.8s\n",
      "228:\tlearn: 0.4712858\ttotal: 15.1s\tremaining: 50.8s\n",
      "229:\tlearn: 0.4709456\ttotal: 15.1s\tremaining: 50.7s\n",
      "230:\tlearn: 0.4706723\ttotal: 15.2s\tremaining: 50.6s\n",
      "231:\tlearn: 0.4703095\ttotal: 15.3s\tremaining: 50.5s\n",
      "232:\tlearn: 0.4700405\ttotal: 15.3s\tremaining: 50.5s\n",
      "233:\tlearn: 0.4697558\ttotal: 15.4s\tremaining: 50.4s\n",
      "234:\tlearn: 0.4695072\ttotal: 15.5s\tremaining: 50.4s\n",
      "235:\tlearn: 0.4691276\ttotal: 15.5s\tremaining: 50.3s\n",
      "236:\tlearn: 0.4688292\ttotal: 15.6s\tremaining: 50.2s\n",
      "237:\tlearn: 0.4686137\ttotal: 15.7s\tremaining: 50.2s\n",
      "238:\tlearn: 0.4682880\ttotal: 15.7s\tremaining: 50.1s\n",
      "239:\tlearn: 0.4680723\ttotal: 15.8s\tremaining: 50s\n",
      "240:\tlearn: 0.4677355\ttotal: 15.9s\tremaining: 49.9s\n",
      "241:\tlearn: 0.4673875\ttotal: 15.9s\tremaining: 49.9s\n",
      "242:\tlearn: 0.4670126\ttotal: 16s\tremaining: 49.8s\n",
      "243:\tlearn: 0.4667463\ttotal: 16.1s\tremaining: 49.7s\n",
      "244:\tlearn: 0.4664938\ttotal: 16.1s\tremaining: 49.7s\n",
      "245:\tlearn: 0.4660757\ttotal: 16.2s\tremaining: 49.6s\n",
      "246:\tlearn: 0.4658499\ttotal: 16.2s\tremaining: 49.5s\n",
      "247:\tlearn: 0.4655486\ttotal: 16.3s\tremaining: 49.5s\n",
      "248:\tlearn: 0.4653282\ttotal: 16.4s\tremaining: 49.4s\n",
      "249:\tlearn: 0.4650912\ttotal: 16.4s\tremaining: 49.3s\n",
      "250:\tlearn: 0.4649279\ttotal: 16.5s\tremaining: 49.3s\n",
      "251:\tlearn: 0.4646852\ttotal: 16.6s\tremaining: 49.2s\n",
      "252:\tlearn: 0.4644211\ttotal: 16.6s\tremaining: 49.1s\n",
      "253:\tlearn: 0.4641486\ttotal: 16.7s\tremaining: 49.1s\n",
      "254:\tlearn: 0.4638629\ttotal: 16.8s\tremaining: 49s\n",
      "255:\tlearn: 0.4635805\ttotal: 16.8s\tremaining: 48.9s\n",
      "256:\tlearn: 0.4632474\ttotal: 16.9s\tremaining: 48.9s\n",
      "257:\tlearn: 0.4630034\ttotal: 17s\tremaining: 48.8s\n",
      "258:\tlearn: 0.4627743\ttotal: 17s\tremaining: 48.7s\n",
      "259:\tlearn: 0.4625662\ttotal: 17.1s\tremaining: 48.7s\n",
      "260:\tlearn: 0.4622443\ttotal: 17.2s\tremaining: 48.6s\n",
      "261:\tlearn: 0.4619500\ttotal: 17.2s\tremaining: 48.5s\n",
      "262:\tlearn: 0.4616623\ttotal: 17.3s\tremaining: 48.5s\n",
      "263:\tlearn: 0.4613839\ttotal: 17.4s\tremaining: 48.4s\n",
      "264:\tlearn: 0.4610522\ttotal: 17.4s\tremaining: 48.3s\n",
      "265:\tlearn: 0.4608246\ttotal: 17.5s\tremaining: 48.2s\n",
      "266:\tlearn: 0.4604438\ttotal: 17.6s\tremaining: 48.2s\n",
      "267:\tlearn: 0.4602059\ttotal: 17.6s\tremaining: 48.1s\n",
      "268:\tlearn: 0.4598293\ttotal: 17.7s\tremaining: 48s\n",
      "269:\tlearn: 0.4595330\ttotal: 17.7s\tremaining: 47.9s\n",
      "270:\tlearn: 0.4592756\ttotal: 17.8s\tremaining: 47.9s\n",
      "271:\tlearn: 0.4590556\ttotal: 17.9s\tremaining: 47.8s\n",
      "272:\tlearn: 0.4587382\ttotal: 17.9s\tremaining: 47.7s\n",
      "273:\tlearn: 0.4584747\ttotal: 18s\tremaining: 47.7s\n",
      "274:\tlearn: 0.4582437\ttotal: 18s\tremaining: 47.6s\n",
      "275:\tlearn: 0.4578884\ttotal: 18.1s\tremaining: 47.5s\n",
      "276:\tlearn: 0.4576665\ttotal: 18.2s\tremaining: 47.4s\n",
      "277:\tlearn: 0.4574176\ttotal: 18.2s\tremaining: 47.4s\n",
      "278:\tlearn: 0.4571808\ttotal: 18.3s\tremaining: 47.3s\n",
      "279:\tlearn: 0.4569353\ttotal: 18.4s\tremaining: 47.2s\n",
      "280:\tlearn: 0.4566575\ttotal: 18.4s\tremaining: 47.2s\n",
      "281:\tlearn: 0.4563498\ttotal: 18.5s\tremaining: 47.1s\n",
      "282:\tlearn: 0.4561741\ttotal: 18.6s\tremaining: 47s\n",
      "283:\tlearn: 0.4558706\ttotal: 18.6s\tremaining: 47s\n",
      "284:\tlearn: 0.4556198\ttotal: 18.7s\tremaining: 46.9s\n",
      "285:\tlearn: 0.4553238\ttotal: 18.8s\tremaining: 46.8s\n",
      "286:\tlearn: 0.4551118\ttotal: 18.8s\tremaining: 46.8s\n",
      "287:\tlearn: 0.4548852\ttotal: 18.9s\tremaining: 46.7s\n",
      "288:\tlearn: 0.4546099\ttotal: 19s\tremaining: 46.7s\n",
      "289:\tlearn: 0.4544291\ttotal: 19s\tremaining: 46.6s\n",
      "290:\tlearn: 0.4541151\ttotal: 19.1s\tremaining: 46.5s\n",
      "291:\tlearn: 0.4538510\ttotal: 19.2s\tremaining: 46.4s\n",
      "292:\tlearn: 0.4536469\ttotal: 19.2s\tremaining: 46.4s\n",
      "293:\tlearn: 0.4533436\ttotal: 19.3s\tremaining: 46.3s\n",
      "294:\tlearn: 0.4531055\ttotal: 19.4s\tremaining: 46.3s\n",
      "295:\tlearn: 0.4528170\ttotal: 19.4s\tremaining: 46.2s\n",
      "296:\tlearn: 0.4525648\ttotal: 19.5s\tremaining: 46.1s\n",
      "297:\tlearn: 0.4522708\ttotal: 19.6s\tremaining: 46.1s\n",
      "298:\tlearn: 0.4520065\ttotal: 19.6s\tremaining: 46s\n",
      "299:\tlearn: 0.4516689\ttotal: 19.7s\tremaining: 45.9s\n",
      "300:\tlearn: 0.4514137\ttotal: 19.8s\tremaining: 45.9s\n",
      "301:\tlearn: 0.4511148\ttotal: 19.8s\tremaining: 45.8s\n",
      "302:\tlearn: 0.4508683\ttotal: 19.9s\tremaining: 45.8s\n",
      "303:\tlearn: 0.4506250\ttotal: 20s\tremaining: 45.7s\n",
      "304:\tlearn: 0.4503459\ttotal: 20s\tremaining: 45.6s\n",
      "305:\tlearn: 0.4500472\ttotal: 20.1s\tremaining: 45.6s\n",
      "306:\tlearn: 0.4498181\ttotal: 20.2s\tremaining: 45.5s\n",
      "307:\tlearn: 0.4496254\ttotal: 20.2s\tremaining: 45.4s\n",
      "308:\tlearn: 0.4493544\ttotal: 20.3s\tremaining: 45.4s\n",
      "309:\tlearn: 0.4490853\ttotal: 20.3s\tremaining: 45.3s\n",
      "310:\tlearn: 0.4487442\ttotal: 20.4s\tremaining: 45.2s\n",
      "311:\tlearn: 0.4484314\ttotal: 20.5s\tremaining: 45.1s\n",
      "312:\tlearn: 0.4481943\ttotal: 20.5s\tremaining: 45.1s\n",
      "313:\tlearn: 0.4479123\ttotal: 20.6s\tremaining: 45s\n",
      "314:\tlearn: 0.4476110\ttotal: 20.7s\tremaining: 45s\n",
      "315:\tlearn: 0.4473215\ttotal: 20.7s\tremaining: 44.9s\n",
      "316:\tlearn: 0.4470388\ttotal: 20.8s\tremaining: 44.8s\n",
      "317:\tlearn: 0.4468318\ttotal: 20.9s\tremaining: 44.8s\n",
      "318:\tlearn: 0.4465591\ttotal: 20.9s\tremaining: 44.7s\n",
      "319:\tlearn: 0.4462471\ttotal: 21s\tremaining: 44.6s\n",
      "320:\tlearn: 0.4460386\ttotal: 21.1s\tremaining: 44.6s\n",
      "321:\tlearn: 0.4457064\ttotal: 21.1s\tremaining: 44.5s\n",
      "322:\tlearn: 0.4454854\ttotal: 21.2s\tremaining: 44.4s\n",
      "323:\tlearn: 0.4453186\ttotal: 21.3s\tremaining: 44.4s\n",
      "324:\tlearn: 0.4450796\ttotal: 21.3s\tremaining: 44.3s\n",
      "325:\tlearn: 0.4448246\ttotal: 21.4s\tremaining: 44.3s\n",
      "326:\tlearn: 0.4445335\ttotal: 21.5s\tremaining: 44.2s\n",
      "327:\tlearn: 0.4442952\ttotal: 21.5s\tremaining: 44.1s\n",
      "328:\tlearn: 0.4440052\ttotal: 21.6s\tremaining: 44.1s\n",
      "329:\tlearn: 0.4437585\ttotal: 21.7s\tremaining: 44s\n",
      "330:\tlearn: 0.4435327\ttotal: 21.7s\tremaining: 44s\n",
      "331:\tlearn: 0.4432359\ttotal: 21.8s\tremaining: 43.9s\n",
      "332:\tlearn: 0.4429765\ttotal: 21.9s\tremaining: 43.8s\n",
      "333:\tlearn: 0.4426555\ttotal: 21.9s\tremaining: 43.8s\n",
      "334:\tlearn: 0.4423297\ttotal: 22s\tremaining: 43.7s\n",
      "335:\tlearn: 0.4419756\ttotal: 22.1s\tremaining: 43.6s\n",
      "336:\tlearn: 0.4416689\ttotal: 22.1s\tremaining: 43.6s\n",
      "337:\tlearn: 0.4413502\ttotal: 22.2s\tremaining: 43.5s\n",
      "338:\tlearn: 0.4410526\ttotal: 22.3s\tremaining: 43.4s\n",
      "339:\tlearn: 0.4408168\ttotal: 22.3s\tremaining: 43.3s\n",
      "340:\tlearn: 0.4405011\ttotal: 22.4s\tremaining: 43.3s\n",
      "341:\tlearn: 0.4401170\ttotal: 22.5s\tremaining: 43.2s\n",
      "342:\tlearn: 0.4398951\ttotal: 22.5s\tremaining: 43.1s\n",
      "343:\tlearn: 0.4395993\ttotal: 22.6s\tremaining: 43.1s\n",
      "344:\tlearn: 0.4393444\ttotal: 22.7s\tremaining: 43s\n",
      "345:\tlearn: 0.4389951\ttotal: 22.7s\tremaining: 43s\n",
      "346:\tlearn: 0.4387014\ttotal: 22.8s\tremaining: 42.9s\n",
      "347:\tlearn: 0.4384336\ttotal: 22.8s\tremaining: 42.8s\n",
      "348:\tlearn: 0.4381458\ttotal: 22.9s\tremaining: 42.7s\n",
      "349:\tlearn: 0.4379200\ttotal: 23s\tremaining: 42.7s\n",
      "350:\tlearn: 0.4376593\ttotal: 23s\tremaining: 42.6s\n",
      "351:\tlearn: 0.4373647\ttotal: 23.1s\tremaining: 42.5s\n",
      "352:\tlearn: 0.4370874\ttotal: 23.2s\tremaining: 42.5s\n",
      "353:\tlearn: 0.4367639\ttotal: 23.2s\tremaining: 42.4s\n",
      "354:\tlearn: 0.4364755\ttotal: 23.3s\tremaining: 42.3s\n",
      "355:\tlearn: 0.4362357\ttotal: 23.4s\tremaining: 42.3s\n",
      "356:\tlearn: 0.4359993\ttotal: 23.4s\tremaining: 42.2s\n",
      "357:\tlearn: 0.4357495\ttotal: 23.5s\tremaining: 42.1s\n",
      "358:\tlearn: 0.4354379\ttotal: 23.6s\tremaining: 42.1s\n",
      "359:\tlearn: 0.4351703\ttotal: 23.6s\tremaining: 42s\n",
      "360:\tlearn: 0.4349142\ttotal: 23.7s\tremaining: 42s\n",
      "361:\tlearn: 0.4347085\ttotal: 23.8s\tremaining: 41.9s\n",
      "362:\tlearn: 0.4344208\ttotal: 23.8s\tremaining: 41.8s\n",
      "363:\tlearn: 0.4340913\ttotal: 23.9s\tremaining: 41.8s\n",
      "364:\tlearn: 0.4338060\ttotal: 24s\tremaining: 41.7s\n",
      "365:\tlearn: 0.4335158\ttotal: 24s\tremaining: 41.6s\n",
      "366:\tlearn: 0.4332173\ttotal: 24.1s\tremaining: 41.6s\n",
      "367:\tlearn: 0.4329882\ttotal: 24.2s\tremaining: 41.5s\n",
      "368:\tlearn: 0.4327281\ttotal: 24.2s\tremaining: 41.4s\n",
      "369:\tlearn: 0.4325283\ttotal: 24.3s\tremaining: 41.4s\n",
      "370:\tlearn: 0.4323156\ttotal: 24.3s\tremaining: 41.3s\n",
      "371:\tlearn: 0.4320919\ttotal: 24.4s\tremaining: 41.2s\n",
      "372:\tlearn: 0.4318063\ttotal: 24.5s\tremaining: 41.1s\n",
      "373:\tlearn: 0.4315366\ttotal: 24.5s\tremaining: 41.1s\n",
      "374:\tlearn: 0.4312639\ttotal: 24.6s\tremaining: 41s\n",
      "375:\tlearn: 0.4310014\ttotal: 24.7s\tremaining: 41s\n",
      "376:\tlearn: 0.4307162\ttotal: 24.7s\tremaining: 40.9s\n",
      "377:\tlearn: 0.4304713\ttotal: 24.8s\tremaining: 40.8s\n",
      "378:\tlearn: 0.4301657\ttotal: 24.9s\tremaining: 40.8s\n",
      "379:\tlearn: 0.4298595\ttotal: 24.9s\tremaining: 40.7s\n",
      "380:\tlearn: 0.4295499\ttotal: 25s\tremaining: 40.6s\n",
      "381:\tlearn: 0.4292911\ttotal: 25.1s\tremaining: 40.6s\n",
      "382:\tlearn: 0.4290609\ttotal: 25.1s\tremaining: 40.5s\n",
      "383:\tlearn: 0.4288351\ttotal: 25.2s\tremaining: 40.4s\n",
      "384:\tlearn: 0.4285469\ttotal: 25.3s\tremaining: 40.4s\n",
      "385:\tlearn: 0.4282438\ttotal: 25.3s\tremaining: 40.3s\n",
      "386:\tlearn: 0.4279779\ttotal: 25.4s\tremaining: 40.2s\n",
      "387:\tlearn: 0.4276848\ttotal: 25.5s\tremaining: 40.2s\n",
      "388:\tlearn: 0.4274634\ttotal: 25.5s\tremaining: 40.1s\n",
      "389:\tlearn: 0.4272120\ttotal: 25.6s\tremaining: 40s\n",
      "390:\tlearn: 0.4268530\ttotal: 25.7s\tremaining: 40s\n",
      "391:\tlearn: 0.4266282\ttotal: 25.7s\tremaining: 39.9s\n",
      "392:\tlearn: 0.4263741\ttotal: 25.8s\tremaining: 39.8s\n",
      "393:\tlearn: 0.4260701\ttotal: 25.9s\tremaining: 39.8s\n",
      "394:\tlearn: 0.4257995\ttotal: 25.9s\tremaining: 39.7s\n",
      "395:\tlearn: 0.4255082\ttotal: 26s\tremaining: 39.6s\n",
      "396:\tlearn: 0.4252792\ttotal: 26s\tremaining: 39.6s\n",
      "397:\tlearn: 0.4250138\ttotal: 26.1s\tremaining: 39.5s\n",
      "398:\tlearn: 0.4247345\ttotal: 26.2s\tremaining: 39.4s\n",
      "399:\tlearn: 0.4245230\ttotal: 26.2s\tremaining: 39.4s\n",
      "400:\tlearn: 0.4242514\ttotal: 26.3s\tremaining: 39.3s\n",
      "401:\tlearn: 0.4239371\ttotal: 26.4s\tremaining: 39.2s\n",
      "402:\tlearn: 0.4236506\ttotal: 26.4s\tremaining: 39.2s\n",
      "403:\tlearn: 0.4233831\ttotal: 26.5s\tremaining: 39.1s\n",
      "404:\tlearn: 0.4231419\ttotal: 26.6s\tremaining: 39s\n",
      "405:\tlearn: 0.4228440\ttotal: 26.6s\tremaining: 39s\n",
      "406:\tlearn: 0.4225323\ttotal: 26.7s\tremaining: 38.9s\n",
      "407:\tlearn: 0.4222643\ttotal: 26.8s\tremaining: 38.8s\n",
      "408:\tlearn: 0.4220363\ttotal: 26.8s\tremaining: 38.8s\n",
      "409:\tlearn: 0.4217853\ttotal: 26.9s\tremaining: 38.7s\n",
      "410:\tlearn: 0.4214883\ttotal: 27s\tremaining: 38.6s\n",
      "411:\tlearn: 0.4211701\ttotal: 27s\tremaining: 38.6s\n",
      "412:\tlearn: 0.4207788\ttotal: 27.1s\tremaining: 38.5s\n",
      "413:\tlearn: 0.4205335\ttotal: 27.2s\tremaining: 38.4s\n",
      "414:\tlearn: 0.4202789\ttotal: 27.2s\tremaining: 38.4s\n",
      "415:\tlearn: 0.4200162\ttotal: 27.3s\tremaining: 38.3s\n",
      "416:\tlearn: 0.4197052\ttotal: 27.4s\tremaining: 38.2s\n",
      "417:\tlearn: 0.4194897\ttotal: 27.4s\tremaining: 38.2s\n",
      "418:\tlearn: 0.4192493\ttotal: 27.5s\tremaining: 38.1s\n",
      "419:\tlearn: 0.4189774\ttotal: 27.5s\tremaining: 38s\n",
      "420:\tlearn: 0.4186373\ttotal: 27.6s\tremaining: 38s\n",
      "421:\tlearn: 0.4183414\ttotal: 27.7s\tremaining: 37.9s\n",
      "422:\tlearn: 0.4180651\ttotal: 27.8s\tremaining: 37.9s\n",
      "423:\tlearn: 0.4177816\ttotal: 27.8s\tremaining: 37.8s\n",
      "424:\tlearn: 0.4174965\ttotal: 27.9s\tremaining: 37.7s\n",
      "425:\tlearn: 0.4172708\ttotal: 27.9s\tremaining: 37.6s\n",
      "426:\tlearn: 0.4169987\ttotal: 28s\tremaining: 37.6s\n",
      "427:\tlearn: 0.4167314\ttotal: 28.1s\tremaining: 37.5s\n",
      "428:\tlearn: 0.4165045\ttotal: 28.1s\tremaining: 37.4s\n",
      "429:\tlearn: 0.4162623\ttotal: 28.2s\tremaining: 37.4s\n",
      "430:\tlearn: 0.4159640\ttotal: 28.3s\tremaining: 37.3s\n",
      "431:\tlearn: 0.4157233\ttotal: 28.3s\tremaining: 37.2s\n",
      "432:\tlearn: 0.4154554\ttotal: 28.4s\tremaining: 37.2s\n",
      "433:\tlearn: 0.4152242\ttotal: 28.5s\tremaining: 37.1s\n",
      "434:\tlearn: 0.4149295\ttotal: 28.5s\tremaining: 37s\n",
      "435:\tlearn: 0.4146903\ttotal: 28.6s\tremaining: 37s\n",
      "436:\tlearn: 0.4144276\ttotal: 28.7s\tremaining: 36.9s\n",
      "437:\tlearn: 0.4141729\ttotal: 28.7s\tremaining: 36.9s\n",
      "438:\tlearn: 0.4139190\ttotal: 28.8s\tremaining: 36.8s\n",
      "439:\tlearn: 0.4136230\ttotal: 28.9s\tremaining: 36.8s\n",
      "440:\tlearn: 0.4133088\ttotal: 28.9s\tremaining: 36.7s\n",
      "441:\tlearn: 0.4130181\ttotal: 29s\tremaining: 36.6s\n",
      "442:\tlearn: 0.4127617\ttotal: 29.1s\tremaining: 36.6s\n",
      "443:\tlearn: 0.4125430\ttotal: 29.1s\tremaining: 36.5s\n",
      "444:\tlearn: 0.4122846\ttotal: 29.2s\tremaining: 36.4s\n",
      "445:\tlearn: 0.4120289\ttotal: 29.3s\tremaining: 36.4s\n",
      "446:\tlearn: 0.4117841\ttotal: 29.3s\tremaining: 36.3s\n",
      "447:\tlearn: 0.4115330\ttotal: 29.4s\tremaining: 36.2s\n",
      "448:\tlearn: 0.4112509\ttotal: 29.5s\tremaining: 36.2s\n",
      "449:\tlearn: 0.4110482\ttotal: 29.5s\tremaining: 36.1s\n",
      "450:\tlearn: 0.4107260\ttotal: 29.6s\tremaining: 36s\n",
      "451:\tlearn: 0.4104189\ttotal: 29.7s\tremaining: 36s\n",
      "452:\tlearn: 0.4101659\ttotal: 29.7s\tremaining: 35.9s\n",
      "453:\tlearn: 0.4099313\ttotal: 29.8s\tremaining: 35.8s\n",
      "454:\tlearn: 0.4095685\ttotal: 29.9s\tremaining: 35.8s\n",
      "455:\tlearn: 0.4093166\ttotal: 29.9s\tremaining: 35.7s\n",
      "456:\tlearn: 0.4090590\ttotal: 30s\tremaining: 35.6s\n",
      "457:\tlearn: 0.4088216\ttotal: 30.1s\tremaining: 35.6s\n",
      "458:\tlearn: 0.4085461\ttotal: 30.1s\tremaining: 35.5s\n",
      "459:\tlearn: 0.4083057\ttotal: 30.2s\tremaining: 35.5s\n",
      "460:\tlearn: 0.4080848\ttotal: 30.3s\tremaining: 35.4s\n",
      "461:\tlearn: 0.4078336\ttotal: 30.3s\tremaining: 35.3s\n",
      "462:\tlearn: 0.4075950\ttotal: 30.4s\tremaining: 35.2s\n",
      "463:\tlearn: 0.4073299\ttotal: 30.5s\tremaining: 35.2s\n",
      "464:\tlearn: 0.4070489\ttotal: 30.5s\tremaining: 35.1s\n",
      "465:\tlearn: 0.4067901\ttotal: 30.6s\tremaining: 35.1s\n",
      "466:\tlearn: 0.4065284\ttotal: 30.7s\tremaining: 35s\n",
      "467:\tlearn: 0.4063002\ttotal: 30.7s\tremaining: 34.9s\n",
      "468:\tlearn: 0.4060477\ttotal: 30.8s\tremaining: 34.9s\n",
      "469:\tlearn: 0.4058072\ttotal: 30.9s\tremaining: 34.8s\n",
      "470:\tlearn: 0.4055507\ttotal: 30.9s\tremaining: 34.7s\n",
      "471:\tlearn: 0.4052903\ttotal: 31s\tremaining: 34.7s\n",
      "472:\tlearn: 0.4050633\ttotal: 31.1s\tremaining: 34.6s\n",
      "473:\tlearn: 0.4047823\ttotal: 31.1s\tremaining: 34.5s\n",
      "474:\tlearn: 0.4045184\ttotal: 31.2s\tremaining: 34.5s\n",
      "475:\tlearn: 0.4042760\ttotal: 31.2s\tremaining: 34.4s\n",
      "476:\tlearn: 0.4039909\ttotal: 31.3s\tremaining: 34.3s\n",
      "477:\tlearn: 0.4037526\ttotal: 31.4s\tremaining: 34.3s\n",
      "478:\tlearn: 0.4034730\ttotal: 31.4s\tremaining: 34.2s\n",
      "479:\tlearn: 0.4032408\ttotal: 31.5s\tremaining: 34.1s\n",
      "480:\tlearn: 0.4029258\ttotal: 31.6s\tremaining: 34.1s\n",
      "481:\tlearn: 0.4026044\ttotal: 31.6s\tremaining: 34s\n",
      "482:\tlearn: 0.4023555\ttotal: 31.7s\tremaining: 33.9s\n",
      "483:\tlearn: 0.4021205\ttotal: 31.8s\tremaining: 33.9s\n",
      "484:\tlearn: 0.4018792\ttotal: 31.9s\tremaining: 33.8s\n",
      "485:\tlearn: 0.4016126\ttotal: 31.9s\tremaining: 33.8s\n",
      "486:\tlearn: 0.4013303\ttotal: 32s\tremaining: 33.7s\n",
      "487:\tlearn: 0.4010865\ttotal: 32.1s\tremaining: 33.6s\n",
      "488:\tlearn: 0.4008377\ttotal: 32.1s\tremaining: 33.6s\n",
      "489:\tlearn: 0.4006003\ttotal: 32.2s\tremaining: 33.5s\n",
      "490:\tlearn: 0.4003701\ttotal: 32.2s\tremaining: 33.4s\n",
      "491:\tlearn: 0.4001311\ttotal: 32.3s\tremaining: 33.4s\n",
      "492:\tlearn: 0.3999089\ttotal: 32.4s\tremaining: 33.3s\n",
      "493:\tlearn: 0.3996434\ttotal: 32.4s\tremaining: 33.2s\n",
      "494:\tlearn: 0.3994259\ttotal: 32.5s\tremaining: 33.2s\n",
      "495:\tlearn: 0.3992193\ttotal: 32.6s\tremaining: 33.1s\n",
      "496:\tlearn: 0.3989781\ttotal: 32.6s\tremaining: 33s\n",
      "497:\tlearn: 0.3987367\ttotal: 32.7s\tremaining: 33s\n",
      "498:\tlearn: 0.3985203\ttotal: 32.8s\tremaining: 32.9s\n",
      "499:\tlearn: 0.3982900\ttotal: 32.8s\tremaining: 32.8s\n",
      "500:\tlearn: 0.3980641\ttotal: 32.9s\tremaining: 32.8s\n",
      "501:\tlearn: 0.3978064\ttotal: 33s\tremaining: 32.7s\n",
      "502:\tlearn: 0.3975405\ttotal: 33s\tremaining: 32.6s\n",
      "503:\tlearn: 0.3973045\ttotal: 33.1s\tremaining: 32.6s\n",
      "504:\tlearn: 0.3970594\ttotal: 33.2s\tremaining: 32.5s\n",
      "505:\tlearn: 0.3968340\ttotal: 33.2s\tremaining: 32.4s\n",
      "506:\tlearn: 0.3965871\ttotal: 33.3s\tremaining: 32.4s\n",
      "507:\tlearn: 0.3963535\ttotal: 33.4s\tremaining: 32.3s\n",
      "508:\tlearn: 0.3960357\ttotal: 33.4s\tremaining: 32.2s\n",
      "509:\tlearn: 0.3957729\ttotal: 33.5s\tremaining: 32.2s\n",
      "510:\tlearn: 0.3955001\ttotal: 33.5s\tremaining: 32.1s\n",
      "511:\tlearn: 0.3952853\ttotal: 33.6s\tremaining: 32s\n",
      "512:\tlearn: 0.3951439\ttotal: 33.7s\tremaining: 32s\n",
      "513:\tlearn: 0.3949434\ttotal: 33.7s\tremaining: 31.9s\n",
      "514:\tlearn: 0.3946893\ttotal: 33.8s\tremaining: 31.8s\n",
      "515:\tlearn: 0.3944279\ttotal: 33.9s\tremaining: 31.8s\n",
      "516:\tlearn: 0.3941964\ttotal: 34s\tremaining: 31.7s\n",
      "517:\tlearn: 0.3939746\ttotal: 34s\tremaining: 31.7s\n",
      "518:\tlearn: 0.3937676\ttotal: 34.1s\tremaining: 31.6s\n",
      "519:\tlearn: 0.3935486\ttotal: 34.1s\tremaining: 31.5s\n",
      "520:\tlearn: 0.3933391\ttotal: 34.2s\tremaining: 31.4s\n",
      "521:\tlearn: 0.3930851\ttotal: 34.3s\tremaining: 31.4s\n",
      "522:\tlearn: 0.3928210\ttotal: 34.3s\tremaining: 31.3s\n",
      "523:\tlearn: 0.3926116\ttotal: 34.4s\tremaining: 31.3s\n",
      "524:\tlearn: 0.3923312\ttotal: 34.5s\tremaining: 31.2s\n",
      "525:\tlearn: 0.3920952\ttotal: 34.5s\tremaining: 31.1s\n",
      "526:\tlearn: 0.3918570\ttotal: 34.6s\tremaining: 31.1s\n",
      "527:\tlearn: 0.3916450\ttotal: 34.7s\tremaining: 31s\n",
      "528:\tlearn: 0.3913819\ttotal: 34.7s\tremaining: 30.9s\n",
      "529:\tlearn: 0.3911084\ttotal: 34.8s\tremaining: 30.9s\n",
      "530:\tlearn: 0.3908801\ttotal: 34.9s\tremaining: 30.8s\n",
      "531:\tlearn: 0.3906501\ttotal: 34.9s\tremaining: 30.7s\n",
      "532:\tlearn: 0.3904225\ttotal: 35s\tremaining: 30.7s\n",
      "533:\tlearn: 0.3902083\ttotal: 35.1s\tremaining: 30.6s\n",
      "534:\tlearn: 0.3899858\ttotal: 35.1s\tremaining: 30.5s\n",
      "535:\tlearn: 0.3898074\ttotal: 35.2s\tremaining: 30.5s\n",
      "536:\tlearn: 0.3895963\ttotal: 35.3s\tremaining: 30.4s\n",
      "537:\tlearn: 0.3894006\ttotal: 35.3s\tremaining: 30.3s\n",
      "538:\tlearn: 0.3891938\ttotal: 35.4s\tremaining: 30.3s\n",
      "539:\tlearn: 0.3889560\ttotal: 35.5s\tremaining: 30.2s\n",
      "540:\tlearn: 0.3887295\ttotal: 35.5s\tremaining: 30.1s\n",
      "541:\tlearn: 0.3885674\ttotal: 35.6s\tremaining: 30.1s\n",
      "542:\tlearn: 0.3883188\ttotal: 35.6s\tremaining: 30s\n",
      "543:\tlearn: 0.3881208\ttotal: 35.7s\tremaining: 29.9s\n",
      "544:\tlearn: 0.3879433\ttotal: 35.8s\tremaining: 29.9s\n",
      "545:\tlearn: 0.3877426\ttotal: 35.8s\tremaining: 29.8s\n",
      "546:\tlearn: 0.3875534\ttotal: 35.9s\tremaining: 29.7s\n",
      "547:\tlearn: 0.3873812\ttotal: 36s\tremaining: 29.7s\n",
      "548:\tlearn: 0.3871119\ttotal: 36s\tremaining: 29.6s\n",
      "549:\tlearn: 0.3868461\ttotal: 36.1s\tremaining: 29.5s\n",
      "550:\tlearn: 0.3866403\ttotal: 36.2s\tremaining: 29.5s\n",
      "551:\tlearn: 0.3863829\ttotal: 36.2s\tremaining: 29.4s\n",
      "552:\tlearn: 0.3861992\ttotal: 36.3s\tremaining: 29.3s\n",
      "553:\tlearn: 0.3859983\ttotal: 36.4s\tremaining: 29.3s\n",
      "554:\tlearn: 0.3857382\ttotal: 36.4s\tremaining: 29.2s\n",
      "555:\tlearn: 0.3855106\ttotal: 36.5s\tremaining: 29.1s\n",
      "556:\tlearn: 0.3852976\ttotal: 36.5s\tremaining: 29.1s\n",
      "557:\tlearn: 0.3850791\ttotal: 36.6s\tremaining: 29s\n",
      "558:\tlearn: 0.3848359\ttotal: 36.7s\tremaining: 28.9s\n",
      "559:\tlearn: 0.3845956\ttotal: 36.7s\tremaining: 28.9s\n",
      "560:\tlearn: 0.3843813\ttotal: 36.8s\tremaining: 28.8s\n",
      "561:\tlearn: 0.3841747\ttotal: 36.9s\tremaining: 28.7s\n",
      "562:\tlearn: 0.3839715\ttotal: 37s\tremaining: 28.7s\n",
      "563:\tlearn: 0.3837077\ttotal: 37s\tremaining: 28.6s\n",
      "564:\tlearn: 0.3834760\ttotal: 37.1s\tremaining: 28.5s\n",
      "565:\tlearn: 0.3833154\ttotal: 37.1s\tremaining: 28.5s\n",
      "566:\tlearn: 0.3831012\ttotal: 37.2s\tremaining: 28.4s\n",
      "567:\tlearn: 0.3828591\ttotal: 37.3s\tremaining: 28.4s\n",
      "568:\tlearn: 0.3826418\ttotal: 37.4s\tremaining: 28.3s\n",
      "569:\tlearn: 0.3824257\ttotal: 37.4s\tremaining: 28.2s\n",
      "570:\tlearn: 0.3822266\ttotal: 37.5s\tremaining: 28.2s\n",
      "571:\tlearn: 0.3820119\ttotal: 37.6s\tremaining: 28.1s\n",
      "572:\tlearn: 0.3818204\ttotal: 37.6s\tremaining: 28s\n",
      "573:\tlearn: 0.3816572\ttotal: 37.7s\tremaining: 28s\n",
      "574:\tlearn: 0.3814724\ttotal: 37.7s\tremaining: 27.9s\n",
      "575:\tlearn: 0.3812661\ttotal: 37.8s\tremaining: 27.8s\n",
      "576:\tlearn: 0.3810446\ttotal: 37.9s\tremaining: 27.8s\n",
      "577:\tlearn: 0.3808333\ttotal: 38s\tremaining: 27.7s\n",
      "578:\tlearn: 0.3805781\ttotal: 38s\tremaining: 27.6s\n",
      "579:\tlearn: 0.3803730\ttotal: 38.1s\tremaining: 27.6s\n",
      "580:\tlearn: 0.3801610\ttotal: 38.1s\tremaining: 27.5s\n",
      "581:\tlearn: 0.3799738\ttotal: 38.2s\tremaining: 27.4s\n",
      "582:\tlearn: 0.3797709\ttotal: 38.3s\tremaining: 27.4s\n",
      "583:\tlearn: 0.3795399\ttotal: 38.3s\tremaining: 27.3s\n",
      "584:\tlearn: 0.3793732\ttotal: 38.4s\tremaining: 27.2s\n",
      "585:\tlearn: 0.3791762\ttotal: 38.5s\tremaining: 27.2s\n",
      "586:\tlearn: 0.3789668\ttotal: 38.5s\tremaining: 27.1s\n",
      "587:\tlearn: 0.3787576\ttotal: 38.6s\tremaining: 27s\n",
      "588:\tlearn: 0.3785793\ttotal: 38.6s\tremaining: 27s\n",
      "589:\tlearn: 0.3782556\ttotal: 38.7s\tremaining: 26.9s\n",
      "590:\tlearn: 0.3780215\ttotal: 38.8s\tremaining: 26.8s\n",
      "591:\tlearn: 0.3778395\ttotal: 38.8s\tremaining: 26.8s\n",
      "592:\tlearn: 0.3776161\ttotal: 38.9s\tremaining: 26.7s\n",
      "593:\tlearn: 0.3773957\ttotal: 39s\tremaining: 26.6s\n",
      "594:\tlearn: 0.3772030\ttotal: 39s\tremaining: 26.6s\n",
      "595:\tlearn: 0.3770851\ttotal: 39.1s\tremaining: 26.5s\n",
      "596:\tlearn: 0.3769331\ttotal: 39.2s\tremaining: 26.4s\n",
      "597:\tlearn: 0.3767363\ttotal: 39.2s\tremaining: 26.4s\n",
      "598:\tlearn: 0.3765182\ttotal: 39.3s\tremaining: 26.3s\n",
      "599:\tlearn: 0.3762991\ttotal: 39.4s\tremaining: 26.2s\n",
      "600:\tlearn: 0.3760850\ttotal: 39.4s\tremaining: 26.2s\n",
      "601:\tlearn: 0.3759010\ttotal: 39.5s\tremaining: 26.1s\n",
      "602:\tlearn: 0.3756998\ttotal: 39.6s\tremaining: 26s\n",
      "603:\tlearn: 0.3754971\ttotal: 39.6s\tremaining: 26s\n",
      "604:\tlearn: 0.3752652\ttotal: 39.7s\tremaining: 25.9s\n",
      "605:\tlearn: 0.3750538\ttotal: 39.8s\tremaining: 25.8s\n",
      "606:\tlearn: 0.3748648\ttotal: 39.8s\tremaining: 25.8s\n",
      "607:\tlearn: 0.3746453\ttotal: 39.9s\tremaining: 25.7s\n",
      "608:\tlearn: 0.3744421\ttotal: 40s\tremaining: 25.7s\n",
      "609:\tlearn: 0.3741817\ttotal: 40s\tremaining: 25.6s\n",
      "610:\tlearn: 0.3739890\ttotal: 40.1s\tremaining: 25.5s\n",
      "611:\tlearn: 0.3737653\ttotal: 40.2s\tremaining: 25.5s\n",
      "612:\tlearn: 0.3735560\ttotal: 40.2s\tremaining: 25.4s\n",
      "613:\tlearn: 0.3733683\ttotal: 40.3s\tremaining: 25.3s\n",
      "614:\tlearn: 0.3731374\ttotal: 40.4s\tremaining: 25.3s\n",
      "615:\tlearn: 0.3729519\ttotal: 40.4s\tremaining: 25.2s\n",
      "616:\tlearn: 0.3727645\ttotal: 40.5s\tremaining: 25.1s\n",
      "617:\tlearn: 0.3725512\ttotal: 40.6s\tremaining: 25.1s\n",
      "618:\tlearn: 0.3723607\ttotal: 40.6s\tremaining: 25s\n",
      "619:\tlearn: 0.3721874\ttotal: 40.7s\tremaining: 24.9s\n",
      "620:\tlearn: 0.3720046\ttotal: 40.8s\tremaining: 24.9s\n",
      "621:\tlearn: 0.3718113\ttotal: 40.8s\tremaining: 24.8s\n",
      "622:\tlearn: 0.3716023\ttotal: 40.9s\tremaining: 24.7s\n",
      "623:\tlearn: 0.3713192\ttotal: 40.9s\tremaining: 24.7s\n",
      "624:\tlearn: 0.3711364\ttotal: 41s\tremaining: 24.6s\n",
      "625:\tlearn: 0.3709518\ttotal: 41.1s\tremaining: 24.5s\n",
      "626:\tlearn: 0.3707528\ttotal: 41.1s\tremaining: 24.5s\n",
      "627:\tlearn: 0.3705441\ttotal: 41.2s\tremaining: 24.4s\n",
      "628:\tlearn: 0.3703764\ttotal: 41.3s\tremaining: 24.3s\n",
      "629:\tlearn: 0.3701710\ttotal: 41.3s\tremaining: 24.3s\n",
      "630:\tlearn: 0.3699396\ttotal: 41.4s\tremaining: 24.2s\n",
      "631:\tlearn: 0.3697394\ttotal: 41.5s\tremaining: 24.1s\n",
      "632:\tlearn: 0.3695148\ttotal: 41.5s\tremaining: 24.1s\n",
      "633:\tlearn: 0.3693246\ttotal: 41.6s\tremaining: 24s\n",
      "634:\tlearn: 0.3691165\ttotal: 41.7s\tremaining: 23.9s\n",
      "635:\tlearn: 0.3689157\ttotal: 41.7s\tremaining: 23.9s\n",
      "636:\tlearn: 0.3687342\ttotal: 41.8s\tremaining: 23.8s\n",
      "637:\tlearn: 0.3684623\ttotal: 41.9s\tremaining: 23.8s\n",
      "638:\tlearn: 0.3682531\ttotal: 41.9s\tremaining: 23.7s\n",
      "639:\tlearn: 0.3680631\ttotal: 42s\tremaining: 23.6s\n",
      "640:\tlearn: 0.3678549\ttotal: 42.1s\tremaining: 23.6s\n",
      "641:\tlearn: 0.3676616\ttotal: 42.1s\tremaining: 23.5s\n",
      "642:\tlearn: 0.3674875\ttotal: 42.2s\tremaining: 23.4s\n",
      "643:\tlearn: 0.3672869\ttotal: 42.3s\tremaining: 23.4s\n",
      "644:\tlearn: 0.3670958\ttotal: 42.3s\tremaining: 23.3s\n",
      "645:\tlearn: 0.3668754\ttotal: 42.4s\tremaining: 23.2s\n",
      "646:\tlearn: 0.3666980\ttotal: 42.5s\tremaining: 23.2s\n",
      "647:\tlearn: 0.3665363\ttotal: 42.5s\tremaining: 23.1s\n",
      "648:\tlearn: 0.3664221\ttotal: 42.6s\tremaining: 23s\n",
      "649:\tlearn: 0.3663277\ttotal: 42.7s\tremaining: 23s\n",
      "650:\tlearn: 0.3661617\ttotal: 42.7s\tremaining: 22.9s\n",
      "651:\tlearn: 0.3659757\ttotal: 42.8s\tremaining: 22.8s\n",
      "652:\tlearn: 0.3657820\ttotal: 42.9s\tremaining: 22.8s\n",
      "653:\tlearn: 0.3656423\ttotal: 42.9s\tremaining: 22.7s\n",
      "654:\tlearn: 0.3654618\ttotal: 43s\tremaining: 22.7s\n",
      "655:\tlearn: 0.3652723\ttotal: 43.1s\tremaining: 22.6s\n",
      "656:\tlearn: 0.3650653\ttotal: 43.1s\tremaining: 22.5s\n",
      "657:\tlearn: 0.3648393\ttotal: 43.2s\tremaining: 22.5s\n",
      "658:\tlearn: 0.3646196\ttotal: 43.3s\tremaining: 22.4s\n",
      "659:\tlearn: 0.3644217\ttotal: 43.3s\tremaining: 22.3s\n",
      "660:\tlearn: 0.3642261\ttotal: 43.4s\tremaining: 22.3s\n",
      "661:\tlearn: 0.3640349\ttotal: 43.5s\tremaining: 22.2s\n",
      "662:\tlearn: 0.3638403\ttotal: 43.5s\tremaining: 22.1s\n",
      "663:\tlearn: 0.3636733\ttotal: 43.6s\tremaining: 22.1s\n",
      "664:\tlearn: 0.3634800\ttotal: 43.7s\tremaining: 22s\n",
      "665:\tlearn: 0.3633109\ttotal: 43.7s\tremaining: 21.9s\n",
      "666:\tlearn: 0.3632111\ttotal: 43.8s\tremaining: 21.9s\n",
      "667:\tlearn: 0.3629729\ttotal: 43.9s\tremaining: 21.8s\n",
      "668:\tlearn: 0.3627897\ttotal: 43.9s\tremaining: 21.7s\n",
      "669:\tlearn: 0.3626039\ttotal: 44s\tremaining: 21.7s\n",
      "670:\tlearn: 0.3624239\ttotal: 44.1s\tremaining: 21.6s\n",
      "671:\tlearn: 0.3623449\ttotal: 44.1s\tremaining: 21.5s\n",
      "672:\tlearn: 0.3621641\ttotal: 44.2s\tremaining: 21.5s\n",
      "673:\tlearn: 0.3619884\ttotal: 44.2s\tremaining: 21.4s\n",
      "674:\tlearn: 0.3618290\ttotal: 44.3s\tremaining: 21.3s\n",
      "675:\tlearn: 0.3616613\ttotal: 44.4s\tremaining: 21.3s\n",
      "676:\tlearn: 0.3614972\ttotal: 44.4s\tremaining: 21.2s\n",
      "677:\tlearn: 0.3613264\ttotal: 44.5s\tremaining: 21.1s\n",
      "678:\tlearn: 0.3611699\ttotal: 44.6s\tremaining: 21.1s\n",
      "679:\tlearn: 0.3609857\ttotal: 44.6s\tremaining: 21s\n",
      "680:\tlearn: 0.3607756\ttotal: 44.7s\tremaining: 20.9s\n",
      "681:\tlearn: 0.3606220\ttotal: 44.8s\tremaining: 20.9s\n",
      "682:\tlearn: 0.3604665\ttotal: 44.8s\tremaining: 20.8s\n",
      "683:\tlearn: 0.3603026\ttotal: 44.9s\tremaining: 20.7s\n",
      "684:\tlearn: 0.3601061\ttotal: 45s\tremaining: 20.7s\n",
      "685:\tlearn: 0.3599064\ttotal: 45s\tremaining: 20.6s\n",
      "686:\tlearn: 0.3597238\ttotal: 45.1s\tremaining: 20.6s\n",
      "687:\tlearn: 0.3595636\ttotal: 45.2s\tremaining: 20.5s\n",
      "688:\tlearn: 0.3593864\ttotal: 45.2s\tremaining: 20.4s\n",
      "689:\tlearn: 0.3592030\ttotal: 45.3s\tremaining: 20.4s\n",
      "690:\tlearn: 0.3590185\ttotal: 45.4s\tremaining: 20.3s\n",
      "691:\tlearn: 0.3588415\ttotal: 45.4s\tremaining: 20.2s\n",
      "692:\tlearn: 0.3586584\ttotal: 45.5s\tremaining: 20.2s\n",
      "693:\tlearn: 0.3584739\ttotal: 45.6s\tremaining: 20.1s\n",
      "694:\tlearn: 0.3582734\ttotal: 45.6s\tremaining: 20s\n",
      "695:\tlearn: 0.3581002\ttotal: 45.7s\tremaining: 20s\n",
      "696:\tlearn: 0.3579202\ttotal: 45.8s\tremaining: 19.9s\n",
      "697:\tlearn: 0.3577007\ttotal: 45.8s\tremaining: 19.8s\n",
      "698:\tlearn: 0.3575328\ttotal: 45.9s\tremaining: 19.8s\n",
      "699:\tlearn: 0.3573696\ttotal: 46s\tremaining: 19.7s\n",
      "700:\tlearn: 0.3572015\ttotal: 46s\tremaining: 19.6s\n",
      "701:\tlearn: 0.3570047\ttotal: 46.1s\tremaining: 19.6s\n",
      "702:\tlearn: 0.3569229\ttotal: 46.2s\tremaining: 19.5s\n",
      "703:\tlearn: 0.3567629\ttotal: 46.2s\tremaining: 19.4s\n",
      "704:\tlearn: 0.3566227\ttotal: 46.3s\tremaining: 19.4s\n",
      "705:\tlearn: 0.3564349\ttotal: 46.4s\tremaining: 19.3s\n",
      "706:\tlearn: 0.3562984\ttotal: 46.4s\tremaining: 19.2s\n",
      "707:\tlearn: 0.3561090\ttotal: 46.5s\tremaining: 19.2s\n",
      "708:\tlearn: 0.3559360\ttotal: 46.6s\tremaining: 19.1s\n",
      "709:\tlearn: 0.3557854\ttotal: 46.6s\tremaining: 19s\n",
      "710:\tlearn: 0.3556086\ttotal: 46.7s\tremaining: 19s\n",
      "711:\tlearn: 0.3554405\ttotal: 46.8s\tremaining: 18.9s\n",
      "712:\tlearn: 0.3552414\ttotal: 46.8s\tremaining: 18.8s\n",
      "713:\tlearn: 0.3550504\ttotal: 46.9s\tremaining: 18.8s\n",
      "714:\tlearn: 0.3548310\ttotal: 47s\tremaining: 18.7s\n",
      "715:\tlearn: 0.3545946\ttotal: 47s\tremaining: 18.6s\n",
      "716:\tlearn: 0.3544164\ttotal: 47.1s\tremaining: 18.6s\n",
      "717:\tlearn: 0.3542436\ttotal: 47.1s\tremaining: 18.5s\n",
      "718:\tlearn: 0.3540927\ttotal: 47.2s\tremaining: 18.5s\n",
      "719:\tlearn: 0.3539248\ttotal: 47.3s\tremaining: 18.4s\n",
      "720:\tlearn: 0.3537725\ttotal: 47.3s\tremaining: 18.3s\n",
      "721:\tlearn: 0.3536250\ttotal: 47.4s\tremaining: 18.3s\n",
      "722:\tlearn: 0.3534666\ttotal: 47.5s\tremaining: 18.2s\n",
      "723:\tlearn: 0.3533164\ttotal: 47.5s\tremaining: 18.1s\n",
      "724:\tlearn: 0.3531578\ttotal: 47.6s\tremaining: 18.1s\n",
      "725:\tlearn: 0.3529843\ttotal: 47.7s\tremaining: 18s\n",
      "726:\tlearn: 0.3527837\ttotal: 47.7s\tremaining: 17.9s\n",
      "727:\tlearn: 0.3526024\ttotal: 47.8s\tremaining: 17.9s\n",
      "728:\tlearn: 0.3524413\ttotal: 47.9s\tremaining: 17.8s\n",
      "729:\tlearn: 0.3522718\ttotal: 47.9s\tremaining: 17.7s\n",
      "730:\tlearn: 0.3521405\ttotal: 48s\tremaining: 17.7s\n",
      "731:\tlearn: 0.3519758\ttotal: 48.1s\tremaining: 17.6s\n",
      "732:\tlearn: 0.3518113\ttotal: 48.1s\tremaining: 17.5s\n",
      "733:\tlearn: 0.3516642\ttotal: 48.2s\tremaining: 17.5s\n",
      "734:\tlearn: 0.3515102\ttotal: 48.3s\tremaining: 17.4s\n",
      "735:\tlearn: 0.3513303\ttotal: 48.3s\tremaining: 17.3s\n",
      "736:\tlearn: 0.3511674\ttotal: 48.4s\tremaining: 17.3s\n",
      "737:\tlearn: 0.3509960\ttotal: 48.5s\tremaining: 17.2s\n",
      "738:\tlearn: 0.3508153\ttotal: 48.5s\tremaining: 17.1s\n",
      "739:\tlearn: 0.3506613\ttotal: 48.6s\tremaining: 17.1s\n",
      "740:\tlearn: 0.3505045\ttotal: 48.6s\tremaining: 17s\n",
      "741:\tlearn: 0.3503354\ttotal: 48.7s\tremaining: 16.9s\n",
      "742:\tlearn: 0.3501670\ttotal: 48.8s\tremaining: 16.9s\n",
      "743:\tlearn: 0.3499870\ttotal: 48.8s\tremaining: 16.8s\n",
      "744:\tlearn: 0.3499085\ttotal: 48.9s\tremaining: 16.7s\n",
      "745:\tlearn: 0.3497234\ttotal: 49s\tremaining: 16.7s\n",
      "746:\tlearn: 0.3495529\ttotal: 49s\tremaining: 16.6s\n",
      "747:\tlearn: 0.3494709\ttotal: 49.1s\tremaining: 16.5s\n",
      "748:\tlearn: 0.3493022\ttotal: 49.2s\tremaining: 16.5s\n",
      "749:\tlearn: 0.3491849\ttotal: 49.3s\tremaining: 16.4s\n",
      "750:\tlearn: 0.3490169\ttotal: 49.3s\tremaining: 16.4s\n",
      "751:\tlearn: 0.3488247\ttotal: 49.4s\tremaining: 16.3s\n",
      "752:\tlearn: 0.3486302\ttotal: 49.4s\tremaining: 16.2s\n",
      "753:\tlearn: 0.3484356\ttotal: 49.5s\tremaining: 16.2s\n",
      "754:\tlearn: 0.3482782\ttotal: 49.6s\tremaining: 16.1s\n",
      "755:\tlearn: 0.3481953\ttotal: 49.6s\tremaining: 16s\n",
      "756:\tlearn: 0.3480484\ttotal: 49.7s\tremaining: 16s\n",
      "757:\tlearn: 0.3478923\ttotal: 49.8s\tremaining: 15.9s\n",
      "758:\tlearn: 0.3476920\ttotal: 49.8s\tremaining: 15.8s\n",
      "759:\tlearn: 0.3475070\ttotal: 49.9s\tremaining: 15.8s\n",
      "760:\tlearn: 0.3473260\ttotal: 50s\tremaining: 15.7s\n",
      "761:\tlearn: 0.3471618\ttotal: 50s\tremaining: 15.6s\n",
      "762:\tlearn: 0.3469324\ttotal: 50.1s\tremaining: 15.6s\n",
      "763:\tlearn: 0.3467756\ttotal: 50.2s\tremaining: 15.5s\n",
      "764:\tlearn: 0.3466497\ttotal: 50.2s\tremaining: 15.4s\n",
      "765:\tlearn: 0.3464872\ttotal: 50.3s\tremaining: 15.4s\n",
      "766:\tlearn: 0.3463334\ttotal: 50.4s\tremaining: 15.3s\n",
      "767:\tlearn: 0.3461418\ttotal: 50.4s\tremaining: 15.2s\n",
      "768:\tlearn: 0.3459787\ttotal: 50.5s\tremaining: 15.2s\n",
      "769:\tlearn: 0.3458279\ttotal: 50.6s\tremaining: 15.1s\n",
      "770:\tlearn: 0.3457312\ttotal: 50.6s\tremaining: 15s\n",
      "771:\tlearn: 0.3455822\ttotal: 50.7s\tremaining: 15s\n",
      "772:\tlearn: 0.3454090\ttotal: 50.7s\tremaining: 14.9s\n",
      "773:\tlearn: 0.3452009\ttotal: 50.8s\tremaining: 14.8s\n",
      "774:\tlearn: 0.3450438\ttotal: 50.9s\tremaining: 14.8s\n",
      "775:\tlearn: 0.3448340\ttotal: 50.9s\tremaining: 14.7s\n",
      "776:\tlearn: 0.3447031\ttotal: 51s\tremaining: 14.6s\n",
      "777:\tlearn: 0.3445562\ttotal: 51.1s\tremaining: 14.6s\n",
      "778:\tlearn: 0.3444076\ttotal: 51.1s\tremaining: 14.5s\n",
      "779:\tlearn: 0.3442407\ttotal: 51.2s\tremaining: 14.4s\n",
      "780:\tlearn: 0.3440792\ttotal: 51.3s\tremaining: 14.4s\n",
      "781:\tlearn: 0.3439462\ttotal: 51.3s\tremaining: 14.3s\n",
      "782:\tlearn: 0.3438890\ttotal: 51.4s\tremaining: 14.2s\n",
      "783:\tlearn: 0.3437159\ttotal: 51.5s\tremaining: 14.2s\n",
      "784:\tlearn: 0.3434807\ttotal: 51.5s\tremaining: 14.1s\n",
      "785:\tlearn: 0.3433453\ttotal: 51.6s\tremaining: 14s\n",
      "786:\tlearn: 0.3431884\ttotal: 51.6s\tremaining: 14s\n",
      "787:\tlearn: 0.3430270\ttotal: 51.7s\tremaining: 13.9s\n",
      "788:\tlearn: 0.3428565\ttotal: 51.8s\tremaining: 13.8s\n",
      "789:\tlearn: 0.3427005\ttotal: 51.8s\tremaining: 13.8s\n",
      "790:\tlearn: 0.3425714\ttotal: 51.9s\tremaining: 13.7s\n",
      "791:\tlearn: 0.3424261\ttotal: 52s\tremaining: 13.7s\n",
      "792:\tlearn: 0.3423049\ttotal: 52s\tremaining: 13.6s\n",
      "793:\tlearn: 0.3421537\ttotal: 52.1s\tremaining: 13.5s\n",
      "794:\tlearn: 0.3420453\ttotal: 52.2s\tremaining: 13.5s\n",
      "795:\tlearn: 0.3418740\ttotal: 52.3s\tremaining: 13.4s\n",
      "796:\tlearn: 0.3417900\ttotal: 52.3s\tremaining: 13.3s\n",
      "797:\tlearn: 0.3416597\ttotal: 52.4s\tremaining: 13.3s\n",
      "798:\tlearn: 0.3415788\ttotal: 52.4s\tremaining: 13.2s\n",
      "799:\tlearn: 0.3414021\ttotal: 52.5s\tremaining: 13.1s\n",
      "800:\tlearn: 0.3412653\ttotal: 52.6s\tremaining: 13.1s\n",
      "801:\tlearn: 0.3411442\ttotal: 52.6s\tremaining: 13s\n",
      "802:\tlearn: 0.3409383\ttotal: 52.7s\tremaining: 12.9s\n",
      "803:\tlearn: 0.3407685\ttotal: 52.8s\tremaining: 12.9s\n",
      "804:\tlearn: 0.3406402\ttotal: 52.8s\tremaining: 12.8s\n",
      "805:\tlearn: 0.3404591\ttotal: 52.9s\tremaining: 12.7s\n",
      "806:\tlearn: 0.3403351\ttotal: 53s\tremaining: 12.7s\n",
      "807:\tlearn: 0.3401794\ttotal: 53s\tremaining: 12.6s\n",
      "808:\tlearn: 0.3400324\ttotal: 53.1s\tremaining: 12.5s\n",
      "809:\tlearn: 0.3399049\ttotal: 53.2s\tremaining: 12.5s\n",
      "810:\tlearn: 0.3397543\ttotal: 53.2s\tremaining: 12.4s\n",
      "811:\tlearn: 0.3396339\ttotal: 53.3s\tremaining: 12.3s\n",
      "812:\tlearn: 0.3394846\ttotal: 53.4s\tremaining: 12.3s\n",
      "813:\tlearn: 0.3393077\ttotal: 53.4s\tremaining: 12.2s\n",
      "814:\tlearn: 0.3391358\ttotal: 53.5s\tremaining: 12.1s\n",
      "815:\tlearn: 0.3389937\ttotal: 53.6s\tremaining: 12.1s\n",
      "816:\tlearn: 0.3388552\ttotal: 53.6s\tremaining: 12s\n",
      "817:\tlearn: 0.3386901\ttotal: 53.7s\tremaining: 11.9s\n",
      "818:\tlearn: 0.3385038\ttotal: 53.8s\tremaining: 11.9s\n",
      "819:\tlearn: 0.3383490\ttotal: 53.8s\tremaining: 11.8s\n",
      "820:\tlearn: 0.3381824\ttotal: 53.9s\tremaining: 11.7s\n",
      "821:\tlearn: 0.3380240\ttotal: 53.9s\tremaining: 11.7s\n",
      "822:\tlearn: 0.3378763\ttotal: 54s\tremaining: 11.6s\n",
      "823:\tlearn: 0.3377170\ttotal: 54.1s\tremaining: 11.6s\n",
      "824:\tlearn: 0.3376530\ttotal: 54.1s\tremaining: 11.5s\n",
      "825:\tlearn: 0.3375255\ttotal: 54.2s\tremaining: 11.4s\n",
      "826:\tlearn: 0.3373688\ttotal: 54.3s\tremaining: 11.4s\n",
      "827:\tlearn: 0.3373080\ttotal: 54.4s\tremaining: 11.3s\n",
      "828:\tlearn: 0.3371609\ttotal: 54.4s\tremaining: 11.2s\n",
      "829:\tlearn: 0.3369945\ttotal: 54.5s\tremaining: 11.2s\n",
      "830:\tlearn: 0.3368645\ttotal: 54.6s\tremaining: 11.1s\n",
      "831:\tlearn: 0.3367361\ttotal: 54.6s\tremaining: 11s\n",
      "832:\tlearn: 0.3365789\ttotal: 54.7s\tremaining: 11s\n",
      "833:\tlearn: 0.3364326\ttotal: 54.8s\tremaining: 10.9s\n",
      "834:\tlearn: 0.3362648\ttotal: 54.8s\tremaining: 10.8s\n",
      "835:\tlearn: 0.3361400\ttotal: 54.9s\tremaining: 10.8s\n",
      "836:\tlearn: 0.3359724\ttotal: 55s\tremaining: 10.7s\n",
      "837:\tlearn: 0.3358327\ttotal: 55s\tremaining: 10.6s\n",
      "838:\tlearn: 0.3356806\ttotal: 55.1s\tremaining: 10.6s\n",
      "839:\tlearn: 0.3355306\ttotal: 55.2s\tremaining: 10.5s\n",
      "840:\tlearn: 0.3353730\ttotal: 55.2s\tremaining: 10.4s\n",
      "841:\tlearn: 0.3351914\ttotal: 55.5s\tremaining: 10.4s\n",
      "842:\tlearn: 0.3351063\ttotal: 55.7s\tremaining: 10.4s\n",
      "843:\tlearn: 0.3349610\ttotal: 56s\tremaining: 10.3s\n",
      "844:\tlearn: 0.3348300\ttotal: 56.2s\tremaining: 10.3s\n",
      "845:\tlearn: 0.3346835\ttotal: 56.4s\tremaining: 10.3s\n",
      "846:\tlearn: 0.3345396\ttotal: 56.5s\tremaining: 10.2s\n",
      "847:\tlearn: 0.3343774\ttotal: 56.6s\tremaining: 10.1s\n",
      "848:\tlearn: 0.3342611\ttotal: 56.7s\tremaining: 10.1s\n",
      "849:\tlearn: 0.3341293\ttotal: 56.8s\tremaining: 10s\n",
      "850:\tlearn: 0.3339857\ttotal: 56.8s\tremaining: 9.95s\n",
      "851:\tlearn: 0.3338186\ttotal: 56.9s\tremaining: 9.88s\n",
      "852:\tlearn: 0.3336931\ttotal: 57s\tremaining: 9.82s\n",
      "853:\tlearn: 0.3335499\ttotal: 57.2s\tremaining: 9.79s\n",
      "854:\tlearn: 0.3334243\ttotal: 57.5s\tremaining: 9.75s\n",
      "855:\tlearn: 0.3332885\ttotal: 57.7s\tremaining: 9.71s\n",
      "856:\tlearn: 0.3331516\ttotal: 58s\tremaining: 9.67s\n",
      "857:\tlearn: 0.3330228\ttotal: 58.1s\tremaining: 9.62s\n",
      "858:\tlearn: 0.3329044\ttotal: 58.3s\tremaining: 9.56s\n",
      "859:\tlearn: 0.3327103\ttotal: 58.4s\tremaining: 9.5s\n",
      "860:\tlearn: 0.3325747\ttotal: 58.4s\tremaining: 9.43s\n",
      "861:\tlearn: 0.3324313\ttotal: 58.5s\tremaining: 9.36s\n",
      "862:\tlearn: 0.3322799\ttotal: 58.5s\tremaining: 9.29s\n",
      "863:\tlearn: 0.3320807\ttotal: 58.6s\tremaining: 9.23s\n",
      "864:\tlearn: 0.3319203\ttotal: 58.7s\tremaining: 9.16s\n",
      "865:\tlearn: 0.3317675\ttotal: 58.9s\tremaining: 9.12s\n",
      "866:\tlearn: 0.3316339\ttotal: 59.2s\tremaining: 9.08s\n",
      "867:\tlearn: 0.3314997\ttotal: 59.4s\tremaining: 9.04s\n",
      "868:\tlearn: 0.3313566\ttotal: 59.6s\tremaining: 8.99s\n",
      "869:\tlearn: 0.3312284\ttotal: 59.8s\tremaining: 8.94s\n",
      "870:\tlearn: 0.3311366\ttotal: 60s\tremaining: 8.88s\n",
      "871:\tlearn: 0.3309811\ttotal: 1m\tremaining: 8.81s\n",
      "872:\tlearn: 0.3308140\ttotal: 1m\tremaining: 8.74s\n",
      "873:\tlearn: 0.3307662\ttotal: 1m\tremaining: 8.68s\n",
      "874:\tlearn: 0.3306524\ttotal: 1m\tremaining: 8.61s\n",
      "875:\tlearn: 0.3305387\ttotal: 1m\tremaining: 8.54s\n",
      "876:\tlearn: 0.3304400\ttotal: 1m\tremaining: 8.47s\n",
      "877:\tlearn: 0.3303437\ttotal: 1m\tremaining: 8.4s\n",
      "878:\tlearn: 0.3301748\ttotal: 1m\tremaining: 8.33s\n",
      "879:\tlearn: 0.3299910\ttotal: 1m\tremaining: 8.26s\n",
      "880:\tlearn: 0.3297797\ttotal: 1m\tremaining: 8.19s\n",
      "881:\tlearn: 0.3296235\ttotal: 1m\tremaining: 8.12s\n",
      "882:\tlearn: 0.3295142\ttotal: 1m\tremaining: 8.05s\n",
      "883:\tlearn: 0.3293936\ttotal: 1m\tremaining: 7.98s\n",
      "884:\tlearn: 0.3292620\ttotal: 1m\tremaining: 7.92s\n",
      "885:\tlearn: 0.3291885\ttotal: 1m\tremaining: 7.84s\n",
      "886:\tlearn: 0.3290530\ttotal: 1m 1s\tremaining: 7.78s\n",
      "887:\tlearn: 0.3288864\ttotal: 1m 1s\tremaining: 7.71s\n",
      "888:\tlearn: 0.3287881\ttotal: 1m 1s\tremaining: 7.64s\n",
      "889:\tlearn: 0.3287209\ttotal: 1m 1s\tremaining: 7.57s\n",
      "890:\tlearn: 0.3285461\ttotal: 1m 1s\tremaining: 7.5s\n",
      "891:\tlearn: 0.3283805\ttotal: 1m 1s\tremaining: 7.43s\n",
      "892:\tlearn: 0.3283029\ttotal: 1m 1s\tremaining: 7.36s\n",
      "893:\tlearn: 0.3281531\ttotal: 1m 1s\tremaining: 7.29s\n",
      "894:\tlearn: 0.3280150\ttotal: 1m 1s\tremaining: 7.22s\n",
      "895:\tlearn: 0.3279551\ttotal: 1m 1s\tremaining: 7.15s\n",
      "896:\tlearn: 0.3278017\ttotal: 1m 1s\tremaining: 7.08s\n",
      "897:\tlearn: 0.3276553\ttotal: 1m 1s\tremaining: 7.02s\n",
      "898:\tlearn: 0.3275041\ttotal: 1m 1s\tremaining: 6.95s\n",
      "899:\tlearn: 0.3273812\ttotal: 1m 1s\tremaining: 6.88s\n",
      "900:\tlearn: 0.3272542\ttotal: 1m 1s\tremaining: 6.81s\n",
      "901:\tlearn: 0.3271885\ttotal: 1m 2s\tremaining: 6.74s\n",
      "902:\tlearn: 0.3270356\ttotal: 1m 2s\tremaining: 6.67s\n",
      "903:\tlearn: 0.3268669\ttotal: 1m 2s\tremaining: 6.6s\n",
      "904:\tlearn: 0.3267244\ttotal: 1m 2s\tremaining: 6.53s\n",
      "905:\tlearn: 0.3266198\ttotal: 1m 2s\tremaining: 6.46s\n",
      "906:\tlearn: 0.3264432\ttotal: 1m 2s\tremaining: 6.4s\n",
      "907:\tlearn: 0.3262961\ttotal: 1m 2s\tremaining: 6.33s\n",
      "908:\tlearn: 0.3261959\ttotal: 1m 2s\tremaining: 6.26s\n",
      "909:\tlearn: 0.3260702\ttotal: 1m 2s\tremaining: 6.19s\n",
      "910:\tlearn: 0.3259222\ttotal: 1m 2s\tremaining: 6.12s\n",
      "911:\tlearn: 0.3257833\ttotal: 1m 2s\tremaining: 6.05s\n",
      "912:\tlearn: 0.3256530\ttotal: 1m 2s\tremaining: 5.98s\n",
      "913:\tlearn: 0.3255918\ttotal: 1m 2s\tremaining: 5.91s\n",
      "914:\tlearn: 0.3254737\ttotal: 1m 2s\tremaining: 5.84s\n",
      "915:\tlearn: 0.3253243\ttotal: 1m 2s\tremaining: 5.78s\n",
      "916:\tlearn: 0.3251750\ttotal: 1m 3s\tremaining: 5.71s\n",
      "917:\tlearn: 0.3250737\ttotal: 1m 3s\tremaining: 5.64s\n",
      "918:\tlearn: 0.3249157\ttotal: 1m 3s\tremaining: 5.57s\n",
      "919:\tlearn: 0.3247822\ttotal: 1m 3s\tremaining: 5.5s\n",
      "920:\tlearn: 0.3246352\ttotal: 1m 3s\tremaining: 5.43s\n",
      "921:\tlearn: 0.3244918\ttotal: 1m 3s\tremaining: 5.36s\n",
      "922:\tlearn: 0.3243580\ttotal: 1m 3s\tremaining: 5.29s\n",
      "923:\tlearn: 0.3242464\ttotal: 1m 3s\tremaining: 5.22s\n",
      "924:\tlearn: 0.3241111\ttotal: 1m 3s\tremaining: 5.16s\n",
      "925:\tlearn: 0.3239447\ttotal: 1m 3s\tremaining: 5.08s\n",
      "926:\tlearn: 0.3238027\ttotal: 1m 3s\tremaining: 5.02s\n",
      "927:\tlearn: 0.3236703\ttotal: 1m 3s\tremaining: 4.95s\n",
      "928:\tlearn: 0.3235433\ttotal: 1m 3s\tremaining: 4.88s\n",
      "929:\tlearn: 0.3234494\ttotal: 1m 3s\tremaining: 4.81s\n",
      "930:\tlearn: 0.3233072\ttotal: 1m 3s\tremaining: 4.74s\n",
      "931:\tlearn: 0.3231836\ttotal: 1m 4s\tremaining: 4.67s\n",
      "932:\tlearn: 0.3230636\ttotal: 1m 4s\tremaining: 4.6s\n",
      "933:\tlearn: 0.3229288\ttotal: 1m 4s\tremaining: 4.53s\n",
      "934:\tlearn: 0.3228263\ttotal: 1m 4s\tremaining: 4.46s\n",
      "935:\tlearn: 0.3226905\ttotal: 1m 4s\tremaining: 4.4s\n",
      "936:\tlearn: 0.3225624\ttotal: 1m 4s\tremaining: 4.33s\n",
      "937:\tlearn: 0.3224214\ttotal: 1m 4s\tremaining: 4.26s\n",
      "938:\tlearn: 0.3222376\ttotal: 1m 4s\tremaining: 4.19s\n",
      "939:\tlearn: 0.3221624\ttotal: 1m 4s\tremaining: 4.12s\n",
      "940:\tlearn: 0.3220261\ttotal: 1m 4s\tremaining: 4.05s\n",
      "941:\tlearn: 0.3218710\ttotal: 1m 4s\tremaining: 3.98s\n",
      "942:\tlearn: 0.3217515\ttotal: 1m 4s\tremaining: 3.92s\n",
      "943:\tlearn: 0.3216549\ttotal: 1m 4s\tremaining: 3.85s\n",
      "944:\tlearn: 0.3215792\ttotal: 1m 4s\tremaining: 3.78s\n",
      "945:\tlearn: 0.3214393\ttotal: 1m 4s\tremaining: 3.71s\n",
      "946:\tlearn: 0.3213079\ttotal: 1m 5s\tremaining: 3.64s\n",
      "947:\tlearn: 0.3212027\ttotal: 1m 5s\tremaining: 3.57s\n",
      "948:\tlearn: 0.3211349\ttotal: 1m 5s\tremaining: 3.5s\n",
      "949:\tlearn: 0.3209821\ttotal: 1m 5s\tremaining: 3.43s\n",
      "950:\tlearn: 0.3208678\ttotal: 1m 5s\tremaining: 3.36s\n",
      "951:\tlearn: 0.3207307\ttotal: 1m 5s\tremaining: 3.29s\n",
      "952:\tlearn: 0.3205848\ttotal: 1m 5s\tremaining: 3.23s\n",
      "953:\tlearn: 0.3204816\ttotal: 1m 5s\tremaining: 3.16s\n",
      "954:\tlearn: 0.3204122\ttotal: 1m 5s\tremaining: 3.09s\n",
      "955:\tlearn: 0.3202558\ttotal: 1m 5s\tremaining: 3.02s\n",
      "956:\tlearn: 0.3201230\ttotal: 1m 5s\tremaining: 2.95s\n",
      "957:\tlearn: 0.3200734\ttotal: 1m 5s\tremaining: 2.88s\n",
      "958:\tlearn: 0.3198960\ttotal: 1m 5s\tremaining: 2.81s\n",
      "959:\tlearn: 0.3197642\ttotal: 1m 5s\tremaining: 2.75s\n",
      "960:\tlearn: 0.3196255\ttotal: 1m 5s\tremaining: 2.68s\n",
      "961:\tlearn: 0.3195530\ttotal: 1m 6s\tremaining: 2.61s\n",
      "962:\tlearn: 0.3193888\ttotal: 1m 6s\tremaining: 2.54s\n",
      "963:\tlearn: 0.3192666\ttotal: 1m 6s\tremaining: 2.47s\n",
      "964:\tlearn: 0.3191494\ttotal: 1m 6s\tremaining: 2.4s\n",
      "965:\tlearn: 0.3190327\ttotal: 1m 6s\tremaining: 2.33s\n",
      "966:\tlearn: 0.3189166\ttotal: 1m 6s\tremaining: 2.26s\n",
      "967:\tlearn: 0.3188076\ttotal: 1m 6s\tremaining: 2.19s\n",
      "968:\tlearn: 0.3186639\ttotal: 1m 6s\tremaining: 2.13s\n",
      "969:\tlearn: 0.3185356\ttotal: 1m 6s\tremaining: 2.06s\n",
      "970:\tlearn: 0.3184653\ttotal: 1m 6s\tremaining: 1.99s\n",
      "971:\tlearn: 0.3183963\ttotal: 1m 6s\tremaining: 1.92s\n",
      "972:\tlearn: 0.3183168\ttotal: 1m 6s\tremaining: 1.85s\n",
      "973:\tlearn: 0.3181905\ttotal: 1m 6s\tremaining: 1.78s\n",
      "974:\tlearn: 0.3180580\ttotal: 1m 6s\tremaining: 1.71s\n",
      "975:\tlearn: 0.3180229\ttotal: 1m 6s\tremaining: 1.65s\n",
      "976:\tlearn: 0.3179084\ttotal: 1m 7s\tremaining: 1.58s\n",
      "977:\tlearn: 0.3177774\ttotal: 1m 7s\tremaining: 1.51s\n",
      "978:\tlearn: 0.3176467\ttotal: 1m 7s\tremaining: 1.44s\n",
      "979:\tlearn: 0.3175209\ttotal: 1m 7s\tremaining: 1.37s\n",
      "980:\tlearn: 0.3173834\ttotal: 1m 7s\tremaining: 1.3s\n",
      "981:\tlearn: 0.3172325\ttotal: 1m 7s\tremaining: 1.23s\n",
      "982:\tlearn: 0.3171984\ttotal: 1m 7s\tremaining: 1.17s\n",
      "983:\tlearn: 0.3170636\ttotal: 1m 7s\tremaining: 1.1s\n",
      "984:\tlearn: 0.3170170\ttotal: 1m 7s\tremaining: 1.03s\n",
      "985:\tlearn: 0.3168544\ttotal: 1m 7s\tremaining: 960ms\n",
      "986:\tlearn: 0.3168110\ttotal: 1m 7s\tremaining: 892ms\n",
      "987:\tlearn: 0.3166960\ttotal: 1m 7s\tremaining: 823ms\n",
      "988:\tlearn: 0.3165584\ttotal: 1m 7s\tremaining: 754ms\n",
      "989:\tlearn: 0.3165189\ttotal: 1m 7s\tremaining: 686ms\n",
      "990:\tlearn: 0.3163830\ttotal: 1m 7s\tremaining: 617ms\n",
      "991:\tlearn: 0.3163279\ttotal: 1m 8s\tremaining: 549ms\n",
      "992:\tlearn: 0.3161960\ttotal: 1m 8s\tremaining: 480ms\n",
      "993:\tlearn: 0.3160546\ttotal: 1m 8s\tremaining: 411ms\n",
      "994:\tlearn: 0.3159202\ttotal: 1m 8s\tremaining: 343ms\n",
      "995:\tlearn: 0.3158231\ttotal: 1m 8s\tremaining: 274ms\n",
      "996:\tlearn: 0.3156838\ttotal: 1m 8s\tremaining: 206ms\n",
      "997:\tlearn: 0.3156511\ttotal: 1m 8s\tremaining: 137ms\n",
      "998:\tlearn: 0.3156076\ttotal: 1m 8s\tremaining: 68.5ms\n",
      "999:\tlearn: 0.3155010\ttotal: 1m 8s\tremaining: 0us\n"
     ]
    },
    {
     "data": {
      "text/plain": [
       "<catboost.core.CatBoostClassifier at 0x7f392b13f5d0>"
      ]
     },
     "execution_count": 61,
     "metadata": {},
     "output_type": "execute_result"
    }
   ],
   "source": [
    "from catboost import CatBoostClassifier\n",
    "classifier = CatBoostClassifier()\n",
    "classifier.fit(X_train, y_train)"
   ]
  },
  {
   "cell_type": "code",
   "execution_count": null,
   "metadata": {
    "colab": {
     "base_uri": "https://localhost:8080/"
    },
    "executionInfo": {
     "elapsed": 14375,
     "status": "ok",
     "timestamp": 1640503666037,
     "user": {
      "displayName": "Nishant wadhwani",
      "photoUrl": "https://lh3.googleusercontent.com/a-/AOh14Gjnn_M-nxVO-GHfPkftHjSsX-Ulopf1dqkz5rCwgg=s64",
      "userId": "18292067457856021938"
     },
     "user_tz": -330
    },
    "id": "ct1HckIvCSVG",
    "outputId": "7bbb6c4d-f067-46c7-9e70-5340de1d8d6e"
   },
   "outputs": [
    {
     "name": "stdout",
     "output_type": "stream",
     "text": [
      "[[0 0]\n",
      " [1 1]\n",
      " [0 0]\n",
      " ...\n",
      " [1 1]\n",
      " [0 0]\n",
      " [1 1]]\n"
     ]
    }
   ],
   "source": [
    "y_pred = classifier.predict(X_test)\n",
    "print(np.concatenate((y_pred.reshape(len(y_pred),1), y_test.reshape(len(y_test),1)),1))"
   ]
  },
  {
   "cell_type": "code",
   "execution_count": null,
   "metadata": {
    "colab": {
     "base_uri": "https://localhost:8080/"
    },
    "executionInfo": {
     "elapsed": 37,
     "status": "ok",
     "timestamp": 1640503666038,
     "user": {
      "displayName": "Nishant wadhwani",
      "photoUrl": "https://lh3.googleusercontent.com/a-/AOh14Gjnn_M-nxVO-GHfPkftHjSsX-Ulopf1dqkz5rCwgg=s64",
      "userId": "18292067457856021938"
     },
     "user_tz": -330
    },
    "id": "k83kB9kECSO3",
    "outputId": "d939ebe7-a29d-4a13-d0eb-1568e958a32f"
   },
   "outputs": [
    {
     "name": "stdout",
     "output_type": "stream",
     "text": [
      "[[840 157]\n",
      " [166 837]]\n"
     ]
    },
    {
     "data": {
      "text/plain": [
       "0.8385"
      ]
     },
     "execution_count": 63,
     "metadata": {},
     "output_type": "execute_result"
    }
   ],
   "source": [
    "from sklearn.metrics import confusion_matrix, accuracy_score,classification_report\n",
    "cm = confusion_matrix(y_test, y_pred)\n",
    "print(cm)\n",
    "accuracy_score(y_test, y_pred)"
   ]
  },
  {
   "cell_type": "code",
   "execution_count": null,
   "metadata": {
    "colab": {
     "base_uri": "https://localhost:8080/"
    },
    "executionInfo": {
     "elapsed": 28,
     "status": "ok",
     "timestamp": 1640503666039,
     "user": {
      "displayName": "Nishant wadhwani",
      "photoUrl": "https://lh3.googleusercontent.com/a-/AOh14Gjnn_M-nxVO-GHfPkftHjSsX-Ulopf1dqkz5rCwgg=s64",
      "userId": "18292067457856021938"
     },
     "user_tz": -330
    },
    "id": "qD53nt0eCSKY",
    "outputId": "1cf67645-8d12-406d-9bf9-fe37f94bdb45"
   },
   "outputs": [
    {
     "name": "stdout",
     "output_type": "stream",
     "text": [
      "              precision    recall  f1-score   support\n",
      "\n",
      "           0       0.83      0.84      0.84       997\n",
      "           1       0.84      0.83      0.84      1003\n",
      "\n",
      "    accuracy                           0.84      2000\n",
      "   macro avg       0.84      0.84      0.84      2000\n",
      "weighted avg       0.84      0.84      0.84      2000\n",
      "\n"
     ]
    }
   ],
   "source": [
    "print(classification_report(y_test, y_pred))"
   ]
  },
  {
   "cell_type": "code",
   "execution_count": null,
   "metadata": {
    "id": "3mJY5-ljCc7N"
   },
   "outputs": [],
   "source": []
  },
  {
   "cell_type": "code",
   "execution_count": null,
   "metadata": {
    "id": "sEXxl0uzCc2h"
   },
   "outputs": [],
   "source": []
  },
  {
   "cell_type": "markdown",
   "metadata": {
    "id": "2WZt4RQCC5GO"
   },
   "source": [
    "### Gradient Boosting Classifier"
   ]
  },
  {
   "cell_type": "code",
   "execution_count": null,
   "metadata": {
    "colab": {
     "base_uri": "https://localhost:8080/"
    },
    "executionInfo": {
     "elapsed": 974006,
     "status": "ok",
     "timestamp": 1640504640023,
     "user": {
      "displayName": "Nishant wadhwani",
      "photoUrl": "https://lh3.googleusercontent.com/a-/AOh14Gjnn_M-nxVO-GHfPkftHjSsX-Ulopf1dqkz5rCwgg=s64",
      "userId": "18292067457856021938"
     },
     "user_tz": -330
    },
    "id": "S6xemsvxEdKx",
    "outputId": "09c1e0f3-5cd6-496b-c90e-200a0ca71ab4"
   },
   "outputs": [
    {
     "data": {
      "text/plain": [
       "GradientBoostingClassifier()"
      ]
     },
     "execution_count": 65,
     "metadata": {},
     "output_type": "execute_result"
    }
   ],
   "source": [
    "from sklearn.ensemble import GradientBoostingClassifier\n",
    "classifier = GradientBoostingClassifier()\n",
    "classifier.fit(X_train, y_train)"
   ]
  },
  {
   "cell_type": "code",
   "execution_count": null,
   "metadata": {
    "colab": {
     "base_uri": "https://localhost:8080/"
    },
    "executionInfo": {
     "elapsed": 51,
     "status": "ok",
     "timestamp": 1640504640024,
     "user": {
      "displayName": "Nishant wadhwani",
      "photoUrl": "https://lh3.googleusercontent.com/a-/AOh14Gjnn_M-nxVO-GHfPkftHjSsX-Ulopf1dqkz5rCwgg=s64",
      "userId": "18292067457856021938"
     },
     "user_tz": -330
    },
    "id": "m06pHOYzEdE9",
    "outputId": "6e269ca9-d400-4c8b-95db-ece649265e7d"
   },
   "outputs": [
    {
     "name": "stdout",
     "output_type": "stream",
     "text": [
      "[[0 0]\n",
      " [1 1]\n",
      " [0 0]\n",
      " ...\n",
      " [1 1]\n",
      " [0 0]\n",
      " [1 1]]\n"
     ]
    }
   ],
   "source": [
    "y_pred = classifier.predict(X_test)\n",
    "print(np.concatenate((y_pred.reshape(len(y_pred),1), y_test.reshape(len(y_test),1)),1))"
   ]
  },
  {
   "cell_type": "code",
   "execution_count": null,
   "metadata": {
    "colab": {
     "base_uri": "https://localhost:8080/"
    },
    "executionInfo": {
     "elapsed": 41,
     "status": "ok",
     "timestamp": 1640504640025,
     "user": {
      "displayName": "Nishant wadhwani",
      "photoUrl": "https://lh3.googleusercontent.com/a-/AOh14Gjnn_M-nxVO-GHfPkftHjSsX-Ulopf1dqkz5rCwgg=s64",
      "userId": "18292067457856021938"
     },
     "user_tz": -330
    },
    "id": "hc2BDc25EdAm",
    "outputId": "6c5497b0-915e-402b-d4d0-c9212945eb29"
   },
   "outputs": [
    {
     "name": "stdout",
     "output_type": "stream",
     "text": [
      "[[845 152]\n",
      " [262 741]]\n"
     ]
    },
    {
     "data": {
      "text/plain": [
       "0.793"
      ]
     },
     "execution_count": 67,
     "metadata": {},
     "output_type": "execute_result"
    }
   ],
   "source": [
    "from sklearn.metrics import confusion_matrix, accuracy_score,classification_report\n",
    "cm = confusion_matrix(y_test, y_pred)\n",
    "print(cm)\n",
    "accuracy_score(y_test, y_pred)"
   ]
  },
  {
   "cell_type": "code",
   "execution_count": null,
   "metadata": {
    "colab": {
     "base_uri": "https://localhost:8080/"
    },
    "executionInfo": {
     "elapsed": 35,
     "status": "ok",
     "timestamp": 1640504640025,
     "user": {
      "displayName": "Nishant wadhwani",
      "photoUrl": "https://lh3.googleusercontent.com/a-/AOh14Gjnn_M-nxVO-GHfPkftHjSsX-Ulopf1dqkz5rCwgg=s64",
      "userId": "18292067457856021938"
     },
     "user_tz": -330
    },
    "id": "MUFRmL1eEc-W",
    "outputId": "f50cfb4f-1325-4e9b-be07-e2a4fdd0d0d6"
   },
   "outputs": [
    {
     "name": "stdout",
     "output_type": "stream",
     "text": [
      "              precision    recall  f1-score   support\n",
      "\n",
      "           0       0.76      0.85      0.80       997\n",
      "           1       0.83      0.74      0.78      1003\n",
      "\n",
      "    accuracy                           0.79      2000\n",
      "   macro avg       0.80      0.79      0.79      2000\n",
      "weighted avg       0.80      0.79      0.79      2000\n",
      "\n"
     ]
    }
   ],
   "source": [
    "print(classification_report(y_test, y_pred))"
   ]
  },
  {
   "cell_type": "code",
   "execution_count": null,
   "metadata": {
    "id": "xnfh8RsDEc3G"
   },
   "outputs": [],
   "source": []
  },
  {
   "cell_type": "code",
   "execution_count": null,
   "metadata": {
    "id": "2j0uvUE5EcxW"
   },
   "outputs": [],
   "source": []
  },
  {
   "cell_type": "markdown",
   "metadata": {
    "id": "pvve_pM-C5GO"
   },
   "source": [
    "### LightGBM (Light Gradient Boosting Machine)\n"
   ]
  },
  {
   "cell_type": "code",
   "execution_count": null,
   "metadata": {
    "colab": {
     "base_uri": "https://localhost:8080/"
    },
    "executionInfo": {
     "elapsed": 4814,
     "status": "ok",
     "timestamp": 1640504644815,
     "user": {
      "displayName": "Nishant wadhwani",
      "photoUrl": "https://lh3.googleusercontent.com/a-/AOh14Gjnn_M-nxVO-GHfPkftHjSsX-Ulopf1dqkz5rCwgg=s64",
      "userId": "18292067457856021938"
     },
     "user_tz": -330
    },
    "id": "ITfHe3CEC5GO",
    "outputId": "6c65f088-760b-4585-a806-cd0f0e3cd887"
   },
   "outputs": [
    {
     "data": {
      "text/plain": [
       "LGBMClassifier()"
      ]
     },
     "execution_count": 69,
     "metadata": {},
     "output_type": "execute_result"
    }
   ],
   "source": [
    "import lightgbm as lgb\n",
    "from lightgbm import LGBMClassifier\n",
    "classifier = LGBMClassifier()\n",
    "classifier.fit(X_train, y_train)"
   ]
  },
  {
   "cell_type": "code",
   "execution_count": null,
   "metadata": {
    "colab": {
     "base_uri": "https://localhost:8080/"
    },
    "executionInfo": {
     "elapsed": 31,
     "status": "ok",
     "timestamp": 1640504644816,
     "user": {
      "displayName": "Nishant wadhwani",
      "photoUrl": "https://lh3.googleusercontent.com/a-/AOh14Gjnn_M-nxVO-GHfPkftHjSsX-Ulopf1dqkz5rCwgg=s64",
      "userId": "18292067457856021938"
     },
     "user_tz": -330
    },
    "id": "xdhZlWnEEqkI",
    "outputId": "09a24bac-f80c-45d8-f258-f7474dff51d5"
   },
   "outputs": [
    {
     "name": "stdout",
     "output_type": "stream",
     "text": [
      "[[0 0]\n",
      " [1 1]\n",
      " [0 0]\n",
      " ...\n",
      " [1 1]\n",
      " [0 0]\n",
      " [1 1]]\n"
     ]
    }
   ],
   "source": [
    "y_pred = classifier.predict(X_test)\n",
    "print(np.concatenate((y_pred.reshape(len(y_pred),1), y_test.reshape(len(y_test),1)),1))"
   ]
  },
  {
   "cell_type": "code",
   "execution_count": null,
   "metadata": {
    "colab": {
     "base_uri": "https://localhost:8080/"
    },
    "executionInfo": {
     "elapsed": 29,
     "status": "ok",
     "timestamp": 1640504644816,
     "user": {
      "displayName": "Nishant wadhwani",
      "photoUrl": "https://lh3.googleusercontent.com/a-/AOh14Gjnn_M-nxVO-GHfPkftHjSsX-Ulopf1dqkz5rCwgg=s64",
      "userId": "18292067457856021938"
     },
     "user_tz": -330
    },
    "id": "WMxCsoZmEqhs",
    "outputId": "e0da31cc-80d9-454c-94a4-44e0b0448875"
   },
   "outputs": [
    {
     "name": "stdout",
     "output_type": "stream",
     "text": [
      "[[843 154]\n",
      " [153 850]]\n"
     ]
    },
    {
     "data": {
      "text/plain": [
       "0.8465"
      ]
     },
     "execution_count": 71,
     "metadata": {},
     "output_type": "execute_result"
    }
   ],
   "source": [
    "from sklearn.metrics import confusion_matrix, accuracy_score,classification_report\n",
    "cm = confusion_matrix(y_test, y_pred)\n",
    "print(cm)\n",
    "accuracy_score(y_test, y_pred)"
   ]
  },
  {
   "cell_type": "markdown",
   "metadata": {
    "id": "LzShsNpcf36Q"
   },
   "source": [
    "###Kernel SVM performs the best with accuracy of 85.45%"
   ]
  },
  {
   "cell_type": "code",
   "execution_count": null,
   "metadata": {
    "id": "ogBIu6KBEqdL"
   },
   "outputs": [],
   "source": []
  },
  {
   "cell_type": "code",
   "execution_count": null,
   "metadata": {
    "id": "TYO1Vw6bEqa9"
   },
   "outputs": [],
   "source": []
  },
  {
   "cell_type": "code",
   "execution_count": null,
   "metadata": {
    "id": "1aRvKmmHos9U"
   },
   "outputs": [],
   "source": []
  },
  {
   "cell_type": "markdown",
   "metadata": {
    "id": "5SIsbjlnos9V"
   },
   "source": [
    "## TfIdf Vectorizer"
   ]
  },
  {
   "cell_type": "code",
   "execution_count": null,
   "metadata": {
    "id": "kSuKy7JtC5GP"
   },
   "outputs": [],
   "source": [
    "from sklearn.feature_extraction.text import TfidfVectorizer"
   ]
  },
  {
   "cell_type": "code",
   "execution_count": null,
   "metadata": {
    "id": "EvXt-6R-C5GQ"
   },
   "outputs": [],
   "source": [
    "tfidf = TfidfVectorizer(max_df=0.95, min_df=2, stop_words='english')"
   ]
  },
  {
   "cell_type": "code",
   "execution_count": null,
   "metadata": {
    "id": "60KjYTaeC5GQ"
   },
   "outputs": [],
   "source": [
    "X = tfidf.fit_transform(df['review']).toarray()\n"
   ]
  },
  {
   "cell_type": "markdown",
   "metadata": {
    "id": "VtZmdBxeMkRa"
   },
   "source": [
    "### Naive Bayes"
   ]
  },
  {
   "cell_type": "code",
   "execution_count": null,
   "metadata": {
    "id": "xUOwIutUhmi0"
   },
   "outputs": [],
   "source": [
    "from sklearn.model_selection import train_test_split\n",
    "X_train, X_test, y_train, y_test = train_test_split(X, y, test_size = 0.20, random_state = 0)"
   ]
  },
  {
   "cell_type": "code",
   "execution_count": null,
   "metadata": {
    "colab": {
     "base_uri": "https://localhost:8080/"
    },
    "executionInfo": {
     "elapsed": 1899,
     "status": "ok",
     "timestamp": 1640505336720,
     "user": {
      "displayName": "Nishant wadhwani",
      "photoUrl": "https://lh3.googleusercontent.com/a-/AOh14Gjnn_M-nxVO-GHfPkftHjSsX-Ulopf1dqkz5rCwgg=s64",
      "userId": "18292067457856021938"
     },
     "user_tz": -330
    },
    "id": "bW1m0Ah5MkRb",
    "outputId": "daa4d26b-dcfc-4b01-c49f-66067d74c583"
   },
   "outputs": [
    {
     "data": {
      "text/plain": [
       "GaussianNB()"
      ]
     },
     "execution_count": 17,
     "metadata": {},
     "output_type": "execute_result"
    }
   ],
   "source": [
    "from sklearn.naive_bayes import GaussianNB\n",
    "classifier = GaussianNB()\n",
    "classifier.fit(X_train, y_train)\n",
    "\n"
   ]
  },
  {
   "cell_type": "code",
   "execution_count": null,
   "metadata": {
    "colab": {
     "base_uri": "https://localhost:8080/"
    },
    "executionInfo": {
     "elapsed": 1042,
     "status": "ok",
     "timestamp": 1640505340470,
     "user": {
      "displayName": "Nishant wadhwani",
      "photoUrl": "https://lh3.googleusercontent.com/a-/AOh14Gjnn_M-nxVO-GHfPkftHjSsX-Ulopf1dqkz5rCwgg=s64",
      "userId": "18292067457856021938"
     },
     "user_tz": -330
    },
    "id": "o8gmVn0pMkRc",
    "outputId": "65cc92ba-9b28-4e29-dede-0c10bcbe42a6"
   },
   "outputs": [
    {
     "name": "stdout",
     "output_type": "stream",
     "text": [
      "[[0 0]\n",
      " [1 1]\n",
      " [0 0]\n",
      " ...\n",
      " [0 1]\n",
      " [0 0]\n",
      " [1 1]]\n"
     ]
    }
   ],
   "source": [
    "y_pred = classifier.predict(X_test)\n",
    "print(np.concatenate((y_pred.reshape(len(y_pred),1), y_test.reshape(len(y_test),1)),1))\n",
    "\n"
   ]
  },
  {
   "cell_type": "code",
   "execution_count": null,
   "metadata": {
    "colab": {
     "base_uri": "https://localhost:8080/"
    },
    "executionInfo": {
     "elapsed": 5,
     "status": "ok",
     "timestamp": 1640505341748,
     "user": {
      "displayName": "Nishant wadhwani",
      "photoUrl": "https://lh3.googleusercontent.com/a-/AOh14Gjnn_M-nxVO-GHfPkftHjSsX-Ulopf1dqkz5rCwgg=s64",
      "userId": "18292067457856021938"
     },
     "user_tz": -330
    },
    "id": "cRe05oNvhsnE",
    "outputId": "463aace2-1eec-4cfc-ef5e-5506e681dd24"
   },
   "outputs": [
    {
     "name": "stdout",
     "output_type": "stream",
     "text": [
      "[[660 337]\n",
      " [346 657]]\n",
      "              precision    recall  f1-score   support\n",
      "\n",
      "           0       0.66      0.66      0.66       997\n",
      "           1       0.66      0.66      0.66      1003\n",
      "\n",
      "    accuracy                           0.66      2000\n",
      "   macro avg       0.66      0.66      0.66      2000\n",
      "weighted avg       0.66      0.66      0.66      2000\n",
      "\n"
     ]
    }
   ],
   "source": [
    "from sklearn.metrics import confusion_matrix, accuracy_score,classification_report\n",
    "cm = confusion_matrix(y_test, y_pred)\n",
    "print(cm)\n",
    "accuracy_score(y_test, y_pred)\n",
    "\n",
    "print(classification_report(y_test, y_pred))\n"
   ]
  },
  {
   "cell_type": "code",
   "execution_count": null,
   "metadata": {
    "id": "cbchZ78JMkRc"
   },
   "outputs": [],
   "source": []
  },
  {
   "cell_type": "markdown",
   "metadata": {
    "id": "kWv9pptqMkRd"
   },
   "source": [
    "### Logistic Regression\n"
   ]
  },
  {
   "cell_type": "code",
   "execution_count": null,
   "metadata": {
    "colab": {
     "base_uri": "https://localhost:8080/"
    },
    "executionInfo": {
     "elapsed": 5455,
     "status": "ok",
     "timestamp": 1640505352498,
     "user": {
      "displayName": "Nishant wadhwani",
      "photoUrl": "https://lh3.googleusercontent.com/a-/AOh14Gjnn_M-nxVO-GHfPkftHjSsX-Ulopf1dqkz5rCwgg=s64",
      "userId": "18292067457856021938"
     },
     "user_tz": -330
    },
    "id": "RgJO30JnMkRd",
    "outputId": "61d2a781-284d-45ff-eb6a-23a0cca573e9"
   },
   "outputs": [
    {
     "data": {
      "text/plain": [
       "LogisticRegression(random_state=0)"
      ]
     },
     "execution_count": 20,
     "metadata": {},
     "output_type": "execute_result"
    }
   ],
   "source": [
    "from sklearn.linear_model import LogisticRegression\n",
    "classifier = LogisticRegression(random_state = 0)\n",
    "classifier.fit(X_train, y_train)\n"
   ]
  },
  {
   "cell_type": "code",
   "execution_count": null,
   "metadata": {
    "colab": {
     "base_uri": "https://localhost:8080/"
    },
    "executionInfo": {
     "elapsed": 24,
     "status": "ok",
     "timestamp": 1640505352499,
     "user": {
      "displayName": "Nishant wadhwani",
      "photoUrl": "https://lh3.googleusercontent.com/a-/AOh14Gjnn_M-nxVO-GHfPkftHjSsX-Ulopf1dqkz5rCwgg=s64",
      "userId": "18292067457856021938"
     },
     "user_tz": -330
    },
    "id": "wNYVtspCMkRd",
    "outputId": "72f2d541-2415-413a-a1bc-3ae717bfc5a8"
   },
   "outputs": [
    {
     "name": "stdout",
     "output_type": "stream",
     "text": [
      "[[0 0]\n",
      " [1 1]\n",
      " [0 0]\n",
      " ...\n",
      " [1 1]\n",
      " [0 0]\n",
      " [1 1]]\n"
     ]
    }
   ],
   "source": [
    "y_pred = classifier.predict(X_test)\n",
    "print(np.concatenate((y_pred.reshape(len(y_pred),1), y_test.reshape(len(y_test),1)),1))\n"
   ]
  },
  {
   "cell_type": "code",
   "execution_count": null,
   "metadata": {
    "colab": {
     "base_uri": "https://localhost:8080/"
    },
    "executionInfo": {
     "elapsed": 21,
     "status": "ok",
     "timestamp": 1640505352501,
     "user": {
      "displayName": "Nishant wadhwani",
      "photoUrl": "https://lh3.googleusercontent.com/a-/AOh14Gjnn_M-nxVO-GHfPkftHjSsX-Ulopf1dqkz5rCwgg=s64",
      "userId": "18292067457856021938"
     },
     "user_tz": -330
    },
    "id": "VV6EDyptMkRe",
    "outputId": "9be26c54-84f6-4973-bd1b-a0e6430a56e7"
   },
   "outputs": [
    {
     "name": "stdout",
     "output_type": "stream",
     "text": [
      "[[865 132]\n",
      " [141 862]]\n",
      "              precision    recall  f1-score   support\n",
      "\n",
      "           0       0.86      0.87      0.86       997\n",
      "           1       0.87      0.86      0.86      1003\n",
      "\n",
      "    accuracy                           0.86      2000\n",
      "   macro avg       0.86      0.86      0.86      2000\n",
      "weighted avg       0.86      0.86      0.86      2000\n",
      "\n"
     ]
    }
   ],
   "source": [
    "from sklearn.metrics import confusion_matrix, accuracy_score,classification_report\n",
    "cm = confusion_matrix(y_test, y_pred)\n",
    "print(cm)\n",
    "accuracy_score(y_test, y_pred)\n",
    "\n",
    "print(classification_report(y_test, y_pred))\n"
   ]
  },
  {
   "cell_type": "code",
   "execution_count": null,
   "metadata": {
    "id": "nzEnmttjMkRe"
   },
   "outputs": [],
   "source": []
  },
  {
   "cell_type": "markdown",
   "metadata": {
    "id": "G4khBYPuMkRf"
   },
   "source": [
    "### K-Nearest Neighbors (K-NN)\n"
   ]
  },
  {
   "cell_type": "code",
   "execution_count": null,
   "metadata": {
    "colab": {
     "base_uri": "https://localhost:8080/"
    },
    "executionInfo": {
     "elapsed": 386,
     "status": "ok",
     "timestamp": 1640505369692,
     "user": {
      "displayName": "Nishant wadhwani",
      "photoUrl": "https://lh3.googleusercontent.com/a-/AOh14Gjnn_M-nxVO-GHfPkftHjSsX-Ulopf1dqkz5rCwgg=s64",
      "userId": "18292067457856021938"
     },
     "user_tz": -330
    },
    "id": "EynDrh5TMkRf",
    "outputId": "78c239a2-9c05-4ecb-a164-6fd69329f6b4"
   },
   "outputs": [
    {
     "data": {
      "text/plain": [
       "KNeighborsClassifier()"
      ]
     },
     "execution_count": 23,
     "metadata": {},
     "output_type": "execute_result"
    }
   ],
   "source": [
    "from sklearn.neighbors import KNeighborsClassifier\n",
    "classifier = KNeighborsClassifier(n_neighbors = 5, metric = 'minkowski', p = 2)\n",
    "classifier.fit(X_train, y_train)\n"
   ]
  },
  {
   "cell_type": "code",
   "execution_count": null,
   "metadata": {
    "colab": {
     "base_uri": "https://localhost:8080/"
    },
    "executionInfo": {
     "elapsed": 15093,
     "status": "ok",
     "timestamp": 1640505387286,
     "user": {
      "displayName": "Nishant wadhwani",
      "photoUrl": "https://lh3.googleusercontent.com/a-/AOh14Gjnn_M-nxVO-GHfPkftHjSsX-Ulopf1dqkz5rCwgg=s64",
      "userId": "18292067457856021938"
     },
     "user_tz": -330
    },
    "id": "wvbjofYtMkRf",
    "outputId": "07abfb2f-51d2-4ed3-bb27-e0c4ef52d6d4"
   },
   "outputs": [
    {
     "name": "stdout",
     "output_type": "stream",
     "text": [
      "[[1 0]\n",
      " [1 1]\n",
      " [0 0]\n",
      " ...\n",
      " [1 1]\n",
      " [1 0]\n",
      " [1 1]]\n"
     ]
    }
   ],
   "source": [
    "y_pred = classifier.predict(X_test)\n",
    "print(np.concatenate((y_pred.reshape(len(y_pred),1), y_test.reshape(len(y_test),1)),1))\n"
   ]
  },
  {
   "cell_type": "code",
   "execution_count": null,
   "metadata": {
    "colab": {
     "base_uri": "https://localhost:8080/"
    },
    "executionInfo": {
     "elapsed": 14,
     "status": "ok",
     "timestamp": 1640505387287,
     "user": {
      "displayName": "Nishant wadhwani",
      "photoUrl": "https://lh3.googleusercontent.com/a-/AOh14Gjnn_M-nxVO-GHfPkftHjSsX-Ulopf1dqkz5rCwgg=s64",
      "userId": "18292067457856021938"
     },
     "user_tz": -330
    },
    "id": "fmryKuIyMkRg",
    "outputId": "4006aea0-6946-4f45-d9fe-d0e41f03e758"
   },
   "outputs": [
    {
     "name": "stdout",
     "output_type": "stream",
     "text": [
      "[[681 316]\n",
      " [235 768]]\n",
      "              precision    recall  f1-score   support\n",
      "\n",
      "           0       0.74      0.68      0.71       997\n",
      "           1       0.71      0.77      0.74      1003\n",
      "\n",
      "    accuracy                           0.72      2000\n",
      "   macro avg       0.73      0.72      0.72      2000\n",
      "weighted avg       0.73      0.72      0.72      2000\n",
      "\n"
     ]
    }
   ],
   "source": [
    "from sklearn.metrics import confusion_matrix, accuracy_score,classification_report\n",
    "cm = confusion_matrix(y_test, y_pred)\n",
    "print(cm)\n",
    "accuracy_score(y_test, y_pred)\n",
    "\n",
    "print(classification_report(y_test, y_pred))\n"
   ]
  },
  {
   "cell_type": "code",
   "execution_count": null,
   "metadata": {
    "id": "tUGOm-cwMkRg"
   },
   "outputs": [],
   "source": [
    "\n"
   ]
  },
  {
   "cell_type": "markdown",
   "metadata": {
    "id": "ScDkfDgCMkRh"
   },
   "source": [
    "### Linear SVM\n"
   ]
  },
  {
   "cell_type": "code",
   "execution_count": null,
   "metadata": {
    "colab": {
     "base_uri": "https://localhost:8080/"
    },
    "executionInfo": {
     "elapsed": 524166,
     "status": "ok",
     "timestamp": 1640505911445,
     "user": {
      "displayName": "Nishant wadhwani",
      "photoUrl": "https://lh3.googleusercontent.com/a-/AOh14Gjnn_M-nxVO-GHfPkftHjSsX-Ulopf1dqkz5rCwgg=s64",
      "userId": "18292067457856021938"
     },
     "user_tz": -330
    },
    "id": "TUui8jTBMkRh",
    "outputId": "d1f126f9-4da7-4a89-9cc4-f86b165e9b82"
   },
   "outputs": [
    {
     "data": {
      "text/plain": [
       "SVC(kernel='linear', random_state=0)"
      ]
     },
     "execution_count": 26,
     "metadata": {},
     "output_type": "execute_result"
    }
   ],
   "source": [
    "from sklearn.svm import SVC\n",
    "classifier = SVC(kernel = 'linear', random_state = 0)\n",
    "classifier.fit(X_train, y_train)\n",
    "\n"
   ]
  },
  {
   "cell_type": "code",
   "execution_count": null,
   "metadata": {
    "colab": {
     "base_uri": "https://localhost:8080/"
    },
    "executionInfo": {
     "elapsed": 125514,
     "status": "ok",
     "timestamp": 1640506036937,
     "user": {
      "displayName": "Nishant wadhwani",
      "photoUrl": "https://lh3.googleusercontent.com/a-/AOh14Gjnn_M-nxVO-GHfPkftHjSsX-Ulopf1dqkz5rCwgg=s64",
      "userId": "18292067457856021938"
     },
     "user_tz": -330
    },
    "id": "fFN_5-t1MkRh",
    "outputId": "3ec3326e-8069-4068-876d-67cc35e834fd"
   },
   "outputs": [
    {
     "name": "stdout",
     "output_type": "stream",
     "text": [
      "[[0 0]\n",
      " [1 1]\n",
      " [0 0]\n",
      " ...\n",
      " [1 1]\n",
      " [0 0]\n",
      " [1 1]]\n"
     ]
    }
   ],
   "source": [
    "y_pred = classifier.predict(X_test)\n",
    "print(np.concatenate((y_pred.reshape(len(y_pred),1), y_test.reshape(len(y_test),1)),1))\n"
   ]
  },
  {
   "cell_type": "code",
   "execution_count": null,
   "metadata": {
    "colab": {
     "base_uri": "https://localhost:8080/"
    },
    "executionInfo": {
     "elapsed": 58,
     "status": "ok",
     "timestamp": 1640506036940,
     "user": {
      "displayName": "Nishant wadhwani",
      "photoUrl": "https://lh3.googleusercontent.com/a-/AOh14Gjnn_M-nxVO-GHfPkftHjSsX-Ulopf1dqkz5rCwgg=s64",
      "userId": "18292067457856021938"
     },
     "user_tz": -330
    },
    "id": "HJuIIQ-VMkRi",
    "outputId": "bf7a8fee-0e46-4e06-d29c-d5774ca6c91e"
   },
   "outputs": [
    {
     "name": "stdout",
     "output_type": "stream",
     "text": [
      "[[863 134]\n",
      " [133 870]]\n"
     ]
    },
    {
     "data": {
      "text/plain": [
       "0.8665"
      ]
     },
     "execution_count": 28,
     "metadata": {},
     "output_type": "execute_result"
    }
   ],
   "source": [
    "from sklearn.metrics import confusion_matrix, accuracy_score,classification_report\n",
    "cm = confusion_matrix(y_test, y_pred)\n",
    "print(cm)\n",
    "accuracy_score(y_test, y_pred)\n"
   ]
  },
  {
   "cell_type": "code",
   "execution_count": null,
   "metadata": {
    "colab": {
     "base_uri": "https://localhost:8080/"
    },
    "executionInfo": {
     "elapsed": 54,
     "status": "ok",
     "timestamp": 1640506036945,
     "user": {
      "displayName": "Nishant wadhwani",
      "photoUrl": "https://lh3.googleusercontent.com/a-/AOh14Gjnn_M-nxVO-GHfPkftHjSsX-Ulopf1dqkz5rCwgg=s64",
      "userId": "18292067457856021938"
     },
     "user_tz": -330
    },
    "id": "o-eB66GYMkRi",
    "outputId": "192eb066-113f-4dca-a760-af27fcd1c5de"
   },
   "outputs": [
    {
     "name": "stdout",
     "output_type": "stream",
     "text": [
      "              precision    recall  f1-score   support\n",
      "\n",
      "           0       0.87      0.87      0.87       997\n",
      "           1       0.87      0.87      0.87      1003\n",
      "\n",
      "    accuracy                           0.87      2000\n",
      "   macro avg       0.87      0.87      0.87      2000\n",
      "weighted avg       0.87      0.87      0.87      2000\n",
      "\n"
     ]
    }
   ],
   "source": [
    "print(classification_report(y_test, y_pred))\n"
   ]
  },
  {
   "cell_type": "code",
   "execution_count": null,
   "metadata": {
    "id": "gva6bK_bMkRj"
   },
   "outputs": [],
   "source": []
  },
  {
   "cell_type": "markdown",
   "metadata": {
    "id": "dUxbHr0zMkRj"
   },
   "source": [
    "### Kernel SVM\n"
   ]
  },
  {
   "cell_type": "code",
   "execution_count": null,
   "metadata": {
    "colab": {
     "base_uri": "https://localhost:8080/"
    },
    "executionInfo": {
     "elapsed": 830396,
     "status": "ok",
     "timestamp": 1640506867299,
     "user": {
      "displayName": "Nishant wadhwani",
      "photoUrl": "https://lh3.googleusercontent.com/a-/AOh14Gjnn_M-nxVO-GHfPkftHjSsX-Ulopf1dqkz5rCwgg=s64",
      "userId": "18292067457856021938"
     },
     "user_tz": -330
    },
    "id": "UvV0GBTnMkRj",
    "outputId": "5e01b14c-6c2c-4f46-cae9-a07391b7c69b"
   },
   "outputs": [
    {
     "data": {
      "text/plain": [
       "SVC(random_state=0)"
      ]
     },
     "execution_count": 30,
     "metadata": {},
     "output_type": "execute_result"
    }
   ],
   "source": [
    "from sklearn.svm import SVC\n",
    "classifier = SVC(kernel = 'rbf', random_state = 0)\n",
    "classifier.fit(X_train, y_train)\n"
   ]
  },
  {
   "cell_type": "code",
   "execution_count": null,
   "metadata": {
    "colab": {
     "base_uri": "https://localhost:8080/"
    },
    "executionInfo": {
     "elapsed": 366600,
     "status": "ok",
     "timestamp": 1640507233878,
     "user": {
      "displayName": "Nishant wadhwani",
      "photoUrl": "https://lh3.googleusercontent.com/a-/AOh14Gjnn_M-nxVO-GHfPkftHjSsX-Ulopf1dqkz5rCwgg=s64",
      "userId": "18292067457856021938"
     },
     "user_tz": -330
    },
    "id": "Qymk5mrQMkRk",
    "outputId": "826a299f-e4e7-4af3-e0e1-6ed016059187"
   },
   "outputs": [
    {
     "name": "stdout",
     "output_type": "stream",
     "text": [
      "[[0 0]\n",
      " [1 1]\n",
      " [0 0]\n",
      " ...\n",
      " [1 1]\n",
      " [0 0]\n",
      " [1 1]]\n"
     ]
    }
   ],
   "source": [
    "y_pred = classifier.predict(X_test)\n",
    "print(np.concatenate((y_pred.reshape(len(y_pred),1), y_test.reshape(len(y_test),1)),1))\n"
   ]
  },
  {
   "cell_type": "code",
   "execution_count": null,
   "metadata": {
    "colab": {
     "base_uri": "https://localhost:8080/"
    },
    "executionInfo": {
     "elapsed": 28,
     "status": "ok",
     "timestamp": 1640507233879,
     "user": {
      "displayName": "Nishant wadhwani",
      "photoUrl": "https://lh3.googleusercontent.com/a-/AOh14Gjnn_M-nxVO-GHfPkftHjSsX-Ulopf1dqkz5rCwgg=s64",
      "userId": "18292067457856021938"
     },
     "user_tz": -330
    },
    "id": "HW_MLDrcMkRk",
    "outputId": "5c268740-01dc-4cdc-fb30-a9803ec42ccc"
   },
   "outputs": [
    {
     "name": "stdout",
     "output_type": "stream",
     "text": [
      "[[871 126]\n",
      " [127 876]]\n",
      "              precision    recall  f1-score   support\n",
      "\n",
      "           0       0.87      0.87      0.87       997\n",
      "           1       0.87      0.87      0.87      1003\n",
      "\n",
      "    accuracy                           0.87      2000\n",
      "   macro avg       0.87      0.87      0.87      2000\n",
      "weighted avg       0.87      0.87      0.87      2000\n",
      "\n"
     ]
    }
   ],
   "source": [
    "from sklearn.metrics import confusion_matrix, accuracy_score,classification_report\n",
    "cm = confusion_matrix(y_test, y_pred)\n",
    "print(cm)\n",
    "accuracy_score(y_test, y_pred)\n",
    "\n",
    "print(classification_report(y_test, y_pred))\n"
   ]
  },
  {
   "cell_type": "code",
   "execution_count": null,
   "metadata": {
    "id": "t0S-gZbSMkRk"
   },
   "outputs": [],
   "source": []
  },
  {
   "cell_type": "markdown",
   "metadata": {
    "id": "aw4udEJ6MkRl"
   },
   "source": [
    "### Decision Tree Classification\n"
   ]
  },
  {
   "cell_type": "code",
   "execution_count": null,
   "metadata": {
    "colab": {
     "base_uri": "https://localhost:8080/"
    },
    "executionInfo": {
     "elapsed": 28702,
     "status": "ok",
     "timestamp": 1640507262563,
     "user": {
      "displayName": "Nishant wadhwani",
      "photoUrl": "https://lh3.googleusercontent.com/a-/AOh14Gjnn_M-nxVO-GHfPkftHjSsX-Ulopf1dqkz5rCwgg=s64",
      "userId": "18292067457856021938"
     },
     "user_tz": -330
    },
    "id": "TsPWABflMkRl",
    "outputId": "43024417-27dc-4960-fa06-6516d8b9ac70"
   },
   "outputs": [
    {
     "data": {
      "text/plain": [
       "DecisionTreeClassifier(criterion='entropy', random_state=0)"
      ]
     },
     "execution_count": 33,
     "metadata": {},
     "output_type": "execute_result"
    }
   ],
   "source": [
    "from sklearn.tree import DecisionTreeClassifier\n",
    "classifier = DecisionTreeClassifier(criterion = 'entropy', random_state = 0)\n",
    "classifier.fit(X_train, y_train)\n"
   ]
  },
  {
   "cell_type": "code",
   "execution_count": null,
   "metadata": {
    "colab": {
     "base_uri": "https://localhost:8080/"
    },
    "executionInfo": {
     "elapsed": 42,
     "status": "ok",
     "timestamp": 1640507262565,
     "user": {
      "displayName": "Nishant wadhwani",
      "photoUrl": "https://lh3.googleusercontent.com/a-/AOh14Gjnn_M-nxVO-GHfPkftHjSsX-Ulopf1dqkz5rCwgg=s64",
      "userId": "18292067457856021938"
     },
     "user_tz": -330
    },
    "id": "ovFcgPJUMkRm",
    "outputId": "11610c88-3d8f-4afc-ed79-8da09bdf5ee7"
   },
   "outputs": [
    {
     "name": "stdout",
     "output_type": "stream",
     "text": [
      "[[0 0]\n",
      " [1 1]\n",
      " [0 0]\n",
      " ...\n",
      " [1 1]\n",
      " [0 0]\n",
      " [1 1]]\n"
     ]
    }
   ],
   "source": [
    "y_pred = classifier.predict(X_test)\n",
    "print(np.concatenate((y_pred.reshape(len(y_pred),1), y_test.reshape(len(y_test),1)),1))\n"
   ]
  },
  {
   "cell_type": "code",
   "execution_count": null,
   "metadata": {
    "colab": {
     "base_uri": "https://localhost:8080/"
    },
    "executionInfo": {
     "elapsed": 35,
     "status": "ok",
     "timestamp": 1640507262566,
     "user": {
      "displayName": "Nishant wadhwani",
      "photoUrl": "https://lh3.googleusercontent.com/a-/AOh14Gjnn_M-nxVO-GHfPkftHjSsX-Ulopf1dqkz5rCwgg=s64",
      "userId": "18292067457856021938"
     },
     "user_tz": -330
    },
    "id": "oLnMXApgMkRm",
    "outputId": "a6b20a18-5122-4900-8748-48b106e1914d"
   },
   "outputs": [
    {
     "name": "stdout",
     "output_type": "stream",
     "text": [
      "[[721 276]\n",
      " [287 716]]\n",
      "              precision    recall  f1-score   support\n",
      "\n",
      "           0       0.72      0.72      0.72       997\n",
      "           1       0.72      0.71      0.72      1003\n",
      "\n",
      "    accuracy                           0.72      2000\n",
      "   macro avg       0.72      0.72      0.72      2000\n",
      "weighted avg       0.72      0.72      0.72      2000\n",
      "\n"
     ]
    }
   ],
   "source": [
    "from sklearn.metrics import confusion_matrix, accuracy_score,classification_report\n",
    "cm = confusion_matrix(y_test, y_pred)\n",
    "print(cm)\n",
    "accuracy_score(y_test, y_pred)\n",
    "\n",
    "print(classification_report(y_test, y_pred))\n"
   ]
  },
  {
   "cell_type": "code",
   "execution_count": null,
   "metadata": {
    "id": "naR2WvY2MkRm"
   },
   "outputs": [],
   "source": []
  },
  {
   "cell_type": "markdown",
   "metadata": {
    "id": "G8HPTsz0MkRn"
   },
   "source": [
    "### Random Forest Classification\n"
   ]
  },
  {
   "cell_type": "code",
   "execution_count": null,
   "metadata": {
    "colab": {
     "base_uri": "https://localhost:8080/"
    },
    "executionInfo": {
     "elapsed": 47592,
     "status": "ok",
     "timestamp": 1640507310130,
     "user": {
      "displayName": "Nishant wadhwani",
      "photoUrl": "https://lh3.googleusercontent.com/a-/AOh14Gjnn_M-nxVO-GHfPkftHjSsX-Ulopf1dqkz5rCwgg=s64",
      "userId": "18292067457856021938"
     },
     "user_tz": -330
    },
    "id": "I7RoHtquMkRn",
    "outputId": "1c6bf20f-4c08-4dd0-a702-84e31b80ef5b"
   },
   "outputs": [
    {
     "data": {
      "text/plain": [
       "RandomForestClassifier(criterion='entropy', random_state=0)"
      ]
     },
     "execution_count": 36,
     "metadata": {},
     "output_type": "execute_result"
    }
   ],
   "source": [
    "from sklearn.ensemble import RandomForestClassifier\n",
    "classifier = RandomForestClassifier(n_estimators = 100, criterion = 'entropy', random_state = 0)\n",
    "classifier.fit(X_train, y_train)\n"
   ]
  },
  {
   "cell_type": "code",
   "execution_count": null,
   "metadata": {
    "colab": {
     "base_uri": "https://localhost:8080/"
    },
    "executionInfo": {
     "elapsed": 35,
     "status": "ok",
     "timestamp": 1640507310131,
     "user": {
      "displayName": "Nishant wadhwani",
      "photoUrl": "https://lh3.googleusercontent.com/a-/AOh14Gjnn_M-nxVO-GHfPkftHjSsX-Ulopf1dqkz5rCwgg=s64",
      "userId": "18292067457856021938"
     },
     "user_tz": -330
    },
    "id": "NHi91a1rMkRo",
    "outputId": "03e64477-524b-4688-b6c4-f981448fa8d9"
   },
   "outputs": [
    {
     "name": "stdout",
     "output_type": "stream",
     "text": [
      "[[0 0]\n",
      " [1 1]\n",
      " [0 0]\n",
      " ...\n",
      " [1 1]\n",
      " [0 0]\n",
      " [1 1]]\n"
     ]
    }
   ],
   "source": [
    "y_pred = classifier.predict(X_test)\n",
    "print(np.concatenate((y_pred.reshape(len(y_pred),1), y_test.reshape(len(y_test),1)),1))\n"
   ]
  },
  {
   "cell_type": "code",
   "execution_count": null,
   "metadata": {
    "colab": {
     "base_uri": "https://localhost:8080/"
    },
    "executionInfo": {
     "elapsed": 30,
     "status": "ok",
     "timestamp": 1640507310132,
     "user": {
      "displayName": "Nishant wadhwani",
      "photoUrl": "https://lh3.googleusercontent.com/a-/AOh14Gjnn_M-nxVO-GHfPkftHjSsX-Ulopf1dqkz5rCwgg=s64",
      "userId": "18292067457856021938"
     },
     "user_tz": -330
    },
    "id": "oK8J7AYQMkRo",
    "outputId": "baca6047-bf76-4d32-faae-8cff37d0635c"
   },
   "outputs": [
    {
     "name": "stdout",
     "output_type": "stream",
     "text": [
      "[[843 154]\n",
      " [162 841]]\n",
      "              precision    recall  f1-score   support\n",
      "\n",
      "           0       0.84      0.85      0.84       997\n",
      "           1       0.85      0.84      0.84      1003\n",
      "\n",
      "    accuracy                           0.84      2000\n",
      "   macro avg       0.84      0.84      0.84      2000\n",
      "weighted avg       0.84      0.84      0.84      2000\n",
      "\n"
     ]
    }
   ],
   "source": [
    "from sklearn.metrics import confusion_matrix, accuracy_score,classification_report\n",
    "cm = confusion_matrix(y_test, y_pred)\n",
    "print(cm)\n",
    "accuracy_score(y_test, y_pred)\n",
    "\n",
    "print(classification_report(y_test, y_pred))\n"
   ]
  },
  {
   "cell_type": "code",
   "execution_count": null,
   "metadata": {
    "id": "1p4x6DdqMkRo"
   },
   "outputs": [],
   "source": [
    "\n",
    "\n"
   ]
  },
  {
   "cell_type": "markdown",
   "metadata": {
    "id": "flu8La7bMkRp"
   },
   "source": [
    "### ADABOOST CLASSIFIER\n"
   ]
  },
  {
   "cell_type": "code",
   "execution_count": null,
   "metadata": {
    "colab": {
     "base_uri": "https://localhost:8080/"
    },
    "executionInfo": {
     "elapsed": 106858,
     "status": "ok",
     "timestamp": 1640507416970,
     "user": {
      "displayName": "Nishant wadhwani",
      "photoUrl": "https://lh3.googleusercontent.com/a-/AOh14Gjnn_M-nxVO-GHfPkftHjSsX-Ulopf1dqkz5rCwgg=s64",
      "userId": "18292067457856021938"
     },
     "user_tz": -330
    },
    "id": "RFrg5eymMkRp",
    "outputId": "33487b08-a0eb-495b-83cd-6f6ea019133b"
   },
   "outputs": [
    {
     "data": {
      "text/plain": [
       "AdaBoostClassifier(learning_rate=1)"
      ]
     },
     "execution_count": 39,
     "metadata": {},
     "output_type": "execute_result"
    }
   ],
   "source": [
    "from sklearn.ensemble import AdaBoostClassifier\n",
    "classifier = AdaBoostClassifier(n_estimators=50,\n",
    "                         learning_rate=1)\n",
    "# Train Adaboost Classifer\n",
    "classifier.fit(X_train, y_train)\n",
    "\n"
   ]
  },
  {
   "cell_type": "code",
   "execution_count": null,
   "metadata": {
    "colab": {
     "base_uri": "https://localhost:8080/"
    },
    "executionInfo": {
     "elapsed": 3391,
     "status": "ok",
     "timestamp": 1640507420339,
     "user": {
      "displayName": "Nishant wadhwani",
      "photoUrl": "https://lh3.googleusercontent.com/a-/AOh14Gjnn_M-nxVO-GHfPkftHjSsX-Ulopf1dqkz5rCwgg=s64",
      "userId": "18292067457856021938"
     },
     "user_tz": -330
    },
    "id": "cozj6WgIMkRq",
    "outputId": "9c2006d6-28ab-49f2-b032-b01533be0126"
   },
   "outputs": [
    {
     "name": "stdout",
     "output_type": "stream",
     "text": [
      "[[0 0]\n",
      " [1 1]\n",
      " [0 0]\n",
      " ...\n",
      " [1 1]\n",
      " [0 0]\n",
      " [1 1]]\n"
     ]
    }
   ],
   "source": [
    "y_pred = classifier.predict(X_test)\n",
    "print(np.concatenate((y_pred.reshape(len(y_pred),1), y_test.reshape(len(y_test),1)),1))\n"
   ]
  },
  {
   "cell_type": "code",
   "execution_count": null,
   "metadata": {
    "colab": {
     "base_uri": "https://localhost:8080/"
    },
    "executionInfo": {
     "elapsed": 16,
     "status": "ok",
     "timestamp": 1640507420340,
     "user": {
      "displayName": "Nishant wadhwani",
      "photoUrl": "https://lh3.googleusercontent.com/a-/AOh14Gjnn_M-nxVO-GHfPkftHjSsX-Ulopf1dqkz5rCwgg=s64",
      "userId": "18292067457856021938"
     },
     "user_tz": -330
    },
    "id": "D_A9RlcJMkRq",
    "outputId": "586d4095-93ef-42d6-b20e-f63277410d9a"
   },
   "outputs": [
    {
     "name": "stdout",
     "output_type": "stream",
     "text": [
      "[[856 141]\n",
      " [312 691]]\n",
      "              precision    recall  f1-score   support\n",
      "\n",
      "           0       0.73      0.86      0.79       997\n",
      "           1       0.83      0.69      0.75      1003\n",
      "\n",
      "    accuracy                           0.77      2000\n",
      "   macro avg       0.78      0.77      0.77      2000\n",
      "weighted avg       0.78      0.77      0.77      2000\n",
      "\n"
     ]
    }
   ],
   "source": [
    "from sklearn.metrics import confusion_matrix, accuracy_score,classification_report\n",
    "cm = confusion_matrix(y_test, y_pred)\n",
    "print(cm)\n",
    "accuracy_score(y_test, y_pred)\n",
    "\n",
    "print(classification_report(y_test, y_pred))\n"
   ]
  },
  {
   "cell_type": "code",
   "execution_count": null,
   "metadata": {
    "id": "IKhv18nOMkRr"
   },
   "outputs": [],
   "source": [
    "\n"
   ]
  },
  {
   "cell_type": "markdown",
   "metadata": {
    "id": "MsnTg9bdMkRs"
   },
   "source": [
    "### XGBOOST CLASSIFIER\n"
   ]
  },
  {
   "cell_type": "code",
   "execution_count": null,
   "metadata": {
    "colab": {
     "base_uri": "https://localhost:8080/"
    },
    "executionInfo": {
     "elapsed": 212523,
     "status": "ok",
     "timestamp": 1640507632856,
     "user": {
      "displayName": "Nishant wadhwani",
      "photoUrl": "https://lh3.googleusercontent.com/a-/AOh14Gjnn_M-nxVO-GHfPkftHjSsX-Ulopf1dqkz5rCwgg=s64",
      "userId": "18292067457856021938"
     },
     "user_tz": -330
    },
    "id": "qGvTOA2zMkRs",
    "outputId": "f7b25649-c62f-4431-8088-779fdcaaaab4"
   },
   "outputs": [
    {
     "data": {
      "text/plain": [
       "XGBClassifier()"
      ]
     },
     "execution_count": 42,
     "metadata": {},
     "output_type": "execute_result"
    }
   ],
   "source": [
    "from xgboost import XGBClassifier\n",
    "classifier = XGBClassifier()\n",
    "classifier.fit(X_train, y_train)\n"
   ]
  },
  {
   "cell_type": "code",
   "execution_count": null,
   "metadata": {
    "colab": {
     "base_uri": "https://localhost:8080/"
    },
    "executionInfo": {
     "elapsed": 48,
     "status": "ok",
     "timestamp": 1640507632857,
     "user": {
      "displayName": "Nishant wadhwani",
      "photoUrl": "https://lh3.googleusercontent.com/a-/AOh14Gjnn_M-nxVO-GHfPkftHjSsX-Ulopf1dqkz5rCwgg=s64",
      "userId": "18292067457856021938"
     },
     "user_tz": -330
    },
    "id": "F6_9PbyEMkRt",
    "outputId": "23b3a8ae-0844-4898-eda3-82ef3522c6e5"
   },
   "outputs": [
    {
     "name": "stdout",
     "output_type": "stream",
     "text": [
      "[[0 0]\n",
      " [1 1]\n",
      " [0 0]\n",
      " ...\n",
      " [1 1]\n",
      " [0 0]\n",
      " [1 1]]\n"
     ]
    }
   ],
   "source": [
    "y_pred = classifier.predict(X_test)\n",
    "print(np.concatenate((y_pred.reshape(len(y_pred),1), y_test.reshape(len(y_test),1)),1))\n"
   ]
  },
  {
   "cell_type": "code",
   "execution_count": null,
   "metadata": {
    "colab": {
     "base_uri": "https://localhost:8080/"
    },
    "executionInfo": {
     "elapsed": 42,
     "status": "ok",
     "timestamp": 1640507632858,
     "user": {
      "displayName": "Nishant wadhwani",
      "photoUrl": "https://lh3.googleusercontent.com/a-/AOh14Gjnn_M-nxVO-GHfPkftHjSsX-Ulopf1dqkz5rCwgg=s64",
      "userId": "18292067457856021938"
     },
     "user_tz": -330
    },
    "id": "RNEhSe-UMkRt",
    "outputId": "af0b388c-84e3-4894-ad94-b2b4be4235ff"
   },
   "outputs": [
    {
     "name": "stdout",
     "output_type": "stream",
     "text": [
      "[[837 160]\n",
      " [280 723]]\n",
      "              precision    recall  f1-score   support\n",
      "\n",
      "           0       0.75      0.84      0.79       997\n",
      "           1       0.82      0.72      0.77      1003\n",
      "\n",
      "    accuracy                           0.78      2000\n",
      "   macro avg       0.78      0.78      0.78      2000\n",
      "weighted avg       0.78      0.78      0.78      2000\n",
      "\n"
     ]
    }
   ],
   "source": [
    "from sklearn.metrics import confusion_matrix, accuracy_score,classification_report\n",
    "cm = confusion_matrix(y_test, y_pred)\n",
    "print(cm)\n",
    "accuracy_score(y_test, y_pred)\n",
    "\n",
    "print(classification_report(y_test, y_pred))\n"
   ]
  },
  {
   "cell_type": "code",
   "execution_count": null,
   "metadata": {
    "id": "ssdo8fTJMkRt"
   },
   "outputs": [],
   "source": [
    "\n"
   ]
  },
  {
   "cell_type": "markdown",
   "metadata": {
    "id": "JkhZDGA6MkRu"
   },
   "source": [
    "### CATBOOST Classifier\n"
   ]
  },
  {
   "cell_type": "code",
   "execution_count": null,
   "metadata": {
    "colab": {
     "base_uri": "https://localhost:8080/"
    },
    "executionInfo": {
     "elapsed": 325402,
     "status": "ok",
     "timestamp": 1640507958226,
     "user": {
      "displayName": "Nishant wadhwani",
      "photoUrl": "https://lh3.googleusercontent.com/a-/AOh14Gjnn_M-nxVO-GHfPkftHjSsX-Ulopf1dqkz5rCwgg=s64",
      "userId": "18292067457856021938"
     },
     "user_tz": -330
    },
    "id": "iMjFQgRjMkRu",
    "outputId": "a78cdf42-e7e5-460d-a064-4000b80bd017"
   },
   "outputs": [
    {
     "name": "stdout",
     "output_type": "stream",
     "text": [
      "Learning rate set to 0.025035\n",
      "0:\tlearn: 0.6870383\ttotal: 352ms\tremaining: 5m 52s\n",
      "1:\tlearn: 0.6821320\ttotal: 636ms\tremaining: 5m 17s\n",
      "2:\tlearn: 0.6764197\ttotal: 916ms\tremaining: 5m 4s\n",
      "3:\tlearn: 0.6707354\ttotal: 1.19s\tremaining: 4m 55s\n",
      "4:\tlearn: 0.6662434\ttotal: 1.45s\tremaining: 4m 48s\n",
      "5:\tlearn: 0.6625005\ttotal: 1.72s\tremaining: 4m 45s\n",
      "6:\tlearn: 0.6581280\ttotal: 1.99s\tremaining: 4m 41s\n",
      "7:\tlearn: 0.6539805\ttotal: 2.25s\tremaining: 4m 39s\n",
      "8:\tlearn: 0.6510035\ttotal: 2.52s\tremaining: 4m 37s\n",
      "9:\tlearn: 0.6474124\ttotal: 2.79s\tremaining: 4m 36s\n",
      "10:\tlearn: 0.6437120\ttotal: 3.06s\tremaining: 4m 35s\n",
      "11:\tlearn: 0.6393795\ttotal: 3.33s\tremaining: 4m 33s\n",
      "12:\tlearn: 0.6358827\ttotal: 3.6s\tremaining: 4m 33s\n",
      "13:\tlearn: 0.6336783\ttotal: 3.88s\tremaining: 4m 33s\n",
      "14:\tlearn: 0.6308237\ttotal: 4.14s\tremaining: 4m 32s\n",
      "15:\tlearn: 0.6279966\ttotal: 4.4s\tremaining: 4m 30s\n",
      "16:\tlearn: 0.6252723\ttotal: 4.67s\tremaining: 4m 29s\n",
      "17:\tlearn: 0.6217595\ttotal: 4.94s\tremaining: 4m 29s\n",
      "18:\tlearn: 0.6188102\ttotal: 5.22s\tremaining: 4m 29s\n",
      "19:\tlearn: 0.6165345\ttotal: 5.49s\tremaining: 4m 28s\n",
      "20:\tlearn: 0.6137853\ttotal: 5.75s\tremaining: 4m 27s\n",
      "21:\tlearn: 0.6113895\ttotal: 6.03s\tremaining: 4m 27s\n",
      "22:\tlearn: 0.6093412\ttotal: 6.3s\tremaining: 4m 27s\n",
      "23:\tlearn: 0.6066241\ttotal: 6.56s\tremaining: 4m 26s\n",
      "24:\tlearn: 0.6046603\ttotal: 6.82s\tremaining: 4m 25s\n",
      "25:\tlearn: 0.6024493\ttotal: 7.09s\tremaining: 4m 25s\n",
      "26:\tlearn: 0.6000219\ttotal: 7.36s\tremaining: 4m 25s\n",
      "27:\tlearn: 0.5980179\ttotal: 7.62s\tremaining: 4m 24s\n",
      "28:\tlearn: 0.5961340\ttotal: 7.89s\tremaining: 4m 24s\n",
      "29:\tlearn: 0.5944873\ttotal: 8.16s\tremaining: 4m 23s\n",
      "30:\tlearn: 0.5925574\ttotal: 8.43s\tremaining: 4m 23s\n",
      "31:\tlearn: 0.5907498\ttotal: 8.69s\tremaining: 4m 22s\n",
      "32:\tlearn: 0.5890125\ttotal: 8.97s\tremaining: 4m 22s\n",
      "33:\tlearn: 0.5874449\ttotal: 9.24s\tremaining: 4m 22s\n",
      "34:\tlearn: 0.5854216\ttotal: 9.51s\tremaining: 4m 22s\n",
      "35:\tlearn: 0.5837673\ttotal: 9.77s\tremaining: 4m 21s\n",
      "36:\tlearn: 0.5822136\ttotal: 10s\tremaining: 4m 21s\n",
      "37:\tlearn: 0.5806434\ttotal: 10.3s\tremaining: 4m 21s\n",
      "38:\tlearn: 0.5791199\ttotal: 10.6s\tremaining: 4m 20s\n",
      "39:\tlearn: 0.5775724\ttotal: 10.9s\tremaining: 4m 20s\n",
      "40:\tlearn: 0.5762238\ttotal: 11.1s\tremaining: 4m 20s\n",
      "41:\tlearn: 0.5746826\ttotal: 11.4s\tremaining: 4m 20s\n",
      "42:\tlearn: 0.5732186\ttotal: 11.7s\tremaining: 4m 19s\n",
      "43:\tlearn: 0.5718250\ttotal: 11.9s\tremaining: 4m 19s\n",
      "44:\tlearn: 0.5705571\ttotal: 12.2s\tremaining: 4m 19s\n",
      "45:\tlearn: 0.5694661\ttotal: 12.5s\tremaining: 4m 18s\n",
      "46:\tlearn: 0.5681035\ttotal: 12.8s\tremaining: 4m 18s\n",
      "47:\tlearn: 0.5671162\ttotal: 13s\tremaining: 4m 18s\n",
      "48:\tlearn: 0.5659860\ttotal: 13.3s\tremaining: 4m 17s\n",
      "49:\tlearn: 0.5646494\ttotal: 13.5s\tremaining: 4m 17s\n",
      "50:\tlearn: 0.5631953\ttotal: 13.8s\tremaining: 4m 17s\n",
      "51:\tlearn: 0.5617705\ttotal: 14.1s\tremaining: 4m 16s\n",
      "52:\tlearn: 0.5606575\ttotal: 14.4s\tremaining: 4m 16s\n",
      "53:\tlearn: 0.5594840\ttotal: 14.6s\tremaining: 4m 16s\n",
      "54:\tlearn: 0.5583649\ttotal: 14.9s\tremaining: 4m 15s\n",
      "55:\tlearn: 0.5570905\ttotal: 15.2s\tremaining: 4m 15s\n",
      "56:\tlearn: 0.5559201\ttotal: 15.4s\tremaining: 4m 15s\n",
      "57:\tlearn: 0.5549498\ttotal: 15.7s\tremaining: 4m 15s\n",
      "58:\tlearn: 0.5540737\ttotal: 16s\tremaining: 4m 14s\n",
      "59:\tlearn: 0.5529717\ttotal: 16.2s\tremaining: 4m 14s\n",
      "60:\tlearn: 0.5521993\ttotal: 16.5s\tremaining: 4m 14s\n",
      "61:\tlearn: 0.5508712\ttotal: 16.8s\tremaining: 4m 13s\n",
      "62:\tlearn: 0.5498769\ttotal: 17s\tremaining: 4m 13s\n",
      "63:\tlearn: 0.5489846\ttotal: 17.3s\tremaining: 4m 13s\n",
      "64:\tlearn: 0.5481398\ttotal: 17.6s\tremaining: 4m 12s\n",
      "65:\tlearn: 0.5473235\ttotal: 17.8s\tremaining: 4m 12s\n",
      "66:\tlearn: 0.5464050\ttotal: 18.1s\tremaining: 4m 12s\n",
      "67:\tlearn: 0.5455947\ttotal: 18.4s\tremaining: 4m 11s\n",
      "68:\tlearn: 0.5446920\ttotal: 18.6s\tremaining: 4m 11s\n",
      "69:\tlearn: 0.5435692\ttotal: 18.9s\tremaining: 4m 11s\n",
      "70:\tlearn: 0.5426927\ttotal: 19.2s\tremaining: 4m 10s\n",
      "71:\tlearn: 0.5417846\ttotal: 19.4s\tremaining: 4m 10s\n",
      "72:\tlearn: 0.5408898\ttotal: 19.7s\tremaining: 4m 10s\n",
      "73:\tlearn: 0.5402026\ttotal: 20s\tremaining: 4m 10s\n",
      "74:\tlearn: 0.5394343\ttotal: 20.3s\tremaining: 4m 9s\n",
      "75:\tlearn: 0.5386599\ttotal: 20.5s\tremaining: 4m 9s\n",
      "76:\tlearn: 0.5377838\ttotal: 20.8s\tremaining: 4m 9s\n",
      "77:\tlearn: 0.5370113\ttotal: 21.1s\tremaining: 4m 8s\n",
      "78:\tlearn: 0.5359916\ttotal: 21.3s\tremaining: 4m 8s\n",
      "79:\tlearn: 0.5353026\ttotal: 21.6s\tremaining: 4m 8s\n",
      "80:\tlearn: 0.5345222\ttotal: 21.9s\tremaining: 4m 8s\n",
      "81:\tlearn: 0.5338999\ttotal: 22.2s\tremaining: 4m 8s\n",
      "82:\tlearn: 0.5330436\ttotal: 22.4s\tremaining: 4m 7s\n",
      "83:\tlearn: 0.5322336\ttotal: 22.7s\tremaining: 4m 7s\n",
      "84:\tlearn: 0.5314194\ttotal: 22.9s\tremaining: 4m 7s\n",
      "85:\tlearn: 0.5304329\ttotal: 23.2s\tremaining: 4m 6s\n",
      "86:\tlearn: 0.5296508\ttotal: 23.5s\tremaining: 4m 6s\n",
      "87:\tlearn: 0.5287772\ttotal: 23.8s\tremaining: 4m 6s\n",
      "88:\tlearn: 0.5280003\ttotal: 24s\tremaining: 4m 5s\n",
      "89:\tlearn: 0.5272540\ttotal: 24.3s\tremaining: 4m 5s\n",
      "90:\tlearn: 0.5264360\ttotal: 24.6s\tremaining: 4m 5s\n",
      "91:\tlearn: 0.5258408\ttotal: 24.8s\tremaining: 4m 4s\n",
      "92:\tlearn: 0.5252993\ttotal: 25.1s\tremaining: 4m 4s\n",
      "93:\tlearn: 0.5244048\ttotal: 25.4s\tremaining: 4m 4s\n",
      "94:\tlearn: 0.5237133\ttotal: 25.6s\tremaining: 4m 4s\n",
      "95:\tlearn: 0.5228824\ttotal: 25.9s\tremaining: 4m 3s\n",
      "96:\tlearn: 0.5223306\ttotal: 26.1s\tremaining: 4m 3s\n",
      "97:\tlearn: 0.5217266\ttotal: 26.4s\tremaining: 4m 3s\n",
      "98:\tlearn: 0.5209052\ttotal: 26.7s\tremaining: 4m 2s\n",
      "99:\tlearn: 0.5203224\ttotal: 26.9s\tremaining: 4m 2s\n",
      "100:\tlearn: 0.5195210\ttotal: 27.2s\tremaining: 4m 2s\n",
      "101:\tlearn: 0.5188003\ttotal: 27.5s\tremaining: 4m 1s\n",
      "102:\tlearn: 0.5180479\ttotal: 27.7s\tremaining: 4m 1s\n",
      "103:\tlearn: 0.5175675\ttotal: 28s\tremaining: 4m 1s\n",
      "104:\tlearn: 0.5169996\ttotal: 28.3s\tremaining: 4m 1s\n",
      "105:\tlearn: 0.5163656\ttotal: 28.6s\tremaining: 4m\n",
      "106:\tlearn: 0.5157118\ttotal: 28.8s\tremaining: 4m\n",
      "107:\tlearn: 0.5150516\ttotal: 29.1s\tremaining: 4m\n",
      "108:\tlearn: 0.5143043\ttotal: 29.3s\tremaining: 3m 59s\n",
      "109:\tlearn: 0.5136830\ttotal: 29.6s\tremaining: 3m 59s\n",
      "110:\tlearn: 0.5133553\ttotal: 29.9s\tremaining: 3m 59s\n",
      "111:\tlearn: 0.5127606\ttotal: 30.1s\tremaining: 3m 58s\n",
      "112:\tlearn: 0.5120866\ttotal: 30.4s\tremaining: 3m 58s\n",
      "113:\tlearn: 0.5114767\ttotal: 30.7s\tremaining: 3m 58s\n",
      "114:\tlearn: 0.5107387\ttotal: 30.9s\tremaining: 3m 58s\n",
      "115:\tlearn: 0.5101926\ttotal: 31.2s\tremaining: 3m 57s\n",
      "116:\tlearn: 0.5097086\ttotal: 31.5s\tremaining: 3m 57s\n",
      "117:\tlearn: 0.5092218\ttotal: 31.7s\tremaining: 3m 57s\n",
      "118:\tlearn: 0.5087041\ttotal: 32s\tremaining: 3m 56s\n",
      "119:\tlearn: 0.5082621\ttotal: 32.3s\tremaining: 3m 56s\n",
      "120:\tlearn: 0.5077336\ttotal: 32.6s\tremaining: 3m 56s\n",
      "121:\tlearn: 0.5071165\ttotal: 32.8s\tremaining: 3m 56s\n",
      "122:\tlearn: 0.5064120\ttotal: 33.1s\tremaining: 3m 56s\n",
      "123:\tlearn: 0.5059890\ttotal: 33.4s\tremaining: 3m 55s\n",
      "124:\tlearn: 0.5055848\ttotal: 33.7s\tremaining: 3m 55s\n",
      "125:\tlearn: 0.5049321\ttotal: 33.9s\tremaining: 3m 55s\n",
      "126:\tlearn: 0.5043699\ttotal: 34.2s\tremaining: 3m 55s\n",
      "127:\tlearn: 0.5038777\ttotal: 34.5s\tremaining: 3m 54s\n",
      "128:\tlearn: 0.5033328\ttotal: 34.7s\tremaining: 3m 54s\n",
      "129:\tlearn: 0.5027477\ttotal: 35s\tremaining: 3m 54s\n",
      "130:\tlearn: 0.5021259\ttotal: 35.3s\tremaining: 3m 53s\n",
      "131:\tlearn: 0.5016754\ttotal: 35.5s\tremaining: 3m 53s\n",
      "132:\tlearn: 0.5012119\ttotal: 35.8s\tremaining: 3m 53s\n",
      "133:\tlearn: 0.5006613\ttotal: 36.1s\tremaining: 3m 53s\n",
      "134:\tlearn: 0.5000732\ttotal: 36.3s\tremaining: 3m 52s\n",
      "135:\tlearn: 0.4995970\ttotal: 36.6s\tremaining: 3m 52s\n",
      "136:\tlearn: 0.4989781\ttotal: 36.8s\tremaining: 3m 52s\n",
      "137:\tlearn: 0.4985288\ttotal: 37.1s\tremaining: 3m 51s\n",
      "138:\tlearn: 0.4980281\ttotal: 37.4s\tremaining: 3m 51s\n",
      "139:\tlearn: 0.4973445\ttotal: 37.7s\tremaining: 3m 51s\n",
      "140:\tlearn: 0.4968771\ttotal: 37.9s\tremaining: 3m 51s\n",
      "141:\tlearn: 0.4963835\ttotal: 38.2s\tremaining: 3m 50s\n",
      "142:\tlearn: 0.4959583\ttotal: 38.5s\tremaining: 3m 50s\n",
      "143:\tlearn: 0.4954764\ttotal: 38.7s\tremaining: 3m 50s\n",
      "144:\tlearn: 0.4950720\ttotal: 39s\tremaining: 3m 49s\n",
      "145:\tlearn: 0.4946433\ttotal: 39.2s\tremaining: 3m 49s\n",
      "146:\tlearn: 0.4941221\ttotal: 39.5s\tremaining: 3m 49s\n",
      "147:\tlearn: 0.4937219\ttotal: 39.8s\tremaining: 3m 48s\n",
      "148:\tlearn: 0.4932609\ttotal: 40s\tremaining: 3m 48s\n",
      "149:\tlearn: 0.4928203\ttotal: 40.3s\tremaining: 3m 48s\n",
      "150:\tlearn: 0.4924278\ttotal: 40.5s\tremaining: 3m 47s\n",
      "151:\tlearn: 0.4919120\ttotal: 40.8s\tremaining: 3m 47s\n",
      "152:\tlearn: 0.4915273\ttotal: 41.1s\tremaining: 3m 47s\n",
      "153:\tlearn: 0.4910968\ttotal: 41.3s\tremaining: 3m 47s\n",
      "154:\tlearn: 0.4906655\ttotal: 41.6s\tremaining: 3m 46s\n",
      "155:\tlearn: 0.4902648\ttotal: 41.9s\tremaining: 3m 46s\n",
      "156:\tlearn: 0.4898972\ttotal: 42.1s\tremaining: 3m 46s\n",
      "157:\tlearn: 0.4894331\ttotal: 42.4s\tremaining: 3m 45s\n",
      "158:\tlearn: 0.4890899\ttotal: 42.7s\tremaining: 3m 45s\n",
      "159:\tlearn: 0.4884747\ttotal: 42.9s\tremaining: 3m 45s\n",
      "160:\tlearn: 0.4881215\ttotal: 43.2s\tremaining: 3m 45s\n",
      "161:\tlearn: 0.4876800\ttotal: 43.5s\tremaining: 3m 44s\n",
      "162:\tlearn: 0.4873003\ttotal: 43.7s\tremaining: 3m 44s\n",
      "163:\tlearn: 0.4869451\ttotal: 44s\tremaining: 3m 44s\n",
      "164:\tlearn: 0.4864909\ttotal: 44.3s\tremaining: 3m 44s\n",
      "165:\tlearn: 0.4860643\ttotal: 44.5s\tremaining: 3m 43s\n",
      "166:\tlearn: 0.4855701\ttotal: 44.8s\tremaining: 3m 43s\n",
      "167:\tlearn: 0.4852251\ttotal: 45.1s\tremaining: 3m 43s\n",
      "168:\tlearn: 0.4848641\ttotal: 45.4s\tremaining: 3m 43s\n",
      "169:\tlearn: 0.4842509\ttotal: 45.6s\tremaining: 3m 42s\n",
      "170:\tlearn: 0.4838444\ttotal: 45.9s\tremaining: 3m 42s\n",
      "171:\tlearn: 0.4835136\ttotal: 46.2s\tremaining: 3m 42s\n",
      "172:\tlearn: 0.4831306\ttotal: 46.4s\tremaining: 3m 42s\n",
      "173:\tlearn: 0.4826696\ttotal: 46.7s\tremaining: 3m 41s\n",
      "174:\tlearn: 0.4824101\ttotal: 47s\tremaining: 3m 41s\n",
      "175:\tlearn: 0.4820504\ttotal: 47.3s\tremaining: 3m 41s\n",
      "176:\tlearn: 0.4816200\ttotal: 47.5s\tremaining: 3m 40s\n",
      "177:\tlearn: 0.4810194\ttotal: 47.8s\tremaining: 3m 40s\n",
      "178:\tlearn: 0.4806889\ttotal: 48s\tremaining: 3m 40s\n",
      "179:\tlearn: 0.4802234\ttotal: 48.3s\tremaining: 3m 40s\n",
      "180:\tlearn: 0.4797927\ttotal: 48.6s\tremaining: 3m 39s\n",
      "181:\tlearn: 0.4793833\ttotal: 48.8s\tremaining: 3m 39s\n",
      "182:\tlearn: 0.4790409\ttotal: 49.1s\tremaining: 3m 39s\n",
      "183:\tlearn: 0.4785927\ttotal: 49.4s\tremaining: 3m 38s\n",
      "184:\tlearn: 0.4783117\ttotal: 49.6s\tremaining: 3m 38s\n",
      "185:\tlearn: 0.4779650\ttotal: 49.9s\tremaining: 3m 38s\n",
      "186:\tlearn: 0.4774945\ttotal: 50.2s\tremaining: 3m 38s\n",
      "187:\tlearn: 0.4771297\ttotal: 50.4s\tremaining: 3m 37s\n",
      "188:\tlearn: 0.4768049\ttotal: 50.7s\tremaining: 3m 37s\n",
      "189:\tlearn: 0.4763130\ttotal: 51s\tremaining: 3m 37s\n",
      "190:\tlearn: 0.4759356\ttotal: 51.2s\tremaining: 3m 37s\n",
      "191:\tlearn: 0.4755568\ttotal: 51.5s\tremaining: 3m 36s\n",
      "192:\tlearn: 0.4752132\ttotal: 51.8s\tremaining: 3m 36s\n",
      "193:\tlearn: 0.4748875\ttotal: 52s\tremaining: 3m 36s\n",
      "194:\tlearn: 0.4743790\ttotal: 52.3s\tremaining: 3m 35s\n",
      "195:\tlearn: 0.4741373\ttotal: 52.6s\tremaining: 3m 35s\n",
      "196:\tlearn: 0.4737182\ttotal: 52.9s\tremaining: 3m 35s\n",
      "197:\tlearn: 0.4733165\ttotal: 53.2s\tremaining: 3m 35s\n",
      "198:\tlearn: 0.4729638\ttotal: 53.5s\tremaining: 3m 35s\n",
      "199:\tlearn: 0.4725927\ttotal: 53.7s\tremaining: 3m 34s\n",
      "200:\tlearn: 0.4722385\ttotal: 54s\tremaining: 3m 34s\n",
      "201:\tlearn: 0.4718141\ttotal: 54.2s\tremaining: 3m 34s\n",
      "202:\tlearn: 0.4715324\ttotal: 54.5s\tremaining: 3m 33s\n",
      "203:\tlearn: 0.4711662\ttotal: 54.8s\tremaining: 3m 33s\n",
      "204:\tlearn: 0.4708443\ttotal: 55s\tremaining: 3m 33s\n",
      "205:\tlearn: 0.4704291\ttotal: 55.3s\tremaining: 3m 33s\n",
      "206:\tlearn: 0.4701720\ttotal: 55.6s\tremaining: 3m 32s\n",
      "207:\tlearn: 0.4698844\ttotal: 55.8s\tremaining: 3m 32s\n",
      "208:\tlearn: 0.4695558\ttotal: 56.1s\tremaining: 3m 32s\n",
      "209:\tlearn: 0.4691503\ttotal: 56.4s\tremaining: 3m 32s\n",
      "210:\tlearn: 0.4688481\ttotal: 56.6s\tremaining: 3m 31s\n",
      "211:\tlearn: 0.4685295\ttotal: 56.9s\tremaining: 3m 31s\n",
      "212:\tlearn: 0.4681999\ttotal: 57.2s\tremaining: 3m 31s\n",
      "213:\tlearn: 0.4678622\ttotal: 57.4s\tremaining: 3m 30s\n",
      "214:\tlearn: 0.4673972\ttotal: 57.7s\tremaining: 3m 30s\n",
      "215:\tlearn: 0.4670092\ttotal: 58s\tremaining: 3m 30s\n",
      "216:\tlearn: 0.4666613\ttotal: 58.2s\tremaining: 3m 30s\n",
      "217:\tlearn: 0.4663394\ttotal: 58.5s\tremaining: 3m 29s\n",
      "218:\tlearn: 0.4660943\ttotal: 58.7s\tremaining: 3m 29s\n",
      "219:\tlearn: 0.4657750\ttotal: 59s\tremaining: 3m 29s\n",
      "220:\tlearn: 0.4654803\ttotal: 59.3s\tremaining: 3m 28s\n",
      "221:\tlearn: 0.4651577\ttotal: 59.5s\tremaining: 3m 28s\n",
      "222:\tlearn: 0.4647867\ttotal: 59.8s\tremaining: 3m 28s\n",
      "223:\tlearn: 0.4644757\ttotal: 1m\tremaining: 3m 28s\n",
      "224:\tlearn: 0.4640865\ttotal: 1m\tremaining: 3m 27s\n",
      "225:\tlearn: 0.4638265\ttotal: 1m\tremaining: 3m 27s\n",
      "226:\tlearn: 0.4635606\ttotal: 1m\tremaining: 3m 27s\n",
      "227:\tlearn: 0.4631979\ttotal: 1m 1s\tremaining: 3m 27s\n",
      "228:\tlearn: 0.4628868\ttotal: 1m 1s\tremaining: 3m 26s\n",
      "229:\tlearn: 0.4624513\ttotal: 1m 1s\tremaining: 3m 26s\n",
      "230:\tlearn: 0.4622003\ttotal: 1m 1s\tremaining: 3m 26s\n",
      "231:\tlearn: 0.4618676\ttotal: 1m 2s\tremaining: 3m 25s\n",
      "232:\tlearn: 0.4615508\ttotal: 1m 2s\tremaining: 3m 25s\n",
      "233:\tlearn: 0.4611491\ttotal: 1m 2s\tremaining: 3m 25s\n",
      "234:\tlearn: 0.4607991\ttotal: 1m 3s\tremaining: 3m 25s\n",
      "235:\tlearn: 0.4604619\ttotal: 1m 3s\tremaining: 3m 24s\n",
      "236:\tlearn: 0.4601204\ttotal: 1m 3s\tremaining: 3m 24s\n",
      "237:\tlearn: 0.4597479\ttotal: 1m 3s\tremaining: 3m 24s\n",
      "238:\tlearn: 0.4594041\ttotal: 1m 4s\tremaining: 3m 24s\n",
      "239:\tlearn: 0.4591454\ttotal: 1m 4s\tremaining: 3m 23s\n",
      "240:\tlearn: 0.4588395\ttotal: 1m 4s\tremaining: 3m 23s\n",
      "241:\tlearn: 0.4585023\ttotal: 1m 4s\tremaining: 3m 23s\n",
      "242:\tlearn: 0.4581910\ttotal: 1m 5s\tremaining: 3m 23s\n",
      "243:\tlearn: 0.4578756\ttotal: 1m 5s\tremaining: 3m 22s\n",
      "244:\tlearn: 0.4575167\ttotal: 1m 5s\tremaining: 3m 22s\n",
      "245:\tlearn: 0.4571737\ttotal: 1m 6s\tremaining: 3m 22s\n",
      "246:\tlearn: 0.4567951\ttotal: 1m 6s\tremaining: 3m 22s\n",
      "247:\tlearn: 0.4564322\ttotal: 1m 6s\tremaining: 3m 21s\n",
      "248:\tlearn: 0.4561646\ttotal: 1m 6s\tremaining: 3m 21s\n",
      "249:\tlearn: 0.4558372\ttotal: 1m 7s\tremaining: 3m 21s\n",
      "250:\tlearn: 0.4554576\ttotal: 1m 7s\tremaining: 3m 20s\n",
      "251:\tlearn: 0.4551319\ttotal: 1m 7s\tremaining: 3m 20s\n",
      "252:\tlearn: 0.4547052\ttotal: 1m 7s\tremaining: 3m 20s\n",
      "253:\tlearn: 0.4544203\ttotal: 1m 8s\tremaining: 3m 20s\n",
      "254:\tlearn: 0.4541296\ttotal: 1m 8s\tremaining: 3m 19s\n",
      "255:\tlearn: 0.4538119\ttotal: 1m 8s\tremaining: 3m 19s\n",
      "256:\tlearn: 0.4534553\ttotal: 1m 8s\tremaining: 3m 19s\n",
      "257:\tlearn: 0.4532193\ttotal: 1m 9s\tremaining: 3m 19s\n",
      "258:\tlearn: 0.4529230\ttotal: 1m 9s\tremaining: 3m 18s\n",
      "259:\tlearn: 0.4526035\ttotal: 1m 9s\tremaining: 3m 18s\n",
      "260:\tlearn: 0.4522890\ttotal: 1m 10s\tremaining: 3m 18s\n",
      "261:\tlearn: 0.4519528\ttotal: 1m 10s\tremaining: 3m 17s\n",
      "262:\tlearn: 0.4516725\ttotal: 1m 10s\tremaining: 3m 17s\n",
      "263:\tlearn: 0.4513605\ttotal: 1m 10s\tremaining: 3m 17s\n",
      "264:\tlearn: 0.4511125\ttotal: 1m 11s\tremaining: 3m 17s\n",
      "265:\tlearn: 0.4509220\ttotal: 1m 11s\tremaining: 3m 16s\n",
      "266:\tlearn: 0.4506726\ttotal: 1m 11s\tremaining: 3m 16s\n",
      "267:\tlearn: 0.4503613\ttotal: 1m 11s\tremaining: 3m 16s\n",
      "268:\tlearn: 0.4499745\ttotal: 1m 12s\tremaining: 3m 16s\n",
      "269:\tlearn: 0.4496863\ttotal: 1m 12s\tremaining: 3m 15s\n",
      "270:\tlearn: 0.4493988\ttotal: 1m 12s\tremaining: 3m 15s\n",
      "271:\tlearn: 0.4490627\ttotal: 1m 12s\tremaining: 3m 15s\n",
      "272:\tlearn: 0.4488129\ttotal: 1m 13s\tremaining: 3m 14s\n",
      "273:\tlearn: 0.4484485\ttotal: 1m 13s\tremaining: 3m 14s\n",
      "274:\tlearn: 0.4482011\ttotal: 1m 13s\tremaining: 3m 14s\n",
      "275:\tlearn: 0.4480409\ttotal: 1m 14s\tremaining: 3m 14s\n",
      "276:\tlearn: 0.4477828\ttotal: 1m 14s\tremaining: 3m 13s\n",
      "277:\tlearn: 0.4474673\ttotal: 1m 14s\tremaining: 3m 13s\n",
      "278:\tlearn: 0.4472256\ttotal: 1m 14s\tremaining: 3m 13s\n",
      "279:\tlearn: 0.4469654\ttotal: 1m 15s\tremaining: 3m 13s\n",
      "280:\tlearn: 0.4467458\ttotal: 1m 15s\tremaining: 3m 12s\n",
      "281:\tlearn: 0.4465350\ttotal: 1m 15s\tremaining: 3m 12s\n",
      "282:\tlearn: 0.4462660\ttotal: 1m 15s\tremaining: 3m 12s\n",
      "283:\tlearn: 0.4459871\ttotal: 1m 16s\tremaining: 3m 11s\n",
      "284:\tlearn: 0.4457595\ttotal: 1m 16s\tremaining: 3m 11s\n",
      "285:\tlearn: 0.4454839\ttotal: 1m 16s\tremaining: 3m 11s\n",
      "286:\tlearn: 0.4452203\ttotal: 1m 16s\tremaining: 3m 11s\n",
      "287:\tlearn: 0.4449791\ttotal: 1m 17s\tremaining: 3m 10s\n",
      "288:\tlearn: 0.4447859\ttotal: 1m 17s\tremaining: 3m 10s\n",
      "289:\tlearn: 0.4445479\ttotal: 1m 17s\tremaining: 3m 10s\n",
      "290:\tlearn: 0.4442778\ttotal: 1m 18s\tremaining: 3m 10s\n",
      "291:\tlearn: 0.4439958\ttotal: 1m 18s\tremaining: 3m 9s\n",
      "292:\tlearn: 0.4436329\ttotal: 1m 18s\tremaining: 3m 9s\n",
      "293:\tlearn: 0.4434229\ttotal: 1m 18s\tremaining: 3m 9s\n",
      "294:\tlearn: 0.4429958\ttotal: 1m 19s\tremaining: 3m 9s\n",
      "295:\tlearn: 0.4427274\ttotal: 1m 19s\tremaining: 3m 8s\n",
      "296:\tlearn: 0.4424469\ttotal: 1m 19s\tremaining: 3m 8s\n",
      "297:\tlearn: 0.4421785\ttotal: 1m 19s\tremaining: 3m 8s\n",
      "298:\tlearn: 0.4419238\ttotal: 1m 20s\tremaining: 3m 8s\n",
      "299:\tlearn: 0.4417167\ttotal: 1m 20s\tremaining: 3m 7s\n",
      "300:\tlearn: 0.4414090\ttotal: 1m 20s\tremaining: 3m 7s\n",
      "301:\tlearn: 0.4411740\ttotal: 1m 20s\tremaining: 3m 7s\n",
      "302:\tlearn: 0.4409811\ttotal: 1m 21s\tremaining: 3m 6s\n",
      "303:\tlearn: 0.4408146\ttotal: 1m 21s\tremaining: 3m 6s\n",
      "304:\tlearn: 0.4405536\ttotal: 1m 21s\tremaining: 3m 6s\n",
      "305:\tlearn: 0.4402916\ttotal: 1m 22s\tremaining: 3m 6s\n",
      "306:\tlearn: 0.4400389\ttotal: 1m 22s\tremaining: 3m 5s\n",
      "307:\tlearn: 0.4397176\ttotal: 1m 22s\tremaining: 3m 5s\n",
      "308:\tlearn: 0.4393875\ttotal: 1m 22s\tremaining: 3m 5s\n",
      "309:\tlearn: 0.4391732\ttotal: 1m 23s\tremaining: 3m 5s\n",
      "310:\tlearn: 0.4388338\ttotal: 1m 23s\tremaining: 3m 4s\n",
      "311:\tlearn: 0.4386046\ttotal: 1m 23s\tremaining: 3m 4s\n",
      "312:\tlearn: 0.4382967\ttotal: 1m 23s\tremaining: 3m 4s\n",
      "313:\tlearn: 0.4380604\ttotal: 1m 24s\tremaining: 3m 3s\n",
      "314:\tlearn: 0.4378072\ttotal: 1m 24s\tremaining: 3m 3s\n",
      "315:\tlearn: 0.4375171\ttotal: 1m 24s\tremaining: 3m 3s\n",
      "316:\tlearn: 0.4371713\ttotal: 1m 25s\tremaining: 3m 3s\n",
      "317:\tlearn: 0.4369484\ttotal: 1m 25s\tremaining: 3m 2s\n",
      "318:\tlearn: 0.4366466\ttotal: 1m 25s\tremaining: 3m 2s\n",
      "319:\tlearn: 0.4363716\ttotal: 1m 25s\tremaining: 3m 2s\n",
      "320:\tlearn: 0.4361026\ttotal: 1m 26s\tremaining: 3m 2s\n",
      "321:\tlearn: 0.4358842\ttotal: 1m 26s\tremaining: 3m 1s\n",
      "322:\tlearn: 0.4355913\ttotal: 1m 26s\tremaining: 3m 1s\n",
      "323:\tlearn: 0.4353386\ttotal: 1m 26s\tremaining: 3m 1s\n",
      "324:\tlearn: 0.4350772\ttotal: 1m 27s\tremaining: 3m 1s\n",
      "325:\tlearn: 0.4348151\ttotal: 1m 27s\tremaining: 3m\n",
      "326:\tlearn: 0.4344976\ttotal: 1m 27s\tremaining: 3m\n",
      "327:\tlearn: 0.4342145\ttotal: 1m 27s\tremaining: 3m\n",
      "328:\tlearn: 0.4339756\ttotal: 1m 28s\tremaining: 2m 59s\n",
      "329:\tlearn: 0.4337039\ttotal: 1m 28s\tremaining: 2m 59s\n",
      "330:\tlearn: 0.4334893\ttotal: 1m 28s\tremaining: 2m 59s\n",
      "331:\tlearn: 0.4331610\ttotal: 1m 29s\tremaining: 2m 59s\n",
      "332:\tlearn: 0.4328521\ttotal: 1m 29s\tremaining: 2m 58s\n",
      "333:\tlearn: 0.4325896\ttotal: 1m 29s\tremaining: 2m 58s\n",
      "334:\tlearn: 0.4323892\ttotal: 1m 29s\tremaining: 2m 58s\n",
      "335:\tlearn: 0.4320915\ttotal: 1m 30s\tremaining: 2m 58s\n",
      "336:\tlearn: 0.4318238\ttotal: 1m 30s\tremaining: 2m 57s\n",
      "337:\tlearn: 0.4315573\ttotal: 1m 30s\tremaining: 2m 57s\n",
      "338:\tlearn: 0.4313026\ttotal: 1m 30s\tremaining: 2m 57s\n",
      "339:\tlearn: 0.4310700\ttotal: 1m 31s\tremaining: 2m 56s\n",
      "340:\tlearn: 0.4308068\ttotal: 1m 31s\tremaining: 2m 56s\n",
      "341:\tlearn: 0.4305750\ttotal: 1m 31s\tremaining: 2m 56s\n",
      "342:\tlearn: 0.4303319\ttotal: 1m 31s\tremaining: 2m 56s\n",
      "343:\tlearn: 0.4300869\ttotal: 1m 32s\tremaining: 2m 55s\n",
      "344:\tlearn: 0.4297861\ttotal: 1m 32s\tremaining: 2m 55s\n",
      "345:\tlearn: 0.4295076\ttotal: 1m 32s\tremaining: 2m 55s\n",
      "346:\tlearn: 0.4292559\ttotal: 1m 32s\tremaining: 2m 54s\n",
      "347:\tlearn: 0.4289677\ttotal: 1m 33s\tremaining: 2m 54s\n",
      "348:\tlearn: 0.4287005\ttotal: 1m 33s\tremaining: 2m 54s\n",
      "349:\tlearn: 0.4284150\ttotal: 1m 33s\tremaining: 2m 54s\n",
      "350:\tlearn: 0.4281776\ttotal: 1m 34s\tremaining: 2m 53s\n",
      "351:\tlearn: 0.4279536\ttotal: 1m 34s\tremaining: 2m 53s\n",
      "352:\tlearn: 0.4276527\ttotal: 1m 34s\tremaining: 2m 53s\n",
      "353:\tlearn: 0.4273800\ttotal: 1m 34s\tremaining: 2m 53s\n",
      "354:\tlearn: 0.4271251\ttotal: 1m 35s\tremaining: 2m 52s\n",
      "355:\tlearn: 0.4268468\ttotal: 1m 35s\tremaining: 2m 52s\n",
      "356:\tlearn: 0.4265829\ttotal: 1m 35s\tremaining: 2m 52s\n",
      "357:\tlearn: 0.4263214\ttotal: 1m 35s\tremaining: 2m 52s\n",
      "358:\tlearn: 0.4260173\ttotal: 1m 36s\tremaining: 2m 51s\n",
      "359:\tlearn: 0.4257500\ttotal: 1m 36s\tremaining: 2m 51s\n",
      "360:\tlearn: 0.4254303\ttotal: 1m 36s\tremaining: 2m 51s\n",
      "361:\tlearn: 0.4251835\ttotal: 1m 36s\tremaining: 2m 50s\n",
      "362:\tlearn: 0.4248585\ttotal: 1m 37s\tremaining: 2m 50s\n",
      "363:\tlearn: 0.4245780\ttotal: 1m 37s\tremaining: 2m 50s\n",
      "364:\tlearn: 0.4242206\ttotal: 1m 37s\tremaining: 2m 50s\n",
      "365:\tlearn: 0.4239250\ttotal: 1m 38s\tremaining: 2m 49s\n",
      "366:\tlearn: 0.4235448\ttotal: 1m 38s\tremaining: 2m 49s\n",
      "367:\tlearn: 0.4232830\ttotal: 1m 38s\tremaining: 2m 49s\n",
      "368:\tlearn: 0.4230323\ttotal: 1m 38s\tremaining: 2m 49s\n",
      "369:\tlearn: 0.4227548\ttotal: 1m 39s\tremaining: 2m 48s\n",
      "370:\tlearn: 0.4224607\ttotal: 1m 39s\tremaining: 2m 48s\n",
      "371:\tlearn: 0.4221937\ttotal: 1m 39s\tremaining: 2m 48s\n",
      "372:\tlearn: 0.4218479\ttotal: 1m 39s\tremaining: 2m 47s\n",
      "373:\tlearn: 0.4215319\ttotal: 1m 40s\tremaining: 2m 47s\n",
      "374:\tlearn: 0.4212532\ttotal: 1m 40s\tremaining: 2m 47s\n",
      "375:\tlearn: 0.4209792\ttotal: 1m 40s\tremaining: 2m 47s\n",
      "376:\tlearn: 0.4206999\ttotal: 1m 40s\tremaining: 2m 46s\n",
      "377:\tlearn: 0.4204167\ttotal: 1m 41s\tremaining: 2m 46s\n",
      "378:\tlearn: 0.4201537\ttotal: 1m 41s\tremaining: 2m 46s\n",
      "379:\tlearn: 0.4198975\ttotal: 1m 41s\tremaining: 2m 46s\n",
      "380:\tlearn: 0.4196654\ttotal: 1m 42s\tremaining: 2m 45s\n",
      "381:\tlearn: 0.4194006\ttotal: 1m 42s\tremaining: 2m 45s\n",
      "382:\tlearn: 0.4191636\ttotal: 1m 42s\tremaining: 2m 45s\n",
      "383:\tlearn: 0.4187927\ttotal: 1m 42s\tremaining: 2m 44s\n",
      "384:\tlearn: 0.4185137\ttotal: 1m 43s\tremaining: 2m 44s\n",
      "385:\tlearn: 0.4181620\ttotal: 1m 43s\tremaining: 2m 44s\n",
      "386:\tlearn: 0.4178807\ttotal: 1m 43s\tremaining: 2m 44s\n",
      "387:\tlearn: 0.4176212\ttotal: 1m 43s\tremaining: 2m 43s\n",
      "388:\tlearn: 0.4173223\ttotal: 1m 44s\tremaining: 2m 43s\n",
      "389:\tlearn: 0.4170305\ttotal: 1m 44s\tremaining: 2m 43s\n",
      "390:\tlearn: 0.4167977\ttotal: 1m 44s\tremaining: 2m 43s\n",
      "391:\tlearn: 0.4165701\ttotal: 1m 44s\tremaining: 2m 42s\n",
      "392:\tlearn: 0.4163152\ttotal: 1m 45s\tremaining: 2m 42s\n",
      "393:\tlearn: 0.4160005\ttotal: 1m 45s\tremaining: 2m 42s\n",
      "394:\tlearn: 0.4157321\ttotal: 1m 45s\tremaining: 2m 42s\n",
      "395:\tlearn: 0.4154396\ttotal: 1m 46s\tremaining: 2m 41s\n",
      "396:\tlearn: 0.4150653\ttotal: 1m 46s\tremaining: 2m 41s\n",
      "397:\tlearn: 0.4147438\ttotal: 1m 46s\tremaining: 2m 41s\n",
      "398:\tlearn: 0.4144926\ttotal: 1m 46s\tremaining: 2m 40s\n",
      "399:\tlearn: 0.4141730\ttotal: 1m 47s\tremaining: 2m 40s\n",
      "400:\tlearn: 0.4139388\ttotal: 1m 47s\tremaining: 2m 40s\n",
      "401:\tlearn: 0.4136862\ttotal: 1m 47s\tremaining: 2m 40s\n",
      "402:\tlearn: 0.4133855\ttotal: 1m 47s\tremaining: 2m 39s\n",
      "403:\tlearn: 0.4131268\ttotal: 1m 48s\tremaining: 2m 39s\n",
      "404:\tlearn: 0.4128623\ttotal: 1m 48s\tremaining: 2m 39s\n",
      "405:\tlearn: 0.4125534\ttotal: 1m 48s\tremaining: 2m 39s\n",
      "406:\tlearn: 0.4123169\ttotal: 1m 48s\tremaining: 2m 38s\n",
      "407:\tlearn: 0.4120302\ttotal: 1m 49s\tremaining: 2m 38s\n",
      "408:\tlearn: 0.4117456\ttotal: 1m 49s\tremaining: 2m 38s\n",
      "409:\tlearn: 0.4114413\ttotal: 1m 49s\tremaining: 2m 38s\n",
      "410:\tlearn: 0.4112057\ttotal: 1m 50s\tremaining: 2m 37s\n",
      "411:\tlearn: 0.4109202\ttotal: 1m 50s\tremaining: 2m 37s\n",
      "412:\tlearn: 0.4105854\ttotal: 1m 50s\tremaining: 2m 37s\n",
      "413:\tlearn: 0.4103084\ttotal: 1m 50s\tremaining: 2m 37s\n",
      "414:\tlearn: 0.4100476\ttotal: 1m 51s\tremaining: 2m 36s\n",
      "415:\tlearn: 0.4097370\ttotal: 1m 51s\tremaining: 2m 36s\n",
      "416:\tlearn: 0.4095259\ttotal: 1m 51s\tremaining: 2m 36s\n",
      "417:\tlearn: 0.4092640\ttotal: 1m 51s\tremaining: 2m 35s\n",
      "418:\tlearn: 0.4089778\ttotal: 1m 52s\tremaining: 2m 35s\n",
      "419:\tlearn: 0.4087230\ttotal: 1m 52s\tremaining: 2m 35s\n",
      "420:\tlearn: 0.4084131\ttotal: 1m 52s\tremaining: 2m 35s\n",
      "421:\tlearn: 0.4081073\ttotal: 1m 53s\tremaining: 2m 34s\n",
      "422:\tlearn: 0.4078086\ttotal: 1m 53s\tremaining: 2m 34s\n",
      "423:\tlearn: 0.4075179\ttotal: 1m 53s\tremaining: 2m 34s\n",
      "424:\tlearn: 0.4072771\ttotal: 1m 53s\tremaining: 2m 34s\n",
      "425:\tlearn: 0.4070003\ttotal: 1m 54s\tremaining: 2m 33s\n",
      "426:\tlearn: 0.4066809\ttotal: 1m 54s\tremaining: 2m 33s\n",
      "427:\tlearn: 0.4063900\ttotal: 1m 54s\tremaining: 2m 33s\n",
      "428:\tlearn: 0.4061188\ttotal: 1m 54s\tremaining: 2m 32s\n",
      "429:\tlearn: 0.4058959\ttotal: 1m 55s\tremaining: 2m 32s\n",
      "430:\tlearn: 0.4056151\ttotal: 1m 55s\tremaining: 2m 32s\n",
      "431:\tlearn: 0.4053745\ttotal: 1m 55s\tremaining: 2m 32s\n",
      "432:\tlearn: 0.4050825\ttotal: 1m 56s\tremaining: 2m 31s\n",
      "433:\tlearn: 0.4048109\ttotal: 1m 56s\tremaining: 2m 31s\n",
      "434:\tlearn: 0.4044489\ttotal: 1m 56s\tremaining: 2m 31s\n",
      "435:\tlearn: 0.4041682\ttotal: 1m 56s\tremaining: 2m 31s\n",
      "436:\tlearn: 0.4038503\ttotal: 1m 57s\tremaining: 2m 30s\n",
      "437:\tlearn: 0.4035712\ttotal: 1m 57s\tremaining: 2m 30s\n",
      "438:\tlearn: 0.4033307\ttotal: 1m 57s\tremaining: 2m 30s\n",
      "439:\tlearn: 0.4030399\ttotal: 1m 57s\tremaining: 2m 30s\n",
      "440:\tlearn: 0.4027663\ttotal: 1m 58s\tremaining: 2m 29s\n",
      "441:\tlearn: 0.4024746\ttotal: 1m 58s\tremaining: 2m 29s\n",
      "442:\tlearn: 0.4022302\ttotal: 1m 58s\tremaining: 2m 29s\n",
      "443:\tlearn: 0.4019626\ttotal: 1m 58s\tremaining: 2m 28s\n",
      "444:\tlearn: 0.4016367\ttotal: 1m 59s\tremaining: 2m 28s\n",
      "445:\tlearn: 0.4013763\ttotal: 1m 59s\tremaining: 2m 28s\n",
      "446:\tlearn: 0.4010774\ttotal: 1m 59s\tremaining: 2m 28s\n",
      "447:\tlearn: 0.4008284\ttotal: 2m\tremaining: 2m 27s\n",
      "448:\tlearn: 0.4005599\ttotal: 2m\tremaining: 2m 27s\n",
      "449:\tlearn: 0.4003140\ttotal: 2m\tremaining: 2m 27s\n",
      "450:\tlearn: 0.4000117\ttotal: 2m\tremaining: 2m 27s\n",
      "451:\tlearn: 0.3997390\ttotal: 2m 1s\tremaining: 2m 26s\n",
      "452:\tlearn: 0.3994401\ttotal: 2m 1s\tremaining: 2m 26s\n",
      "453:\tlearn: 0.3991259\ttotal: 2m 1s\tremaining: 2m 26s\n",
      "454:\tlearn: 0.3988126\ttotal: 2m 1s\tremaining: 2m 26s\n",
      "455:\tlearn: 0.3985174\ttotal: 2m 2s\tremaining: 2m 25s\n",
      "456:\tlearn: 0.3982880\ttotal: 2m 2s\tremaining: 2m 25s\n",
      "457:\tlearn: 0.3980045\ttotal: 2m 2s\tremaining: 2m 25s\n",
      "458:\tlearn: 0.3977272\ttotal: 2m 2s\tremaining: 2m 24s\n",
      "459:\tlearn: 0.3974391\ttotal: 2m 3s\tremaining: 2m 24s\n",
      "460:\tlearn: 0.3971066\ttotal: 2m 3s\tremaining: 2m 24s\n",
      "461:\tlearn: 0.3968123\ttotal: 2m 3s\tremaining: 2m 24s\n",
      "462:\tlearn: 0.3965652\ttotal: 2m 4s\tremaining: 2m 23s\n",
      "463:\tlearn: 0.3962743\ttotal: 2m 4s\tremaining: 2m 23s\n",
      "464:\tlearn: 0.3960037\ttotal: 2m 4s\tremaining: 2m 23s\n",
      "465:\tlearn: 0.3957324\ttotal: 2m 4s\tremaining: 2m 23s\n",
      "466:\tlearn: 0.3954290\ttotal: 2m 5s\tremaining: 2m 22s\n",
      "467:\tlearn: 0.3951655\ttotal: 2m 5s\tremaining: 2m 22s\n",
      "468:\tlearn: 0.3948620\ttotal: 2m 5s\tremaining: 2m 22s\n",
      "469:\tlearn: 0.3946097\ttotal: 2m 5s\tremaining: 2m 21s\n",
      "470:\tlearn: 0.3943762\ttotal: 2m 6s\tremaining: 2m 21s\n",
      "471:\tlearn: 0.3941103\ttotal: 2m 6s\tremaining: 2m 21s\n",
      "472:\tlearn: 0.3938205\ttotal: 2m 6s\tremaining: 2m 21s\n",
      "473:\tlearn: 0.3935881\ttotal: 2m 7s\tremaining: 2m 20s\n",
      "474:\tlearn: 0.3933409\ttotal: 2m 7s\tremaining: 2m 20s\n",
      "475:\tlearn: 0.3930909\ttotal: 2m 7s\tremaining: 2m 20s\n",
      "476:\tlearn: 0.3928815\ttotal: 2m 7s\tremaining: 2m 20s\n",
      "477:\tlearn: 0.3925679\ttotal: 2m 8s\tremaining: 2m 19s\n",
      "478:\tlearn: 0.3922673\ttotal: 2m 8s\tremaining: 2m 19s\n",
      "479:\tlearn: 0.3920347\ttotal: 2m 8s\tremaining: 2m 19s\n",
      "480:\tlearn: 0.3917438\ttotal: 2m 8s\tremaining: 2m 19s\n",
      "481:\tlearn: 0.3915049\ttotal: 2m 9s\tremaining: 2m 18s\n",
      "482:\tlearn: 0.3912658\ttotal: 2m 9s\tremaining: 2m 18s\n",
      "483:\tlearn: 0.3910114\ttotal: 2m 9s\tremaining: 2m 18s\n",
      "484:\tlearn: 0.3906927\ttotal: 2m 9s\tremaining: 2m 17s\n",
      "485:\tlearn: 0.3903760\ttotal: 2m 10s\tremaining: 2m 17s\n",
      "486:\tlearn: 0.3901403\ttotal: 2m 10s\tremaining: 2m 17s\n",
      "487:\tlearn: 0.3898781\ttotal: 2m 10s\tremaining: 2m 17s\n",
      "488:\tlearn: 0.3895430\ttotal: 2m 10s\tremaining: 2m 16s\n",
      "489:\tlearn: 0.3892125\ttotal: 2m 11s\tremaining: 2m 16s\n",
      "490:\tlearn: 0.3890146\ttotal: 2m 11s\tremaining: 2m 16s\n",
      "491:\tlearn: 0.3887721\ttotal: 2m 11s\tremaining: 2m 16s\n",
      "492:\tlearn: 0.3885460\ttotal: 2m 12s\tremaining: 2m 15s\n",
      "493:\tlearn: 0.3883282\ttotal: 2m 12s\tremaining: 2m 15s\n",
      "494:\tlearn: 0.3880499\ttotal: 2m 12s\tremaining: 2m 15s\n",
      "495:\tlearn: 0.3878215\ttotal: 2m 12s\tremaining: 2m 14s\n",
      "496:\tlearn: 0.3875751\ttotal: 2m 13s\tremaining: 2m 14s\n",
      "497:\tlearn: 0.3873279\ttotal: 2m 13s\tremaining: 2m 14s\n",
      "498:\tlearn: 0.3870545\ttotal: 2m 13s\tremaining: 2m 14s\n",
      "499:\tlearn: 0.3868148\ttotal: 2m 13s\tremaining: 2m 13s\n",
      "500:\tlearn: 0.3865025\ttotal: 2m 14s\tremaining: 2m 13s\n",
      "501:\tlearn: 0.3862773\ttotal: 2m 14s\tremaining: 2m 13s\n",
      "502:\tlearn: 0.3860348\ttotal: 2m 14s\tremaining: 2m 13s\n",
      "503:\tlearn: 0.3857886\ttotal: 2m 14s\tremaining: 2m 12s\n",
      "504:\tlearn: 0.3856118\ttotal: 2m 15s\tremaining: 2m 12s\n",
      "505:\tlearn: 0.3853664\ttotal: 2m 15s\tremaining: 2m 12s\n",
      "506:\tlearn: 0.3851176\ttotal: 2m 15s\tremaining: 2m 12s\n",
      "507:\tlearn: 0.3848088\ttotal: 2m 16s\tremaining: 2m 11s\n",
      "508:\tlearn: 0.3844611\ttotal: 2m 16s\tremaining: 2m 11s\n",
      "509:\tlearn: 0.3842103\ttotal: 2m 16s\tremaining: 2m 11s\n",
      "510:\tlearn: 0.3839652\ttotal: 2m 16s\tremaining: 2m 10s\n",
      "511:\tlearn: 0.3837305\ttotal: 2m 17s\tremaining: 2m 10s\n",
      "512:\tlearn: 0.3834579\ttotal: 2m 17s\tremaining: 2m 10s\n",
      "513:\tlearn: 0.3832279\ttotal: 2m 17s\tremaining: 2m 10s\n",
      "514:\tlearn: 0.3829614\ttotal: 2m 17s\tremaining: 2m 9s\n",
      "515:\tlearn: 0.3827190\ttotal: 2m 18s\tremaining: 2m 9s\n",
      "516:\tlearn: 0.3825153\ttotal: 2m 18s\tremaining: 2m 9s\n",
      "517:\tlearn: 0.3822580\ttotal: 2m 18s\tremaining: 2m 9s\n",
      "518:\tlearn: 0.3820070\ttotal: 2m 18s\tremaining: 2m 8s\n",
      "519:\tlearn: 0.3818000\ttotal: 2m 19s\tremaining: 2m 8s\n",
      "520:\tlearn: 0.3815721\ttotal: 2m 19s\tremaining: 2m 8s\n",
      "521:\tlearn: 0.3813191\ttotal: 2m 19s\tremaining: 2m 8s\n",
      "522:\tlearn: 0.3810634\ttotal: 2m 20s\tremaining: 2m 7s\n",
      "523:\tlearn: 0.3808382\ttotal: 2m 20s\tremaining: 2m 7s\n",
      "524:\tlearn: 0.3806033\ttotal: 2m 20s\tremaining: 2m 7s\n",
      "525:\tlearn: 0.3804100\ttotal: 2m 20s\tremaining: 2m 6s\n",
      "526:\tlearn: 0.3801720\ttotal: 2m 21s\tremaining: 2m 6s\n",
      "527:\tlearn: 0.3799460\ttotal: 2m 21s\tremaining: 2m 6s\n",
      "528:\tlearn: 0.3797023\ttotal: 2m 21s\tremaining: 2m 6s\n",
      "529:\tlearn: 0.3794634\ttotal: 2m 21s\tremaining: 2m 5s\n",
      "530:\tlearn: 0.3792203\ttotal: 2m 22s\tremaining: 2m 5s\n",
      "531:\tlearn: 0.3789937\ttotal: 2m 22s\tremaining: 2m 5s\n",
      "532:\tlearn: 0.3787335\ttotal: 2m 22s\tremaining: 2m 5s\n",
      "533:\tlearn: 0.3785020\ttotal: 2m 22s\tremaining: 2m 4s\n",
      "534:\tlearn: 0.3781223\ttotal: 2m 23s\tremaining: 2m 4s\n",
      "535:\tlearn: 0.3778806\ttotal: 2m 23s\tremaining: 2m 4s\n",
      "536:\tlearn: 0.3776170\ttotal: 2m 23s\tremaining: 2m 3s\n",
      "537:\tlearn: 0.3773583\ttotal: 2m 24s\tremaining: 2m 3s\n",
      "538:\tlearn: 0.3771263\ttotal: 2m 24s\tremaining: 2m 3s\n",
      "539:\tlearn: 0.3769113\ttotal: 2m 24s\tremaining: 2m 3s\n",
      "540:\tlearn: 0.3767423\ttotal: 2m 24s\tremaining: 2m 2s\n",
      "541:\tlearn: 0.3765199\ttotal: 2m 25s\tremaining: 2m 2s\n",
      "542:\tlearn: 0.3762528\ttotal: 2m 25s\tremaining: 2m 2s\n",
      "543:\tlearn: 0.3760501\ttotal: 2m 25s\tremaining: 2m 2s\n",
      "544:\tlearn: 0.3758061\ttotal: 2m 25s\tremaining: 2m 1s\n",
      "545:\tlearn: 0.3755492\ttotal: 2m 26s\tremaining: 2m 1s\n",
      "546:\tlearn: 0.3753248\ttotal: 2m 26s\tremaining: 2m 1s\n",
      "547:\tlearn: 0.3750791\ttotal: 2m 26s\tremaining: 2m 1s\n",
      "548:\tlearn: 0.3748373\ttotal: 2m 26s\tremaining: 2m\n",
      "549:\tlearn: 0.3746228\ttotal: 2m 27s\tremaining: 2m\n",
      "550:\tlearn: 0.3744097\ttotal: 2m 27s\tremaining: 2m\n",
      "551:\tlearn: 0.3741294\ttotal: 2m 27s\tremaining: 1m 59s\n",
      "552:\tlearn: 0.3738611\ttotal: 2m 28s\tremaining: 1m 59s\n",
      "553:\tlearn: 0.3736515\ttotal: 2m 28s\tremaining: 1m 59s\n",
      "554:\tlearn: 0.3734368\ttotal: 2m 28s\tremaining: 1m 59s\n",
      "555:\tlearn: 0.3731827\ttotal: 2m 28s\tremaining: 1m 58s\n",
      "556:\tlearn: 0.3729380\ttotal: 2m 29s\tremaining: 1m 58s\n",
      "557:\tlearn: 0.3727091\ttotal: 2m 29s\tremaining: 1m 58s\n",
      "558:\tlearn: 0.3724832\ttotal: 2m 29s\tremaining: 1m 58s\n",
      "559:\tlearn: 0.3722411\ttotal: 2m 29s\tremaining: 1m 57s\n",
      "560:\tlearn: 0.3720467\ttotal: 2m 30s\tremaining: 1m 57s\n",
      "561:\tlearn: 0.3718159\ttotal: 2m 30s\tremaining: 1m 57s\n",
      "562:\tlearn: 0.3716622\ttotal: 2m 30s\tremaining: 1m 56s\n",
      "563:\tlearn: 0.3714516\ttotal: 2m 30s\tremaining: 1m 56s\n",
      "564:\tlearn: 0.3712171\ttotal: 2m 31s\tremaining: 1m 56s\n",
      "565:\tlearn: 0.3709655\ttotal: 2m 31s\tremaining: 1m 56s\n",
      "566:\tlearn: 0.3707018\ttotal: 2m 31s\tremaining: 1m 55s\n",
      "567:\tlearn: 0.3703968\ttotal: 2m 32s\tremaining: 1m 55s\n",
      "568:\tlearn: 0.3701678\ttotal: 2m 32s\tremaining: 1m 55s\n",
      "569:\tlearn: 0.3699737\ttotal: 2m 32s\tremaining: 1m 55s\n",
      "570:\tlearn: 0.3697596\ttotal: 2m 32s\tremaining: 1m 54s\n",
      "571:\tlearn: 0.3695282\ttotal: 2m 33s\tremaining: 1m 54s\n",
      "572:\tlearn: 0.3693037\ttotal: 2m 33s\tremaining: 1m 54s\n",
      "573:\tlearn: 0.3691063\ttotal: 2m 33s\tremaining: 1m 54s\n",
      "574:\tlearn: 0.3688989\ttotal: 2m 33s\tremaining: 1m 53s\n",
      "575:\tlearn: 0.3686414\ttotal: 2m 34s\tremaining: 1m 53s\n",
      "576:\tlearn: 0.3684540\ttotal: 2m 34s\tremaining: 1m 53s\n",
      "577:\tlearn: 0.3682300\ttotal: 2m 34s\tremaining: 1m 52s\n",
      "578:\tlearn: 0.3679911\ttotal: 2m 35s\tremaining: 1m 52s\n",
      "579:\tlearn: 0.3678283\ttotal: 2m 35s\tremaining: 1m 52s\n",
      "580:\tlearn: 0.3676060\ttotal: 2m 35s\tremaining: 1m 52s\n",
      "581:\tlearn: 0.3673717\ttotal: 2m 35s\tremaining: 1m 51s\n",
      "582:\tlearn: 0.3671126\ttotal: 2m 36s\tremaining: 1m 51s\n",
      "583:\tlearn: 0.3668813\ttotal: 2m 36s\tremaining: 1m 51s\n",
      "584:\tlearn: 0.3666419\ttotal: 2m 36s\tremaining: 1m 51s\n",
      "585:\tlearn: 0.3664268\ttotal: 2m 36s\tremaining: 1m 50s\n",
      "586:\tlearn: 0.3662139\ttotal: 2m 37s\tremaining: 1m 50s\n",
      "587:\tlearn: 0.3659858\ttotal: 2m 37s\tremaining: 1m 50s\n",
      "588:\tlearn: 0.3657506\ttotal: 2m 37s\tremaining: 1m 50s\n",
      "589:\tlearn: 0.3655002\ttotal: 2m 37s\tremaining: 1m 49s\n",
      "590:\tlearn: 0.3652877\ttotal: 2m 38s\tremaining: 1m 49s\n",
      "591:\tlearn: 0.3650407\ttotal: 2m 38s\tremaining: 1m 49s\n",
      "592:\tlearn: 0.3648124\ttotal: 2m 38s\tremaining: 1m 48s\n",
      "593:\tlearn: 0.3646157\ttotal: 2m 39s\tremaining: 1m 48s\n",
      "594:\tlearn: 0.3643907\ttotal: 2m 39s\tremaining: 1m 48s\n",
      "595:\tlearn: 0.3642442\ttotal: 2m 39s\tremaining: 1m 48s\n",
      "596:\tlearn: 0.3640997\ttotal: 2m 39s\tremaining: 1m 47s\n",
      "597:\tlearn: 0.3638979\ttotal: 2m 40s\tremaining: 1m 47s\n",
      "598:\tlearn: 0.3636740\ttotal: 2m 40s\tremaining: 1m 47s\n",
      "599:\tlearn: 0.3634851\ttotal: 2m 40s\tremaining: 1m 47s\n",
      "600:\tlearn: 0.3632809\ttotal: 2m 40s\tremaining: 1m 46s\n",
      "601:\tlearn: 0.3631696\ttotal: 2m 41s\tremaining: 1m 46s\n",
      "602:\tlearn: 0.3629505\ttotal: 2m 41s\tremaining: 1m 46s\n",
      "603:\tlearn: 0.3627393\ttotal: 2m 41s\tremaining: 1m 46s\n",
      "604:\tlearn: 0.3625113\ttotal: 2m 41s\tremaining: 1m 45s\n",
      "605:\tlearn: 0.3623190\ttotal: 2m 42s\tremaining: 1m 45s\n",
      "606:\tlearn: 0.3620733\ttotal: 2m 42s\tremaining: 1m 45s\n",
      "607:\tlearn: 0.3618770\ttotal: 2m 42s\tremaining: 1m 44s\n",
      "608:\tlearn: 0.3616993\ttotal: 2m 43s\tremaining: 1m 44s\n",
      "609:\tlearn: 0.3614761\ttotal: 2m 43s\tremaining: 1m 44s\n",
      "610:\tlearn: 0.3612610\ttotal: 2m 43s\tremaining: 1m 44s\n",
      "611:\tlearn: 0.3610385\ttotal: 2m 43s\tremaining: 1m 43s\n",
      "612:\tlearn: 0.3608622\ttotal: 2m 44s\tremaining: 1m 43s\n",
      "613:\tlearn: 0.3606325\ttotal: 2m 44s\tremaining: 1m 43s\n",
      "614:\tlearn: 0.3604333\ttotal: 2m 44s\tremaining: 1m 43s\n",
      "615:\tlearn: 0.3602190\ttotal: 2m 44s\tremaining: 1m 42s\n",
      "616:\tlearn: 0.3600232\ttotal: 2m 45s\tremaining: 1m 42s\n",
      "617:\tlearn: 0.3598451\ttotal: 2m 45s\tremaining: 1m 42s\n",
      "618:\tlearn: 0.3596446\ttotal: 2m 45s\tremaining: 1m 41s\n",
      "619:\tlearn: 0.3593962\ttotal: 2m 45s\tremaining: 1m 41s\n",
      "620:\tlearn: 0.3591772\ttotal: 2m 46s\tremaining: 1m 41s\n",
      "621:\tlearn: 0.3589405\ttotal: 2m 46s\tremaining: 1m 41s\n",
      "622:\tlearn: 0.3587255\ttotal: 2m 46s\tremaining: 1m 40s\n",
      "623:\tlearn: 0.3584748\ttotal: 2m 47s\tremaining: 1m 40s\n",
      "624:\tlearn: 0.3582021\ttotal: 2m 47s\tremaining: 1m 40s\n",
      "625:\tlearn: 0.3579993\ttotal: 2m 47s\tremaining: 1m 40s\n",
      "626:\tlearn: 0.3577853\ttotal: 2m 47s\tremaining: 1m 39s\n",
      "627:\tlearn: 0.3575591\ttotal: 2m 48s\tremaining: 1m 39s\n",
      "628:\tlearn: 0.3574068\ttotal: 2m 48s\tremaining: 1m 39s\n",
      "629:\tlearn: 0.3571860\ttotal: 2m 48s\tremaining: 1m 39s\n",
      "630:\tlearn: 0.3569870\ttotal: 2m 48s\tremaining: 1m 38s\n",
      "631:\tlearn: 0.3566712\ttotal: 2m 49s\tremaining: 1m 38s\n",
      "632:\tlearn: 0.3564784\ttotal: 2m 49s\tremaining: 1m 38s\n",
      "633:\tlearn: 0.3562575\ttotal: 2m 49s\tremaining: 1m 37s\n",
      "634:\tlearn: 0.3560292\ttotal: 2m 49s\tremaining: 1m 37s\n",
      "635:\tlearn: 0.3558461\ttotal: 2m 50s\tremaining: 1m 37s\n",
      "636:\tlearn: 0.3556259\ttotal: 2m 50s\tremaining: 1m 37s\n",
      "637:\tlearn: 0.3553723\ttotal: 2m 50s\tremaining: 1m 36s\n",
      "638:\tlearn: 0.3551347\ttotal: 2m 51s\tremaining: 1m 36s\n",
      "639:\tlearn: 0.3549524\ttotal: 2m 51s\tremaining: 1m 36s\n",
      "640:\tlearn: 0.3547522\ttotal: 2m 51s\tremaining: 1m 36s\n",
      "641:\tlearn: 0.3545469\ttotal: 2m 51s\tremaining: 1m 35s\n",
      "642:\tlearn: 0.3543208\ttotal: 2m 52s\tremaining: 1m 35s\n",
      "643:\tlearn: 0.3541203\ttotal: 2m 52s\tremaining: 1m 35s\n",
      "644:\tlearn: 0.3539852\ttotal: 2m 52s\tremaining: 1m 35s\n",
      "645:\tlearn: 0.3537959\ttotal: 2m 52s\tremaining: 1m 34s\n",
      "646:\tlearn: 0.3535805\ttotal: 2m 53s\tremaining: 1m 34s\n",
      "647:\tlearn: 0.3533918\ttotal: 2m 53s\tremaining: 1m 34s\n",
      "648:\tlearn: 0.3532213\ttotal: 2m 53s\tremaining: 1m 33s\n",
      "649:\tlearn: 0.3530276\ttotal: 2m 53s\tremaining: 1m 33s\n",
      "650:\tlearn: 0.3527850\ttotal: 2m 54s\tremaining: 1m 33s\n",
      "651:\tlearn: 0.3525918\ttotal: 2m 54s\tremaining: 1m 33s\n",
      "652:\tlearn: 0.3523656\ttotal: 2m 54s\tremaining: 1m 32s\n",
      "653:\tlearn: 0.3521661\ttotal: 2m 55s\tremaining: 1m 32s\n",
      "654:\tlearn: 0.3519993\ttotal: 2m 55s\tremaining: 1m 32s\n",
      "655:\tlearn: 0.3517726\ttotal: 2m 55s\tremaining: 1m 32s\n",
      "656:\tlearn: 0.3515766\ttotal: 2m 55s\tremaining: 1m 31s\n",
      "657:\tlearn: 0.3513946\ttotal: 2m 56s\tremaining: 1m 31s\n",
      "658:\tlearn: 0.3512072\ttotal: 2m 56s\tremaining: 1m 31s\n",
      "659:\tlearn: 0.3509896\ttotal: 2m 56s\tremaining: 1m 31s\n",
      "660:\tlearn: 0.3507890\ttotal: 2m 56s\tremaining: 1m 30s\n",
      "661:\tlearn: 0.3505808\ttotal: 2m 57s\tremaining: 1m 30s\n",
      "662:\tlearn: 0.3503732\ttotal: 2m 57s\tremaining: 1m 30s\n",
      "663:\tlearn: 0.3502674\ttotal: 2m 57s\tremaining: 1m 29s\n",
      "664:\tlearn: 0.3500652\ttotal: 2m 58s\tremaining: 1m 29s\n",
      "665:\tlearn: 0.3498806\ttotal: 2m 58s\tremaining: 1m 29s\n",
      "666:\tlearn: 0.3496830\ttotal: 2m 58s\tremaining: 1m 29s\n",
      "667:\tlearn: 0.3494615\ttotal: 2m 58s\tremaining: 1m 28s\n",
      "668:\tlearn: 0.3492922\ttotal: 2m 59s\tremaining: 1m 28s\n",
      "669:\tlearn: 0.3491090\ttotal: 2m 59s\tremaining: 1m 28s\n",
      "670:\tlearn: 0.3490020\ttotal: 2m 59s\tremaining: 1m 28s\n",
      "671:\tlearn: 0.3487559\ttotal: 2m 59s\tremaining: 1m 27s\n",
      "672:\tlearn: 0.3485302\ttotal: 3m\tremaining: 1m 27s\n",
      "673:\tlearn: 0.3483453\ttotal: 3m\tremaining: 1m 27s\n",
      "674:\tlearn: 0.3481325\ttotal: 3m\tremaining: 1m 27s\n",
      "675:\tlearn: 0.3479369\ttotal: 3m 1s\tremaining: 1m 26s\n",
      "676:\tlearn: 0.3476820\ttotal: 3m 1s\tremaining: 1m 26s\n",
      "677:\tlearn: 0.3474692\ttotal: 3m 1s\tremaining: 1m 26s\n",
      "678:\tlearn: 0.3472660\ttotal: 3m 1s\tremaining: 1m 25s\n",
      "679:\tlearn: 0.3471128\ttotal: 3m 2s\tremaining: 1m 25s\n",
      "680:\tlearn: 0.3469044\ttotal: 3m 2s\tremaining: 1m 25s\n",
      "681:\tlearn: 0.3467939\ttotal: 3m 2s\tremaining: 1m 25s\n",
      "682:\tlearn: 0.3465839\ttotal: 3m 2s\tremaining: 1m 24s\n",
      "683:\tlearn: 0.3464379\ttotal: 3m 3s\tremaining: 1m 24s\n",
      "684:\tlearn: 0.3462384\ttotal: 3m 3s\tremaining: 1m 24s\n",
      "685:\tlearn: 0.3460250\ttotal: 3m 3s\tremaining: 1m 24s\n",
      "686:\tlearn: 0.3458117\ttotal: 3m 3s\tremaining: 1m 23s\n",
      "687:\tlearn: 0.3456241\ttotal: 3m 4s\tremaining: 1m 23s\n",
      "688:\tlearn: 0.3454261\ttotal: 3m 4s\tremaining: 1m 23s\n",
      "689:\tlearn: 0.3452443\ttotal: 3m 4s\tremaining: 1m 22s\n",
      "690:\tlearn: 0.3450626\ttotal: 3m 4s\tremaining: 1m 22s\n",
      "691:\tlearn: 0.3448260\ttotal: 3m 5s\tremaining: 1m 22s\n",
      "692:\tlearn: 0.3445971\ttotal: 3m 5s\tremaining: 1m 22s\n",
      "693:\tlearn: 0.3444510\ttotal: 3m 5s\tremaining: 1m 21s\n",
      "694:\tlearn: 0.3442661\ttotal: 3m 6s\tremaining: 1m 21s\n",
      "695:\tlearn: 0.3441098\ttotal: 3m 6s\tremaining: 1m 21s\n",
      "696:\tlearn: 0.3439364\ttotal: 3m 6s\tremaining: 1m 21s\n",
      "697:\tlearn: 0.3437520\ttotal: 3m 6s\tremaining: 1m 20s\n",
      "698:\tlearn: 0.3435587\ttotal: 3m 7s\tremaining: 1m 20s\n",
      "699:\tlearn: 0.3433597\ttotal: 3m 7s\tremaining: 1m 20s\n",
      "700:\tlearn: 0.3431467\ttotal: 3m 7s\tremaining: 1m 20s\n",
      "701:\tlearn: 0.3429366\ttotal: 3m 7s\tremaining: 1m 19s\n",
      "702:\tlearn: 0.3427715\ttotal: 3m 8s\tremaining: 1m 19s\n",
      "703:\tlearn: 0.3425670\ttotal: 3m 8s\tremaining: 1m 19s\n",
      "704:\tlearn: 0.3424046\ttotal: 3m 8s\tremaining: 1m 18s\n",
      "705:\tlearn: 0.3421938\ttotal: 3m 8s\tremaining: 1m 18s\n",
      "706:\tlearn: 0.3420420\ttotal: 3m 9s\tremaining: 1m 18s\n",
      "707:\tlearn: 0.3418715\ttotal: 3m 9s\tremaining: 1m 18s\n",
      "708:\tlearn: 0.3416681\ttotal: 3m 9s\tremaining: 1m 17s\n",
      "709:\tlearn: 0.3414544\ttotal: 3m 9s\tremaining: 1m 17s\n",
      "710:\tlearn: 0.3412481\ttotal: 3m 10s\tremaining: 1m 17s\n",
      "711:\tlearn: 0.3410178\ttotal: 3m 10s\tremaining: 1m 17s\n",
      "712:\tlearn: 0.3408614\ttotal: 3m 10s\tremaining: 1m 16s\n",
      "713:\tlearn: 0.3406664\ttotal: 3m 11s\tremaining: 1m 16s\n",
      "714:\tlearn: 0.3404664\ttotal: 3m 11s\tremaining: 1m 16s\n",
      "715:\tlearn: 0.3403065\ttotal: 3m 11s\tremaining: 1m 15s\n",
      "716:\tlearn: 0.3401116\ttotal: 3m 11s\tremaining: 1m 15s\n",
      "717:\tlearn: 0.3398739\ttotal: 3m 12s\tremaining: 1m 15s\n",
      "718:\tlearn: 0.3396954\ttotal: 3m 12s\tremaining: 1m 15s\n",
      "719:\tlearn: 0.3395377\ttotal: 3m 12s\tremaining: 1m 14s\n",
      "720:\tlearn: 0.3393392\ttotal: 3m 12s\tremaining: 1m 14s\n",
      "721:\tlearn: 0.3391855\ttotal: 3m 13s\tremaining: 1m 14s\n",
      "722:\tlearn: 0.3390150\ttotal: 3m 13s\tremaining: 1m 14s\n",
      "723:\tlearn: 0.3388662\ttotal: 3m 13s\tremaining: 1m 13s\n",
      "724:\tlearn: 0.3386782\ttotal: 3m 13s\tremaining: 1m 13s\n",
      "725:\tlearn: 0.3385689\ttotal: 3m 14s\tremaining: 1m 13s\n",
      "726:\tlearn: 0.3384082\ttotal: 3m 14s\tremaining: 1m 13s\n",
      "727:\tlearn: 0.3382342\ttotal: 3m 14s\tremaining: 1m 12s\n",
      "728:\tlearn: 0.3380834\ttotal: 3m 15s\tremaining: 1m 12s\n",
      "729:\tlearn: 0.3378602\ttotal: 3m 15s\tremaining: 1m 12s\n",
      "730:\tlearn: 0.3376422\ttotal: 3m 15s\tremaining: 1m 11s\n",
      "731:\tlearn: 0.3375406\ttotal: 3m 15s\tremaining: 1m 11s\n",
      "732:\tlearn: 0.3373363\ttotal: 3m 16s\tremaining: 1m 11s\n",
      "733:\tlearn: 0.3371791\ttotal: 3m 16s\tremaining: 1m 11s\n",
      "734:\tlearn: 0.3369819\ttotal: 3m 16s\tremaining: 1m 10s\n",
      "735:\tlearn: 0.3367987\ttotal: 3m 16s\tremaining: 1m 10s\n",
      "736:\tlearn: 0.3365727\ttotal: 3m 17s\tremaining: 1m 10s\n",
      "737:\tlearn: 0.3364237\ttotal: 3m 17s\tremaining: 1m 10s\n",
      "738:\tlearn: 0.3362726\ttotal: 3m 17s\tremaining: 1m 9s\n",
      "739:\tlearn: 0.3360649\ttotal: 3m 17s\tremaining: 1m 9s\n",
      "740:\tlearn: 0.3358328\ttotal: 3m 18s\tremaining: 1m 9s\n",
      "741:\tlearn: 0.3356626\ttotal: 3m 18s\tremaining: 1m 8s\n",
      "742:\tlearn: 0.3355145\ttotal: 3m 18s\tremaining: 1m 8s\n",
      "743:\tlearn: 0.3354150\ttotal: 3m 18s\tremaining: 1m 8s\n",
      "744:\tlearn: 0.3352173\ttotal: 3m 19s\tremaining: 1m 8s\n",
      "745:\tlearn: 0.3350264\ttotal: 3m 19s\tremaining: 1m 7s\n",
      "746:\tlearn: 0.3348531\ttotal: 3m 19s\tremaining: 1m 7s\n",
      "747:\tlearn: 0.3346565\ttotal: 3m 20s\tremaining: 1m 7s\n",
      "748:\tlearn: 0.3344119\ttotal: 3m 20s\tremaining: 1m 7s\n",
      "749:\tlearn: 0.3342341\ttotal: 3m 20s\tremaining: 1m 6s\n",
      "750:\tlearn: 0.3340283\ttotal: 3m 20s\tremaining: 1m 6s\n",
      "751:\tlearn: 0.3338563\ttotal: 3m 21s\tremaining: 1m 6s\n",
      "752:\tlearn: 0.3337239\ttotal: 3m 21s\tremaining: 1m 6s\n",
      "753:\tlearn: 0.3335446\ttotal: 3m 21s\tremaining: 1m 5s\n",
      "754:\tlearn: 0.3332993\ttotal: 3m 21s\tremaining: 1m 5s\n",
      "755:\tlearn: 0.3331146\ttotal: 3m 22s\tremaining: 1m 5s\n",
      "756:\tlearn: 0.3329827\ttotal: 3m 22s\tremaining: 1m 4s\n",
      "757:\tlearn: 0.3327822\ttotal: 3m 22s\tremaining: 1m 4s\n",
      "758:\tlearn: 0.3326169\ttotal: 3m 22s\tremaining: 1m 4s\n",
      "759:\tlearn: 0.3324184\ttotal: 3m 23s\tremaining: 1m 4s\n",
      "760:\tlearn: 0.3322251\ttotal: 3m 23s\tremaining: 1m 3s\n",
      "761:\tlearn: 0.3320488\ttotal: 3m 23s\tremaining: 1m 3s\n",
      "762:\tlearn: 0.3318926\ttotal: 3m 23s\tremaining: 1m 3s\n",
      "763:\tlearn: 0.3317173\ttotal: 3m 24s\tremaining: 1m 3s\n",
      "764:\tlearn: 0.3315945\ttotal: 3m 24s\tremaining: 1m 2s\n",
      "765:\tlearn: 0.3314199\ttotal: 3m 24s\tremaining: 1m 2s\n",
      "766:\tlearn: 0.3312077\ttotal: 3m 25s\tremaining: 1m 2s\n",
      "767:\tlearn: 0.3309903\ttotal: 3m 25s\tremaining: 1m 2s\n",
      "768:\tlearn: 0.3308166\ttotal: 3m 25s\tremaining: 1m 1s\n",
      "769:\tlearn: 0.3306238\ttotal: 3m 25s\tremaining: 1m 1s\n",
      "770:\tlearn: 0.3304391\ttotal: 3m 26s\tremaining: 1m 1s\n",
      "771:\tlearn: 0.3302710\ttotal: 3m 26s\tremaining: 1m\n",
      "772:\tlearn: 0.3301629\ttotal: 3m 26s\tremaining: 1m\n",
      "773:\tlearn: 0.3299951\ttotal: 3m 26s\tremaining: 1m\n",
      "774:\tlearn: 0.3297803\ttotal: 3m 27s\tremaining: 1m\n",
      "775:\tlearn: 0.3296603\ttotal: 3m 27s\tremaining: 59.9s\n",
      "776:\tlearn: 0.3294722\ttotal: 3m 27s\tremaining: 59.6s\n",
      "777:\tlearn: 0.3293173\ttotal: 3m 27s\tremaining: 59.3s\n",
      "778:\tlearn: 0.3291401\ttotal: 3m 28s\tremaining: 59.1s\n",
      "779:\tlearn: 0.3289954\ttotal: 3m 28s\tremaining: 58.8s\n",
      "780:\tlearn: 0.3289081\ttotal: 3m 28s\tremaining: 58.5s\n",
      "781:\tlearn: 0.3287445\ttotal: 3m 29s\tremaining: 58.3s\n",
      "782:\tlearn: 0.3286459\ttotal: 3m 29s\tremaining: 58s\n",
      "783:\tlearn: 0.3284886\ttotal: 3m 29s\tremaining: 57.7s\n",
      "784:\tlearn: 0.3283357\ttotal: 3m 29s\tremaining: 57.5s\n",
      "785:\tlearn: 0.3281494\ttotal: 3m 30s\tremaining: 57.2s\n",
      "786:\tlearn: 0.3279780\ttotal: 3m 30s\tremaining: 56.9s\n",
      "787:\tlearn: 0.3278253\ttotal: 3m 30s\tremaining: 56.7s\n",
      "788:\tlearn: 0.3276790\ttotal: 3m 30s\tremaining: 56.4s\n",
      "789:\tlearn: 0.3274824\ttotal: 3m 31s\tremaining: 56.1s\n",
      "790:\tlearn: 0.3273169\ttotal: 3m 31s\tremaining: 55.9s\n",
      "791:\tlearn: 0.3271506\ttotal: 3m 31s\tremaining: 55.6s\n",
      "792:\tlearn: 0.3269923\ttotal: 3m 31s\tremaining: 55.3s\n",
      "793:\tlearn: 0.3268161\ttotal: 3m 32s\tremaining: 55s\n",
      "794:\tlearn: 0.3266324\ttotal: 3m 32s\tremaining: 54.8s\n",
      "795:\tlearn: 0.3264547\ttotal: 3m 32s\tremaining: 54.5s\n",
      "796:\tlearn: 0.3262858\ttotal: 3m 32s\tremaining: 54.3s\n",
      "797:\tlearn: 0.3261405\ttotal: 3m 33s\tremaining: 54s\n",
      "798:\tlearn: 0.3259757\ttotal: 3m 33s\tremaining: 53.7s\n",
      "799:\tlearn: 0.3258115\ttotal: 3m 33s\tremaining: 53.4s\n",
      "800:\tlearn: 0.3256290\ttotal: 3m 34s\tremaining: 53.2s\n",
      "801:\tlearn: 0.3255355\ttotal: 3m 34s\tremaining: 52.9s\n",
      "802:\tlearn: 0.3253564\ttotal: 3m 34s\tremaining: 52.6s\n",
      "803:\tlearn: 0.3251838\ttotal: 3m 34s\tremaining: 52.4s\n",
      "804:\tlearn: 0.3249828\ttotal: 3m 35s\tremaining: 52.1s\n",
      "805:\tlearn: 0.3247828\ttotal: 3m 35s\tremaining: 51.8s\n",
      "806:\tlearn: 0.3245648\ttotal: 3m 35s\tremaining: 51.6s\n",
      "807:\tlearn: 0.3243728\ttotal: 3m 35s\tremaining: 51.3s\n",
      "808:\tlearn: 0.3242339\ttotal: 3m 36s\tremaining: 51s\n",
      "809:\tlearn: 0.3240852\ttotal: 3m 36s\tremaining: 50.8s\n",
      "810:\tlearn: 0.3238885\ttotal: 3m 36s\tremaining: 50.5s\n",
      "811:\tlearn: 0.3237651\ttotal: 3m 37s\tremaining: 50.2s\n",
      "812:\tlearn: 0.3235753\ttotal: 3m 37s\tremaining: 50s\n",
      "813:\tlearn: 0.3233782\ttotal: 3m 37s\tremaining: 49.7s\n",
      "814:\tlearn: 0.3231975\ttotal: 3m 37s\tremaining: 49.4s\n",
      "815:\tlearn: 0.3230419\ttotal: 3m 38s\tremaining: 49.2s\n",
      "816:\tlearn: 0.3229027\ttotal: 3m 38s\tremaining: 48.9s\n",
      "817:\tlearn: 0.3227144\ttotal: 3m 38s\tremaining: 48.6s\n",
      "818:\tlearn: 0.3225495\ttotal: 3m 38s\tremaining: 48.4s\n",
      "819:\tlearn: 0.3224120\ttotal: 3m 39s\tremaining: 48.1s\n",
      "820:\tlearn: 0.3222221\ttotal: 3m 39s\tremaining: 47.8s\n",
      "821:\tlearn: 0.3221412\ttotal: 3m 39s\tremaining: 47.6s\n",
      "822:\tlearn: 0.3219675\ttotal: 3m 39s\tremaining: 47.3s\n",
      "823:\tlearn: 0.3217372\ttotal: 3m 40s\tremaining: 47s\n",
      "824:\tlearn: 0.3216362\ttotal: 3m 40s\tremaining: 46.8s\n",
      "825:\tlearn: 0.3214984\ttotal: 3m 40s\tremaining: 46.5s\n",
      "826:\tlearn: 0.3213443\ttotal: 3m 40s\tremaining: 46.2s\n",
      "827:\tlearn: 0.3211887\ttotal: 3m 41s\tremaining: 46s\n",
      "828:\tlearn: 0.3210229\ttotal: 3m 41s\tremaining: 45.7s\n",
      "829:\tlearn: 0.3208623\ttotal: 3m 41s\tremaining: 45.4s\n",
      "830:\tlearn: 0.3206942\ttotal: 3m 42s\tremaining: 45.2s\n",
      "831:\tlearn: 0.3205743\ttotal: 3m 42s\tremaining: 44.9s\n",
      "832:\tlearn: 0.3204216\ttotal: 3m 42s\tremaining: 44.6s\n",
      "833:\tlearn: 0.3202621\ttotal: 3m 42s\tremaining: 44.4s\n",
      "834:\tlearn: 0.3201791\ttotal: 3m 43s\tremaining: 44.1s\n",
      "835:\tlearn: 0.3200068\ttotal: 3m 43s\tremaining: 43.8s\n",
      "836:\tlearn: 0.3198156\ttotal: 3m 43s\tremaining: 43.6s\n",
      "837:\tlearn: 0.3196945\ttotal: 3m 43s\tremaining: 43.3s\n",
      "838:\tlearn: 0.3195102\ttotal: 3m 44s\tremaining: 43s\n",
      "839:\tlearn: 0.3193592\ttotal: 3m 44s\tremaining: 42.8s\n",
      "840:\tlearn: 0.3191949\ttotal: 3m 44s\tremaining: 42.5s\n",
      "841:\tlearn: 0.3190277\ttotal: 3m 45s\tremaining: 42.2s\n",
      "842:\tlearn: 0.3188730\ttotal: 3m 45s\tremaining: 42s\n",
      "843:\tlearn: 0.3187188\ttotal: 3m 45s\tremaining: 41.7s\n",
      "844:\tlearn: 0.3185523\ttotal: 3m 45s\tremaining: 41.4s\n",
      "845:\tlearn: 0.3183766\ttotal: 3m 46s\tremaining: 41.2s\n",
      "846:\tlearn: 0.3181722\ttotal: 3m 46s\tremaining: 40.9s\n",
      "847:\tlearn: 0.3180911\ttotal: 3m 46s\tremaining: 40.6s\n",
      "848:\tlearn: 0.3179638\ttotal: 3m 46s\tremaining: 40.4s\n",
      "849:\tlearn: 0.3177998\ttotal: 3m 47s\tremaining: 40.1s\n",
      "850:\tlearn: 0.3176555\ttotal: 3m 47s\tremaining: 39.8s\n",
      "851:\tlearn: 0.3175245\ttotal: 3m 47s\tremaining: 39.6s\n",
      "852:\tlearn: 0.3174239\ttotal: 3m 47s\tremaining: 39.3s\n",
      "853:\tlearn: 0.3173457\ttotal: 3m 48s\tremaining: 39s\n",
      "854:\tlearn: 0.3171918\ttotal: 3m 48s\tremaining: 38.7s\n",
      "855:\tlearn: 0.3170181\ttotal: 3m 48s\tremaining: 38.5s\n",
      "856:\tlearn: 0.3168503\ttotal: 3m 49s\tremaining: 38.2s\n",
      "857:\tlearn: 0.3167155\ttotal: 3m 49s\tremaining: 37.9s\n",
      "858:\tlearn: 0.3165710\ttotal: 3m 49s\tremaining: 37.7s\n",
      "859:\tlearn: 0.3164021\ttotal: 3m 49s\tremaining: 37.4s\n",
      "860:\tlearn: 0.3162645\ttotal: 3m 50s\tremaining: 37.1s\n",
      "861:\tlearn: 0.3161387\ttotal: 3m 50s\tremaining: 36.9s\n",
      "862:\tlearn: 0.3159474\ttotal: 3m 50s\tremaining: 36.6s\n",
      "863:\tlearn: 0.3158798\ttotal: 3m 50s\tremaining: 36.3s\n",
      "864:\tlearn: 0.3157415\ttotal: 3m 51s\tremaining: 36.1s\n",
      "865:\tlearn: 0.3155699\ttotal: 3m 51s\tremaining: 35.8s\n",
      "866:\tlearn: 0.3153909\ttotal: 3m 51s\tremaining: 35.5s\n",
      "867:\tlearn: 0.3151907\ttotal: 3m 51s\tremaining: 35.3s\n",
      "868:\tlearn: 0.3150424\ttotal: 3m 52s\tremaining: 35s\n",
      "869:\tlearn: 0.3148752\ttotal: 3m 52s\tremaining: 34.7s\n",
      "870:\tlearn: 0.3147424\ttotal: 3m 52s\tremaining: 34.5s\n",
      "871:\tlearn: 0.3145589\ttotal: 3m 53s\tremaining: 34.2s\n",
      "872:\tlearn: 0.3144750\ttotal: 3m 53s\tremaining: 33.9s\n",
      "873:\tlearn: 0.3143761\ttotal: 3m 53s\tremaining: 33.7s\n",
      "874:\tlearn: 0.3142010\ttotal: 3m 53s\tremaining: 33.4s\n",
      "875:\tlearn: 0.3140637\ttotal: 3m 54s\tremaining: 33.1s\n",
      "876:\tlearn: 0.3139189\ttotal: 3m 54s\tremaining: 32.9s\n",
      "877:\tlearn: 0.3137919\ttotal: 3m 54s\tremaining: 32.6s\n",
      "878:\tlearn: 0.3136454\ttotal: 3m 54s\tremaining: 32.3s\n",
      "879:\tlearn: 0.3135788\ttotal: 3m 55s\tremaining: 32.1s\n",
      "880:\tlearn: 0.3134173\ttotal: 3m 55s\tremaining: 31.8s\n",
      "881:\tlearn: 0.3132952\ttotal: 3m 55s\tremaining: 31.5s\n",
      "882:\tlearn: 0.3131472\ttotal: 3m 55s\tremaining: 31.3s\n",
      "883:\tlearn: 0.3129894\ttotal: 3m 56s\tremaining: 31s\n",
      "884:\tlearn: 0.3128551\ttotal: 3m 56s\tremaining: 30.7s\n",
      "885:\tlearn: 0.3127043\ttotal: 3m 56s\tremaining: 30.5s\n",
      "886:\tlearn: 0.3125345\ttotal: 3m 56s\tremaining: 30.2s\n",
      "887:\tlearn: 0.3124149\ttotal: 3m 57s\tremaining: 29.9s\n",
      "888:\tlearn: 0.3122704\ttotal: 3m 57s\tremaining: 29.7s\n",
      "889:\tlearn: 0.3121252\ttotal: 3m 57s\tremaining: 29.4s\n",
      "890:\tlearn: 0.3120085\ttotal: 3m 58s\tremaining: 29.1s\n",
      "891:\tlearn: 0.3118384\ttotal: 3m 58s\tremaining: 28.8s\n",
      "892:\tlearn: 0.3117540\ttotal: 3m 58s\tremaining: 28.6s\n",
      "893:\tlearn: 0.3116078\ttotal: 3m 58s\tremaining: 28.3s\n",
      "894:\tlearn: 0.3114544\ttotal: 3m 59s\tremaining: 28s\n",
      "895:\tlearn: 0.3112858\ttotal: 3m 59s\tremaining: 27.8s\n",
      "896:\tlearn: 0.3111581\ttotal: 3m 59s\tremaining: 27.5s\n",
      "897:\tlearn: 0.3110186\ttotal: 3m 59s\tremaining: 27.2s\n",
      "898:\tlearn: 0.3108462\ttotal: 4m\tremaining: 27s\n",
      "899:\tlearn: 0.3106796\ttotal: 4m\tremaining: 26.7s\n",
      "900:\tlearn: 0.3105055\ttotal: 4m\tremaining: 26.4s\n",
      "901:\tlearn: 0.3103118\ttotal: 4m\tremaining: 26.2s\n",
      "902:\tlearn: 0.3101322\ttotal: 4m 1s\tremaining: 25.9s\n",
      "903:\tlearn: 0.3099835\ttotal: 4m 1s\tremaining: 25.6s\n",
      "904:\tlearn: 0.3098296\ttotal: 4m 1s\tremaining: 25.4s\n",
      "905:\tlearn: 0.3096932\ttotal: 4m 2s\tremaining: 25.1s\n",
      "906:\tlearn: 0.3094925\ttotal: 4m 2s\tremaining: 24.8s\n",
      "907:\tlearn: 0.3093720\ttotal: 4m 2s\tremaining: 24.6s\n",
      "908:\tlearn: 0.3092906\ttotal: 4m 2s\tremaining: 24.3s\n",
      "909:\tlearn: 0.3091305\ttotal: 4m 3s\tremaining: 24s\n",
      "910:\tlearn: 0.3089835\ttotal: 4m 3s\tremaining: 23.8s\n",
      "911:\tlearn: 0.3087841\ttotal: 4m 3s\tremaining: 23.5s\n",
      "912:\tlearn: 0.3086327\ttotal: 4m 3s\tremaining: 23.2s\n",
      "913:\tlearn: 0.3084460\ttotal: 4m 4s\tremaining: 23s\n",
      "914:\tlearn: 0.3083221\ttotal: 4m 4s\tremaining: 22.7s\n",
      "915:\tlearn: 0.3082130\ttotal: 4m 4s\tremaining: 22.4s\n",
      "916:\tlearn: 0.3081530\ttotal: 4m 4s\tremaining: 22.2s\n",
      "917:\tlearn: 0.3079882\ttotal: 4m 5s\tremaining: 21.9s\n",
      "918:\tlearn: 0.3078211\ttotal: 4m 5s\tremaining: 21.6s\n",
      "919:\tlearn: 0.3077013\ttotal: 4m 5s\tremaining: 21.4s\n",
      "920:\tlearn: 0.3075511\ttotal: 4m 5s\tremaining: 21.1s\n",
      "921:\tlearn: 0.3073575\ttotal: 4m 6s\tremaining: 20.8s\n",
      "922:\tlearn: 0.3072972\ttotal: 4m 6s\tremaining: 20.6s\n",
      "923:\tlearn: 0.3071602\ttotal: 4m 6s\tremaining: 20.3s\n",
      "924:\tlearn: 0.3070231\ttotal: 4m 7s\tremaining: 20s\n",
      "925:\tlearn: 0.3069480\ttotal: 4m 7s\tremaining: 19.8s\n",
      "926:\tlearn: 0.3068199\ttotal: 4m 7s\tremaining: 19.5s\n",
      "927:\tlearn: 0.3066942\ttotal: 4m 7s\tremaining: 19.2s\n",
      "928:\tlearn: 0.3065465\ttotal: 4m 8s\tremaining: 19s\n",
      "929:\tlearn: 0.3064003\ttotal: 4m 8s\tremaining: 18.7s\n",
      "930:\tlearn: 0.3062456\ttotal: 4m 8s\tremaining: 18.4s\n",
      "931:\tlearn: 0.3061039\ttotal: 4m 8s\tremaining: 18.2s\n",
      "932:\tlearn: 0.3059547\ttotal: 4m 9s\tremaining: 17.9s\n",
      "933:\tlearn: 0.3058175\ttotal: 4m 9s\tremaining: 17.6s\n",
      "934:\tlearn: 0.3056851\ttotal: 4m 9s\tremaining: 17.4s\n",
      "935:\tlearn: 0.3055615\ttotal: 4m 10s\tremaining: 17.1s\n",
      "936:\tlearn: 0.3054020\ttotal: 4m 10s\tremaining: 16.8s\n",
      "937:\tlearn: 0.3052271\ttotal: 4m 10s\tremaining: 16.6s\n",
      "938:\tlearn: 0.3050738\ttotal: 4m 10s\tremaining: 16.3s\n",
      "939:\tlearn: 0.3049446\ttotal: 4m 11s\tremaining: 16s\n",
      "940:\tlearn: 0.3047611\ttotal: 4m 11s\tremaining: 15.8s\n",
      "941:\tlearn: 0.3046008\ttotal: 4m 11s\tremaining: 15.5s\n",
      "942:\tlearn: 0.3044545\ttotal: 4m 11s\tremaining: 15.2s\n",
      "943:\tlearn: 0.3043217\ttotal: 4m 12s\tremaining: 15s\n",
      "944:\tlearn: 0.3041924\ttotal: 4m 12s\tremaining: 14.7s\n",
      "945:\tlearn: 0.3041226\ttotal: 4m 12s\tremaining: 14.4s\n",
      "946:\tlearn: 0.3039366\ttotal: 4m 12s\tremaining: 14.2s\n",
      "947:\tlearn: 0.3037997\ttotal: 4m 13s\tremaining: 13.9s\n",
      "948:\tlearn: 0.3036530\ttotal: 4m 13s\tremaining: 13.6s\n",
      "949:\tlearn: 0.3034816\ttotal: 4m 13s\tremaining: 13.4s\n",
      "950:\tlearn: 0.3033394\ttotal: 4m 14s\tremaining: 13.1s\n",
      "951:\tlearn: 0.3031963\ttotal: 4m 14s\tremaining: 12.8s\n",
      "952:\tlearn: 0.3031150\ttotal: 4m 14s\tremaining: 12.6s\n",
      "953:\tlearn: 0.3029586\ttotal: 4m 14s\tremaining: 12.3s\n",
      "954:\tlearn: 0.3027881\ttotal: 4m 15s\tremaining: 12s\n",
      "955:\tlearn: 0.3026212\ttotal: 4m 15s\tremaining: 11.8s\n",
      "956:\tlearn: 0.3024667\ttotal: 4m 15s\tremaining: 11.5s\n",
      "957:\tlearn: 0.3023592\ttotal: 4m 15s\tremaining: 11.2s\n",
      "958:\tlearn: 0.3022717\ttotal: 4m 16s\tremaining: 11s\n",
      "959:\tlearn: 0.3021603\ttotal: 4m 16s\tremaining: 10.7s\n",
      "960:\tlearn: 0.3020868\ttotal: 4m 16s\tremaining: 10.4s\n",
      "961:\tlearn: 0.3018965\ttotal: 4m 16s\tremaining: 10.2s\n",
      "962:\tlearn: 0.3017071\ttotal: 4m 17s\tremaining: 9.88s\n",
      "963:\tlearn: 0.3015874\ttotal: 4m 17s\tremaining: 9.62s\n",
      "964:\tlearn: 0.3014080\ttotal: 4m 17s\tremaining: 9.35s\n",
      "965:\tlearn: 0.3013511\ttotal: 4m 18s\tremaining: 9.08s\n",
      "966:\tlearn: 0.3013015\ttotal: 4m 18s\tremaining: 8.81s\n",
      "967:\tlearn: 0.3011613\ttotal: 4m 18s\tremaining: 8.55s\n",
      "968:\tlearn: 0.3010909\ttotal: 4m 18s\tremaining: 8.28s\n",
      "969:\tlearn: 0.3009336\ttotal: 4m 19s\tremaining: 8.01s\n",
      "970:\tlearn: 0.3008000\ttotal: 4m 19s\tremaining: 7.75s\n",
      "971:\tlearn: 0.3006383\ttotal: 4m 19s\tremaining: 7.48s\n",
      "972:\tlearn: 0.3005581\ttotal: 4m 19s\tremaining: 7.21s\n",
      "973:\tlearn: 0.3004193\ttotal: 4m 20s\tremaining: 6.94s\n",
      "974:\tlearn: 0.3003055\ttotal: 4m 20s\tremaining: 6.68s\n",
      "975:\tlearn: 0.3002205\ttotal: 4m 20s\tremaining: 6.41s\n",
      "976:\tlearn: 0.3000711\ttotal: 4m 20s\tremaining: 6.14s\n",
      "977:\tlearn: 0.2999869\ttotal: 4m 21s\tremaining: 5.88s\n",
      "978:\tlearn: 0.2998379\ttotal: 4m 21s\tremaining: 5.61s\n",
      "979:\tlearn: 0.2996656\ttotal: 4m 21s\tremaining: 5.34s\n",
      "980:\tlearn: 0.2995018\ttotal: 4m 22s\tremaining: 5.08s\n",
      "981:\tlearn: 0.2993652\ttotal: 4m 22s\tremaining: 4.81s\n",
      "982:\tlearn: 0.2992367\ttotal: 4m 22s\tremaining: 4.54s\n",
      "983:\tlearn: 0.2991072\ttotal: 4m 22s\tremaining: 4.27s\n",
      "984:\tlearn: 0.2989737\ttotal: 4m 23s\tremaining: 4.01s\n",
      "985:\tlearn: 0.2989067\ttotal: 4m 23s\tremaining: 3.74s\n",
      "986:\tlearn: 0.2987809\ttotal: 4m 23s\tremaining: 3.47s\n",
      "987:\tlearn: 0.2986562\ttotal: 4m 23s\tremaining: 3.21s\n",
      "988:\tlearn: 0.2985558\ttotal: 4m 24s\tremaining: 2.94s\n",
      "989:\tlearn: 0.2984191\ttotal: 4m 24s\tremaining: 2.67s\n",
      "990:\tlearn: 0.2982955\ttotal: 4m 24s\tremaining: 2.4s\n",
      "991:\tlearn: 0.2981349\ttotal: 4m 24s\tremaining: 2.14s\n",
      "992:\tlearn: 0.2979797\ttotal: 4m 25s\tremaining: 1.87s\n",
      "993:\tlearn: 0.2978360\ttotal: 4m 25s\tremaining: 1.6s\n",
      "994:\tlearn: 0.2977142\ttotal: 4m 25s\tremaining: 1.33s\n",
      "995:\tlearn: 0.2975591\ttotal: 4m 26s\tremaining: 1.07s\n",
      "996:\tlearn: 0.2974375\ttotal: 4m 26s\tremaining: 801ms\n",
      "997:\tlearn: 0.2973242\ttotal: 4m 26s\tremaining: 534ms\n",
      "998:\tlearn: 0.2972036\ttotal: 4m 26s\tremaining: 267ms\n",
      "999:\tlearn: 0.2970573\ttotal: 4m 27s\tremaining: 0us\n"
     ]
    },
    {
     "data": {
      "text/plain": [
       "<catboost.core.CatBoostClassifier at 0x7ff73b541950>"
      ]
     },
     "execution_count": 45,
     "metadata": {},
     "output_type": "execute_result"
    }
   ],
   "source": [
    "import catboost as cb\n",
    "\n",
    "from catboost import CatBoostClassifier\n",
    "classifier = CatBoostClassifier()\n",
    "classifier.fit(X_train, y_train)\n",
    "\n"
   ]
  },
  {
   "cell_type": "code",
   "execution_count": null,
   "metadata": {
    "colab": {
     "base_uri": "https://localhost:8080/"
    },
    "executionInfo": {
     "elapsed": 13748,
     "status": "ok",
     "timestamp": 1640507971956,
     "user": {
      "displayName": "Nishant wadhwani",
      "photoUrl": "https://lh3.googleusercontent.com/a-/AOh14Gjnn_M-nxVO-GHfPkftHjSsX-Ulopf1dqkz5rCwgg=s64",
      "userId": "18292067457856021938"
     },
     "user_tz": -330
    },
    "id": "CIAb1U-BMkRv",
    "outputId": "22418b90-1eb7-4a18-aba6-f735875e1f1d"
   },
   "outputs": [
    {
     "name": "stdout",
     "output_type": "stream",
     "text": [
      "[[0 0]\n",
      " [1 1]\n",
      " [0 0]\n",
      " ...\n",
      " [1 1]\n",
      " [0 0]\n",
      " [1 1]]\n"
     ]
    }
   ],
   "source": [
    "y_pred = classifier.predict(X_test)\n",
    "print(np.concatenate((y_pred.reshape(len(y_pred),1), y_test.reshape(len(y_test),1)),1))\n",
    "\n"
   ]
  },
  {
   "cell_type": "code",
   "execution_count": null,
   "metadata": {
    "colab": {
     "base_uri": "https://localhost:8080/"
    },
    "executionInfo": {
     "elapsed": 31,
     "status": "ok",
     "timestamp": 1640507971958,
     "user": {
      "displayName": "Nishant wadhwani",
      "photoUrl": "https://lh3.googleusercontent.com/a-/AOh14Gjnn_M-nxVO-GHfPkftHjSsX-Ulopf1dqkz5rCwgg=s64",
      "userId": "18292067457856021938"
     },
     "user_tz": -330
    },
    "id": "leQVpbACMkRv",
    "outputId": "3df4e34f-97d2-49da-90a2-ceb459b83f55"
   },
   "outputs": [
    {
     "name": "stdout",
     "output_type": "stream",
     "text": [
      "[[845 152]\n",
      " [171 832]]\n",
      "              precision    recall  f1-score   support\n",
      "\n",
      "           0       0.83      0.85      0.84       997\n",
      "           1       0.85      0.83      0.84      1003\n",
      "\n",
      "    accuracy                           0.84      2000\n",
      "   macro avg       0.84      0.84      0.84      2000\n",
      "weighted avg       0.84      0.84      0.84      2000\n",
      "\n"
     ]
    }
   ],
   "source": [
    "from sklearn.metrics import confusion_matrix, accuracy_score,classification_report\n",
    "cm = confusion_matrix(y_test, y_pred)\n",
    "print(cm)\n",
    "accuracy_score(y_test, y_pred)\n",
    "\n",
    "print(classification_report(y_test, y_pred))\n"
   ]
  },
  {
   "cell_type": "code",
   "execution_count": null,
   "metadata": {
    "id": "ODQUCogNMkRv"
   },
   "outputs": [],
   "source": [
    "\n"
   ]
  },
  {
   "cell_type": "markdown",
   "metadata": {
    "id": "LXBYmpvJMkR4"
   },
   "source": [
    "### Gradient Boosting Classifier\n"
   ]
  },
  {
   "cell_type": "code",
   "execution_count": null,
   "metadata": {
    "colab": {
     "base_uri": "https://localhost:8080/"
    },
    "executionInfo": {
     "elapsed": 471720,
     "status": "ok",
     "timestamp": 1640508443657,
     "user": {
      "displayName": "Nishant wadhwani",
      "photoUrl": "https://lh3.googleusercontent.com/a-/AOh14Gjnn_M-nxVO-GHfPkftHjSsX-Ulopf1dqkz5rCwgg=s64",
      "userId": "18292067457856021938"
     },
     "user_tz": -330
    },
    "id": "m_uE05VyMkR5",
    "outputId": "ff97441c-e077-490e-9934-79bc7cafb389"
   },
   "outputs": [
    {
     "data": {
      "text/plain": [
       "GradientBoostingClassifier()"
      ]
     },
     "execution_count": 48,
     "metadata": {},
     "output_type": "execute_result"
    }
   ],
   "source": [
    "from sklearn.ensemble import GradientBoostingClassifier\n",
    "classifier = GradientBoostingClassifier()\n",
    "classifier.fit(X_train, y_train)\n",
    "\n"
   ]
  },
  {
   "cell_type": "code",
   "execution_count": null,
   "metadata": {
    "colab": {
     "base_uri": "https://localhost:8080/"
    },
    "executionInfo": {
     "elapsed": 35,
     "status": "ok",
     "timestamp": 1640508443659,
     "user": {
      "displayName": "Nishant wadhwani",
      "photoUrl": "https://lh3.googleusercontent.com/a-/AOh14Gjnn_M-nxVO-GHfPkftHjSsX-Ulopf1dqkz5rCwgg=s64",
      "userId": "18292067457856021938"
     },
     "user_tz": -330
    },
    "id": "woAR6mERMkR5",
    "outputId": "4b5f7729-58c5-4efb-eba6-b6bebaf2167e"
   },
   "outputs": [
    {
     "name": "stdout",
     "output_type": "stream",
     "text": [
      "[[0 0]\n",
      " [1 1]\n",
      " [0 0]\n",
      " ...\n",
      " [1 1]\n",
      " [0 0]\n",
      " [1 1]]\n"
     ]
    }
   ],
   "source": [
    "y_pred = classifier.predict(X_test)\n",
    "print(np.concatenate((y_pred.reshape(len(y_pred),1), y_test.reshape(len(y_test),1)),1))\n",
    "\n"
   ]
  },
  {
   "cell_type": "code",
   "execution_count": null,
   "metadata": {
    "colab": {
     "base_uri": "https://localhost:8080/"
    },
    "executionInfo": {
     "elapsed": 28,
     "status": "ok",
     "timestamp": 1640508443660,
     "user": {
      "displayName": "Nishant wadhwani",
      "photoUrl": "https://lh3.googleusercontent.com/a-/AOh14Gjnn_M-nxVO-GHfPkftHjSsX-Ulopf1dqkz5rCwgg=s64",
      "userId": "18292067457856021938"
     },
     "user_tz": -330
    },
    "id": "w6DD34jjMkR5",
    "outputId": "98876fd9-ebbe-4d7d-ba36-f04504a3554c"
   },
   "outputs": [
    {
     "name": "stdout",
     "output_type": "stream",
     "text": [
      "[[843 154]\n",
      " [271 732]]\n",
      "              precision    recall  f1-score   support\n",
      "\n",
      "           0       0.76      0.85      0.80       997\n",
      "           1       0.83      0.73      0.78      1003\n",
      "\n",
      "    accuracy                           0.79      2000\n",
      "   macro avg       0.79      0.79      0.79      2000\n",
      "weighted avg       0.79      0.79      0.79      2000\n",
      "\n"
     ]
    }
   ],
   "source": [
    "from sklearn.metrics import confusion_matrix, accuracy_score,classification_report\n",
    "cm = confusion_matrix(y_test, y_pred)\n",
    "print(cm)\n",
    "accuracy_score(y_test, y_pred)\n",
    "\n",
    "print(classification_report(y_test, y_pred))\n"
   ]
  },
  {
   "cell_type": "code",
   "execution_count": null,
   "metadata": {
    "id": "RhWTt6jbMkR6"
   },
   "outputs": [],
   "source": [
    "\n"
   ]
  },
  {
   "cell_type": "markdown",
   "metadata": {
    "id": "jXjoqBBTMkR7"
   },
   "source": [
    "### LightGBM (Light Gradient Boosting Machine)\n"
   ]
  },
  {
   "cell_type": "code",
   "execution_count": null,
   "metadata": {
    "colab": {
     "base_uri": "https://localhost:8080/"
    },
    "executionInfo": {
     "elapsed": 8226,
     "status": "ok",
     "timestamp": 1640508451865,
     "user": {
      "displayName": "Nishant wadhwani",
      "photoUrl": "https://lh3.googleusercontent.com/a-/AOh14Gjnn_M-nxVO-GHfPkftHjSsX-Ulopf1dqkz5rCwgg=s64",
      "userId": "18292067457856021938"
     },
     "user_tz": -330
    },
    "id": "JJ4n8wHqMkR7",
    "outputId": "9e40d60f-13ba-4822-b190-52fda685f924"
   },
   "outputs": [
    {
     "data": {
      "text/plain": [
       "LGBMClassifier()"
      ]
     },
     "execution_count": 51,
     "metadata": {},
     "output_type": "execute_result"
    }
   ],
   "source": [
    "import lightgbm as lgb\n",
    "from lightgbm import LGBMClassifier\n",
    "classifier = LGBMClassifier()\n",
    "classifier.fit(X_train, y_train)\n"
   ]
  },
  {
   "cell_type": "code",
   "execution_count": null,
   "metadata": {
    "colab": {
     "base_uri": "https://localhost:8080/"
    },
    "executionInfo": {
     "elapsed": 37,
     "status": "ok",
     "timestamp": 1640508451866,
     "user": {
      "displayName": "Nishant wadhwani",
      "photoUrl": "https://lh3.googleusercontent.com/a-/AOh14Gjnn_M-nxVO-GHfPkftHjSsX-Ulopf1dqkz5rCwgg=s64",
      "userId": "18292067457856021938"
     },
     "user_tz": -330
    },
    "id": "JN9CZnCfMkR8",
    "outputId": "83ccbdad-fd5c-4671-c494-42d51ff1cd70"
   },
   "outputs": [
    {
     "name": "stdout",
     "output_type": "stream",
     "text": [
      "[[0 0]\n",
      " [1 1]\n",
      " [0 0]\n",
      " ...\n",
      " [1 1]\n",
      " [0 0]\n",
      " [1 1]]\n"
     ]
    }
   ],
   "source": [
    "y_pred = classifier.predict(X_test)\n",
    "print(np.concatenate((y_pred.reshape(len(y_pred),1), y_test.reshape(len(y_test),1)),1))\n"
   ]
  },
  {
   "cell_type": "code",
   "execution_count": null,
   "metadata": {
    "colab": {
     "base_uri": "https://localhost:8080/"
    },
    "executionInfo": {
     "elapsed": 35,
     "status": "ok",
     "timestamp": 1640508451867,
     "user": {
      "displayName": "Nishant wadhwani",
      "photoUrl": "https://lh3.googleusercontent.com/a-/AOh14Gjnn_M-nxVO-GHfPkftHjSsX-Ulopf1dqkz5rCwgg=s64",
      "userId": "18292067457856021938"
     },
     "user_tz": -330
    },
    "id": "hbk0vl-CMkR8",
    "outputId": "37785e52-8fa1-40c0-d0d2-5ce837adf00d"
   },
   "outputs": [
    {
     "name": "stdout",
     "output_type": "stream",
     "text": [
      "[[840 157]\n",
      " [160 843]]\n"
     ]
    },
    {
     "data": {
      "text/plain": [
       "0.8415"
      ]
     },
     "execution_count": 53,
     "metadata": {},
     "output_type": "execute_result"
    }
   ],
   "source": [
    "from sklearn.metrics import confusion_matrix, accuracy_score,classification_report\n",
    "cm = confusion_matrix(y_test, y_pred)\n",
    "print(cm)\n",
    "accuracy_score(y_test, y_pred)\n"
   ]
  },
  {
   "cell_type": "code",
   "execution_count": null,
   "metadata": {
    "colab": {
     "base_uri": "https://localhost:8080/"
    },
    "executionInfo": {
     "elapsed": 30,
     "status": "ok",
     "timestamp": 1640508451869,
     "user": {
      "displayName": "Nishant wadhwani",
      "photoUrl": "https://lh3.googleusercontent.com/a-/AOh14Gjnn_M-nxVO-GHfPkftHjSsX-Ulopf1dqkz5rCwgg=s64",
      "userId": "18292067457856021938"
     },
     "user_tz": -330
    },
    "id": "m8j01xWaMkR9",
    "outputId": "fb6681ff-7bce-48ea-c715-7390aee9a3ef"
   },
   "outputs": [
    {
     "name": "stdout",
     "output_type": "stream",
     "text": [
      "              precision    recall  f1-score   support\n",
      "\n",
      "           0       0.84      0.84      0.84       997\n",
      "           1       0.84      0.84      0.84      1003\n",
      "\n",
      "    accuracy                           0.84      2000\n",
      "   macro avg       0.84      0.84      0.84      2000\n",
      "weighted avg       0.84      0.84      0.84      2000\n",
      "\n"
     ]
    }
   ],
   "source": [
    "print(classification_report(y_test, y_pred))\n"
   ]
  },
  {
   "cell_type": "markdown",
   "metadata": {
    "id": "pQ98IS3zglcL"
   },
   "source": [
    "###Linear and Kernel SVM performs the best with 87% accuracy."
   ]
  },
  {
   "cell_type": "markdown",
   "metadata": {
    "id": "xWz1aiN_C5GR"
   },
   "source": [
    "## Word2Vec"
   ]
  },
  {
   "cell_type": "code",
   "execution_count": null,
   "metadata": {
    "colab": {
     "base_uri": "https://localhost:8080/"
    },
    "executionInfo": {
     "elapsed": 616,
     "status": "ok",
     "timestamp": 1640542086756,
     "user": {
      "displayName": "Nishant wadhwani",
      "photoUrl": "https://lh3.googleusercontent.com/a-/AOh14Gjnn_M-nxVO-GHfPkftHjSsX-Ulopf1dqkz5rCwgg=s64",
      "userId": "18292067457856021938"
     },
     "user_tz": -330
    },
    "id": "2D71KDPnC5GR",
    "outputId": "a7b93723-8792-4998-c540-067f1cfb72a6"
   },
   "outputs": [
    {
     "name": "stdout",
     "output_type": "stream",
     "text": [
      "[nltk_data] Downloading package stopwords to /root/nltk_data...\n",
      "[nltk_data]   Package stopwords is already up-to-date!\n"
     ]
    }
   ],
   "source": [
    "import pandas as pd\n",
    "import numpy as np\n",
    "from sklearn.model_selection import train_test_split\n",
    "from keras.preprocessing.text import Tokenizer\n",
    "from keras.preprocessing import sequence\n",
    "from keras.preprocessing.sequence import pad_sequences\n",
    "from keras.utils import np_utils\n",
    "import gensim\n",
    "import nltk\n",
    "from gensim.models.word2vec import Word2Vec\n",
    "import tensorflow as tf\n",
    "from tqdm import tqdm\n",
    "nltk.download('stopwords')\n",
    "import re\n",
    "import matplotlib.pyplot as plt"
   ]
  },
  {
   "cell_type": "code",
   "execution_count": null,
   "metadata": {
    "colab": {
     "base_uri": "https://localhost:8080/"
    },
    "executionInfo": {
     "elapsed": 8,
     "status": "ok",
     "timestamp": 1640542090444,
     "user": {
      "displayName": "Nishant wadhwani",
      "photoUrl": "https://lh3.googleusercontent.com/a-/AOh14Gjnn_M-nxVO-GHfPkftHjSsX-Ulopf1dqkz5rCwgg=s64",
      "userId": "18292067457856021938"
     },
     "user_tz": -330
    },
    "id": "5_bxpKnEC5GS",
    "outputId": "552168b8-101e-47ca-b509-65b1c764022a"
   },
   "outputs": [
    {
     "data": {
      "text/plain": [
       "0       Stuning even for the non-gamer: This sound tra...\n",
       "1       The best soundtrack ever to anything.: I'm rea...\n",
       "2       Amazing!: This soundtrack is my favorite music...\n",
       "3       Excellent Soundtrack: I truly like this soundt...\n",
       "4       Remember, Pull Your Jaw Off The Floor After He...\n",
       "                              ...                        \n",
       "9995    A revelation of life in small town America in ...\n",
       "9996    Great biography of a very interesting journali...\n",
       "9997    Interesting Subject; Poor Presentation: You'd ...\n",
       "9998    Don't buy: The box looked used and it is obvio...\n",
       "9999    Beautiful Pen and Fast Delivery.: The pen was ...\n",
       "Name: review, Length: 10000, dtype: object"
      ]
     },
     "execution_count": 48,
     "metadata": {},
     "output_type": "execute_result"
    }
   ],
   "source": [
    "X_data"
   ]
  },
  {
   "cell_type": "code",
   "execution_count": null,
   "metadata": {
    "colab": {
     "base_uri": "https://localhost:8080/"
    },
    "executionInfo": {
     "elapsed": 906,
     "status": "ok",
     "timestamp": 1640542092939,
     "user": {
      "displayName": "Nishant wadhwani",
      "photoUrl": "https://lh3.googleusercontent.com/a-/AOh14Gjnn_M-nxVO-GHfPkftHjSsX-Ulopf1dqkz5rCwgg=s64",
      "userId": "18292067457856021938"
     },
     "user_tz": -330
    },
    "id": "_GGg7BY4C5GT",
    "outputId": "68b4f980-c9a0-45b2-eb32-f67ebd702547"
   },
   "outputs": [
    {
     "name": "stdout",
     "output_type": "stream",
     "text": [
      "Found 33469 unique tokens. \n"
     ]
    }
   ],
   "source": [
    "from keras.preprocessing.text import Tokenizer\n",
    "\n",
    "samples = X_data\n",
    "tokenizer = Tokenizer(lower=True, split=' ') # creates tokenizer\n",
    "tokenizer.fit_on_texts(samples)  # builds the word index\n",
    "sequences = tokenizer.texts_to_sequences(samples) #turns strings into list of integers\n",
    "# word_index is a dictionary mapping words to an integer index\n",
    "word_index = tokenizer.word_index \n",
    "print(f'Found {len(word_index)} unique tokens. ')"
   ]
  },
  {
   "cell_type": "code",
   "execution_count": null,
   "metadata": {
    "colab": {
     "base_uri": "https://localhost:8080/"
    },
    "executionInfo": {
     "elapsed": 9,
     "status": "ok",
     "timestamp": 1640542094349,
     "user": {
      "displayName": "Nishant wadhwani",
      "photoUrl": "https://lh3.googleusercontent.com/a-/AOh14Gjnn_M-nxVO-GHfPkftHjSsX-Ulopf1dqkz5rCwgg=s64",
      "userId": "18292067457856021938"
     },
     "user_tz": -330
    },
    "id": "sP2aDGYfC5GT",
    "outputId": "28db68a9-3275-4d2d-d360-6112b337018e"
   },
   "outputs": [
    {
     "data": {
      "text/plain": [
       "33469"
      ]
     },
     "execution_count": 50,
     "metadata": {},
     "output_type": "execute_result"
    }
   ],
   "source": [
    "max([max(sequence) for sequence in sequences])"
   ]
  },
  {
   "cell_type": "code",
   "execution_count": null,
   "metadata": {
    "colab": {
     "base_uri": "https://localhost:8080/"
    },
    "executionInfo": {
     "elapsed": 596,
     "status": "ok",
     "timestamp": 1640542097608,
     "user": {
      "displayName": "Nishant wadhwani",
      "photoUrl": "https://lh3.googleusercontent.com/a-/AOh14Gjnn_M-nxVO-GHfPkftHjSsX-Ulopf1dqkz5rCwgg=s64",
      "userId": "18292067457856021938"
     },
     "user_tz": -330
    },
    "id": "jsKeenirC5GU",
    "outputId": "80df0a2f-1fed-4ddc-acf8-298486c9e299"
   },
   "outputs": [
    {
     "data": {
      "text/plain": [
       "[17071,\n",
       " 72,\n",
       " 11,\n",
       " 1,\n",
       " 612,\n",
       " 8603,\n",
       " 8,\n",
       " 209,\n",
       " 474,\n",
       " 13,\n",
       " 344,\n",
       " 7,\n",
       " 6190,\n",
       " 1,\n",
       " 17072,\n",
       " 10,\n",
       " 59,\n",
       " 377,\n",
       " 26,\n",
       " 67,\n",
       " 3,\n",
       " 41,\n",
       " 1776,\n",
       " 7,\n",
       " 72,\n",
       " 5,\n",
       " 119,\n",
       " 64,\n",
       " 724,\n",
       " 12448,\n",
       " 141,\n",
       " 123,\n",
       " 3,\n",
       " 21,\n",
       " 509,\n",
       " 1,\n",
       " 141,\n",
       " 7563,\n",
       " 1744,\n",
       " 17,\n",
       " 44,\n",
       " 6,\n",
       " 27,\n",
       " 6,\n",
       " 1,\n",
       " 618,\n",
       " 3,\n",
       " 21,\n",
       " 107,\n",
       " 509,\n",
       " 7,\n",
       " 46,\n",
       " 1,\n",
       " 90,\n",
       " 123,\n",
       " 7,\n",
       " 10094,\n",
       " 253,\n",
       " 39,\n",
       " 2813,\n",
       " 17073,\n",
       " 2,\n",
       " 400,\n",
       " 4,\n",
       " 12449,\n",
       " 1112,\n",
       " 18,\n",
       " 17074,\n",
       " 3369,\n",
       " 2,\n",
       " 6191,\n",
       " 17075,\n",
       " 7,\n",
       " 41,\n",
       " 3370,\n",
       " 182,\n",
       " 64,\n",
       " 2403,\n",
       " 5,\n",
       " 367]"
      ]
     },
     "execution_count": 51,
     "metadata": {},
     "output_type": "execute_result"
    }
   ],
   "source": [
    "# Each number is the index of the word in the order of word in original text\n",
    "sequences[0]"
   ]
  },
  {
   "cell_type": "code",
   "execution_count": null,
   "metadata": {
    "id": "rk82eJOoC5GV"
   },
   "outputs": [],
   "source": [
    "\n",
    "\n",
    "# We reverse it, mapping integer indices to words\n",
    "reverse_word_index = dict([(value, key) for (key, value) in word_index.items()])\n",
    "# We decode the review; note that our indices were offset by 3\n",
    "# because 0, 1 and 2 are reserved indices for \"padding\", \"start of sequence\", and \"unknown\".\n",
    "decoded_review = ' '.join([reverse_word_index.get(i - 3, '?') for i in sequences[0]])\n",
    "\n",
    "def sequence_to_text(sequence):\n",
    "    words =  [reverse_word_index.get(letter) for letter in sequence]\n",
    "    return words\n",
    "\n",
    "my_text = list(map(sequence_to_text, sequences))\n",
    "\n"
   ]
  },
  {
   "cell_type": "code",
   "execution_count": null,
   "metadata": {
    "colab": {
     "base_uri": "https://localhost:8080/"
    },
    "executionInfo": {
     "elapsed": 9,
     "status": "ok",
     "timestamp": 1640542104142,
     "user": {
      "displayName": "Nishant wadhwani",
      "photoUrl": "https://lh3.googleusercontent.com/a-/AOh14Gjnn_M-nxVO-GHfPkftHjSsX-Ulopf1dqkz5rCwgg=s64",
      "userId": "18292067457856021938"
     },
     "user_tz": -330
    },
    "id": "JKZt8HxAMkSC",
    "outputId": "8d4e0efc-243c-4832-f15c-3acb10adba21"
   },
   "outputs": [
    {
     "name": "stdout",
     "output_type": "stream",
     "text": [
      "[17071, 72, 11, 1, 612, 8603, 8, 209, 474, 13, 344, 7, 6190, 1, 17072, 10, 59, 377, 26, 67, 3, 41, 1776, 7, 72, 5, 119, 64, 724, 12448, 141, 123, 3, 21, 509, 1, 141, 7563, 1744, 17, 44, 6, 27, 6, 1, 618, 3, 21, 107, 509, 7, 46, 1, 90, 123, 7, 10094, 253, 39, 2813, 17073, 2, 400, 4, 12449, 1112, 18, 17074, 3369, 2, 6191, 17075, 7, 41, 3370, 182, 64, 2403, 5, 367]\n"
     ]
    }
   ],
   "source": [
    "print(sequences[0])\n"
   ]
  },
  {
   "cell_type": "code",
   "execution_count": null,
   "metadata": {
    "id": "vm9z0gdNh6o7"
   },
   "outputs": [],
   "source": []
  },
  {
   "cell_type": "code",
   "execution_count": null,
   "metadata": {
    "id": "Zet2IWdu6R6T"
   },
   "outputs": [],
   "source": []
  },
  {
   "cell_type": "code",
   "execution_count": null,
   "metadata": {
    "colab": {
     "base_uri": "https://localhost:8080/"
    },
    "executionInfo": {
     "elapsed": 31593,
     "status": "ok",
     "timestamp": 1640542427518,
     "user": {
      "displayName": "Nishant wadhwani",
      "photoUrl": "https://lh3.googleusercontent.com/a-/AOh14Gjnn_M-nxVO-GHfPkftHjSsX-Ulopf1dqkz5rCwgg=s64",
      "userId": "18292067457856021938"
     },
     "user_tz": -330
    },
    "id": "kPndZrBKMkSC",
    "outputId": "a5238aac-433c-4e34-db32-59128c902878"
   },
   "outputs": [
    {
     "data": {
      "text/plain": [
       "(6045948, 8056400)"
      ]
     },
     "execution_count": 57,
     "metadata": {},
     "output_type": "execute_result"
    }
   ],
   "source": [
    "word2vec = gensim.models.Word2Vec(my_text,\n",
    "                                  size=100,\n",
    "                                  window=10,\n",
    "                                  min_count=1)\n",
    "word2vec.train(my_text, total_examples=25026, epochs=10)"
   ]
  },
  {
   "cell_type": "code",
   "execution_count": null,
   "metadata": {
    "colab": {
     "base_uri": "https://localhost:8080/"
    },
    "executionInfo": {
     "elapsed": 22,
     "status": "ok",
     "timestamp": 1640542427519,
     "user": {
      "displayName": "Nishant wadhwani",
      "photoUrl": "https://lh3.googleusercontent.com/a-/AOh14Gjnn_M-nxVO-GHfPkftHjSsX-Ulopf1dqkz5rCwgg=s64",
      "userId": "18292067457856021938"
     },
     "user_tz": -330
    },
    "id": "46AwEhk1MkSD",
    "outputId": "3bde7b88-effe-4a76-faca-13cbb1762c50"
   },
   "outputs": [
    {
     "name": "stdout",
     "output_type": "stream",
     "text": [
      "Shape of data tensor: (10000, 500)\n",
      "Shape of label tensor: (10000,)\n",
      "Shape of training data:  (8000, 500)\n",
      "Shape of validation data:  (2000, 500)\n"
     ]
    }
   ],
   "source": [
    "from keras.preprocessing.sequence import pad_sequences\n",
    "max_length = 500 # fix the length of each review \n",
    "max_words = len(word_index.keys()) # fix number of words \n",
    "\n",
    "training_samples = 8000\n",
    "validation_samples = 2000\n",
    "data = pad_sequences(sequences, maxlen=max_length)\n",
    "\n",
    "#labels = np.asarray(y)\n",
    "print('Shape of data tensor:', data.shape)\n",
    "print('Shape of label tensor:', y.shape)\n",
    "\n",
    "# Split the data into a training set and a validation set\n",
    "# But first, shuffle the data, since we started from data\n",
    "# where sample are ordered (all negative first, then all positive).\n",
    "indices = np.arange(data.shape[0])\n",
    "np.random.shuffle(indices)\n",
    "data = data[indices]\n",
    "labels = y[indices]\n",
    "\n",
    "x_train = data[:training_samples]\n",
    "y_train = y[:training_samples]\n",
    "x_val = data[training_samples: training_samples + validation_samples]\n",
    "y_val = y[training_samples: training_samples + validation_samples]\n",
    "print('Shape of training data: ', x_train.shape)\n",
    "print('Shape of validation data: ', x_val.shape)\n",
    "\n"
   ]
  },
  {
   "cell_type": "code",
   "execution_count": null,
   "metadata": {
    "colab": {
     "base_uri": "https://localhost:8080/"
    },
    "executionInfo": {
     "elapsed": 17,
     "status": "ok",
     "timestamp": 1640542427519,
     "user": {
      "displayName": "Nishant wadhwani",
      "photoUrl": "https://lh3.googleusercontent.com/a-/AOh14Gjnn_M-nxVO-GHfPkftHjSsX-Ulopf1dqkz5rCwgg=s64",
      "userId": "18292067457856021938"
     },
     "user_tz": -330
    },
    "id": "F85lwIa82F-F",
    "outputId": "b53ed96c-9fec-4fa6-a3c2-b95e31c8a786"
   },
   "outputs": [
    {
     "data": {
      "text/plain": [
       "(33470, 100)"
      ]
     },
     "execution_count": 59,
     "metadata": {},
     "output_type": "execute_result"
    }
   ],
   "source": [
    "embedding_dim = 100\n",
    "\n",
    "embedding_matrix = np.zeros((max_words+1, embedding_dim))\n",
    "for word , i in word_index.items():\n",
    "    embedding_vector = word2vec.wv[word]\n",
    "    if embedding_vector is not None:\n",
    "        embedding_matrix[i] = embedding_vector\n",
    "\n",
    "\n",
    "embedding_matrix.shape\n"
   ]
  },
  {
   "cell_type": "code",
   "execution_count": null,
   "metadata": {
    "colab": {
     "base_uri": "https://localhost:8080/"
    },
    "executionInfo": {
     "elapsed": 590,
     "status": "ok",
     "timestamp": 1640542439011,
     "user": {
      "displayName": "Nishant wadhwani",
      "photoUrl": "https://lh3.googleusercontent.com/a-/AOh14Gjnn_M-nxVO-GHfPkftHjSsX-Ulopf1dqkz5rCwgg=s64",
      "userId": "18292067457856021938"
     },
     "user_tz": -330
    },
    "id": "sh7ETI_R2F7G",
    "outputId": "6bfd058e-f4e7-4b2b-9bff-cbeb0d660c54"
   },
   "outputs": [
    {
     "data": {
      "text/plain": [
       "array([[ 0.        ,  0.        ,  0.        , ...,  0.        ,\n",
       "         0.        ,  0.        ],\n",
       "       [ 0.27375305,  1.14187646,  0.30089387, ..., -1.36907172,\n",
       "        -0.42710656,  1.17651033],\n",
       "       [-0.93015718,  2.54539204,  1.05703723, ..., -1.56495953,\n",
       "        -0.56532514,  0.06822798],\n",
       "       ...,\n",
       "       [-0.04921268, -0.02345217,  0.03574969, ..., -0.00460344,\n",
       "         0.01935622,  0.02592246],\n",
       "       [-0.04401297, -0.01332525,  0.04610242, ..., -0.01767614,\n",
       "         0.04902555,  0.0178989 ],\n",
       "       [ 0.021632  , -0.036396  ,  0.03671756, ..., -0.00793202,\n",
       "        -0.05167044, -0.00661989]])"
      ]
     },
     "execution_count": 60,
     "metadata": {},
     "output_type": "execute_result"
    }
   ],
   "source": [
    "embedding_matrix"
   ]
  },
  {
   "cell_type": "code",
   "execution_count": null,
   "metadata": {
    "colab": {
     "base_uri": "https://localhost:8080/"
    },
    "executionInfo": {
     "elapsed": 145718,
     "status": "ok",
     "timestamp": 1640542588310,
     "user": {
      "displayName": "Nishant wadhwani",
      "photoUrl": "https://lh3.googleusercontent.com/a-/AOh14Gjnn_M-nxVO-GHfPkftHjSsX-Ulopf1dqkz5rCwgg=s64",
      "userId": "18292067457856021938"
     },
     "user_tz": -330
    },
    "id": "AkDvbfK4MkSE",
    "outputId": "dcff8962-9a0b-47c1-a7d3-e7deb1caf4d5"
   },
   "outputs": [
    {
     "name": "stdout",
     "output_type": "stream",
     "text": [
      "Model: \"sequential_2\"\n",
      "_________________________________________________________________\n",
      " Layer (type)                Output Shape              Param #   \n",
      "=================================================================\n",
      " embedding_2 (Embedding)     (None, 500, 100)          3347000   \n",
      "                                                                 \n",
      " flatten_2 (Flatten)         (None, 50000)             0         \n",
      "                                                                 \n",
      " dense_4 (Dense)             (None, 32)                1600032   \n",
      "                                                                 \n",
      " dense_5 (Dense)             (None, 1)                 33        \n",
      "                                                                 \n",
      "=================================================================\n",
      "Total params: 4,947,065\n",
      "Trainable params: 4,947,065\n",
      "Non-trainable params: 0\n",
      "_________________________________________________________________\n",
      "Epoch 1/100\n",
      "250/250 [==============================] - 2s 7ms/step - loss: 0.7086 - acc: 0.5080 - val_loss: 0.7006 - val_acc: 0.4965\n",
      "Epoch 2/100\n",
      "250/250 [==============================] - 1s 5ms/step - loss: 0.6172 - acc: 0.6279 - val_loss: 0.7428 - val_acc: 0.5115\n",
      "Epoch 3/100\n",
      "250/250 [==============================] - 1s 5ms/step - loss: 0.4081 - acc: 0.7925 - val_loss: 0.8938 - val_acc: 0.5045\n",
      "Epoch 4/100\n",
      "250/250 [==============================] - 1s 6ms/step - loss: 0.2096 - acc: 0.9044 - val_loss: 1.2257 - val_acc: 0.4995\n",
      "Epoch 5/100\n",
      "250/250 [==============================] - 1s 5ms/step - loss: 0.0969 - acc: 0.9566 - val_loss: 1.7077 - val_acc: 0.5125\n",
      "Epoch 6/100\n",
      "250/250 [==============================] - 1s 5ms/step - loss: 0.0578 - acc: 0.9735 - val_loss: 1.8916 - val_acc: 0.4940\n",
      "Epoch 7/100\n",
      "250/250 [==============================] - 1s 6ms/step - loss: 0.0333 - acc: 0.9835 - val_loss: 2.2708 - val_acc: 0.4995\n",
      "Epoch 8/100\n",
      "250/250 [==============================] - 1s 5ms/step - loss: 0.0287 - acc: 0.9870 - val_loss: 2.5178 - val_acc: 0.4875\n",
      "Epoch 9/100\n",
      "250/250 [==============================] - 1s 5ms/step - loss: 0.0162 - acc: 0.9918 - val_loss: 3.0489 - val_acc: 0.4975\n",
      "Epoch 10/100\n",
      "250/250 [==============================] - 1s 5ms/step - loss: 0.0197 - acc: 0.9925 - val_loss: 3.4656 - val_acc: 0.5025\n",
      "Epoch 11/100\n",
      "250/250 [==============================] - 1s 6ms/step - loss: 0.0092 - acc: 0.9956 - val_loss: 3.7694 - val_acc: 0.5000\n",
      "Epoch 12/100\n",
      "250/250 [==============================] - 1s 6ms/step - loss: 0.0114 - acc: 0.9970 - val_loss: 3.7022 - val_acc: 0.5020\n",
      "Epoch 13/100\n",
      "250/250 [==============================] - 1s 5ms/step - loss: 0.0108 - acc: 0.9973 - val_loss: 4.1343 - val_acc: 0.4995\n",
      "Epoch 14/100\n",
      "250/250 [==============================] - 1s 5ms/step - loss: 0.0107 - acc: 0.9970 - val_loss: 4.4767 - val_acc: 0.4965\n",
      "Epoch 15/100\n",
      "250/250 [==============================] - 1s 5ms/step - loss: 0.0111 - acc: 0.9979 - val_loss: 4.5930 - val_acc: 0.5005\n",
      "Epoch 16/100\n",
      "250/250 [==============================] - 2s 6ms/step - loss: 0.0041 - acc: 0.9985 - val_loss: 4.9495 - val_acc: 0.4920\n",
      "Epoch 17/100\n",
      "250/250 [==============================] - 1s 6ms/step - loss: 0.0089 - acc: 0.9986 - val_loss: 5.0548 - val_acc: 0.5030\n",
      "Epoch 18/100\n",
      "250/250 [==============================] - 1s 5ms/step - loss: 0.0106 - acc: 0.9995 - val_loss: 5.3892 - val_acc: 0.5030\n",
      "Epoch 19/100\n",
      "250/250 [==============================] - 1s 5ms/step - loss: 0.0130 - acc: 0.9992 - val_loss: 5.5304 - val_acc: 0.4985\n",
      "Epoch 20/100\n",
      "250/250 [==============================] - 2s 7ms/step - loss: 0.0166 - acc: 0.9995 - val_loss: 5.8287 - val_acc: 0.4990\n",
      "Epoch 21/100\n",
      "250/250 [==============================] - 1s 6ms/step - loss: 9.6248e-04 - acc: 0.9996 - val_loss: 5.7655 - val_acc: 0.4985\n",
      "Epoch 22/100\n",
      "250/250 [==============================] - 1s 6ms/step - loss: 0.0078 - acc: 0.9996 - val_loss: 5.8590 - val_acc: 0.5065\n",
      "Epoch 23/100\n",
      "250/250 [==============================] - 1s 6ms/step - loss: 0.0041 - acc: 0.9996 - val_loss: 5.9010 - val_acc: 0.5065\n",
      "Epoch 24/100\n",
      "250/250 [==============================] - 1s 6ms/step - loss: 0.0039 - acc: 0.9996 - val_loss: 6.0056 - val_acc: 0.5060\n",
      "Epoch 25/100\n",
      "250/250 [==============================] - 1s 5ms/step - loss: 9.9495e-04 - acc: 0.9996 - val_loss: 6.0580 - val_acc: 0.5045\n",
      "Epoch 26/100\n",
      "250/250 [==============================] - 1s 5ms/step - loss: 0.0038 - acc: 0.9996 - val_loss: 6.0440 - val_acc: 0.5065\n",
      "Epoch 27/100\n",
      "250/250 [==============================] - 1s 5ms/step - loss: 0.0038 - acc: 0.9996 - val_loss: 6.1065 - val_acc: 0.5075\n",
      "Epoch 28/100\n",
      "250/250 [==============================] - 1s 5ms/step - loss: 9.8074e-04 - acc: 0.9996 - val_loss: 6.1418 - val_acc: 0.5060\n",
      "Epoch 29/100\n",
      "250/250 [==============================] - 1s 5ms/step - loss: 0.0037 - acc: 0.9996 - val_loss: 6.1956 - val_acc: 0.5065\n",
      "Epoch 30/100\n",
      "250/250 [==============================] - 1s 6ms/step - loss: 9.7166e-04 - acc: 0.9996 - val_loss: 6.1954 - val_acc: 0.5065\n",
      "Epoch 31/100\n",
      "250/250 [==============================] - 1s 5ms/step - loss: 0.0036 - acc: 0.9996 - val_loss: 6.2236 - val_acc: 0.5095\n",
      "Epoch 32/100\n",
      "250/250 [==============================] - 1s 5ms/step - loss: 0.0028 - acc: 0.9996 - val_loss: 6.2002 - val_acc: 0.5075\n",
      "Epoch 33/100\n",
      "250/250 [==============================] - 1s 5ms/step - loss: 0.0010 - acc: 0.9996 - val_loss: 6.2360 - val_acc: 0.5075\n",
      "Epoch 34/100\n",
      "250/250 [==============================] - 1s 6ms/step - loss: 0.0010 - acc: 0.9996 - val_loss: 6.2691 - val_acc: 0.5080\n",
      "Epoch 35/100\n",
      "250/250 [==============================] - 1s 6ms/step - loss: 0.0010 - acc: 0.9996 - val_loss: 6.2805 - val_acc: 0.5085\n",
      "Epoch 36/100\n",
      "250/250 [==============================] - 1s 6ms/step - loss: 0.0010 - acc: 0.9996 - val_loss: 6.3087 - val_acc: 0.5080\n",
      "Epoch 37/100\n",
      "250/250 [==============================] - 1s 6ms/step - loss: 0.0010 - acc: 0.9996 - val_loss: 6.3292 - val_acc: 0.5075\n",
      "Epoch 38/100\n",
      "250/250 [==============================] - 1s 5ms/step - loss: 9.9923e-04 - acc: 0.9996 - val_loss: 6.3415 - val_acc: 0.5085\n",
      "Epoch 39/100\n",
      "250/250 [==============================] - 1s 6ms/step - loss: 9.9418e-04 - acc: 0.9996 - val_loss: 6.3532 - val_acc: 0.5080\n",
      "Epoch 40/100\n",
      "250/250 [==============================] - 1s 5ms/step - loss: 9.8939e-04 - acc: 0.9996 - val_loss: 6.3629 - val_acc: 0.5080\n",
      "Epoch 41/100\n",
      "250/250 [==============================] - 1s 5ms/step - loss: 9.8415e-04 - acc: 0.9996 - val_loss: 6.3836 - val_acc: 0.5075\n",
      "Epoch 42/100\n",
      "250/250 [==============================] - 1s 6ms/step - loss: 9.7980e-04 - acc: 0.9996 - val_loss: 6.3935 - val_acc: 0.5080\n",
      "Epoch 43/100\n",
      "250/250 [==============================] - 1s 6ms/step - loss: 9.7525e-04 - acc: 0.9996 - val_loss: 6.4021 - val_acc: 0.5070\n",
      "Epoch 44/100\n",
      "250/250 [==============================] - 1s 5ms/step - loss: 9.7092e-04 - acc: 0.9996 - val_loss: 6.4114 - val_acc: 0.5075\n",
      "Epoch 45/100\n",
      "250/250 [==============================] - 1s 5ms/step - loss: 9.6534e-04 - acc: 0.9996 - val_loss: 6.4231 - val_acc: 0.5065\n",
      "Epoch 46/100\n",
      "250/250 [==============================] - 1s 5ms/step - loss: 9.6172e-04 - acc: 0.9996 - val_loss: 6.4346 - val_acc: 0.5070\n",
      "Epoch 47/100\n",
      "250/250 [==============================] - 1s 5ms/step - loss: 9.5680e-04 - acc: 0.9996 - val_loss: 6.4437 - val_acc: 0.5070\n",
      "Epoch 48/100\n",
      "250/250 [==============================] - 1s 5ms/step - loss: 9.5231e-04 - acc: 0.9996 - val_loss: 6.4526 - val_acc: 0.5075\n",
      "Epoch 49/100\n",
      "250/250 [==============================] - 2s 7ms/step - loss: 9.4908e-04 - acc: 0.9996 - val_loss: 6.4616 - val_acc: 0.5070\n",
      "Epoch 50/100\n",
      "250/250 [==============================] - 2s 7ms/step - loss: 9.4616e-04 - acc: 0.9996 - val_loss: 6.4754 - val_acc: 0.5075\n",
      "Epoch 51/100\n",
      "250/250 [==============================] - 1s 5ms/step - loss: 9.4240e-04 - acc: 0.9996 - val_loss: 6.4758 - val_acc: 0.5070\n",
      "Epoch 52/100\n",
      "250/250 [==============================] - 1s 5ms/step - loss: 9.3780e-04 - acc: 0.9996 - val_loss: 6.4894 - val_acc: 0.5075\n",
      "Epoch 53/100\n",
      "250/250 [==============================] - 1s 5ms/step - loss: 9.3480e-04 - acc: 0.9996 - val_loss: 6.4991 - val_acc: 0.5070\n",
      "Epoch 54/100\n",
      "250/250 [==============================] - 1s 5ms/step - loss: 9.3161e-04 - acc: 0.9996 - val_loss: 6.5054 - val_acc: 0.5070\n",
      "Epoch 55/100\n",
      "250/250 [==============================] - 2s 6ms/step - loss: 9.2951e-04 - acc: 0.9996 - val_loss: 6.5147 - val_acc: 0.5070\n",
      "Epoch 56/100\n",
      "250/250 [==============================] - 1s 6ms/step - loss: 9.2733e-04 - acc: 0.9996 - val_loss: 6.5192 - val_acc: 0.5065\n",
      "Epoch 57/100\n",
      "250/250 [==============================] - 1s 5ms/step - loss: 9.2444e-04 - acc: 0.9996 - val_loss: 6.5247 - val_acc: 0.5065\n",
      "Epoch 58/100\n",
      "250/250 [==============================] - 1s 6ms/step - loss: 9.2172e-04 - acc: 0.9996 - val_loss: 6.5328 - val_acc: 0.5065\n",
      "Epoch 59/100\n",
      "250/250 [==============================] - 1s 5ms/step - loss: 9.1939e-04 - acc: 0.9996 - val_loss: 6.5352 - val_acc: 0.5065\n",
      "Epoch 60/100\n",
      "250/250 [==============================] - 2s 8ms/step - loss: 9.1751e-04 - acc: 0.9996 - val_loss: 6.5423 - val_acc: 0.5065\n",
      "Epoch 61/100\n",
      "250/250 [==============================] - 2s 8ms/step - loss: 9.1307e-04 - acc: 0.9996 - val_loss: 6.5522 - val_acc: 0.5060\n",
      "Epoch 62/100\n",
      "250/250 [==============================] - 2s 8ms/step - loss: 9.1225e-04 - acc: 0.9996 - val_loss: 6.5601 - val_acc: 0.5060\n",
      "Epoch 63/100\n",
      "250/250 [==============================] - 1s 5ms/step - loss: 9.0888e-04 - acc: 0.9996 - val_loss: 6.5647 - val_acc: 0.5055\n",
      "Epoch 64/100\n",
      "250/250 [==============================] - 2s 6ms/step - loss: 9.0725e-04 - acc: 0.9996 - val_loss: 6.5735 - val_acc: 0.5060\n",
      "Epoch 65/100\n",
      "250/250 [==============================] - 1s 6ms/step - loss: 9.0573e-04 - acc: 0.9996 - val_loss: 6.5804 - val_acc: 0.5060\n",
      "Epoch 66/100\n",
      "250/250 [==============================] - 2s 6ms/step - loss: 9.0183e-04 - acc: 0.9996 - val_loss: 6.5836 - val_acc: 0.5060\n",
      "Epoch 67/100\n",
      "250/250 [==============================] - 1s 6ms/step - loss: 8.9997e-04 - acc: 0.9996 - val_loss: 6.5907 - val_acc: 0.5050\n",
      "Epoch 68/100\n",
      "250/250 [==============================] - 1s 5ms/step - loss: 8.9887e-04 - acc: 0.9996 - val_loss: 6.5966 - val_acc: 0.5050\n",
      "Epoch 69/100\n",
      "250/250 [==============================] - 1s 5ms/step - loss: 8.9738e-04 - acc: 0.9996 - val_loss: 6.5995 - val_acc: 0.5050\n",
      "Epoch 70/100\n",
      "250/250 [==============================] - 1s 6ms/step - loss: 8.9586e-04 - acc: 0.9996 - val_loss: 6.6055 - val_acc: 0.5050\n",
      "Epoch 71/100\n",
      "250/250 [==============================] - 2s 6ms/step - loss: 8.9345e-04 - acc: 0.9996 - val_loss: 6.6135 - val_acc: 0.5045\n",
      "Epoch 72/100\n",
      "250/250 [==============================] - 1s 5ms/step - loss: 8.9445e-04 - acc: 0.9996 - val_loss: 6.6186 - val_acc: 0.5045\n",
      "Epoch 73/100\n",
      "250/250 [==============================] - 2s 6ms/step - loss: 8.9109e-04 - acc: 0.9996 - val_loss: 6.6206 - val_acc: 0.5050\n",
      "Epoch 74/100\n",
      "250/250 [==============================] - 1s 5ms/step - loss: 8.8926e-04 - acc: 0.9996 - val_loss: 6.6266 - val_acc: 0.5055\n",
      "Epoch 75/100\n",
      "250/250 [==============================] - 2s 6ms/step - loss: 8.8849e-04 - acc: 0.9996 - val_loss: 6.6309 - val_acc: 0.5050\n",
      "Epoch 76/100\n",
      "250/250 [==============================] - 1s 5ms/step - loss: 8.8877e-04 - acc: 0.9996 - val_loss: 6.6307 - val_acc: 0.5055\n",
      "Epoch 77/100\n",
      "250/250 [==============================] - 1s 5ms/step - loss: 8.8573e-04 - acc: 0.9996 - val_loss: 6.6383 - val_acc: 0.5050\n",
      "Epoch 78/100\n",
      "250/250 [==============================] - 2s 6ms/step - loss: 8.8592e-04 - acc: 0.9996 - val_loss: 6.6410 - val_acc: 0.5050\n",
      "Epoch 79/100\n",
      "250/250 [==============================] - 1s 5ms/step - loss: 8.8462e-04 - acc: 0.9996 - val_loss: 6.6491 - val_acc: 0.5050\n",
      "Epoch 80/100\n",
      "250/250 [==============================] - 1s 5ms/step - loss: 8.8472e-04 - acc: 0.9996 - val_loss: 6.6519 - val_acc: 0.5050\n",
      "Epoch 81/100\n",
      "250/250 [==============================] - 2s 6ms/step - loss: 8.8272e-04 - acc: 0.9996 - val_loss: 6.6545 - val_acc: 0.5050\n",
      "Epoch 82/100\n",
      "250/250 [==============================] - 2s 6ms/step - loss: 8.8147e-04 - acc: 0.9996 - val_loss: 6.6585 - val_acc: 0.5045\n",
      "Epoch 83/100\n",
      "250/250 [==============================] - 1s 5ms/step - loss: 8.8253e-04 - acc: 0.9996 - val_loss: 6.6671 - val_acc: 0.5045\n",
      "Epoch 84/100\n",
      "250/250 [==============================] - 1s 5ms/step - loss: 8.7996e-04 - acc: 0.9996 - val_loss: 6.6718 - val_acc: 0.5045\n",
      "Epoch 85/100\n",
      "250/250 [==============================] - 2s 6ms/step - loss: 8.8147e-04 - acc: 0.9996 - val_loss: 6.6780 - val_acc: 0.5045\n",
      "Epoch 86/100\n",
      "250/250 [==============================] - 1s 5ms/step - loss: 8.7968e-04 - acc: 0.9996 - val_loss: 6.6817 - val_acc: 0.5040\n",
      "Epoch 87/100\n",
      "250/250 [==============================] - 2s 6ms/step - loss: 8.8117e-04 - acc: 0.9996 - val_loss: 6.6896 - val_acc: 0.5040\n",
      "Epoch 88/100\n",
      "250/250 [==============================] - 2s 6ms/step - loss: 8.7861e-04 - acc: 0.9996 - val_loss: 6.6944 - val_acc: 0.5040\n",
      "Epoch 89/100\n",
      "250/250 [==============================] - 2s 6ms/step - loss: 8.7759e-04 - acc: 0.9996 - val_loss: 6.6935 - val_acc: 0.5040\n",
      "Epoch 90/100\n",
      "250/250 [==============================] - 1s 5ms/step - loss: 8.7934e-04 - acc: 0.9996 - val_loss: 6.7008 - val_acc: 0.5045\n",
      "Epoch 91/100\n",
      "250/250 [==============================] - 1s 5ms/step - loss: 8.8015e-04 - acc: 0.9996 - val_loss: 6.7062 - val_acc: 0.5045\n",
      "Epoch 92/100\n",
      "250/250 [==============================] - 1s 6ms/step - loss: 8.7905e-04 - acc: 0.9996 - val_loss: 6.7105 - val_acc: 0.5040\n",
      "Epoch 93/100\n",
      "250/250 [==============================] - 1s 5ms/step - loss: 8.7741e-04 - acc: 0.9996 - val_loss: 6.7130 - val_acc: 0.5040\n",
      "Epoch 94/100\n",
      "250/250 [==============================] - 2s 6ms/step - loss: 8.7982e-04 - acc: 0.9996 - val_loss: 6.7224 - val_acc: 0.5035\n",
      "Epoch 95/100\n",
      "250/250 [==============================] - 1s 5ms/step - loss: 8.7851e-04 - acc: 0.9996 - val_loss: 6.7235 - val_acc: 0.5035\n",
      "Epoch 96/100\n",
      "250/250 [==============================] - 1s 6ms/step - loss: 8.7923e-04 - acc: 0.9996 - val_loss: 6.7250 - val_acc: 0.5030\n",
      "Epoch 97/100\n",
      "250/250 [==============================] - 1s 6ms/step - loss: 8.7707e-04 - acc: 0.9996 - val_loss: 6.7315 - val_acc: 0.5040\n",
      "Epoch 98/100\n",
      "250/250 [==============================] - 2s 6ms/step - loss: 8.8232e-04 - acc: 0.9996 - val_loss: 6.7320 - val_acc: 0.5030\n",
      "Epoch 99/100\n",
      "250/250 [==============================] - 1s 6ms/step - loss: 8.8105e-04 - acc: 0.9996 - val_loss: 6.7364 - val_acc: 0.5030\n",
      "Epoch 100/100\n",
      "250/250 [==============================] - 2s 6ms/step - loss: 8.8174e-04 - acc: 0.9996 - val_loss: 6.7365 - val_acc: 0.5030\n"
     ]
    }
   ],
   "source": [
    "\n",
    "from keras.models import Sequential\n",
    "from keras.layers import Embedding, Flatten, Dense\n",
    "\n",
    "\n",
    "model = Sequential()\n",
    "model.add(Embedding(max_words+1, embedding_dim, input_length=max_length))\n",
    "model.add(Flatten())\n",
    "model.add(Dense(32, activation='relu'))\n",
    "model.add(Dense(1, activation='sigmoid'))\n",
    "model.summary()\n",
    "\n",
    "model.layers[0].set_weights([embedding_matrix])\n",
    "model.layers[0].trainable = False\n",
    "\n",
    "model.compile(optimizer='rmsprop',\n",
    "              loss='binary_crossentropy',\n",
    "              metrics=['acc'])\n",
    "history = model.fit(x_train, y_train,\n",
    "                    epochs=100,\n",
    "                    batch_size=32,\n",
    "                    validation_data=(x_val, y_val))\n",
    "\n"
   ]
  },
  {
   "cell_type": "code",
   "execution_count": null,
   "metadata": {
    "colab": {
     "base_uri": "https://localhost:8080/",
     "height": 545
    },
    "executionInfo": {
     "elapsed": 1155,
     "status": "ok",
     "timestamp": 1640542601345,
     "user": {
      "displayName": "Nishant wadhwani",
      "photoUrl": "https://lh3.googleusercontent.com/a-/AOh14Gjnn_M-nxVO-GHfPkftHjSsX-Ulopf1dqkz5rCwgg=s64",
      "userId": "18292067457856021938"
     },
     "user_tz": -330
    },
    "id": "7s0447ZzMkSF",
    "outputId": "be251c75-0fc9-46ab-b08b-dc2e42d1cb29"
   },
   "outputs": [
    {
     "data": {
      "image/png": "[encoded data removed]",
      "text/plain": [
       "<Figure size 432x288 with 1 Axes>"
      ]
     },
     "metadata": {
      "needs_background": "light"
     },
     "output_type": "display_data"
    },
    {
     "data": {
      "image/png": "[encoded data removed]",
      "text/plain": [
       "<Figure size 432x288 with 1 Axes>"
      ]
     },
     "metadata": {
      "needs_background": "light"
     },
     "output_type": "display_data"
    }
   ],
   "source": [
    "import matplotlib.pyplot as plt\n",
    "\n",
    "acc = history.history['acc']\n",
    "val_acc = history.history['val_acc']\n",
    "loss = history.history['loss']\n",
    "val_loss = history.history['val_loss']\n",
    "\n",
    "epochs = range(1, len(acc) + 1)\n",
    "\n",
    "plt.plot(epochs, acc, 'bo', label='Training acc')\n",
    "plt.plot(epochs, val_acc, 'b', label='Validation acc')\n",
    "plt.title('Training and validation accuracy')\n",
    "plt.legend()\n",
    "\n",
    "plt.figure()\n",
    "\n",
    "plt.plot(epochs, loss, 'bo', label='Training loss')\n",
    "plt.plot(epochs, val_loss, 'b', label='Validation loss')\n",
    "plt.title('Training and validation loss')\n",
    "plt.legend()\n",
    "\n",
    "plt.show()\n",
    "\n"
   ]
  },
  {
   "cell_type": "markdown",
   "metadata": {
    "id": "ul9PVzCaC5GY"
   },
   "source": [
    "## Use VADER to analyze Amazon Reviews"
   ]
  },
  {
   "cell_type": "code",
   "execution_count": null,
   "metadata": {
    "colab": {
     "base_uri": "https://localhost:8080/"
    },
    "executionInfo": {
     "elapsed": 623,
     "status": "ok",
     "timestamp": 1640542594353,
     "user": {
      "displayName": "Nishant wadhwani",
      "photoUrl": "https://lh3.googleusercontent.com/a-/AOh14Gjnn_M-nxVO-GHfPkftHjSsX-Ulopf1dqkz5rCwgg=s64",
      "userId": "18292067457856021938"
     },
     "user_tz": -330
    },
    "id": "AmZGkcUHMkSG",
    "outputId": "066d53eb-b9ca-416b-b3f3-90cd9c260697"
   },
   "outputs": [
    {
     "name": "stdout",
     "output_type": "stream",
     "text": [
      "[nltk_data] Downloading package vader_lexicon to /root/nltk_data...\n"
     ]
    },
    {
     "name": "stderr",
     "output_type": "stream",
     "text": [
      "/usr/local/lib/python3.7/dist-packages/nltk/twitter/__init__.py:20: UserWarning: The twython library has not been installed. Some functionality from the twitter package will not be available.\n",
      "  warnings.warn(\"The twython library has not been installed. \"\n"
     ]
    }
   ],
   "source": [
    "import nltk\n",
    "nltk.download('vader_lexicon')\n",
    "\n",
    "\n",
    "from nltk.sentiment.vader import SentimentIntensityAnalyzer\n",
    "\n",
    "sid = SentimentIntensityAnalyzer()\n"
   ]
  },
  {
   "cell_type": "code",
   "execution_count": null,
   "metadata": {
    "colab": {
     "base_uri": "https://localhost:8080/"
    },
    "executionInfo": {
     "elapsed": 597,
     "status": "ok",
     "timestamp": 1640542621894,
     "user": {
      "displayName": "Nishant wadhwani",
      "photoUrl": "https://lh3.googleusercontent.com/a-/AOh14Gjnn_M-nxVO-GHfPkftHjSsX-Ulopf1dqkz5rCwgg=s64",
      "userId": "18292067457856021938"
     },
     "user_tz": -330
    },
    "id": "rzjxe82fMkSG",
    "outputId": "6f27fdfe-7397-4227-ed00-fb00ef76e0bc"
   },
   "outputs": [
    {
     "data": {
      "text/plain": [
       "{'compound': 0.4404, 'neg': 0.0, 'neu': 0.508, 'pos': 0.492}"
      ]
     },
     "execution_count": 65,
     "metadata": {},
     "output_type": "execute_result"
    }
   ],
   "source": [
    "a = 'This was a good movie.'\n",
    "sid.polarity_scores(a)\n",
    "\n"
   ]
  },
  {
   "cell_type": "code",
   "execution_count": null,
   "metadata": {
    "colab": {
     "base_uri": "https://localhost:8080/"
    },
    "executionInfo": {
     "elapsed": 767,
     "status": "ok",
     "timestamp": 1640542633908,
     "user": {
      "displayName": "Nishant wadhwani",
      "photoUrl": "https://lh3.googleusercontent.com/a-/AOh14Gjnn_M-nxVO-GHfPkftHjSsX-Ulopf1dqkz5rCwgg=s64",
      "userId": "18292067457856021938"
     },
     "user_tz": -330
    },
    "id": "SSPzXSGT9dPO",
    "outputId": "9e7fe814-c352-4c8e-ad39-845e4430ad42"
   },
   "outputs": [
    {
     "data": {
      "text/plain": [
       "{'compound': 0.8877, 'neg': 0.0, 'neu': 0.425, 'pos': 0.575}"
      ]
     },
     "execution_count": 66,
     "metadata": {},
     "output_type": "execute_result"
    }
   ],
   "source": [
    "a = 'This was the best, most awesome movie EVER MADE!!!'\n",
    "sid.polarity_scores(a)\n",
    "\n",
    "\n"
   ]
  },
  {
   "cell_type": "code",
   "execution_count": null,
   "metadata": {
    "colab": {
     "base_uri": "https://localhost:8080/"
    },
    "executionInfo": {
     "elapsed": 669,
     "status": "ok",
     "timestamp": 1640542642740,
     "user": {
      "displayName": "Nishant wadhwani",
      "photoUrl": "https://lh3.googleusercontent.com/a-/AOh14Gjnn_M-nxVO-GHfPkftHjSsX-Ulopf1dqkz5rCwgg=s64",
      "userId": "18292067457856021938"
     },
     "user_tz": -330
    },
    "id": "mUyVJ_f49gqO",
    "outputId": "a04fdca6-cb8d-4319-bf04-1733ed170db3"
   },
   "outputs": [
    {
     "data": {
      "text/plain": [
       "{'compound': -0.8074, 'neg': 0.477, 'neu': 0.523, 'pos': 0.0}"
      ]
     },
     "execution_count": 67,
     "metadata": {},
     "output_type": "execute_result"
    }
   ],
   "source": [
    "a = 'This was the worst film to ever disgrace the screen.'\n",
    "sid.polarity_scores(a)\n"
   ]
  },
  {
   "cell_type": "code",
   "execution_count": null,
   "metadata": {
    "colab": {
     "base_uri": "https://localhost:8080/",
     "height": 35
    },
    "executionInfo": {
     "elapsed": 518,
     "status": "ok",
     "timestamp": 1640542648827,
     "user": {
      "displayName": "Nishant wadhwani",
      "photoUrl": "https://lh3.googleusercontent.com/a-/AOh14Gjnn_M-nxVO-GHfPkftHjSsX-Ulopf1dqkz5rCwgg=s64",
      "userId": "18292067457856021938"
     },
     "user_tz": -330
    },
    "id": "yKEkpxdCMkSH",
    "outputId": "a9cf0649-c2d3-43bd-cb4c-a9c5f098cae7"
   },
   "outputs": [
    {
     "data": {
      "application/vnd.google.colaboratory.intrinsic+json": {
       "type": "string"
      },
      "text/plain": [
       "'pos'"
      ]
     },
     "execution_count": 68,
     "metadata": {},
     "output_type": "execute_result"
    }
   ],
   "source": [
    "## Let's run the first review through VADER\n",
    "\n",
    "sid.polarity_scores(df.loc[0]['review'])\n",
    "\n",
    "df.loc[0]['label']\n"
   ]
  },
  {
   "cell_type": "code",
   "execution_count": null,
   "metadata": {
    "colab": {
     "base_uri": "https://localhost:8080/",
     "height": 206
    },
    "executionInfo": {
     "elapsed": 12931,
     "status": "ok",
     "timestamp": 1640542699540,
     "user": {
      "displayName": "Nishant wadhwani",
      "photoUrl": "https://lh3.googleusercontent.com/a-/AOh14Gjnn_M-nxVO-GHfPkftHjSsX-Ulopf1dqkz5rCwgg=s64",
      "userId": "18292067457856021938"
     },
     "user_tz": -330
    },
    "id": "megdeJW3MkSH",
    "outputId": "77c8ab70-6d1b-4338-a9b0-41ba55dd9107"
   },
   "outputs": [
    {
     "data": {
      "text/html": [
       "\n",
       "  <div id=\"df-5e9eb193-bd77-4c08-abb3-072d9cb4444b\">\n",
       "    <div class=\"colab-df-container\">\n",
       "      <div>\n",
       "<style scoped>\n",
       "    .dataframe tbody tr th:only-of-type {\n",
       "        vertical-align: middle;\n",
       "    }\n",
       "\n",
       "    .dataframe tbody tr th {\n",
       "        vertical-align: top;\n",
       "    }\n",
       "\n",
       "    .dataframe thead th {\n",
       "        text-align: right;\n",
       "    }\n",
       "</style>\n",
       "<table border=\"1\" class=\"dataframe\">\n",
       "  <thead>\n",
       "    <tr style=\"text-align: right;\">\n",
       "      <th></th>\n",
       "      <th>label</th>\n",
       "      <th>review</th>\n",
       "      <th>scores</th>\n",
       "      <th>compound</th>\n",
       "      <th>comp_score</th>\n",
       "    </tr>\n",
       "  </thead>\n",
       "  <tbody>\n",
       "    <tr>\n",
       "      <th>0</th>\n",
       "      <td>pos</td>\n",
       "      <td>Stuning even for the non-gamer: This sound tra...</td>\n",
       "      <td>{'neg': 0.088, 'neu': 0.669, 'pos': 0.243, 'co...</td>\n",
       "      <td>0.9454</td>\n",
       "      <td>pos</td>\n",
       "    </tr>\n",
       "    <tr>\n",
       "      <th>1</th>\n",
       "      <td>pos</td>\n",
       "      <td>The best soundtrack ever to anything.: I'm rea...</td>\n",
       "      <td>{'neg': 0.018, 'neu': 0.837, 'pos': 0.145, 'co...</td>\n",
       "      <td>0.8957</td>\n",
       "      <td>pos</td>\n",
       "    </tr>\n",
       "    <tr>\n",
       "      <th>2</th>\n",
       "      <td>pos</td>\n",
       "      <td>Amazing!: This soundtrack is my favorite music...</td>\n",
       "      <td>{'neg': 0.04, 'neu': 0.692, 'pos': 0.268, 'com...</td>\n",
       "      <td>0.9858</td>\n",
       "      <td>pos</td>\n",
       "    </tr>\n",
       "    <tr>\n",
       "      <th>3</th>\n",
       "      <td>pos</td>\n",
       "      <td>Excellent Soundtrack: I truly like this soundt...</td>\n",
       "      <td>{'neg': 0.09, 'neu': 0.615, 'pos': 0.295, 'com...</td>\n",
       "      <td>0.9814</td>\n",
       "      <td>pos</td>\n",
       "    </tr>\n",
       "    <tr>\n",
       "      <th>4</th>\n",
       "      <td>pos</td>\n",
       "      <td>Remember, Pull Your Jaw Off The Floor After He...</td>\n",
       "      <td>{'neg': 0.0, 'neu': 0.746, 'pos': 0.254, 'comp...</td>\n",
       "      <td>0.9781</td>\n",
       "      <td>pos</td>\n",
       "    </tr>\n",
       "  </tbody>\n",
       "</table>\n",
       "</div>\n",
       "      <button class=\"colab-df-convert\" onclick=\"convertToInteractive('df-5e9eb193-bd77-4c08-abb3-072d9cb4444b')\"\n",
       "              title=\"Convert this dataframe to an interactive table.\"\n",
       "              style=\"display:none;\">\n",
       "        \n",
       "  <svg xmlns=\"http://www.w3.org/2000/svg\" height=\"24px\"viewBox=\"0 0 24 24\"\n",
       "       width=\"24px\">\n",
       "    <path d=\"M0 0h24v24H0V0z\" fill=\"none\"/>\n",
       "    <path d=\"M18.56 5.44l.94 2.06.94-2.06 2.06-.94-2.06-.94-.94-2.06-.94 2.06-2.06.94zm-11 1L8.5 8.5l.94-2.06 2.06-.94-2.06-.94L8.5 2.5l-.94 2.06-2.06.94zm10 10l.94 2.06.94-2.06 2.06-.94-2.06-.94-.94-2.06-.94 2.06-2.06.94z\"/><path d=\"M17.41 7.96l-1.37-1.37c-.4-.4-.92-.59-1.43-.59-.52 0-1.04.2-1.43.59L10.3 9.45l-7.72 7.72c-.78.78-.78 2.05 0 2.83L4 21.41c.39.39.9.59 1.41.59.51 0 1.02-.2 1.41-.59l7.78-7.78 2.81-2.81c.8-.78.8-2.07 0-2.86zM5.41 20L4 18.59l7.72-7.72 1.47 1.35L5.41 20z\"/>\n",
       "  </svg>\n",
       "      </button>\n",
       "      \n",
       "  <style>\n",
       "    .colab-df-container {\n",
       "      display:flex;\n",
       "      flex-wrap:wrap;\n",
       "      gap: 12px;\n",
       "    }\n",
       "\n",
       "    .colab-df-convert {\n",
       "      background-color: #E8F0FE;\n",
       "      border: none;\n",
       "      border-radius: 50%;\n",
       "      cursor: pointer;\n",
       "      display: none;\n",
       "      fill: #1967D2;\n",
       "      height: 32px;\n",
       "      padding: 0 0 0 0;\n",
       "      width: 32px;\n",
       "    }\n",
       "\n",
       "    .colab-df-convert:hover {\n",
       "      background-color: #E2EBFA;\n",
       "      box-shadow: 0px 1px 2px rgba(60, 64, 67, 0.3), 0px 1px 3px 1px rgba(60, 64, 67, 0.15);\n",
       "      fill: #174EA6;\n",
       "    }\n",
       "\n",
       "    [theme=dark] .colab-df-convert {\n",
       "      background-color: #3B4455;\n",
       "      fill: #D2E3FC;\n",
       "    }\n",
       "\n",
       "    [theme=dark] .colab-df-convert:hover {\n",
       "      background-color: #434B5C;\n",
       "      box-shadow: 0px 1px 3px 1px rgba(0, 0, 0, 0.15);\n",
       "      filter: drop-shadow(0px 1px 2px rgba(0, 0, 0, 0.3));\n",
       "      fill: #FFFFFF;\n",
       "    }\n",
       "  </style>\n",
       "\n",
       "      <script>\n",
       "        const buttonEl =\n",
       "          document.querySelector('#df-5e9eb193-bd77-4c08-abb3-072d9cb4444b button.colab-df-convert');\n",
       "        buttonEl.style.display =\n",
       "          google.colab.kernel.accessAllowed ? 'block' : 'none';\n",
       "\n",
       "        async function convertToInteractive(key) {\n",
       "          const element = document.querySelector('#df-5e9eb193-bd77-4c08-abb3-072d9cb4444b');\n",
       "          const dataTable =\n",
       "            await google.colab.kernel.invokeFunction('convertToInteractive',\n",
       "                                                     [key], {});\n",
       "          if (!dataTable) return;\n",
       "\n",
       "          const docLinkHtml = 'Like what you see? Visit the ' +\n",
       "            '<a target=\"_blank\" href=https://colab.research.google.com/notebooks/data_table.ipynb>data table notebook</a>'\n",
       "            + ' to learn more about interactive tables.';\n",
       "          element.innerHTML = '';\n",
       "          dataTable['output_type'] = 'display_data';\n",
       "          await google.colab.output.renderOutput(dataTable, element);\n",
       "          const docLink = document.createElement('div');\n",
       "          docLink.innerHTML = docLinkHtml;\n",
       "          element.appendChild(docLink);\n",
       "        }\n",
       "      </script>\n",
       "    </div>\n",
       "  </div>\n",
       "  "
      ],
      "text/plain": [
       "  label                                             review  ... compound  comp_score\n",
       "0   pos  Stuning even for the non-gamer: This sound tra...  ...   0.9454         pos\n",
       "1   pos  The best soundtrack ever to anything.: I'm rea...  ...   0.8957         pos\n",
       "2   pos  Amazing!: This soundtrack is my favorite music...  ...   0.9858         pos\n",
       "3   pos  Excellent Soundtrack: I truly like this soundt...  ...   0.9814         pos\n",
       "4   pos  Remember, Pull Your Jaw Off The Floor After He...  ...   0.9781         pos\n",
       "\n",
       "[5 rows x 5 columns]"
      ]
     },
     "execution_count": 69,
     "metadata": {},
     "output_type": "execute_result"
    }
   ],
   "source": [
    "df['scores'] = df['review'].apply(lambda review: sid.polarity_scores(review))\n",
    "\n",
    "df.head()\n",
    "\n",
    "df['compound']  = df['scores'].apply(lambda score_dict: score_dict['compound'])\n",
    "\n",
    "df.head()\n",
    "\n",
    "df['comp_score'] = df['compound'].apply(lambda c: 'pos' if c >=0 else 'neg')\n",
    "\n",
    "df.head()\n",
    "\n"
   ]
  },
  {
   "cell_type": "code",
   "execution_count": null,
   "metadata": {
    "colab": {
     "base_uri": "https://localhost:8080/"
    },
    "executionInfo": {
     "elapsed": 546,
     "status": "ok",
     "timestamp": 1640542705770,
     "user": {
      "displayName": "Nishant wadhwani",
      "photoUrl": "https://lh3.googleusercontent.com/a-/AOh14Gjnn_M-nxVO-GHfPkftHjSsX-Ulopf1dqkz5rCwgg=s64",
      "userId": "18292067457856021938"
     },
     "user_tz": -330
    },
    "id": "d3rr599fMkSI",
    "outputId": "d21b0515-ce22-469b-b674-586e5a89405b"
   },
   "outputs": [
    {
     "data": {
      "text/plain": [
       "0.7091"
      ]
     },
     "execution_count": 70,
     "metadata": {},
     "output_type": "execute_result"
    }
   ],
   "source": [
    "from sklearn.metrics import accuracy_score,classification_report,confusion_matrix\n",
    "\n",
    "accuracy_score(df['label'],df['comp_score'])\n",
    "\n",
    "\n"
   ]
  },
  {
   "cell_type": "code",
   "execution_count": null,
   "metadata": {
    "colab": {
     "base_uri": "https://localhost:8080/"
    },
    "executionInfo": {
     "elapsed": 9,
     "status": "ok",
     "timestamp": 1640542710165,
     "user": {
      "displayName": "Nishant wadhwani",
      "photoUrl": "https://lh3.googleusercontent.com/a-/AOh14Gjnn_M-nxVO-GHfPkftHjSsX-Ulopf1dqkz5rCwgg=s64",
      "userId": "18292067457856021938"
     },
     "user_tz": -330
    },
    "id": "lxacgYnQMkSJ",
    "outputId": "0dea9619-cecf-41d1-a2c8-ef4104ab87a6"
   },
   "outputs": [
    {
     "name": "stdout",
     "output_type": "stream",
     "text": [
      "              precision    recall  f1-score   support\n",
      "\n",
      "         neg       0.86      0.51      0.64      5097\n",
      "         pos       0.64      0.91      0.75      4903\n",
      "\n",
      "    accuracy                           0.71     10000\n",
      "   macro avg       0.75      0.71      0.70     10000\n",
      "weighted avg       0.75      0.71      0.70     10000\n",
      "\n",
      "[[2623 2474]\n",
      " [ 435 4468]]\n"
     ]
    }
   ],
   "source": [
    "print(classification_report(df['label'],df['comp_score']))\n",
    "\n",
    "print(confusion_matrix(df['label'],df['comp_score']))\n"
   ]
  },
  {
   "cell_type": "markdown",
   "metadata": {
    "id": "lihhBBrGC5GZ"
   },
   "source": [
    "## BERT"
   ]
  },
  {
   "cell_type": "code",
   "execution_count": 1,
   "metadata": {
    "colab": {
     "base_uri": "https://localhost:8080/"
    },
    "executionInfo": {
     "elapsed": 47903,
     "status": "ok",
     "timestamp": 1640594728041,
     "user": {
      "displayName": "Nishant wadhwani",
      "photoUrl": "https://lh3.googleusercontent.com/a-/AOh14Gjnn_M-nxVO-GHfPkftHjSsX-Ulopf1dqkz5rCwgg=s64",
      "userId": "18292067457856021938"
     },
     "user_tz": -330
    },
    "id": "5HhMhyvjMkSL",
    "outputId": "95b0ce5c-b037-4363-fa8e-d8d20f2b3439"
   },
   "outputs": [
    {
     "name": "stdout",
     "output_type": "stream",
     "text": [
      "Collecting ktrain\n",
      "  Downloading ktrain-0.28.3.tar.gz (25.3 MB)\n",
      "\u001b[K     |████████████████████████████████| 25.3 MB 12.4 MB/s \n",
      "\u001b[?25hCollecting scikit-learn==0.23.2\n",
      "  Downloading scikit_learn-0.23.2-cp37-cp37m-manylinux1_x86_64.whl (6.8 MB)\n",
      "\u001b[K     |████████████████████████████████| 6.8 MB 43.1 MB/s \n",
      "\u001b[?25hRequirement already satisfied: matplotlib>=3.0.0 in /usr/local/lib/python3.7/dist-packages (from ktrain) (3.2.2)\n",
      "Requirement already satisfied: pandas>=1.0.1 in /usr/local/lib/python3.7/dist-packages (from ktrain) (1.1.5)\n",
      "Requirement already satisfied: fastprogress>=0.1.21 in /usr/local/lib/python3.7/dist-packages (from ktrain) (1.0.0)\n",
      "Requirement already satisfied: requests in /usr/local/lib/python3.7/dist-packages (from ktrain) (2.23.0)\n",
      "Requirement already satisfied: joblib in /usr/local/lib/python3.7/dist-packages (from ktrain) (1.1.0)\n",
      "Requirement already satisfied: packaging in /usr/local/lib/python3.7/dist-packages (from ktrain) (21.3)\n",
      "Collecting langdetect\n",
      "  Downloading langdetect-1.0.9.tar.gz (981 kB)\n",
      "\u001b[K     |████████████████████████████████| 981 kB 22.9 MB/s \n",
      "\u001b[?25hRequirement already satisfied: jieba in /usr/local/lib/python3.7/dist-packages (from ktrain) (0.42.1)\n",
      "Collecting cchardet\n",
      "  Downloading cchardet-2.1.7-cp37-cp37m-manylinux2010_x86_64.whl (263 kB)\n",
      "\u001b[K     |████████████████████████████████| 263 kB 35.8 MB/s \n",
      "\u001b[?25hRequirement already satisfied: chardet in /usr/local/lib/python3.7/dist-packages (from ktrain) (3.0.4)\n",
      "Collecting syntok\n",
      "  Downloading syntok-1.3.2-py3-none-any.whl (22 kB)\n",
      "Collecting seqeval==0.0.19\n",
      "  Downloading seqeval-0.0.19.tar.gz (30 kB)\n",
      "Collecting transformers<=4.10.3,>=4.0.0\n",
      "  Downloading transformers-4.10.3-py3-none-any.whl (2.8 MB)\n",
      "\u001b[K     |████████████████████████████████| 2.8 MB 27.6 MB/s \n",
      "\u001b[?25hCollecting sentencepiece\n",
      "  Downloading sentencepiece-0.1.96-cp37-cp37m-manylinux_2_17_x86_64.manylinux2014_x86_64.whl (1.2 MB)\n",
      "\u001b[K     |████████████████████████████████| 1.2 MB 28.0 MB/s \n",
      "\u001b[?25hCollecting keras_bert>=0.86.0\n",
      "  Downloading keras-bert-0.88.0.tar.gz (26 kB)\n",
      "Collecting whoosh\n",
      "  Downloading Whoosh-2.7.4-py2.py3-none-any.whl (468 kB)\n",
      "\u001b[K     |████████████████████████████████| 468 kB 33.9 MB/s \n",
      "\u001b[?25hRequirement already satisfied: numpy>=1.13.3 in /usr/local/lib/python3.7/dist-packages (from scikit-learn==0.23.2->ktrain) (1.19.5)\n",
      "Requirement already satisfied: scipy>=0.19.1 in /usr/local/lib/python3.7/dist-packages (from scikit-learn==0.23.2->ktrain) (1.4.1)\n",
      "Requirement already satisfied: threadpoolctl>=2.0.0 in /usr/local/lib/python3.7/dist-packages (from scikit-learn==0.23.2->ktrain) (3.0.0)\n",
      "Requirement already satisfied: Keras>=2.2.4 in /usr/local/lib/python3.7/dist-packages (from seqeval==0.0.19->ktrain) (2.7.0)\n",
      "Collecting keras-transformer>=0.39.0\n",
      "  Downloading keras-transformer-0.39.0.tar.gz (11 kB)\n",
      "Collecting keras-pos-embd>=0.12.0\n",
      "  Downloading keras-pos-embd-0.12.0.tar.gz (6.0 kB)\n",
      "Collecting keras-multi-head>=0.28.0\n",
      "  Downloading keras-multi-head-0.28.0.tar.gz (14 kB)\n",
      "Collecting keras-layer-normalization>=0.15.0\n",
      "  Downloading keras-layer-normalization-0.15.0.tar.gz (4.2 kB)\n",
      "Collecting keras-position-wise-feed-forward>=0.7.0\n",
      "  Downloading keras-position-wise-feed-forward-0.7.0.tar.gz (4.5 kB)\n",
      "Collecting keras-embed-sim>=0.9.0\n",
      "  Downloading keras-embed-sim-0.9.0.tar.gz (4.1 kB)\n",
      "Collecting keras-self-attention>=0.50.0\n",
      "  Downloading keras-self-attention-0.50.0.tar.gz (12 kB)\n",
      "Requirement already satisfied: pyparsing!=2.0.4,!=2.1.2,!=2.1.6,>=2.0.1 in /usr/local/lib/python3.7/dist-packages (from matplotlib>=3.0.0->ktrain) (3.0.6)\n",
      "Requirement already satisfied: python-dateutil>=2.1 in /usr/local/lib/python3.7/dist-packages (from matplotlib>=3.0.0->ktrain) (2.8.2)\n",
      "Requirement already satisfied: cycler>=0.10 in /usr/local/lib/python3.7/dist-packages (from matplotlib>=3.0.0->ktrain) (0.11.0)\n",
      "Requirement already satisfied: kiwisolver>=1.0.1 in /usr/local/lib/python3.7/dist-packages (from matplotlib>=3.0.0->ktrain) (1.3.2)\n",
      "Requirement already satisfied: pytz>=2017.2 in /usr/local/lib/python3.7/dist-packages (from pandas>=1.0.1->ktrain) (2018.9)\n",
      "Requirement already satisfied: six>=1.5 in /usr/local/lib/python3.7/dist-packages (from python-dateutil>=2.1->matplotlib>=3.0.0->ktrain) (1.15.0)\n",
      "Collecting pyyaml>=5.1\n",
      "  Downloading PyYAML-6.0-cp37-cp37m-manylinux_2_5_x86_64.manylinux1_x86_64.manylinux_2_12_x86_64.manylinux2010_x86_64.whl (596 kB)\n",
      "\u001b[K     |████████████████████████████████| 596 kB 41.6 MB/s \n",
      "\u001b[?25hRequirement already satisfied: tqdm>=4.27 in /usr/local/lib/python3.7/dist-packages (from transformers<=4.10.3,>=4.0.0->ktrain) (4.62.3)\n",
      "Collecting tokenizers<0.11,>=0.10.1\n",
      "  Downloading tokenizers-0.10.3-cp37-cp37m-manylinux_2_5_x86_64.manylinux1_x86_64.manylinux_2_12_x86_64.manylinux2010_x86_64.whl (3.3 MB)\n",
      "\u001b[K     |████████████████████████████████| 3.3 MB 43.4 MB/s \n",
      "\u001b[?25hRequirement already satisfied: importlib-metadata in /usr/local/lib/python3.7/dist-packages (from transformers<=4.10.3,>=4.0.0->ktrain) (4.8.2)\n",
      "Collecting sacremoses\n",
      "  Downloading sacremoses-0.0.46-py3-none-any.whl (895 kB)\n",
      "\u001b[K     |████████████████████████████████| 895 kB 44.0 MB/s \n",
      "\u001b[?25hRequirement already satisfied: filelock in /usr/local/lib/python3.7/dist-packages (from transformers<=4.10.3,>=4.0.0->ktrain) (3.4.0)\n",
      "Requirement already satisfied: regex!=2019.12.17 in /usr/local/lib/python3.7/dist-packages (from transformers<=4.10.3,>=4.0.0->ktrain) (2019.12.20)\n",
      "Collecting huggingface-hub>=0.0.12\n",
      "  Downloading huggingface_hub-0.2.1-py3-none-any.whl (61 kB)\n",
      "\u001b[K     |████████████████████████████████| 61 kB 458 kB/s \n",
      "\u001b[?25hRequirement already satisfied: typing-extensions>=3.7.4.3 in /usr/local/lib/python3.7/dist-packages (from huggingface-hub>=0.0.12->transformers<=4.10.3,>=4.0.0->ktrain) (3.10.0.2)\n",
      "Requirement already satisfied: zipp>=0.5 in /usr/local/lib/python3.7/dist-packages (from importlib-metadata->transformers<=4.10.3,>=4.0.0->ktrain) (3.6.0)\n",
      "Requirement already satisfied: urllib3!=1.25.0,!=1.25.1,<1.26,>=1.21.1 in /usr/local/lib/python3.7/dist-packages (from requests->ktrain) (1.24.3)\n",
      "Requirement already satisfied: certifi>=2017.4.17 in /usr/local/lib/python3.7/dist-packages (from requests->ktrain) (2021.10.8)\n",
      "Requirement already satisfied: idna<3,>=2.5 in /usr/local/lib/python3.7/dist-packages (from requests->ktrain) (2.10)\n",
      "Requirement already satisfied: click in /usr/local/lib/python3.7/dist-packages (from sacremoses->transformers<=4.10.3,>=4.0.0->ktrain) (7.1.2)\n",
      "Building wheels for collected packages: ktrain, seqeval, keras-bert, keras-transformer, keras-embed-sim, keras-layer-normalization, keras-multi-head, keras-pos-embd, keras-position-wise-feed-forward, keras-self-attention, langdetect\n",
      "  Building wheel for ktrain (setup.py) ... \u001b[?25l\u001b[?25hdone\n",
      "  Created wheel for ktrain: filename=ktrain-0.28.3-py3-none-any.whl size=25292659 sha256=e12b11383206bedf0023163d1e021c41046052881026c75de8172630349901ca\n",
      "  Stored in directory: /root/.cache/pip/wheels/6a/7e/c3/f46cdfc2b81c54424923b1405d7e670c35cacc11ada9a47b1c\n",
      "  Building wheel for seqeval (setup.py) ... \u001b[?25l\u001b[?25hdone\n",
      "  Created wheel for seqeval: filename=seqeval-0.0.19-py3-none-any.whl size=9929 sha256=545591238ae2767aedaf34a55731dd7f79f6a4c65a286464d1fcd28b801da69f\n",
      "  Stored in directory: /root/.cache/pip/wheels/f5/ac/f1/4e13d7aff05c722d142b7d20a88ad63f9aab11b895411241a4\n",
      "  Building wheel for keras-bert (setup.py) ... \u001b[?25l\u001b[?25hdone\n",
      "  Created wheel for keras-bert: filename=keras_bert-0.88.0-py3-none-any.whl size=34204 sha256=53ecba4e83bcc18d0be5b13d535873e2803fa0766481fbe65f229a46eaa231cb\n",
      "  Stored in directory: /root/.cache/pip/wheels/a2/90/cd/c038f2366929a3a5e3414a303b673e10235e802d871d29a835\n",
      "  Building wheel for keras-transformer (setup.py) ... \u001b[?25l\u001b[?25hdone\n",
      "  Created wheel for keras-transformer: filename=keras_transformer-0.39.0-py3-none-any.whl size=12842 sha256=627275617b67d0a3d4c745205b0d81119dae04a371a25018da41ee6247bb5176\n",
      "  Stored in directory: /root/.cache/pip/wheels/bc/01/e0/5a1a14bed6726f2ed73f7917d2d2c2d4081d2c88426dea07ce\n",
      "  Building wheel for keras-embed-sim (setup.py) ... \u001b[?25l\u001b[?25hdone\n",
      "  Created wheel for keras-embed-sim: filename=keras_embed_sim-0.9.0-py3-none-any.whl size=4504 sha256=685104e4332d437ab7f756f437648c4f6067fb21fe3f8b37582a21bfa664704d\n",
      "  Stored in directory: /root/.cache/pip/wheels/a8/1e/d2/9bc15513dd2f8b9de3e628b3aa9d2de49e721deef6bbd1497e\n",
      "  Building wheel for keras-layer-normalization (setup.py) ... \u001b[?25l\u001b[?25hdone\n",
      "  Created wheel for keras-layer-normalization: filename=keras_layer_normalization-0.15.0-py3-none-any.whl size=5224 sha256=6d9c1e9542afd6048839b758b97ee1653b1bf8f89b4356445844cc0f1dc0ead7\n",
      "  Stored in directory: /root/.cache/pip/wheels/4d/be/fe/55422f77ac11fe6ddcb471198038de8a26b5a4dd1557883c1e\n",
      "  Building wheel for keras-multi-head (setup.py) ... \u001b[?25l\u001b[?25hdone\n",
      "  Created wheel for keras-multi-head: filename=keras_multi_head-0.28.0-py3-none-any.whl size=15559 sha256=31b455ea233ad5e5f545b63856631922ea38d4d45389cc6f082f6f4b2249ecde\n",
      "  Stored in directory: /root/.cache/pip/wheels/79/4a/ea/9503ab5a02201dfb8635ba2cc8f30844661623c684a5b44472\n",
      "  Building wheel for keras-pos-embd (setup.py) ... \u001b[?25l\u001b[?25hdone\n",
      "  Created wheel for keras-pos-embd: filename=keras_pos_embd-0.12.0-py3-none-any.whl size=7469 sha256=c5e8b0749a5133a651ec1d596d8cb69adb38b7dbb00f1e2a06fc912c1624b8ae\n",
      "  Stored in directory: /root/.cache/pip/wheels/77/99/fd/dd98f4876c3ebbef7aab0dbfbd37bca41d7db37d3a28b2cb09\n",
      "  Building wheel for keras-position-wise-feed-forward (setup.py) ... \u001b[?25l\u001b[?25hdone\n",
      "  Created wheel for keras-position-wise-feed-forward: filename=keras_position_wise_feed_forward-0.7.0-py3-none-any.whl size=5541 sha256=4774b48d828b4e6582be6f010ea6fa66e02ff72e7aa00c0171a145ef823fdda0\n",
      "  Stored in directory: /root/.cache/pip/wheels/2d/12/02/1ad455c4f181cda1a4e60c5445855853d5c2ea91f942586a04\n",
      "  Building wheel for keras-self-attention (setup.py) ... \u001b[?25l\u001b[?25hdone\n",
      "  Created wheel for keras-self-attention: filename=keras_self_attention-0.50.0-py3-none-any.whl size=19414 sha256=1bc5fb3d24955eaae5de39dedf9fbb7b09f1c8ac4deff187349a9baeb4a35f19\n",
      "  Stored in directory: /root/.cache/pip/wheels/92/7a/a3/231bef5803298e7ec1815215bc0613239cb1e9c03c57b13c14\n",
      "  Building wheel for langdetect (setup.py) ... \u001b[?25l\u001b[?25hdone\n",
      "  Created wheel for langdetect: filename=langdetect-1.0.9-py3-none-any.whl size=993242 sha256=395293254c88de884ddf3828b2c6946e207cd8ede31ea0221972014c61d48b17\n",
      "  Stored in directory: /root/.cache/pip/wheels/c5/96/8a/f90c59ed25d75e50a8c10a1b1c2d4c402e4dacfa87f3aff36a\n",
      "Successfully built ktrain seqeval keras-bert keras-transformer keras-embed-sim keras-layer-normalization keras-multi-head keras-pos-embd keras-position-wise-feed-forward keras-self-attention langdetect\n",
      "Installing collected packages: keras-self-attention, pyyaml, keras-position-wise-feed-forward, keras-pos-embd, keras-multi-head, keras-layer-normalization, keras-embed-sim, tokenizers, sacremoses, keras-transformer, huggingface-hub, whoosh, transformers, syntok, seqeval, sentencepiece, scikit-learn, langdetect, keras-bert, cchardet, ktrain\n",
      "  Attempting uninstall: pyyaml\n",
      "    Found existing installation: PyYAML 3.13\n",
      "    Uninstalling PyYAML-3.13:\n",
      "      Successfully uninstalled PyYAML-3.13\n",
      "  Attempting uninstall: scikit-learn\n",
      "    Found existing installation: scikit-learn 1.0.1\n",
      "    Uninstalling scikit-learn-1.0.1:\n",
      "      Successfully uninstalled scikit-learn-1.0.1\n",
      "\u001b[31mERROR: pip's dependency resolver does not currently take into account all the packages that are installed. This behaviour is the source of the following dependency conflicts.\n",
      "imbalanced-learn 0.8.1 requires scikit-learn>=0.24, but you have scikit-learn 0.23.2 which is incompatible.\u001b[0m\n",
      "Successfully installed cchardet-2.1.7 huggingface-hub-0.2.1 keras-bert-0.88.0 keras-embed-sim-0.9.0 keras-layer-normalization-0.15.0 keras-multi-head-0.28.0 keras-pos-embd-0.12.0 keras-position-wise-feed-forward-0.7.0 keras-self-attention-0.50.0 keras-transformer-0.39.0 ktrain-0.28.3 langdetect-1.0.9 pyyaml-6.0 sacremoses-0.0.46 scikit-learn-0.23.2 sentencepiece-0.1.96 seqeval-0.0.19 syntok-1.3.2 tokenizers-0.10.3 transformers-4.10.3 whoosh-2.7.4\n"
     ]
    }
   ],
   "source": [
    "# NLP with Bert for Sentiment Analysis\n",
    "\n",
    "### Importing the libraries\n",
    "\n",
    "!pip3 install ktrain\n"
   ]
  },
  {
   "cell_type": "code",
   "execution_count": 2,
   "metadata": {
    "executionInfo": {
     "elapsed": 10410,
     "status": "ok",
     "timestamp": 1640594738437,
     "user": {
      "displayName": "Nishant wadhwani",
      "photoUrl": "https://lh3.googleusercontent.com/a-/AOh14Gjnn_M-nxVO-GHfPkftHjSsX-Ulopf1dqkz5rCwgg=s64",
      "userId": "18292067457856021938"
     },
     "user_tz": -330
    },
    "id": "yJSf2A01MkSL"
   },
   "outputs": [],
   "source": [
    "\n",
    "import numpy as np\n",
    "import tensorflow as tf\n",
    "import ktrain\n",
    "from ktrain import text"
   ]
  },
  {
   "cell_type": "code",
   "execution_count": 14,
   "metadata": {
    "colab": {
     "base_uri": "https://localhost:8080/",
     "height": 424
    },
    "executionInfo": {
     "elapsed": 434,
     "status": "ok",
     "timestamp": 1640594823975,
     "user": {
      "displayName": "Nishant wadhwani",
      "photoUrl": "https://lh3.googleusercontent.com/a-/AOh14Gjnn_M-nxVO-GHfPkftHjSsX-Ulopf1dqkz5rCwgg=s64",
      "userId": "18292067457856021938"
     },
     "user_tz": -330
    },
    "id": "Tbf3f82G_MPA",
    "outputId": "06dac53f-5675-4056-c5f1-7ceea352d258"
   },
   "outputs": [
    {
     "data": {
      "text/html": [
       "\n",
       "  <div id=\"df-f8c9abbf-9d4e-4ad0-9a35-076710aff652\">\n",
       "    <div class=\"colab-df-container\">\n",
       "      <div>\n",
       "<style scoped>\n",
       "    .dataframe tbody tr th:only-of-type {\n",
       "        vertical-align: middle;\n",
       "    }\n",
       "\n",
       "    .dataframe tbody tr th {\n",
       "        vertical-align: top;\n",
       "    }\n",
       "\n",
       "    .dataframe thead th {\n",
       "        text-align: right;\n",
       "    }\n",
       "</style>\n",
       "<table border=\"1\" class=\"dataframe\">\n",
       "  <thead>\n",
       "    <tr style=\"text-align: right;\">\n",
       "      <th></th>\n",
       "      <th>label</th>\n",
       "      <th>review</th>\n",
       "    </tr>\n",
       "  </thead>\n",
       "  <tbody>\n",
       "    <tr>\n",
       "      <th>0</th>\n",
       "      <td>pos</td>\n",
       "      <td>Stuning even for the non-gamer: This sound tra...</td>\n",
       "    </tr>\n",
       "    <tr>\n",
       "      <th>1</th>\n",
       "      <td>pos</td>\n",
       "      <td>The best soundtrack ever to anything.: I'm rea...</td>\n",
       "    </tr>\n",
       "    <tr>\n",
       "      <th>2</th>\n",
       "      <td>pos</td>\n",
       "      <td>Amazing!: This soundtrack is my favorite music...</td>\n",
       "    </tr>\n",
       "    <tr>\n",
       "      <th>3</th>\n",
       "      <td>pos</td>\n",
       "      <td>Excellent Soundtrack: I truly like this soundt...</td>\n",
       "    </tr>\n",
       "    <tr>\n",
       "      <th>4</th>\n",
       "      <td>pos</td>\n",
       "      <td>Remember, Pull Your Jaw Off The Floor After He...</td>\n",
       "    </tr>\n",
       "    <tr>\n",
       "      <th>...</th>\n",
       "      <td>...</td>\n",
       "      <td>...</td>\n",
       "    </tr>\n",
       "    <tr>\n",
       "      <th>9995</th>\n",
       "      <td>pos</td>\n",
       "      <td>A revelation of life in small town America in ...</td>\n",
       "    </tr>\n",
       "    <tr>\n",
       "      <th>9996</th>\n",
       "      <td>pos</td>\n",
       "      <td>Great biography of a very interesting journali...</td>\n",
       "    </tr>\n",
       "    <tr>\n",
       "      <th>9997</th>\n",
       "      <td>neg</td>\n",
       "      <td>Interesting Subject; Poor Presentation: You'd ...</td>\n",
       "    </tr>\n",
       "    <tr>\n",
       "      <th>9998</th>\n",
       "      <td>neg</td>\n",
       "      <td>Don't buy: The box looked used and it is obvio...</td>\n",
       "    </tr>\n",
       "    <tr>\n",
       "      <th>9999</th>\n",
       "      <td>pos</td>\n",
       "      <td>Beautiful Pen and Fast Delivery.: The pen was ...</td>\n",
       "    </tr>\n",
       "  </tbody>\n",
       "</table>\n",
       "<p>10000 rows × 2 columns</p>\n",
       "</div>\n",
       "      <button class=\"colab-df-convert\" onclick=\"convertToInteractive('df-f8c9abbf-9d4e-4ad0-9a35-076710aff652')\"\n",
       "              title=\"Convert this dataframe to an interactive table.\"\n",
       "              style=\"display:none;\">\n",
       "        \n",
       "  <svg xmlns=\"http://www.w3.org/2000/svg\" height=\"24px\"viewBox=\"0 0 24 24\"\n",
       "       width=\"24px\">\n",
       "    <path d=\"M0 0h24v24H0V0z\" fill=\"none\"/>\n",
       "    <path d=\"M18.56 5.44l.94 2.06.94-2.06 2.06-.94-2.06-.94-.94-2.06-.94 2.06-2.06.94zm-11 1L8.5 8.5l.94-2.06 2.06-.94-2.06-.94L8.5 2.5l-.94 2.06-2.06.94zm10 10l.94 2.06.94-2.06 2.06-.94-2.06-.94-.94-2.06-.94 2.06-2.06.94z\"/><path d=\"M17.41 7.96l-1.37-1.37c-.4-.4-.92-.59-1.43-.59-.52 0-1.04.2-1.43.59L10.3 9.45l-7.72 7.72c-.78.78-.78 2.05 0 2.83L4 21.41c.39.39.9.59 1.41.59.51 0 1.02-.2 1.41-.59l7.78-7.78 2.81-2.81c.8-.78.8-2.07 0-2.86zM5.41 20L4 18.59l7.72-7.72 1.47 1.35L5.41 20z\"/>\n",
       "  </svg>\n",
       "      </button>\n",
       "      \n",
       "  <style>\n",
       "    .colab-df-container {\n",
       "      display:flex;\n",
       "      flex-wrap:wrap;\n",
       "      gap: 12px;\n",
       "    }\n",
       "\n",
       "    .colab-df-convert {\n",
       "      background-color: #E8F0FE;\n",
       "      border: none;\n",
       "      border-radius: 50%;\n",
       "      cursor: pointer;\n",
       "      display: none;\n",
       "      fill: #1967D2;\n",
       "      height: 32px;\n",
       "      padding: 0 0 0 0;\n",
       "      width: 32px;\n",
       "    }\n",
       "\n",
       "    .colab-df-convert:hover {\n",
       "      background-color: #E2EBFA;\n",
       "      box-shadow: 0px 1px 2px rgba(60, 64, 67, 0.3), 0px 1px 3px 1px rgba(60, 64, 67, 0.15);\n",
       "      fill: #174EA6;\n",
       "    }\n",
       "\n",
       "    [theme=dark] .colab-df-convert {\n",
       "      background-color: #3B4455;\n",
       "      fill: #D2E3FC;\n",
       "    }\n",
       "\n",
       "    [theme=dark] .colab-df-convert:hover {\n",
       "      background-color: #434B5C;\n",
       "      box-shadow: 0px 1px 3px 1px rgba(0, 0, 0, 0.15);\n",
       "      filter: drop-shadow(0px 1px 2px rgba(0, 0, 0, 0.3));\n",
       "      fill: #FFFFFF;\n",
       "    }\n",
       "  </style>\n",
       "\n",
       "      <script>\n",
       "        const buttonEl =\n",
       "          document.querySelector('#df-f8c9abbf-9d4e-4ad0-9a35-076710aff652 button.colab-df-convert');\n",
       "        buttonEl.style.display =\n",
       "          google.colab.kernel.accessAllowed ? 'block' : 'none';\n",
       "\n",
       "        async function convertToInteractive(key) {\n",
       "          const element = document.querySelector('#df-f8c9abbf-9d4e-4ad0-9a35-076710aff652');\n",
       "          const dataTable =\n",
       "            await google.colab.kernel.invokeFunction('convertToInteractive',\n",
       "                                                     [key], {});\n",
       "          if (!dataTable) return;\n",
       "\n",
       "          const docLinkHtml = 'Like what you see? Visit the ' +\n",
       "            '<a target=\"_blank\" href=https://colab.research.google.com/notebooks/data_table.ipynb>data table notebook</a>'\n",
       "            + ' to learn more about interactive tables.';\n",
       "          element.innerHTML = '';\n",
       "          dataTable['output_type'] = 'display_data';\n",
       "          await google.colab.output.renderOutput(dataTable, element);\n",
       "          const docLink = document.createElement('div');\n",
       "          docLink.innerHTML = docLinkHtml;\n",
       "          element.appendChild(docLink);\n",
       "        }\n",
       "      </script>\n",
       "    </div>\n",
       "  </div>\n",
       "  "
      ],
      "text/plain": [
       "     label                                             review\n",
       "0      pos  Stuning even for the non-gamer: This sound tra...\n",
       "1      pos  The best soundtrack ever to anything.: I'm rea...\n",
       "2      pos  Amazing!: This soundtrack is my favorite music...\n",
       "3      pos  Excellent Soundtrack: I truly like this soundt...\n",
       "4      pos  Remember, Pull Your Jaw Off The Floor After He...\n",
       "...    ...                                                ...\n",
       "9995   pos  A revelation of life in small town America in ...\n",
       "9996   pos  Great biography of a very interesting journali...\n",
       "9997   neg  Interesting Subject; Poor Presentation: You'd ...\n",
       "9998   neg  Don't buy: The box looked used and it is obvio...\n",
       "9999   pos  Beautiful Pen and Fast Delivery.: The pen was ...\n",
       "\n",
       "[10000 rows x 2 columns]"
      ]
     },
     "execution_count": 14,
     "metadata": {},
     "output_type": "execute_result"
    }
   ],
   "source": [
    "df"
   ]
  },
  {
   "cell_type": "code",
   "execution_count": 15,
   "metadata": {
    "colab": {
     "base_uri": "https://localhost:8080/",
     "height": 520
    },
    "executionInfo": {
     "elapsed": 25846,
     "status": "ok",
     "timestamp": 1640594851645,
     "user": {
      "displayName": "Nishant wadhwani",
      "photoUrl": "https://lh3.googleusercontent.com/a-/AOh14Gjnn_M-nxVO-GHfPkftHjSsX-Ulopf1dqkz5rCwgg=s64",
      "userId": "18292067457856021938"
     },
     "user_tz": -330
    },
    "id": "6neM2hwtMkSM",
    "outputId": "34125f2e-c95b-4e54-e956-073a8230c33f"
   },
   "outputs": [
    {
     "name": "stdout",
     "output_type": "stream",
     "text": [
      "['neg', 'pos']\n",
      "      neg  pos\n",
      "2427  0.0  1.0\n",
      "6348  0.0  1.0\n",
      "8923  0.0  1.0\n",
      "7447  0.0  1.0\n",
      "1196  1.0  0.0\n",
      "['neg', 'pos']\n",
      "      neg  pos\n",
      "93    1.0  0.0\n",
      "3963  0.0  1.0\n",
      "2646  1.0  0.0\n",
      "4401  1.0  0.0\n",
      "7205  0.0  1.0\n",
      "downloading pretrained BERT model (uncased_L-12_H-768_A-12.zip)...\n",
      "[██████████████████████████████████████████████████]\n",
      "extracting pretrained BERT model...\n",
      "done.\n",
      "\n",
      "cleanup downloaded zip...\n",
      "done.\n",
      "\n",
      "preprocessing train...\n",
      "language: en\n"
     ]
    },
    {
     "data": {
      "text/html": [
       "done."
      ],
      "text/plain": [
       "<IPython.core.display.HTML object>"
      ]
     },
     "metadata": {},
     "output_type": "display_data"
    },
    {
     "name": "stdout",
     "output_type": "stream",
     "text": [
      "Is Multi-Label? False\n",
      "preprocessing test...\n",
      "language: en\n"
     ]
    },
    {
     "data": {
      "text/html": [
       "done."
      ],
      "text/plain": [
       "<IPython.core.display.HTML object>"
      ]
     },
     "metadata": {},
     "output_type": "display_data"
    }
   ],
   "source": [
    "### Creating the training and test sets\n",
    "\n",
    "(x_train, y_train), (x_test, y_test), preproc = text.texts_from_df(df,\n",
    "                   text_column = 'review',\n",
    "                   label_columns = ['label'],\n",
    "                   val_df=None,\n",
    "                   maxlen=500, \n",
    "                   val_pct=0.1,\n",
    "                   ngram_range=1, \n",
    "                   preprocess_mode='bert',        \n",
    "                   verbose=1)"
   ]
  },
  {
   "cell_type": "code",
   "execution_count": 16,
   "metadata": {
    "colab": {
     "base_uri": "https://localhost:8080/"
    },
    "executionInfo": {
     "elapsed": 9126,
     "status": "ok",
     "timestamp": 1640594860749,
     "user": {
      "displayName": "Nishant wadhwani",
      "photoUrl": "https://lh3.googleusercontent.com/a-/AOh14Gjnn_M-nxVO-GHfPkftHjSsX-Ulopf1dqkz5rCwgg=s64",
      "userId": "18292067457856021938"
     },
     "user_tz": -330
    },
    "id": "68jLi6-zMkSM",
    "outputId": "106a1f6a-37fa-4107-f01b-b1eedd4d4cb5"
   },
   "outputs": [
    {
     "name": "stdout",
     "output_type": "stream",
     "text": [
      "Is Multi-Label? False\n",
      "maxlen is 500\n",
      "done.\n"
     ]
    }
   ],
   "source": [
    "## Part 2: Building the BERT model\n",
    "\n",
    "model = text.text_classifier(name='bert',\n",
    "                             train_data=(x_train, y_train),\n",
    "                             preproc=preproc)\n"
   ]
  },
  {
   "cell_type": "code",
   "execution_count": 17,
   "metadata": {
    "executionInfo": {
     "elapsed": 1540,
     "status": "ok",
     "timestamp": 1640594862258,
     "user": {
      "displayName": "Nishant wadhwani",
      "photoUrl": "https://lh3.googleusercontent.com/a-/AOh14Gjnn_M-nxVO-GHfPkftHjSsX-Ulopf1dqkz5rCwgg=s64",
      "userId": "18292067457856021938"
     },
     "user_tz": -330
    },
    "id": "mCOvJqGOMkSM"
   },
   "outputs": [],
   "source": [
    "## Part 3: Training the BERT model\n",
    "\n",
    "learner = ktrain.get_learner(model=model,\n",
    "                             train_data=(x_train, y_train),\n",
    "                             val_data=(x_test, y_test),\n",
    "                             batch_size=6)\n"
   ]
  },
  {
   "cell_type": "code",
   "execution_count": 18,
   "metadata": {
    "colab": {
     "base_uri": "https://localhost:8080/"
    },
    "executionInfo": {
     "elapsed": 4841596,
     "status": "ok",
     "timestamp": 1640599733179,
     "user": {
      "displayName": "Nishant wadhwani",
      "photoUrl": "https://lh3.googleusercontent.com/a-/AOh14Gjnn_M-nxVO-GHfPkftHjSsX-Ulopf1dqkz5rCwgg=s64",
      "userId": "18292067457856021938"
     },
     "user_tz": -330
    },
    "id": "AaX4QorHMkSM",
    "outputId": "a11554b2-10cf-48a5-ffb3-d4e76f317d6a"
   },
   "outputs": [
    {
     "name": "stdout",
     "output_type": "stream",
     "text": [
      "\n",
      "\n",
      "begin training using onecycle policy with max lr of 2e-05...\n",
      "Epoch 1/2\n",
      "1500/1500 [==============================] - 2411s 2s/step - loss: 0.2533 - accuracy: 0.8952 - val_loss: 0.1941 - val_accuracy: 0.9250\n",
      "Epoch 2/2\n",
      "1500/1500 [==============================] - 2389s 2s/step - loss: 0.1094 - accuracy: 0.9640 - val_loss: 0.1708 - val_accuracy: 0.9410\n"
     ]
    },
    {
     "data": {
      "text/plain": [
       "<keras.callbacks.History at 0x7f6be3d61e50>"
      ]
     },
     "execution_count": 18,
     "metadata": {},
     "output_type": "execute_result"
    }
   ],
   "source": [
    "learner.fit_onecycle(lr=2e-5,\n",
    "                     epochs=2)"
   ]
  },
  {
   "cell_type": "code",
   "execution_count": null,
   "metadata": {
    "id": "mlEUgSeRMkSM"
   },
   "outputs": [],
   "source": []
  },
  {
   "cell_type": "code",
   "execution_count": null,
   "metadata": {
    "id": "0h3UUDW3MkSN"
   },
   "outputs": [],
   "source": []
  },
  {
   "cell_type": "code",
   "execution_count": null,
   "metadata": {
    "id": "Soe4yHJyC5Ga"
   },
   "outputs": [],
   "source": [
    "\n",
    "\n",
    "\n",
    "\n",
    "\n",
    "\n"
   ]
  }
 ],
 "metadata": {
  "accelerator": "GPU",
  "colab": {
   "collapsed_sections": [],
   "name": "Sentiment Analysis on Amazon Reviews.ipynb",
   "provenance": []
  },
  "kernelspec": {
   "display_name": "Python 3",
   "language": "python",
   "name": "python3"
  },
  "language_info": {
   "codemirror_mode": {
    "name": "ipython",
    "version": 3
   },
   "file_extension": ".py",
   "mimetype": "text/x-python",
   "name": "python",
   "nbconvert_exporter": "python",
   "pygments_lexer": "ipython3",
   "version": "3.8.8"
  }
 },
 "nbformat": 4,
 "nbformat_minor": 1
}
